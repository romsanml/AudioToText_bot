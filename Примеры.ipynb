{
  "nbformat": 4,
  "nbformat_minor": 0,
  "metadata": {
    "colab": {
      "provenance": [],
      "collapsed_sections": [
        "c3tQXJqAzCps"
      ],
      "authorship_tag": "ABX9TyM3FcU4Tu0pDbH5PBUxEYF/",
      "include_colab_link": true
    },
    "kernelspec": {
      "name": "python3",
      "display_name": "Python 3"
    },
    "language_info": {
      "name": "python"
    }
  },
  "cells": [
    {
      "cell_type": "markdown",
      "metadata": {
        "id": "view-in-github",
        "colab_type": "text"
      },
      "source": [
        "<a href=\"https://colab.research.google.com/github/romsanml/AudioToText_bot/blob/main/%D0%9F%D1%80%D0%B8%D0%BC%D0%B5%D1%80%D1%8B.ipynb\" target=\"_parent\"><img src=\"https://colab.research.google.com/assets/colab-badge.svg\" alt=\"Open In Colab\"/></a>"
      ]
    },
    {
      "cell_type": "markdown",
      "source": [
        "# Мои заметки"
      ],
      "metadata": {
        "id": "c3tQXJqAzCps"
      }
    },
    {
      "cell_type": "code",
      "source": [],
      "metadata": {
        "id": "7u3jZBjPZKwk"
      },
      "execution_count": null,
      "outputs": []
    },
    {
      "cell_type": "code",
      "source": [
        "!pip install openai==0.28.0 streamlit"
      ],
      "metadata": {
        "id": "GDbtcJ0VQ5Au"
      },
      "execution_count": null,
      "outputs": []
    },
    {
      "cell_type": "code",
      "source": [
        "import streamlit as st\n",
        "import openai\n",
        "from getpass import getpass\n",
        "import os\n",
        "\n",
        "openai_key = getpass(\"OpenAI API Key:\")\n",
        "os.environ[\"OPENAI_API_KEY\"] = openai_key\n",
        "openai.api_key = openai_key\n",
        "\n",
        "# Заголовок приложения\n",
        "st.title(\"ChatGPT Chatbot\")\n",
        "\n",
        "# Запрос на ввод сообщения от пользователя\n",
        "user_input = st.text_input(\"Вы: \", \"\")\n",
        "\n",
        "# Проверка по условию для начала разговора\n",
        "if user_input:\n",
        "    # Отправка сообщения пользователя модели ChatGPT\n",
        "    response = openai.Completion.create(\n",
        "        engine=\"gpt-3.5-turbo\",\n",
        "        prompt=user_input,\n",
        "        temperature=0.2,\n",
        "    )\n",
        "\n",
        "    # Получение ответа от модели\n",
        "    chatbot_response = response.choices[0].text.strip()\n",
        "    # message = result['choices'][0]['message']['content']\n",
        "    # Вывод ответа на экран\n",
        "    st.text_area(\"ChatGPT: \", chatbot_response)\n"
      ],
      "metadata": {
        "colab": {
          "base_uri": "https://localhost:8080/"
        },
        "id": "7hKHMgHGQ1ZT",
        "outputId": "a0943111-8303-4924-dd6c-73dfdcfddf8f"
      },
      "execution_count": null,
      "outputs": [
        {
          "name": "stdout",
          "output_type": "stream",
          "text": [
            "OpenAI API Key:··········\n"
          ]
        },
        {
          "output_type": "stream",
          "name": "stderr",
          "text": [
            "2023-12-19 08:55:06.168 \n",
            "  \u001b[33m\u001b[1mWarning:\u001b[0m to view this Streamlit app on a browser, run it with the following\n",
            "  command:\n",
            "\n",
            "    streamlit run /usr/local/lib/python3.10/dist-packages/colab_kernel_launcher.py [ARGUMENTS]\n"
          ]
        }
      ]
    },
    {
      "cell_type": "code",
      "source": [
        "!streamlit run /usr/local/lib/python3.10/dist-packages/colab_kernel_launcher.py"
      ],
      "metadata": {
        "colab": {
          "base_uri": "https://localhost:8080/"
        },
        "id": "N0NNcTgLSh8D",
        "outputId": "8638ad01-83bf-4580-c524-470e7792bd24"
      },
      "execution_count": null,
      "outputs": [
        {
          "output_type": "stream",
          "name": "stdout",
          "text": [
            "\n",
            "Collecting usage statistics. To deactivate, set browser.gatherUsageStats to False.\n",
            "\u001b[0m\n",
            "\u001b[0m\n",
            "\u001b[34m\u001b[1m  You can now view your Streamlit app in your browser.\u001b[0m\n",
            "\u001b[0m\n",
            "\u001b[34m  Network URL: \u001b[0m\u001b[1mhttp://172.28.0.12:8501\u001b[0m\n",
            "\u001b[34m  External URL: \u001b[0m\u001b[1mhttp://34.125.80.206:8501\u001b[0m\n",
            "\u001b[0m\n",
            "\u001b[34m  Stopping...\u001b[0m\n",
            "\u001b[34m  Stopping...\u001b[0m\n"
          ]
        }
      ]
    },
    {
      "cell_type": "code",
      "source": [
        "import gdown\n",
        "\n",
        "path_download = 'https://drive.google.com/uc?id=1I0IrgrlR-Phv1sQZHOfr1ld866yMTahE'\n",
        "\n",
        "gdown.download(path_download, None, quiet=False)"
      ],
      "metadata": {
        "id": "n5Lj9IPKfICA"
      },
      "execution_count": null,
      "outputs": []
    },
    {
      "cell_type": "code",
      "source": [
        "from tensorflow.keras.models import Sequential\n",
        "from tensorflow.keras.layers import Dense, Flatten, Dropout\n",
        "from tensorflow.keras.optimizers import Adam\n",
        "from tensorflow.keras.applications import MobileNet\n",
        "\n",
        "# Создание базовой модели MobileNet\n",
        "base_model = MobileNet(weights='imagenet', include_top=False, input_shape=input_shape)\n",
        "\n",
        "# Замораживание весов базовой модели\n",
        "base_model.trainable = False\n",
        "\n",
        "# Создание последовательной модели\n",
        "model = Sequential([\n",
        "    base_model,\n",
        "    # GlobalAveragePooling2D(),\n",
        "    Flatten(),\n",
        "    Dense(256, activation='relu'),\n",
        "    # Dropout(0.5),\n",
        "    Dense(3, activation='softmax')  # 3 класса для 3 марок автомобилей\n",
        "])\n",
        "\n",
        "# Компиляция модели\n",
        "model.compile(optimizer=Adam(0.001), loss='sparse_categorical_crossentropy', metrics=['accuracy'])\n",
        "model.summary()"
      ],
      "metadata": {
        "id": "0PyTntYREYv1"
      },
      "execution_count": null,
      "outputs": []
    },
    {
      "cell_type": "code",
      "source": [
        "!pip install html2text\n",
        "!pip install nest_asyncio xmltodict openai==0.28.0 langchain==0.0.281 tiktoken faiss-cpu"
      ],
      "metadata": {
        "id": "oiKGwviRfp-t"
      },
      "execution_count": null,
      "outputs": []
    },
    {
      "cell_type": "code",
      "source": [
        "from langchain.document_loaders import AsyncHtmlLoader\n",
        "from langchain.document_transformers import Html2TextTransformer\n",
        "from langchain.chat_models import ChatOpenAI\n",
        "from langchain.chains import create_extraction_chain\n",
        "import asyncio\n",
        "import nest_asyncio\n",
        "nest_asyncio.apply()\n",
        "import xmltodict\n",
        "from langchain.document_loaders.sitemap import SitemapLoader\n",
        "import requests\n",
        "from langchain.vectorstores import FAISS\n",
        "from langchain.embeddings import OpenAIEmbeddings\n",
        "from langchain.text_splitter import RecursiveCharacterTextSplitter\n",
        "import tiktoken\n",
        "import matplotlib.pyplot as plt\n",
        "import getpass\n",
        "import os\n",
        "import openai\n",
        "from langchain.vectorstores import FAISS\n",
        "import re\n",
        "from langchain.chat_models import ChatOpenAI"
      ],
      "metadata": {
        "id": "iD8VLoL5f54p"
      },
      "execution_count": null,
      "outputs": []
    },
    {
      "cell_type": "code",
      "source": [
        "# Указываем конкретные странички для парсинга\n",
        "urls = [\"https://openai.com/enterprise-privacy\", \"https://openai.com/policies/usage-policies\", \"https://openai.com/charter\"]\n",
        "loader = AsyncHtmlLoader(urls)\n",
        "docs = loader.load()"
      ],
      "metadata": {
        "colab": {
          "base_uri": "https://localhost:8080/"
        },
        "id": "S_K1ZERZCXOo",
        "outputId": "b5222c40-1abf-42c7-fb9d-e0bef497dbf6"
      },
      "execution_count": null,
      "outputs": [
        {
          "output_type": "stream",
          "name": "stderr",
          "text": [
            "Fetching pages: 100%|##########| 3/3 [00:00<00:00,  9.76it/s]\n"
          ]
        }
      ]
    },
    {
      "cell_type": "code",
      "source": [
        "# трансформируем их в текст\n",
        "html2text = Html2TextTransformer()\n",
        "docs_transformed = html2text.transform_documents(docs)\n",
        "# выводим первые 500 символов результата\n",
        "docs_transformed[0].page_content[0:500]"
      ],
      "metadata": {
        "colab": {
          "base_uri": "https://localhost:8080/",
          "height": 87
        },
        "id": "YRo4w0J9CaI0",
        "outputId": "9cbee7d6-d503-4af2-c1ea-12df73cd86c5"
      },
      "execution_count": null,
      "outputs": [
        {
          "output_type": "execute_result",
          "data": {
            "text/plain": [
              "'Close\\n\\nSearch Submit\\n\\nSkip to main content\\n\\n## Site Navigation\\n\\n  * Research\\n    * Overview\\n    * Index\\n    * GPT-4\\n    * DALL·E 3\\n  * API\\n    * Overview\\n    * Data privacy\\n    * Pricing\\n    * Docs\\n  * ChatGPT\\n    * Overview\\n    * Enterprise\\n    * Try ChatGPT\\n  * Safety\\n  * Company\\n    * About\\n    * Blog\\n    * Careers\\n    * Residency\\n    * Charter\\n    * Security\\n    * Customer stories\\n\\nSearch\\n\\n##  Navigation quick links\\n\\n  * Log in\\n  * Try ChatGPT\\n\\nMenu\\n\\n#  Mobile Navigation\\n\\nClose\\n\\n## Site Navi'"
            ],
            "application/vnd.google.colaboratory.intrinsic+json": {
              "type": "string"
            }
          },
          "metadata": {},
          "execution_count": 75
        }
      ]
    },
    {
      "cell_type": "code",
      "source": [
        "# Открыть доступ к ноутбуку\n",
        "\n",
        "# https://docs.google.com/document/d/1HXxLTORTUy0aacte6jHFpDfbHisoZys-9TJJQcWKHTA/edit?usp=sharing"
      ],
      "metadata": {
        "id": "zb21p4bj4T_c"
      },
      "execution_count": null,
      "outputs": []
    },
    {
      "cell_type": "code",
      "source": [
        "!pip install gTTS"
      ],
      "metadata": {
        "id": "tcbfxBCn4xAW"
      },
      "execution_count": null,
      "outputs": []
    },
    {
      "cell_type": "code",
      "source": [
        "from gtts import gTTS\n",
        "import os\n",
        "\n",
        "# Указываем путь к текстовому файлу\n",
        "text_file = \"text.txt\"\n",
        "\n",
        "# Указываем путь для сохранения аудио файла\n",
        "audio_file = \"audio.mp3\"\n",
        "\n",
        "# Проверяем существование файла\n",
        "if os.path.exists(text_file):\n",
        "    # Открыть текстовый файл\n",
        "    with open(text_file, 'r', encoding='utf-8') as file:\n",
        "        # Считать весь текст из файла\n",
        "        text = file.read()\n",
        "\n",
        "    # Инициализировать gTTS объект\n",
        "    tts = gTTS(text=text, lang='ru')\n",
        "\n",
        "    # Сохранить аудио файл\n",
        "    tts.save(audio_file)\n",
        "    print(f\"Аудиофайл '{audio_file}' успешно создан.\")\n",
        "else:\n",
        "    print(f\"Файл '{text_file}' не найден.\")\n"
      ],
      "metadata": {
        "id": "hzr4UkW74vyL"
      },
      "execution_count": null,
      "outputs": []
    },
    {
      "cell_type": "markdown",
      "source": [
        "# 02.24"
      ],
      "metadata": {
        "id": "2oBtJb3Wuo6W"
      }
    },
    {
      "cell_type": "code",
      "source": [
        "!pip list"
      ],
      "metadata": {
        "colab": {
          "base_uri": "https://localhost:8080/"
        },
        "id": "HtuiVF1aNsYn",
        "outputId": "f5cec2e1-519d-49f9-9645-e968c53778f3"
      },
      "execution_count": null,
      "outputs": [
        {
          "output_type": "stream",
          "name": "stdout",
          "text": [
            "Package                          Version\n",
            "-------------------------------- ---------------------\n",
            "absl-py                          1.4.0\n",
            "aiohttp                          3.9.3\n",
            "aiosignal                        1.3.1\n",
            "alabaster                        0.7.16\n",
            "albumentations                   1.3.1\n",
            "altair                           4.2.2\n",
            "anyio                            3.7.1\n",
            "appdirs                          1.4.4\n",
            "argon2-cffi                      23.1.0\n",
            "argon2-cffi-bindings             21.2.0\n",
            "array-record                     0.5.0\n",
            "arviz                            0.15.1\n",
            "astropy                          5.3.4\n",
            "astunparse                       1.6.3\n",
            "async-timeout                    4.0.3\n",
            "atpublic                         4.0\n",
            "attrs                            23.2.0\n",
            "audioread                        3.0.1\n",
            "autograd                         1.6.2\n",
            "Babel                            2.14.0\n",
            "backcall                         0.2.0\n",
            "beautifulsoup4                   4.12.3\n",
            "bidict                           0.22.1\n",
            "bigframes                        0.20.0\n",
            "bleach                           6.1.0\n",
            "blinker                          1.4\n",
            "blis                             0.7.11\n",
            "blosc2                           2.0.0\n",
            "bokeh                            3.3.4\n",
            "bqplot                           0.12.42\n",
            "branca                           0.7.1\n",
            "build                            1.0.3\n",
            "CacheControl                     0.13.1\n",
            "cachetools                       5.3.2\n",
            "catalogue                        2.0.10\n",
            "certifi                          2023.11.17\n",
            "cffi                             1.16.0\n",
            "chardet                          5.2.0\n",
            "charset-normalizer               3.3.2\n",
            "chex                             0.1.7\n",
            "click                            8.1.7\n",
            "click-plugins                    1.1.1\n",
            "cligj                            0.7.2\n",
            "cloudpathlib                     0.16.0\n",
            "cloudpickle                      2.2.1\n",
            "cmake                            3.27.9\n",
            "cmdstanpy                        1.2.0\n",
            "colorcet                         3.0.1\n",
            "colorlover                       0.3.0\n",
            "colour                           0.1.5\n",
            "community                        1.0.0b1\n",
            "confection                       0.1.4\n",
            "cons                             0.4.6\n",
            "contextlib2                      21.6.0\n",
            "contourpy                        1.2.0\n",
            "cryptography                     42.0.2\n",
            "cufflinks                        0.17.3\n",
            "cupy-cuda12x                     12.2.0\n",
            "cvxopt                           1.3.2\n",
            "cvxpy                            1.3.3\n",
            "cycler                           0.12.1\n",
            "cymem                            2.0.8\n",
            "Cython                           3.0.8\n",
            "dask                             2023.8.1\n",
            "datascience                      0.17.6\n",
            "db-dtypes                        1.2.0\n",
            "dbus-python                      1.2.18\n",
            "debugpy                          1.6.6\n",
            "decorator                        4.4.2\n",
            "defusedxml                       0.7.1\n",
            "diskcache                        5.6.3\n",
            "distributed                      2023.8.1\n",
            "distro                           1.7.0\n",
            "dlib                             19.24.2\n",
            "dm-tree                          0.1.8\n",
            "docutils                         0.18.1\n",
            "dopamine-rl                      4.0.6\n",
            "duckdb                           0.9.2\n",
            "earthengine-api                  0.1.388\n",
            "easydict                         1.11\n",
            "ecos                             2.0.12\n",
            "editdistance                     0.6.2\n",
            "eerepr                           0.0.4\n",
            "en-core-web-sm                   3.7.1\n",
            "entrypoints                      0.4\n",
            "et-xmlfile                       1.1.0\n",
            "etils                            1.6.0\n",
            "etuples                          0.3.9\n",
            "exceptiongroup                   1.2.0\n",
            "fastai                           2.7.14\n",
            "fastcore                         1.5.29\n",
            "fastdownload                     0.0.7\n",
            "fastjsonschema                   2.19.1\n",
            "fastprogress                     1.0.3\n",
            "fastrlock                        0.8.2\n",
            "filelock                         3.13.1\n",
            "fiona                            1.9.5\n",
            "firebase-admin                   5.3.0\n",
            "Flask                            2.2.5\n",
            "flatbuffers                      23.5.26\n",
            "flax                             0.8.0\n",
            "folium                           0.14.0\n",
            "fonttools                        4.47.2\n",
            "frozendict                       2.4.0\n",
            "frozenlist                       1.4.1\n",
            "fsspec                           2023.6.0\n",
            "future                           0.18.3\n",
            "gast                             0.5.4\n",
            "gcsfs                            2023.6.0\n",
            "GDAL                             3.6.4\n",
            "gdown                            4.7.3\n",
            "geemap                           0.30.4\n",
            "gensim                           4.3.2\n",
            "geocoder                         1.38.1\n",
            "geographiclib                    2.0\n",
            "geopandas                        0.13.2\n",
            "geopy                            2.3.0\n",
            "gin-config                       0.5.0\n",
            "glob2                            0.7\n",
            "google                           2.0.3\n",
            "google-ai-generativelanguage     0.4.0\n",
            "google-api-core                  2.11.1\n",
            "google-api-python-client         2.84.0\n",
            "google-auth                      2.17.3\n",
            "google-auth-httplib2             0.1.1\n",
            "google-auth-oauthlib             1.2.0\n",
            "google-cloud-aiplatform          1.39.0\n",
            "google-cloud-bigquery            3.12.0\n",
            "google-cloud-bigquery-connection 1.12.1\n",
            "google-cloud-bigquery-storage    2.24.0\n",
            "google-cloud-core                2.3.3\n",
            "google-cloud-datastore           2.15.2\n",
            "google-cloud-firestore           2.11.1\n",
            "google-cloud-functions           1.13.3\n",
            "google-cloud-iam                 2.13.0\n",
            "google-cloud-language            2.9.1\n",
            "google-cloud-resource-manager    1.11.0\n",
            "google-cloud-storage             2.8.0\n",
            "google-cloud-translate           3.11.3\n",
            "google-colab                     1.0.0\n",
            "google-crc32c                    1.5.0\n",
            "google-generativeai              0.3.2\n",
            "google-pasta                     0.2.0\n",
            "google-resumable-media           2.7.0\n",
            "googleapis-common-protos         1.62.0\n",
            "googledrivedownloader            0.4\n",
            "graphviz                         0.20.1\n",
            "greenlet                         3.0.3\n",
            "grpc-google-iam-v1               0.13.0\n",
            "grpcio                           1.60.0\n",
            "grpcio-status                    1.48.2\n",
            "gspread                          3.4.2\n",
            "gspread-dataframe                3.3.1\n",
            "gym                              0.25.2\n",
            "gym-notices                      0.0.8\n",
            "h5netcdf                         1.3.0\n",
            "h5py                             3.9.0\n",
            "holidays                         0.41\n",
            "holoviews                        1.17.1\n",
            "html5lib                         1.1\n",
            "httpimport                       1.3.1\n",
            "httplib2                         0.22.0\n",
            "huggingface-hub                  0.20.3\n",
            "humanize                         4.7.0\n",
            "hyperopt                         0.2.7\n",
            "ibis-framework                   7.1.0\n",
            "idna                             3.6\n",
            "imageio                          2.31.6\n",
            "imageio-ffmpeg                   0.4.9\n",
            "imagesize                        1.4.1\n",
            "imbalanced-learn                 0.10.1\n",
            "imgaug                           0.4.0\n",
            "importlib-metadata               7.0.1\n",
            "importlib-resources              6.1.1\n",
            "imutils                          0.5.4\n",
            "inflect                          7.0.0\n",
            "iniconfig                        2.0.0\n",
            "install                          1.3.5\n",
            "intel-openmp                     2023.2.3\n",
            "ipyevents                        2.0.2\n",
            "ipyfilechooser                   0.6.0\n",
            "ipykernel                        5.5.6\n",
            "ipyleaflet                       0.18.2\n",
            "ipython                          7.34.0\n",
            "ipython-genutils                 0.2.0\n",
            "ipython-sql                      0.5.0\n",
            "ipytree                          0.2.2\n",
            "ipywidgets                       7.7.1\n",
            "itsdangerous                     2.1.2\n",
            "jax                              0.4.23\n",
            "jaxlib                           0.4.23+cuda12.cudnn89\n",
            "jeepney                          0.7.1\n",
            "jieba                            0.42.1\n",
            "Jinja2                           3.1.3\n",
            "joblib                           1.3.2\n",
            "jsonpickle                       3.0.2\n",
            "jsonschema                       4.19.2\n",
            "jsonschema-specifications        2023.12.1\n",
            "jupyter-client                   6.1.12\n",
            "jupyter-console                  6.1.0\n",
            "jupyter_core                     5.7.1\n",
            "jupyter-server                   1.24.0\n",
            "jupyterlab_pygments              0.3.0\n",
            "jupyterlab-widgets               3.0.9\n",
            "kaggle                           1.5.16\n",
            "kagglehub                        0.1.8\n",
            "keras                            2.15.0\n",
            "keyring                          23.5.0\n",
            "kiwisolver                       1.4.5\n",
            "langcodes                        3.3.0\n",
            "launchpadlib                     1.10.16\n",
            "lazr.restfulclient               0.14.4\n",
            "lazr.uri                         1.0.6\n",
            "lazy_loader                      0.3\n",
            "libclang                         16.0.6\n",
            "librosa                          0.10.1\n",
            "lida                             0.0.10\n",
            "lightgbm                         4.1.0\n",
            "linkify-it-py                    2.0.2\n",
            "llmx                             0.0.15a0\n",
            "llvmlite                         0.41.1\n",
            "locket                           1.0.0\n",
            "logical-unification              0.4.6\n",
            "lxml                             4.9.4\n",
            "malloy                           2023.1067\n",
            "Markdown                         3.5.2\n",
            "markdown-it-py                   3.0.0\n",
            "MarkupSafe                       2.1.4\n",
            "matplotlib                       3.7.1\n",
            "matplotlib-inline                0.1.6\n",
            "matplotlib-venn                  0.11.10\n",
            "mdit-py-plugins                  0.4.0\n",
            "mdurl                            0.1.2\n",
            "miniKanren                       1.0.3\n",
            "missingno                        0.5.2\n",
            "mistune                          0.8.4\n",
            "mizani                           0.9.3\n",
            "mkl                              2023.2.0\n",
            "ml-dtypes                        0.2.0\n",
            "mlxtend                          0.22.0\n",
            "more-itertools                   10.1.0\n",
            "moviepy                          1.0.3\n",
            "mpmath                           1.3.0\n",
            "msgpack                          1.0.7\n",
            "multidict                        6.0.4\n",
            "multipledispatch                 1.0.0\n",
            "multitasking                     0.0.11\n",
            "murmurhash                       1.0.10\n",
            "music21                          9.1.0\n",
            "natsort                          8.4.0\n",
            "nbclassic                        1.0.0\n",
            "nbclient                         0.9.0\n",
            "nbconvert                        6.5.4\n",
            "nbformat                         5.9.2\n",
            "nest-asyncio                     1.6.0\n",
            "networkx                         3.2.1\n",
            "nibabel                          4.0.2\n",
            "nltk                             3.8.1\n",
            "notebook                         6.5.5\n",
            "notebook_shim                    0.2.3\n",
            "numba                            0.58.1\n",
            "numexpr                          2.9.0\n",
            "numpy                            1.23.5\n",
            "oauth2client                     4.1.3\n",
            "oauthlib                         3.2.2\n",
            "opencv-contrib-python            4.8.0.76\n",
            "opencv-python                    4.8.0.76\n",
            "opencv-python-headless           4.9.0.80\n",
            "openpyxl                         3.1.2\n",
            "opt-einsum                       3.3.0\n",
            "optax                            0.1.8\n",
            "orbax-checkpoint                 0.4.4\n",
            "osqp                             0.6.2.post8\n",
            "packaging                        23.2\n",
            "pandas                           1.5.3\n",
            "pandas-datareader                0.10.0\n",
            "pandas-gbq                       0.19.2\n",
            "pandas-stubs                     1.5.3.230304\n",
            "pandocfilters                    1.5.1\n",
            "panel                            1.3.8\n",
            "param                            2.0.2\n",
            "parso                            0.8.3\n",
            "parsy                            2.1\n",
            "partd                            1.4.1\n",
            "pathlib                          1.0.1\n",
            "patsy                            0.5.6\n",
            "peewee                           3.17.0\n",
            "pexpect                          4.9.0\n",
            "pickleshare                      0.7.5\n",
            "Pillow                           9.4.0\n",
            "pins                             0.8.4\n",
            "pip                              23.1.2\n",
            "pip-tools                        6.13.0\n",
            "platformdirs                     4.2.0\n",
            "plotly                           5.15.0\n",
            "plotnine                         0.12.4\n",
            "pluggy                           1.4.0\n",
            "polars                           0.20.2\n",
            "pooch                            1.8.0\n",
            "portpicker                       1.5.2\n",
            "prefetch-generator               1.0.3\n",
            "preshed                          3.0.9\n",
            "prettytable                      3.9.0\n",
            "proglog                          0.1.10\n",
            "progressbar2                     4.2.0\n",
            "prometheus-client                0.19.0\n",
            "promise                          2.3\n",
            "prompt-toolkit                   3.0.43\n",
            "prophet                          1.1.5\n",
            "proto-plus                       1.23.0\n",
            "protobuf                         3.20.3\n",
            "psutil                           5.9.5\n",
            "psycopg2                         2.9.9\n",
            "ptyprocess                       0.7.0\n",
            "py-cpuinfo                       9.0.0\n",
            "py4j                             0.10.9.7\n",
            "pyarrow                          10.0.1\n",
            "pyarrow-hotfix                   0.6\n",
            "pyasn1                           0.5.1\n",
            "pyasn1-modules                   0.3.0\n",
            "pycocotools                      2.0.7\n",
            "pycparser                        2.21\n",
            "pyct                             0.5.0\n",
            "pydantic                         1.10.14\n",
            "pydata-google-auth               1.8.2\n",
            "pydot                            1.4.2\n",
            "pydot-ng                         2.0.0\n",
            "pydotplus                        2.0.2\n",
            "PyDrive                          1.3.1\n",
            "PyDrive2                         1.6.3\n",
            "pyerfa                           2.0.1.1\n",
            "pygame                           2.5.2\n",
            "Pygments                         2.16.1\n",
            "PyGObject                        3.42.1\n",
            "PyJWT                            2.3.0\n",
            "pymc                             5.7.2\n",
            "pymystem3                        0.2.0\n",
            "PyOpenGL                         3.1.7\n",
            "pyOpenSSL                        24.0.0\n",
            "pyparsing                        3.1.1\n",
            "pyperclip                        1.8.2\n",
            "pyproj                           3.6.1\n",
            "pyproject_hooks                  1.0.0\n",
            "pyshp                            2.3.1\n",
            "PySocks                          1.7.1\n",
            "pytensor                         2.14.2\n",
            "pytest                           7.4.4\n",
            "python-apt                       0.0.0\n",
            "python-box                       7.1.1\n",
            "python-dateutil                  2.8.2\n",
            "python-louvain                   0.16\n",
            "python-slugify                   8.0.3\n",
            "python-utils                     3.8.2\n",
            "pytz                             2023.4\n",
            "pyviz_comms                      3.0.1\n",
            "PyWavelets                       1.5.0\n",
            "PyYAML                           6.0.1\n",
            "pyzmq                            23.2.1\n",
            "qdldl                            0.1.7.post0\n",
            "qudida                           0.0.4\n",
            "ratelim                          0.1.6\n",
            "referencing                      0.33.0\n",
            "regex                            2023.12.25\n",
            "requests                         2.31.0\n",
            "requests-oauthlib                1.3.1\n",
            "requirements-parser              0.5.0\n",
            "rich                             13.7.0\n",
            "rpds-py                          0.17.1\n",
            "rpy2                             3.4.2\n",
            "rsa                              4.9\n",
            "safetensors                      0.4.2\n",
            "scikit-image                     0.19.3\n",
            "scikit-learn                     1.2.2\n",
            "scipy                            1.11.4\n",
            "scooby                           0.9.2\n",
            "scs                              3.2.4.post1\n",
            "seaborn                          0.13.1\n",
            "SecretStorage                    3.3.1\n",
            "Send2Trash                       1.8.2\n",
            "sentencepiece                    0.1.99\n",
            "setuptools                       67.7.2\n",
            "shapely                          2.0.2\n",
            "six                              1.16.0\n",
            "sklearn-pandas                   2.2.0\n",
            "smart-open                       6.4.0\n",
            "sniffio                          1.3.0\n",
            "snowballstemmer                  2.2.0\n",
            "sortedcontainers                 2.4.0\n",
            "soundfile                        0.12.1\n",
            "soupsieve                        2.5\n",
            "soxr                             0.3.7\n",
            "spacy                            3.7.2\n",
            "spacy-legacy                     3.0.12\n",
            "spacy-loggers                    1.0.5\n",
            "Sphinx                           5.0.2\n",
            "sphinxcontrib-applehelp          1.0.8\n",
            "sphinxcontrib-devhelp            1.0.6\n",
            "sphinxcontrib-htmlhelp           2.0.5\n",
            "sphinxcontrib-jsmath             1.0.1\n",
            "sphinxcontrib-qthelp             1.0.7\n",
            "sphinxcontrib-serializinghtml    1.1.10\n",
            "SQLAlchemy                       2.0.24\n",
            "sqlglot                          19.9.0\n",
            "sqlparse                         0.4.4\n",
            "srsly                            2.4.8\n",
            "stanio                           0.3.0\n",
            "statsmodels                      0.14.1\n",
            "sympy                            1.12\n",
            "tables                           3.8.0\n",
            "tabulate                         0.9.0\n",
            "tbb                              2021.11.0\n",
            "tblib                            3.0.0\n",
            "tenacity                         8.2.3\n",
            "tensorboard                      2.15.1\n",
            "tensorboard-data-server          0.7.2\n",
            "tensorflow                       2.15.0\n",
            "tensorflow-datasets              4.9.4\n",
            "tensorflow-estimator             2.15.0\n",
            "tensorflow-gcs-config            2.15.0\n",
            "tensorflow-hub                   0.16.1\n",
            "tensorflow-io-gcs-filesystem     0.35.0\n",
            "tensorflow-metadata              1.14.0\n",
            "tensorflow-probability           0.22.0\n",
            "tensorstore                      0.1.45\n",
            "termcolor                        2.4.0\n",
            "terminado                        0.18.0\n",
            "text-unidecode                   1.3\n",
            "textblob                         0.17.1\n",
            "tf-keras                         2.15.0\n",
            "tf-slim                          1.1.0\n",
            "thinc                            8.2.2\n",
            "threadpoolctl                    3.2.0\n",
            "tifffile                         2024.1.30\n",
            "tinycss2                         1.2.1\n",
            "tokenizers                       0.15.1\n",
            "toml                             0.10.2\n",
            "tomli                            2.0.1\n",
            "toolz                            0.12.1\n",
            "torch                            2.1.0+cu121\n",
            "torchaudio                       2.1.0+cu121\n",
            "torchdata                        0.7.0\n",
            "torchsummary                     1.5.1\n",
            "torchtext                        0.16.0\n",
            "torchvision                      0.16.0+cu121\n",
            "tornado                          6.3.2\n",
            "tqdm                             4.66.1\n",
            "traitlets                        5.7.1\n",
            "traittypes                       0.2.1\n",
            "transformers                     4.35.2\n",
            "triton                           2.1.0\n",
            "tweepy                           4.14.0\n",
            "typer                            0.9.0\n",
            "types-pytz                       2023.4.0.20240130\n",
            "types-setuptools                 69.0.0.20240125\n",
            "typing_extensions                4.5.0\n",
            "tzlocal                          5.2\n",
            "uc-micro-py                      1.0.2\n",
            "uritemplate                      4.1.1\n",
            "urllib3                          2.0.7\n",
            "vega-datasets                    0.9.0\n",
            "wadllib                          1.3.6\n",
            "wasabi                           1.1.2\n",
            "wcwidth                          0.2.13\n",
            "weasel                           0.3.4\n",
            "webcolors                        1.13\n",
            "webencodings                     0.5.1\n",
            "websocket-client                 1.7.0\n",
            "Werkzeug                         3.0.1\n",
            "wheel                            0.42.0\n",
            "widgetsnbextension               3.6.6\n",
            "wordcloud                        1.9.3\n",
            "wrapt                            1.14.1\n",
            "xarray                           2023.7.0\n",
            "xarray-einstats                  0.7.0\n",
            "xgboost                          2.0.3\n",
            "xlrd                             2.0.1\n",
            "xxhash                           3.4.1\n",
            "xyzservices                      2023.10.1\n",
            "yarl                             1.9.4\n",
            "yellowbrick                      1.5\n",
            "yfinance                         0.2.36\n",
            "zict                             3.0.0\n",
            "zipp                             3.17.0\n"
          ]
        }
      ]
    },
    {
      "cell_type": "markdown",
      "source": [
        "## 04.02.24"
      ],
      "metadata": {
        "id": "-CLPdycpFnIk"
      }
    },
    {
      "cell_type": "code",
      "source": [
        "text = '''\n",
        "5. Гарантии продавца\n",
        "5.1. Продавец гарантирует, что является законным владельцем автомобиля и полностью уполномочен на его продажу.\n",
        "5.2. В случае выявления любых правовых или финансовых проблем с автомобилем, которые могут повлиять на его правомочность продажи, Продавец обязуется возместить Покупателю все понесенные убытки.\n",
        "\n",
        "6. Гарантии покупателя\n",
        "Покупатель гарантирует, что он ознакомился со всеми характеристиками автомобиля, состоянием его технического паспорта и согласен с его текущим состоянием.\n",
        "\n",
        "7. Ответственность сторон\n",
        "7.1. В случае нарушения одной из сторон условий настоящего договора, она обязуется возместить другой стороне все понесенные убытки.\n",
        "7.2. В случае возникновения споров и разногласий между сторонами, они обязуются прилагать все усилия для их разрешения путем переговоров. Если споры не могут быть разрешены путем переговоров, они подлежат рассмотрению в соответствующем суде в соответствии с действующим законодательством Российской Федерации.\n",
        "\n",
        "8. Заключительные положения\n",
        "8.1. Настоящий договор вступает в силу с момента его подписания сторонами и действует до полного исполнения обязательств по нему.\n",
        "8.2. Изменения и дополнения к настоящему договору могут быть совершены только в письменной форме и подлежат подписанию обеими сторонами.\n",
        "8.3. Все приложения и дополнения к настоящему договору являются его неотъемлемой частью.\n",
        "8.4. Настоящий договор составлен в двух экземплярах, имеющих равную юридическую силу, по одному для каждой из сторон.\n",
        "Как при выводе текста командой print() ограничить ширину строки 80 символами, текст, превышающий 80 символов должен выводиться дополнительными строками?\n",
        "\n",
        "Ассистент: Для ограничения ширины строки при выводе текста командой print() до 80 символов, вы можете использовать метод textwrap.wrap() из модуля textwrap. Этот метод разбивает текст на строки с заданной шириной.\n",
        "\n",
        "Вот пример кода, который демонстрирует, как использовать метод textwrap.wrap() для ограничения ширины строки до 80 символов:\n",
        "'''\n",
        "\n",
        "import textwrap\n",
        "\n",
        "wrapped_text = textwrap.wrap(text, width=80)\n",
        "\n",
        "for line in wrapped_text:\n",
        "    print(line)"
      ],
      "metadata": {
        "id": "LYWkozJwOBpN",
        "colab": {
          "base_uri": "https://localhost:8080/"
        },
        "outputId": "0677022d-2577-4187-ef82-3dc883a8913c"
      },
      "execution_count": null,
      "outputs": [
        {
          "output_type": "stream",
          "name": "stdout",
          "text": [
            " 5. Гарантии продавца 5.1. Продавец гарантирует, что является законным\n",
            "владельцем автомобиля и полностью уполномочен на его продажу. 5.2. В случае\n",
            "выявления любых правовых или финансовых проблем с автомобилем, которые могут\n",
            "повлиять на его правомочность продажи, Продавец обязуется возместить Покупателю\n",
            "все понесенные убытки.  6. Гарантии покупателя Покупатель гарантирует, что он\n",
            "ознакомился со всеми характеристиками автомобиля, состоянием его технического\n",
            "паспорта и согласен с его текущим состоянием.  7. Ответственность сторон 7.1. В\n",
            "случае нарушения одной из сторон условий настоящего договора, она обязуется\n",
            "возместить другой стороне все понесенные убытки. 7.2. В случае возникновения\n",
            "споров и разногласий между сторонами, они обязуются прилагать все усилия для их\n",
            "разрешения путем переговоров. Если споры не могут быть разрешены путем\n",
            "переговоров, они подлежат рассмотрению в соответствующем суде в соответствии с\n",
            "действующим законодательством Российской Федерации.  8. Заключительные положения\n",
            "8.1. Настоящий договор вступает в силу с момента его подписания сторонами и\n",
            "действует до полного исполнения обязательств по нему. 8.2. Изменения и\n",
            "дополнения к настоящему договору могут быть совершены только в письменной форме\n",
            "и подлежат подписанию обеими сторонами. 8.3. Все приложения и дополнения к\n",
            "настоящему договору являются его неотъемлемой частью. 8.4. Настоящий договор\n",
            "составлен в двух экземплярах, имеющих равную юридическую силу, по одному для\n",
            "каждой из сторон. Как при выводе текста командой print() ограничить ширину\n",
            "строки 80 символами, текст, превышающий 80 символов должен выводиться\n",
            "дополнительными строками?  Ассистент: Для ограничения ширины строки при выводе\n",
            "текста командой print() до 80 символов, вы можете использовать метод\n",
            "textwrap.wrap() из модуля textwrap. Этот метод разбивает текст на строки с\n",
            "заданной шириной.  Вот пример кода, который демонстрирует, как использовать\n",
            "метод textwrap.wrap() для ограничения ширины строки до 80 символов:\n"
          ]
        }
      ]
    },
    {
      "cell_type": "code",
      "source": [
        "print('4<7', 4<7)"
      ],
      "metadata": {
        "colab": {
          "base_uri": "https://localhost:8080/"
        },
        "id": "2CJKAT-2Ek35",
        "outputId": "361a3e0b-4d16-4e56-838c-32b4c9af4887"
      },
      "execution_count": null,
      "outputs": [
        {
          "output_type": "stream",
          "name": "stdout",
          "text": [
            "4<7 True\n"
          ]
        }
      ]
    },
    {
      "cell_type": "code",
      "source": [
        "import numpy as np\n",
        "imgs = np.array(random.choices(, k=))"
      ],
      "metadata": {
        "id": "WvpFSM4ANyPa"
      },
      "execution_count": null,
      "outputs": []
    },
    {
      "cell_type": "markdown",
      "source": [
        "## 02.02.24"
      ],
      "metadata": {
        "id": "7KbJefyku1GG"
      }
    },
    {
      "cell_type": "code",
      "source": [
        "table = [[\"Заголовок_1\",\"Заголовок_2\",\"Заголовок_3\"],\n",
        "         [\"Ячейка 1-1\", \"Ячейка 1-2\", \"Ячейка 1-3\"],\n",
        "         [\"Ячейка 2-1\", \"Ячейка 2-2\", \"Ячейка 2-3\"],\n",
        "         [\"Ячейка 3-1\", \"Ячейка 3-2\", \"Ячейка 3-3\"],\n",
        "         [\"Ячейка 4-1\", \"Ячейка 4-2\", \"Ячейка 4-3\"],\n",
        "         [\"Ячейка 5-1\", \"Ячейка 5-2\", \"Ячейка 5-3\"]]\n",
        "\n",
        "#Выводим таблицу\n",
        "for row in table:\n",
        "   print(\"|\".join(row))"
      ],
      "metadata": {
        "colab": {
          "base_uri": "https://localhost:8080/"
        },
        "id": "sam5GLxvu3b7",
        "outputId": "95e22369-674b-4d29-bb7c-41e9f0a2cf42"
      },
      "execution_count": null,
      "outputs": [
        {
          "output_type": "stream",
          "name": "stdout",
          "text": [
            "Заголовок_1|Заголовок_2|Заголовок_3\n",
            "Ячейка 1-1|Ячейка 1-2|Ячейка 1-3\n",
            "Ячейка 2-1|Ячейка 2-2|Ячейка 2-3\n",
            "Ячейка 3-1|Ячейка 3-2|Ячейка 3-3\n",
            "Ячейка 4-1|Ячейка 4-2|Ячейка 4-3\n",
            "Ячейка 5-1|Ячейка 5-2|Ячейка 5-3\n"
          ]
        }
      ]
    },
    {
      "cell_type": "code",
      "source": [],
      "metadata": {
        "id": "o-fZWlzRumv2"
      },
      "execution_count": null,
      "outputs": []
    },
    {
      "cell_type": "markdown",
      "source": [
        "# 01.24"
      ],
      "metadata": {
        "id": "H7dLf3jq9CBG"
      }
    },
    {
      "cell_type": "markdown",
      "source": [
        "## 29.01.24"
      ],
      "metadata": {
        "id": "zvqfV-58V7rc"
      }
    },
    {
      "cell_type": "code",
      "source": [
        "bal_max = 100                               #максимальный бал\n",
        "\n",
        "bal_user = int(input('Введите бал: '))\n",
        "\n",
        "while bal_user != bal_max:\n",
        "    if bal_user >= 90:\n",
        "        print(\"Поздравляем вы получили - \\\"Отлично\\\"\")\n",
        "    elif bal_user >= 70:\n",
        "        print(\"Поздравляем вы получили - \\\"Хорошо\\\"\")\n",
        "    elif bal_user >= 50:\n",
        "        print(\"Вы получили - \\\"Удовлетворительно\\\"\")\n",
        "    elif bal_user < 50:\n",
        "        print(\"Экзамен не сдан, приходите на пересдачу.\\\"\")\n",
        "else:\n",
        "    bal_user > bal_max\n",
        "    print(\"Вы ввели некорректное число\")\n",
        "    bal_user = int(input('Введите бал: '))\n",
        "print(\"Поздравляем вы получили максимально возможно колличество баллов \\\"++Отлично\\\"\")"
      ],
      "metadata": {
        "id": "7yw6swaZRHWo"
      },
      "execution_count": null,
      "outputs": []
    },
    {
      "cell_type": "code",
      "source": [
        "indexes_new = []\n",
        "\n",
        "if not indexes_new:\n",
        "    print('Список пустой')"
      ],
      "metadata": {
        "colab": {
          "base_uri": "https://localhost:8080/"
        },
        "id": "7qXvYg8dV5tn",
        "outputId": "78a35581-2448-44bf-c405-1ff2318437d0"
      },
      "execution_count": null,
      "outputs": [
        {
          "output_type": "stream",
          "name": "stdout",
          "text": [
            "Список пустой\n"
          ]
        }
      ]
    },
    {
      "cell_type": "code",
      "source": [
        "i = 0\n",
        "while i < 5:\n",
        "    j = 0\n",
        "    while j < 5:\n",
        "        if j == 2:\n",
        "            j += 1\n",
        "            continue\n",
        "        print(i, j)\n",
        "        j += 1\n",
        "    i += 1\n",
        "    if i == 3:\n",
        "        i += 1\n",
        "        continue"
      ],
      "metadata": {
        "colab": {
          "base_uri": "https://localhost:8080/"
        },
        "id": "wVveRwRxZ98P",
        "outputId": "640ac4be-6cbf-4e77-aeb2-d1e336acc9db"
      },
      "execution_count": null,
      "outputs": [
        {
          "output_type": "stream",
          "name": "stdout",
          "text": [
            "0 0\n",
            "0 1\n",
            "0 3\n",
            "0 4\n",
            "1 0\n",
            "1 1\n",
            "1 3\n",
            "1 4\n",
            "2 0\n",
            "2 1\n",
            "2 3\n",
            "2 4\n",
            "4 0\n",
            "4 1\n",
            "4 3\n",
            "4 4\n"
          ]
        }
      ]
    },
    {
      "cell_type": "markdown",
      "source": [
        "## 28.01.24"
      ],
      "metadata": {
        "id": "aVz7y8mQvAtl"
      }
    },
    {
      "cell_type": "code",
      "source": [
        "import requests\n",
        "\n",
        "url = \"https://drive.google.com/file/d/1NyLSUiwnEMfpE7hWom_JUQPDoru31p-1\"\n",
        "response = requests.head(url)\n",
        "size = int(response.headers.get(\"Content-Length\"))\n",
        "\n",
        "print(f\"Размер картинки: {size} байт\")"
      ],
      "metadata": {
        "colab": {
          "base_uri": "https://localhost:8080/",
          "height": 245
        },
        "id": "sR3AXvN-u-su",
        "outputId": "175081a0-865b-4f4b-e282-b30abae2627d"
      },
      "execution_count": null,
      "outputs": [
        {
          "output_type": "error",
          "ename": "TypeError",
          "evalue": "int() argument must be a string, a bytes-like object or a real number, not 'NoneType'",
          "traceback": [
            "\u001b[0;31m---------------------------------------------------------------------------\u001b[0m",
            "\u001b[0;31mTypeError\u001b[0m                                 Traceback (most recent call last)",
            "\u001b[0;32m<ipython-input-3-c576301233c4>\u001b[0m in \u001b[0;36m<cell line: 5>\u001b[0;34m()\u001b[0m\n\u001b[1;32m      3\u001b[0m \u001b[0murl\u001b[0m \u001b[0;34m=\u001b[0m \u001b[0;34m\"https://drive.google.com/file/d/1NyLSUiwnEMfpE7hWom_JUQPDoru31p-1\"\u001b[0m\u001b[0;34m\u001b[0m\u001b[0;34m\u001b[0m\u001b[0m\n\u001b[1;32m      4\u001b[0m \u001b[0mresponse\u001b[0m \u001b[0;34m=\u001b[0m \u001b[0mrequests\u001b[0m\u001b[0;34m.\u001b[0m\u001b[0mhead\u001b[0m\u001b[0;34m(\u001b[0m\u001b[0murl\u001b[0m\u001b[0;34m)\u001b[0m\u001b[0;34m\u001b[0m\u001b[0;34m\u001b[0m\u001b[0m\n\u001b[0;32m----> 5\u001b[0;31m \u001b[0msize\u001b[0m \u001b[0;34m=\u001b[0m \u001b[0mint\u001b[0m\u001b[0;34m(\u001b[0m\u001b[0mresponse\u001b[0m\u001b[0;34m.\u001b[0m\u001b[0mheaders\u001b[0m\u001b[0;34m.\u001b[0m\u001b[0mget\u001b[0m\u001b[0;34m(\u001b[0m\u001b[0;34m\"Content-Length\"\u001b[0m\u001b[0;34m)\u001b[0m\u001b[0;34m)\u001b[0m\u001b[0;34m\u001b[0m\u001b[0;34m\u001b[0m\u001b[0m\n\u001b[0m\u001b[1;32m      6\u001b[0m \u001b[0;34m\u001b[0m\u001b[0m\n\u001b[1;32m      7\u001b[0m \u001b[0mprint\u001b[0m\u001b[0;34m(\u001b[0m\u001b[0;34mf\"Размер картинки: {size} байт\"\u001b[0m\u001b[0;34m)\u001b[0m\u001b[0;34m\u001b[0m\u001b[0;34m\u001b[0m\u001b[0m\n",
            "\u001b[0;31mTypeError\u001b[0m: int() argument must be a string, a bytes-like object or a real number, not 'NoneType'"
          ]
        }
      ]
    },
    {
      "cell_type": "markdown",
      "source": [
        "## 26.01.24"
      ],
      "metadata": {
        "id": "eUhjAW9PuRxs"
      }
    },
    {
      "cell_type": "code",
      "source": [
        "import numpy as np\n",
        "decart=np.array([int(input(' Введите кординаты точки по оси x : ')), int(input('Введите кординаты точки по оси y : '))])\n",
        "print('Координаты точки в декартовой системе' , decart)\n",
        "polaris=np.array([0, 0])\n",
        "polaris[0]=np.sqrt(decart[0]**2 + decart[1]**2 )\n",
        "if decart[0]>0:\n",
        "    polaris[1]=np.arctan(decart[1]/decart[0])\n",
        "elif decart[0]<0:\n",
        "    polaris[1]=np.arctan(decart[1]/decart[0])+ np.np.pi\n",
        "print('коррдинаты точки в полярной системе: ', polaris )"
      ],
      "metadata": {
        "colab": {
          "base_uri": "https://localhost:8080/"
        },
        "id": "2LltRRaGuPt4",
        "outputId": "cb02d619-e158-4184-c86b-4afb237ab332"
      },
      "execution_count": null,
      "outputs": [
        {
          "output_type": "stream",
          "name": "stdout",
          "text": [
            " Введите кординаты точки по оси x : 3\n",
            "Введите кординаты точки по оси y : 5\n",
            "Координаты точки в декартовой системе [3 5]\n",
            "коррдинаты точки в полярной системе:  [5 1]\n"
          ]
        }
      ]
    },
    {
      "cell_type": "code",
      "source": [
        "from tensorflow.keras.models import Sequential\n",
        "from tensorflow.keras.layers import Dense"
      ],
      "metadata": {
        "id": "C3HbR-0YEo2B"
      },
      "execution_count": null,
      "outputs": []
    },
    {
      "cell_type": "code",
      "source": [
        "model_simple = Sequential()\n",
        "model_simple.add(Dense(128, activation='relu', input_shape=(300, 5))) # (512, 512, 128)\n",
        "model_simple.add(Dense(1, activation='linear')) # (512, 512, 1)"
      ],
      "metadata": {
        "id": "IZuBEsLXEfG2"
      },
      "execution_count": null,
      "outputs": []
    },
    {
      "cell_type": "code",
      "source": [
        "model_simple.summary()"
      ],
      "metadata": {
        "colab": {
          "base_uri": "https://localhost:8080/"
        },
        "outputId": "b3c09d35-0fa1-4094-a81e-5bead52d9cc6",
        "id": "wOzPYI2KEfG3"
      },
      "execution_count": null,
      "outputs": [
        {
          "output_type": "stream",
          "name": "stdout",
          "text": [
            "Model: \"sequential_2\"\n",
            "_________________________________________________________________\n",
            " Layer (type)                Output Shape              Param #   \n",
            "=================================================================\n",
            " dense_4 (Dense)             (None, 300, 128)          768       \n",
            "                                                                 \n",
            " dense_5 (Dense)             (None, 300, 1)            129       \n",
            "                                                                 \n",
            "=================================================================\n",
            "Total params: 897 (3.50 KB)\n",
            "Trainable params: 897 (3.50 KB)\n",
            "Non-trainable params: 0 (0.00 Byte)\n",
            "_________________________________________________________________\n"
          ]
        }
      ]
    },
    {
      "cell_type": "markdown",
      "source": [
        "## 25.01.24"
      ],
      "metadata": {
        "id": "-vSvzpnB0tek"
      }
    },
    {
      "cell_type": "code",
      "source": [],
      "metadata": {
        "id": "30yYv3ZD1FLl"
      },
      "execution_count": null,
      "outputs": []
    },
    {
      "cell_type": "code",
      "source": [],
      "metadata": {
        "id": "1-FjT1-x1nU7"
      },
      "execution_count": null,
      "outputs": []
    },
    {
      "cell_type": "code",
      "source": [],
      "metadata": {
        "id": "7eYWxxuc0r8-"
      },
      "execution_count": null,
      "outputs": []
    },
    {
      "cell_type": "markdown",
      "source": [
        "## 22.01.24"
      ],
      "metadata": {
        "id": "hTh3Dtrxi9G9"
      }
    },
    {
      "cell_type": "code",
      "source": [
        "Пользователь: оберни код в фукцию  def calculator(a, b, c):                                    # определяем функцию калькулятор, где а и b переменные, с-арифметическое действие\n",
        "  if c == '+':                                              # если занк '+'\n",
        "    return a + b                                            # результат - сумма чисел\n",
        "  elif c == '-':                                            # если занк '-'\n",
        "    return a - b                                            # результат - разность чисел\n",
        "  elif c == '*':                                            # если занк '*'\n",
        "    return a * b                                            # результат - произведение чисел\n",
        "  elif c == '/':                                            # если занк '/'\n",
        "    return a / b                                            # результат - частное\n",
        "  else:                                                     # иначе\n",
        "    return 'Неизвестная операция!'                          # сообщениен об ошибке\n",
        "result = calculator (int(input('Введитен число а: ' )),     # вызов функции\n",
        "                       int(input('Введите число в: ')),\n",
        "                       input('Введите знак операции: '))\n",
        "print('Результат: ', result)                               # вывод на экран результат\n",
        "\n",
        "Ассистент: Конечно, я могу помочь вам обернуть данный код в функцию. Вот как это можно сделать:\n",
        "\n",
        "```python\n",
        "def calculator(a, b, c):                                    # определяем функцию калькулятор, где а и b переменные, с-арифметическое действие\n",
        "  if c == '+':                                              # если знак '+'\n",
        "    return a + b                                            # результат - сумма чисел\n",
        "  elif c == '-':                                            # если знак '-'\n",
        "    return a - b                                            # результат - разность чисел\n",
        "  elif c == '*':                                            # если знак '*'\n",
        "    return a * b                                            # результат - произведение чисел\n",
        "  elif c == '/':                                            # если знак '/'\n",
        "    return a / b                                            # результат - частное\n",
        "  else:                                                     # иначе\n",
        "    return 'Неизвестная операция!'                          # сообщение об ошибке\n",
        "\n",
        "result = calculator(int(input('Введите число а: ')),         # вызов функции\n",
        "                    int(input('Введите число b: ')),\n",
        "                    input('Введите знак операции: '))\n",
        "\n",
        "print('Результат: ', result)                               # вывод на экран результат"
      ],
      "metadata": {
        "id": "bAXo4hX3A1Le"
      },
      "execution_count": null,
      "outputs": []
    },
    {
      "cell_type": "code",
      "source": [
        "import numpy as np\n",
        "import matplotlib.pyplot as plt\n",
        "\n",
        "label_names  = ['Круг','Треугольник', 'Квадрат']\n",
        "plt.figure(figsize=(10,10))\n",
        "for i in range(3):\n",
        "  label_idx=np.where(y_train==i)[0]\n",
        "  idx=np.random.choice(label_idx) #выбор случайного значения из массива\n",
        "  img=x_train[idx].reshape(20, 20)\n",
        "  plt.subplot(1, 3, i+1)\n",
        "  plt.imshow(x_train[idx], cmap='gray')\n",
        "  plt.title(label_names[i])\n",
        "  plt.xlabel(label_names[i])\n",
        "  print('класс рисунка: ', y_train[idx])\n",
        "  plt.axis('off')"
      ],
      "metadata": {
        "colab": {
          "base_uri": "https://localhost:8080/",
          "height": 262
        },
        "id": "dEwCTuxa3YLQ",
        "outputId": "a551c82b-6706-4a5c-f176-3ff3681e06ef"
      },
      "execution_count": null,
      "outputs": [
        {
          "output_type": "error",
          "ename": "NameError",
          "evalue": "name 'y_train' is not defined",
          "traceback": [
            "\u001b[0;31m---------------------------------------------------------------------------\u001b[0m",
            "\u001b[0;31mNameError\u001b[0m                                 Traceback (most recent call last)",
            "\u001b[0;32m<ipython-input-1-6c73bf140faa>\u001b[0m in \u001b[0;36m<cell line: 6>\u001b[0;34m()\u001b[0m\n\u001b[1;32m      5\u001b[0m \u001b[0mplt\u001b[0m\u001b[0;34m.\u001b[0m\u001b[0mfigure\u001b[0m\u001b[0;34m(\u001b[0m\u001b[0mfigsize\u001b[0m\u001b[0;34m=\u001b[0m\u001b[0;34m(\u001b[0m\u001b[0;36m10\u001b[0m\u001b[0;34m,\u001b[0m\u001b[0;36m10\u001b[0m\u001b[0;34m)\u001b[0m\u001b[0;34m)\u001b[0m\u001b[0;34m\u001b[0m\u001b[0;34m\u001b[0m\u001b[0m\n\u001b[1;32m      6\u001b[0m \u001b[0;32mfor\u001b[0m \u001b[0mi\u001b[0m \u001b[0;32min\u001b[0m \u001b[0mrange\u001b[0m\u001b[0;34m(\u001b[0m\u001b[0;36m3\u001b[0m\u001b[0;34m)\u001b[0m\u001b[0;34m:\u001b[0m\u001b[0;34m\u001b[0m\u001b[0;34m\u001b[0m\u001b[0m\n\u001b[0;32m----> 7\u001b[0;31m   \u001b[0mlabel_idx\u001b[0m\u001b[0;34m=\u001b[0m\u001b[0mnp\u001b[0m\u001b[0;34m.\u001b[0m\u001b[0mwhere\u001b[0m\u001b[0;34m(\u001b[0m\u001b[0my_train\u001b[0m\u001b[0;34m==\u001b[0m\u001b[0mi\u001b[0m\u001b[0;34m)\u001b[0m\u001b[0;34m[\u001b[0m\u001b[0;36m0\u001b[0m\u001b[0;34m]\u001b[0m\u001b[0;34m\u001b[0m\u001b[0;34m\u001b[0m\u001b[0m\n\u001b[0m\u001b[1;32m      8\u001b[0m   \u001b[0midx\u001b[0m\u001b[0;34m=\u001b[0m\u001b[0mnp\u001b[0m\u001b[0;34m.\u001b[0m\u001b[0mrandom\u001b[0m\u001b[0;34m.\u001b[0m\u001b[0mchoice\u001b[0m\u001b[0;34m(\u001b[0m\u001b[0mlabel_idx\u001b[0m\u001b[0;34m)\u001b[0m \u001b[0;31m#выбор случайного значения из массива\u001b[0m\u001b[0;34m\u001b[0m\u001b[0;34m\u001b[0m\u001b[0m\n\u001b[1;32m      9\u001b[0m   \u001b[0mimg\u001b[0m\u001b[0;34m=\u001b[0m\u001b[0mx_train\u001b[0m\u001b[0;34m[\u001b[0m\u001b[0midx\u001b[0m\u001b[0;34m]\u001b[0m\u001b[0;34m.\u001b[0m\u001b[0mreshape\u001b[0m\u001b[0;34m(\u001b[0m\u001b[0;36m20\u001b[0m\u001b[0;34m,\u001b[0m \u001b[0;36m20\u001b[0m\u001b[0;34m)\u001b[0m\u001b[0;34m\u001b[0m\u001b[0;34m\u001b[0m\u001b[0m\n",
            "\u001b[0;31mNameError\u001b[0m: name 'y_train' is not defined"
          ]
        },
        {
          "output_type": "display_data",
          "data": {
            "text/plain": [
              "<Figure size 1000x1000 with 0 Axes>"
            ]
          },
          "metadata": {}
        }
      ]
    },
    {
      "cell_type": "code",
      "source": [
        "seconds = int(input(\"Введите количество секунд: \"))\n",
        "\n",
        "# Расчет\n",
        "days = seconds // (24 * 60 * 60)\n",
        "seconds %= (24 * 60 * 60)\n",
        "hours = seconds // (60 * 60)\n",
        "seconds %= (60 * 60)\n",
        "minutes = seconds // 60\n",
        "seconds %= 60\n",
        "\n",
        "# Вывод\n",
        "output = f\"{seconds} секунд\"\n",
        "if minutes > 0:\n",
        "    output = f\"{minutes} минут, \" + output\n",
        "if hours > 0:\n",
        "    output = f\"{hours} часов, \" + output\n",
        "if days > 0:\n",
        "    output = f\"{days} дней, \" + output\n",
        "\n",
        "print(output)\n"
      ],
      "metadata": {
        "id": "qGW2sA-Bmcs7"
      },
      "execution_count": null,
      "outputs": []
    },
    {
      "cell_type": "code",
      "source": [
        "a = input((' *'))\n",
        "b = input(' ***')\n",
        "c = input(' *****')\n",
        "j = input(' *******')\n",
        "a_1 = input (' *****')\n",
        "b_1 = input(' ***')\n",
        "a_1 = input((' *'))\n",
        "print(f\"{a}\\n {b} {c} \\n {j} {c} {a_1} {b_1} {a_1}\")"
      ],
      "metadata": {
        "colab": {
          "base_uri": "https://localhost:8080/"
        },
        "id": "s98eIEd8fVA9",
        "outputId": "3540fe49-8985-4a9b-cd83-a0d0a2cdcd2b"
      },
      "execution_count": null,
      "outputs": [
        {
          "output_type": "stream",
          "name": "stdout",
          "text": [
            " * \n",
            " *** \n",
            " ***** \n",
            " ******* \n",
            " ***** \n",
            " *** \n",
            " * \n",
            " \n",
            "     \n",
            "          \n"
          ]
        }
      ]
    },
    {
      "cell_type": "code",
      "source": [
        "# Имеется сеть:\n",
        "model = Sequential()\n",
        "model.add(Embedding(input_dim=vocab_size, output_dim=64, input_length=max_len))\n",
        "model.add(Dropout(0.25))\n",
        "model.add(Conv1D(filters=256, kernel_size=5, activation='relu'))\n",
        "model.add(Conv1D(filters=64, kernel_size=5, activation='relu'))\n",
        "model.add(GlobalMaxPooling1D())\n",
        "model.add(Dense(units=256, activation='relu'))\n",
        "model.add(Dropout(0.5))\n",
        "model.add(Dense(units=128, activation='relu'))\n",
        "model.add(Dense(units=10, activation='softmax'))\n",
        "\n",
        "model.compile(optimizer='adam', loss='categorical_crossentropy', metrics=['accuracy'])\n",
        "\n",
        "# Как с пом автокерас подобрать наилучшие гиперпараметры для нее\n",
        "\n",
        "# Вот пример кода, который показывает, как использовать AutoModel для подбора гиперпараметров:\n",
        "\n",
        "from autokeras import HyperModel\n",
        "from autokeras import AutoModel\n",
        "\n",
        "class MyHyperModel(HyperModel):\n",
        "    def build(self, hp):\n",
        "        model = Sequential()\n",
        "        model.add(Embedding(input_dim=vocab_size, output_dim=64, input_length=max_len))\n",
        "        model.add(Dropout(hp.Float('dropout', 0, 0.5, step=0.1)))\n",
        "        model.add(Conv1D(filters=hp.Choice('filters', [64, 128, 256]), kernel_size=hp.Choice('kernel_size', [3, 5]), activation='relu'))\n",
        "        model.add(Conv1D(filters=hp.Choice('filters', [64, 128, 256]), kernel_size=hp.Choice('kernel_size', [3, 5]), activation='relu'))\n",
        "        model.add(GlobalMaxPooling1D())\n",
        "        model.add(Dense(units=hp.Choice('units', [128, 256, 512]), activation='relu'))\n",
        "        model.add(Dropout(hp.Float('dropout', 0, 0.5, step=0.1)))\n",
        "        model.add(Dense(units=hp.Choice('units', [64, 128, 256]), activation='relu'))\n",
        "        model.add(Dense(units=10, activation='softmax'))\n",
        "\n",
        "        model.compile(optimizer='adam', loss='categorical_crossentropy', metrics=['accuracy'])\n",
        "\n",
        "        return model\n",
        "\n",
        "hypermodel = MyHyperModel()\n",
        "\n",
        "# Создаем объект AutoModel\n",
        "auto_model = AutoModel(\n",
        "    inputs=input_node,\n",
        "    outputs=output_node,\n",
        "    directory='auto_model',\n",
        "    project_name='my_model'\n",
        ")\n",
        "\n",
        "# Подбираем гиперпараметры\n",
        "auto_model.fit(x_train, y_train, epochs=10)\n",
        "\n",
        "# Получаем лучшую модель\n",
        "best_model = auto_model.export_model()\n",
        "\n",
        "# Оцениваем лучшую модель\n",
        "loss, accuracy = best_model.evaluate(x_test, y_test)"
      ],
      "metadata": {
        "id": "OQxBc9W82F9-"
      },
      "execution_count": null,
      "outputs": []
    },
    {
      "cell_type": "code",
      "source": [
        "# Параметры для токенизации и паддинга\n",
        "vocab_size = 5000  # Размер словаря\n",
        "max_len = 100  # Максимальная длина последовательности\n",
        "\n",
        "model = Sequential([\n",
        "    Conv1D(filters=64, kernel_size=3, activation='relu', input_shape=(100, 1)),\n",
        "    GlobalMaxPooling1D(),\n",
        "    Dense(units=128, activation='relu'),\n",
        "    Dropout(0.5),\n",
        "    Dense(units=10, activation='softmax')  # 10 классов для 10 болезней\n",
        "])\n",
        "\n",
        "# hist=model.fit(x_train_t,\n",
        "#                y_train_ohe,\n",
        "#                epochs=100,\n",
        "#                validation_data=(x_val_t, y_val_ohe),\n",
        "#                batch_size=8)"
      ],
      "metadata": {
        "id": "qn2c5NZZtoL1"
      },
      "execution_count": null,
      "outputs": []
    },
    {
      "cell_type": "code",
      "source": [
        "!pip install pydicom"
      ],
      "metadata": {
        "colab": {
          "base_uri": "https://localhost:8080/"
        },
        "id": "_PLphqOIi7AE",
        "outputId": "0c09d8ed-c55b-44f0-bfdd-7fa3dcd4f69e"
      },
      "execution_count": null,
      "outputs": [
        {
          "output_type": "stream",
          "name": "stdout",
          "text": [
            "Collecting pydicom\n",
            "  Downloading pydicom-2.4.4-py3-none-any.whl (1.8 MB)\n",
            "\u001b[2K     \u001b[90m━━━━━━━━━━━━━━━━━━━━━━━━━━━━━━━━━━━━━━━━\u001b[0m \u001b[32m1.8/1.8 MB\u001b[0m \u001b[31m9.0 MB/s\u001b[0m eta \u001b[36m0:00:00\u001b[0m\n",
            "\u001b[?25hInstalling collected packages: pydicom\n",
            "Successfully installed pydicom-2.4.4\n"
          ]
        }
      ]
    },
    {
      "cell_type": "markdown",
      "source": [
        "## 21.01.24"
      ],
      "metadata": {
        "id": "BGj7dK19rDj0"
      }
    },
    {
      "cell_type": "code",
      "source": [
        "import numpy as np\n",
        "import pandas as pd\n",
        "from sklearn.model_selection import train_test_split\n",
        "from tensorflow.keras.models import Sequential\n",
        "from tensorflow.keras.layers import Dense"
      ],
      "metadata": {
        "id": "cX1B3D33fO2N"
      },
      "execution_count": null,
      "outputs": []
    },
    {
      "cell_type": "code",
      "source": [
        "# Создание случайных значений\n",
        "np.random.seed(42) # Задание начального значения для воспроизводимости\n",
        "data = np.random.rand(1000, 6) # Генерация случайных значений\n",
        "\n",
        "# Создание датафрейма\n",
        "data = pd.DataFrame(data, columns=['a', 'b', 'c', 'd', 'x', 'y'])\n",
        "\n",
        "# Вывод датафрейма\n",
        "data.head()"
      ],
      "metadata": {
        "colab": {
          "base_uri": "https://localhost:8080/",
          "height": 206
        },
        "id": "fHh2dwzifWXU",
        "outputId": "be34715b-c747-4801-9641-f5707bbea1c6"
      },
      "execution_count": null,
      "outputs": [
        {
          "output_type": "execute_result",
          "data": {
            "text/plain": [
              "          a         b         c         d         x         y\n",
              "0  0.374540  0.950714  0.731994  0.598658  0.156019  0.155995\n",
              "1  0.058084  0.866176  0.601115  0.708073  0.020584  0.969910\n",
              "2  0.832443  0.212339  0.181825  0.183405  0.304242  0.524756\n",
              "3  0.431945  0.291229  0.611853  0.139494  0.292145  0.366362\n",
              "4  0.456070  0.785176  0.199674  0.514234  0.592415  0.046450"
            ],
            "text/html": [
              "\n",
              "  <div id=\"df-e801c7f1-c1cc-4296-9c0b-00b6727f15f9\" class=\"colab-df-container\">\n",
              "    <div>\n",
              "<style scoped>\n",
              "    .dataframe tbody tr th:only-of-type {\n",
              "        vertical-align: middle;\n",
              "    }\n",
              "\n",
              "    .dataframe tbody tr th {\n",
              "        vertical-align: top;\n",
              "    }\n",
              "\n",
              "    .dataframe thead th {\n",
              "        text-align: right;\n",
              "    }\n",
              "</style>\n",
              "<table border=\"1\" class=\"dataframe\">\n",
              "  <thead>\n",
              "    <tr style=\"text-align: right;\">\n",
              "      <th></th>\n",
              "      <th>a</th>\n",
              "      <th>b</th>\n",
              "      <th>c</th>\n",
              "      <th>d</th>\n",
              "      <th>x</th>\n",
              "      <th>y</th>\n",
              "    </tr>\n",
              "  </thead>\n",
              "  <tbody>\n",
              "    <tr>\n",
              "      <th>0</th>\n",
              "      <td>0.374540</td>\n",
              "      <td>0.950714</td>\n",
              "      <td>0.731994</td>\n",
              "      <td>0.598658</td>\n",
              "      <td>0.156019</td>\n",
              "      <td>0.155995</td>\n",
              "    </tr>\n",
              "    <tr>\n",
              "      <th>1</th>\n",
              "      <td>0.058084</td>\n",
              "      <td>0.866176</td>\n",
              "      <td>0.601115</td>\n",
              "      <td>0.708073</td>\n",
              "      <td>0.020584</td>\n",
              "      <td>0.969910</td>\n",
              "    </tr>\n",
              "    <tr>\n",
              "      <th>2</th>\n",
              "      <td>0.832443</td>\n",
              "      <td>0.212339</td>\n",
              "      <td>0.181825</td>\n",
              "      <td>0.183405</td>\n",
              "      <td>0.304242</td>\n",
              "      <td>0.524756</td>\n",
              "    </tr>\n",
              "    <tr>\n",
              "      <th>3</th>\n",
              "      <td>0.431945</td>\n",
              "      <td>0.291229</td>\n",
              "      <td>0.611853</td>\n",
              "      <td>0.139494</td>\n",
              "      <td>0.292145</td>\n",
              "      <td>0.366362</td>\n",
              "    </tr>\n",
              "    <tr>\n",
              "      <th>4</th>\n",
              "      <td>0.456070</td>\n",
              "      <td>0.785176</td>\n",
              "      <td>0.199674</td>\n",
              "      <td>0.514234</td>\n",
              "      <td>0.592415</td>\n",
              "      <td>0.046450</td>\n",
              "    </tr>\n",
              "  </tbody>\n",
              "</table>\n",
              "</div>\n",
              "    <div class=\"colab-df-buttons\">\n",
              "\n",
              "  <div class=\"colab-df-container\">\n",
              "    <button class=\"colab-df-convert\" onclick=\"convertToInteractive('df-e801c7f1-c1cc-4296-9c0b-00b6727f15f9')\"\n",
              "            title=\"Convert this dataframe to an interactive table.\"\n",
              "            style=\"display:none;\">\n",
              "\n",
              "  <svg xmlns=\"http://www.w3.org/2000/svg\" height=\"24px\" viewBox=\"0 -960 960 960\">\n",
              "    <path d=\"M120-120v-720h720v720H120Zm60-500h600v-160H180v160Zm220 220h160v-160H400v160Zm0 220h160v-160H400v160ZM180-400h160v-160H180v160Zm440 0h160v-160H620v160ZM180-180h160v-160H180v160Zm440 0h160v-160H620v160Z\"/>\n",
              "  </svg>\n",
              "    </button>\n",
              "\n",
              "  <style>\n",
              "    .colab-df-container {\n",
              "      display:flex;\n",
              "      gap: 12px;\n",
              "    }\n",
              "\n",
              "    .colab-df-convert {\n",
              "      background-color: #E8F0FE;\n",
              "      border: none;\n",
              "      border-radius: 50%;\n",
              "      cursor: pointer;\n",
              "      display: none;\n",
              "      fill: #1967D2;\n",
              "      height: 32px;\n",
              "      padding: 0 0 0 0;\n",
              "      width: 32px;\n",
              "    }\n",
              "\n",
              "    .colab-df-convert:hover {\n",
              "      background-color: #E2EBFA;\n",
              "      box-shadow: 0px 1px 2px rgba(60, 64, 67, 0.3), 0px 1px 3px 1px rgba(60, 64, 67, 0.15);\n",
              "      fill: #174EA6;\n",
              "    }\n",
              "\n",
              "    .colab-df-buttons div {\n",
              "      margin-bottom: 4px;\n",
              "    }\n",
              "\n",
              "    [theme=dark] .colab-df-convert {\n",
              "      background-color: #3B4455;\n",
              "      fill: #D2E3FC;\n",
              "    }\n",
              "\n",
              "    [theme=dark] .colab-df-convert:hover {\n",
              "      background-color: #434B5C;\n",
              "      box-shadow: 0px 1px 3px 1px rgba(0, 0, 0, 0.15);\n",
              "      filter: drop-shadow(0px 1px 2px rgba(0, 0, 0, 0.3));\n",
              "      fill: #FFFFFF;\n",
              "    }\n",
              "  </style>\n",
              "\n",
              "    <script>\n",
              "      const buttonEl =\n",
              "        document.querySelector('#df-e801c7f1-c1cc-4296-9c0b-00b6727f15f9 button.colab-df-convert');\n",
              "      buttonEl.style.display =\n",
              "        google.colab.kernel.accessAllowed ? 'block' : 'none';\n",
              "\n",
              "      async function convertToInteractive(key) {\n",
              "        const element = document.querySelector('#df-e801c7f1-c1cc-4296-9c0b-00b6727f15f9');\n",
              "        const dataTable =\n",
              "          await google.colab.kernel.invokeFunction('convertToInteractive',\n",
              "                                                    [key], {});\n",
              "        if (!dataTable) return;\n",
              "\n",
              "        const docLinkHtml = 'Like what you see? Visit the ' +\n",
              "          '<a target=\"_blank\" href=https://colab.research.google.com/notebooks/data_table.ipynb>data table notebook</a>'\n",
              "          + ' to learn more about interactive tables.';\n",
              "        element.innerHTML = '';\n",
              "        dataTable['output_type'] = 'display_data';\n",
              "        await google.colab.output.renderOutput(dataTable, element);\n",
              "        const docLink = document.createElement('div');\n",
              "        docLink.innerHTML = docLinkHtml;\n",
              "        element.appendChild(docLink);\n",
              "      }\n",
              "    </script>\n",
              "  </div>\n",
              "\n",
              "\n",
              "<div id=\"df-9b5bda35-c5c6-4443-b4bf-88a936fa775d\">\n",
              "  <button class=\"colab-df-quickchart\" onclick=\"quickchart('df-9b5bda35-c5c6-4443-b4bf-88a936fa775d')\"\n",
              "            title=\"Suggest charts\"\n",
              "            style=\"display:none;\">\n",
              "\n",
              "<svg xmlns=\"http://www.w3.org/2000/svg\" height=\"24px\"viewBox=\"0 0 24 24\"\n",
              "     width=\"24px\">\n",
              "    <g>\n",
              "        <path d=\"M19 3H5c-1.1 0-2 .9-2 2v14c0 1.1.9 2 2 2h14c1.1 0 2-.9 2-2V5c0-1.1-.9-2-2-2zM9 17H7v-7h2v7zm4 0h-2V7h2v10zm4 0h-2v-4h2v4z\"/>\n",
              "    </g>\n",
              "</svg>\n",
              "  </button>\n",
              "\n",
              "<style>\n",
              "  .colab-df-quickchart {\n",
              "      --bg-color: #E8F0FE;\n",
              "      --fill-color: #1967D2;\n",
              "      --hover-bg-color: #E2EBFA;\n",
              "      --hover-fill-color: #174EA6;\n",
              "      --disabled-fill-color: #AAA;\n",
              "      --disabled-bg-color: #DDD;\n",
              "  }\n",
              "\n",
              "  [theme=dark] .colab-df-quickchart {\n",
              "      --bg-color: #3B4455;\n",
              "      --fill-color: #D2E3FC;\n",
              "      --hover-bg-color: #434B5C;\n",
              "      --hover-fill-color: #FFFFFF;\n",
              "      --disabled-bg-color: #3B4455;\n",
              "      --disabled-fill-color: #666;\n",
              "  }\n",
              "\n",
              "  .colab-df-quickchart {\n",
              "    background-color: var(--bg-color);\n",
              "    border: none;\n",
              "    border-radius: 50%;\n",
              "    cursor: pointer;\n",
              "    display: none;\n",
              "    fill: var(--fill-color);\n",
              "    height: 32px;\n",
              "    padding: 0;\n",
              "    width: 32px;\n",
              "  }\n",
              "\n",
              "  .colab-df-quickchart:hover {\n",
              "    background-color: var(--hover-bg-color);\n",
              "    box-shadow: 0 1px 2px rgba(60, 64, 67, 0.3), 0 1px 3px 1px rgba(60, 64, 67, 0.15);\n",
              "    fill: var(--button-hover-fill-color);\n",
              "  }\n",
              "\n",
              "  .colab-df-quickchart-complete:disabled,\n",
              "  .colab-df-quickchart-complete:disabled:hover {\n",
              "    background-color: var(--disabled-bg-color);\n",
              "    fill: var(--disabled-fill-color);\n",
              "    box-shadow: none;\n",
              "  }\n",
              "\n",
              "  .colab-df-spinner {\n",
              "    border: 2px solid var(--fill-color);\n",
              "    border-color: transparent;\n",
              "    border-bottom-color: var(--fill-color);\n",
              "    animation:\n",
              "      spin 1s steps(1) infinite;\n",
              "  }\n",
              "\n",
              "  @keyframes spin {\n",
              "    0% {\n",
              "      border-color: transparent;\n",
              "      border-bottom-color: var(--fill-color);\n",
              "      border-left-color: var(--fill-color);\n",
              "    }\n",
              "    20% {\n",
              "      border-color: transparent;\n",
              "      border-left-color: var(--fill-color);\n",
              "      border-top-color: var(--fill-color);\n",
              "    }\n",
              "    30% {\n",
              "      border-color: transparent;\n",
              "      border-left-color: var(--fill-color);\n",
              "      border-top-color: var(--fill-color);\n",
              "      border-right-color: var(--fill-color);\n",
              "    }\n",
              "    40% {\n",
              "      border-color: transparent;\n",
              "      border-right-color: var(--fill-color);\n",
              "      border-top-color: var(--fill-color);\n",
              "    }\n",
              "    60% {\n",
              "      border-color: transparent;\n",
              "      border-right-color: var(--fill-color);\n",
              "    }\n",
              "    80% {\n",
              "      border-color: transparent;\n",
              "      border-right-color: var(--fill-color);\n",
              "      border-bottom-color: var(--fill-color);\n",
              "    }\n",
              "    90% {\n",
              "      border-color: transparent;\n",
              "      border-bottom-color: var(--fill-color);\n",
              "    }\n",
              "  }\n",
              "</style>\n",
              "\n",
              "  <script>\n",
              "    async function quickchart(key) {\n",
              "      const quickchartButtonEl =\n",
              "        document.querySelector('#' + key + ' button');\n",
              "      quickchartButtonEl.disabled = true;  // To prevent multiple clicks.\n",
              "      quickchartButtonEl.classList.add('colab-df-spinner');\n",
              "      try {\n",
              "        const charts = await google.colab.kernel.invokeFunction(\n",
              "            'suggestCharts', [key], {});\n",
              "      } catch (error) {\n",
              "        console.error('Error during call to suggestCharts:', error);\n",
              "      }\n",
              "      quickchartButtonEl.classList.remove('colab-df-spinner');\n",
              "      quickchartButtonEl.classList.add('colab-df-quickchart-complete');\n",
              "    }\n",
              "    (() => {\n",
              "      let quickchartButtonEl =\n",
              "        document.querySelector('#df-9b5bda35-c5c6-4443-b4bf-88a936fa775d button');\n",
              "      quickchartButtonEl.style.display =\n",
              "        google.colab.kernel.accessAllowed ? 'block' : 'none';\n",
              "    })();\n",
              "  </script>\n",
              "</div>\n",
              "    </div>\n",
              "  </div>\n"
            ]
          },
          "metadata": {},
          "execution_count": 2
        }
      ]
    },
    {
      "cell_type": "code",
      "source": [
        "# Разделение данных на входные (a, b, c, d) и целевые (x, y) переменные\n",
        "X = data[['a', 'b', 'c', 'd']]\n",
        "y = data[['x', 'y']]\n",
        "\n",
        "# Разделение данных на обучающую и тестовую выборки\n",
        "X_train, X_test, y_train, y_test = train_test_split(X, y, test_size=0.2, random_state=42)\n",
        "\n",
        "# Создание модели\n",
        "model = Sequential()\n",
        "model.add(Dense(10, input_dim=4, activation='relu'))\n",
        "model.add(Dense(10, activation='relu'))\n",
        "model.add(Dense(2, activation='linear')) # 2 - количество выходных переменных (x и y)\n",
        "\n",
        "# Компиляция модели\n",
        "model.compile(loss='mean_squared_error', optimizer='adam', metrics='mae')\n",
        "\n",
        "# Обучение модели\n",
        "model.fit(X_train, y_train, epochs=100, batch_size=32, verbose=1)\n",
        "\n",
        "# Оценка модели на тестовых данных\n",
        "loss = model.evaluate(X_test, y_test)\n",
        "print('Loss на тестовых данных:', loss)\n"
      ],
      "metadata": {
        "colab": {
          "base_uri": "https://localhost:8080/"
        },
        "id": "SPZIedI3fN_L",
        "outputId": "0db7c0ff-395d-4ec2-c674-f6afcc675742"
      },
      "execution_count": null,
      "outputs": [
        {
          "output_type": "stream",
          "name": "stdout",
          "text": [
            "Epoch 1/100\n",
            "25/25 [==============================] - 1s 4ms/step - loss: 0.1733 - mae: 0.3400\n",
            "Epoch 2/100\n",
            "25/25 [==============================] - 0s 4ms/step - loss: 0.1095 - mae: 0.2767\n",
            "Epoch 3/100\n",
            "25/25 [==============================] - 0s 3ms/step - loss: 0.0990 - mae: 0.2662\n",
            "Epoch 4/100\n",
            "25/25 [==============================] - 0s 3ms/step - loss: 0.0953 - mae: 0.2621\n",
            "Epoch 5/100\n",
            "25/25 [==============================] - 0s 4ms/step - loss: 0.0934 - mae: 0.2599\n",
            "Epoch 6/100\n",
            "25/25 [==============================] - 0s 2ms/step - loss: 0.0919 - mae: 0.2582\n",
            "Epoch 7/100\n",
            "25/25 [==============================] - 0s 2ms/step - loss: 0.0907 - mae: 0.2569\n",
            "Epoch 8/100\n",
            "25/25 [==============================] - 0s 2ms/step - loss: 0.0898 - mae: 0.2557\n",
            "Epoch 9/100\n",
            "25/25 [==============================] - 0s 2ms/step - loss: 0.0888 - mae: 0.2546\n",
            "Epoch 10/100\n",
            "25/25 [==============================] - 0s 2ms/step - loss: 0.0881 - mae: 0.2537\n",
            "Epoch 11/100\n",
            "25/25 [==============================] - 0s 2ms/step - loss: 0.0875 - mae: 0.2530\n",
            "Epoch 12/100\n",
            "25/25 [==============================] - 0s 2ms/step - loss: 0.0869 - mae: 0.2523\n",
            "Epoch 13/100\n",
            "25/25 [==============================] - 0s 3ms/step - loss: 0.0864 - mae: 0.2518\n",
            "Epoch 14/100\n",
            "25/25 [==============================] - 0s 2ms/step - loss: 0.0858 - mae: 0.2509\n",
            "Epoch 15/100\n",
            "25/25 [==============================] - 0s 2ms/step - loss: 0.0853 - mae: 0.2504\n",
            "Epoch 16/100\n",
            "25/25 [==============================] - 0s 2ms/step - loss: 0.0848 - mae: 0.2498\n",
            "Epoch 17/100\n",
            "25/25 [==============================] - 0s 2ms/step - loss: 0.0844 - mae: 0.2493\n",
            "Epoch 18/100\n",
            "25/25 [==============================] - 0s 2ms/step - loss: 0.0843 - mae: 0.2491\n",
            "Epoch 19/100\n",
            "25/25 [==============================] - 0s 2ms/step - loss: 0.0840 - mae: 0.2488\n",
            "Epoch 20/100\n",
            "25/25 [==============================] - 0s 2ms/step - loss: 0.0840 - mae: 0.2488\n",
            "Epoch 21/100\n",
            "25/25 [==============================] - 0s 2ms/step - loss: 0.0837 - mae: 0.2485\n",
            "Epoch 22/100\n",
            "25/25 [==============================] - 0s 2ms/step - loss: 0.0835 - mae: 0.2482\n",
            "Epoch 23/100\n",
            "25/25 [==============================] - 0s 2ms/step - loss: 0.0834 - mae: 0.2480\n",
            "Epoch 24/100\n",
            "25/25 [==============================] - 0s 2ms/step - loss: 0.0832 - mae: 0.2479\n",
            "Epoch 25/100\n",
            "25/25 [==============================] - 0s 2ms/step - loss: 0.0833 - mae: 0.2480\n",
            "Epoch 26/100\n",
            "25/25 [==============================] - 0s 2ms/step - loss: 0.0833 - mae: 0.2482\n",
            "Epoch 27/100\n",
            "25/25 [==============================] - 0s 2ms/step - loss: 0.0830 - mae: 0.2477\n",
            "Epoch 28/100\n",
            "25/25 [==============================] - 0s 2ms/step - loss: 0.0829 - mae: 0.2476\n",
            "Epoch 29/100\n",
            "25/25 [==============================] - 0s 2ms/step - loss: 0.0828 - mae: 0.2475\n",
            "Epoch 30/100\n",
            "25/25 [==============================] - 0s 2ms/step - loss: 0.0827 - mae: 0.2474\n",
            "Epoch 31/100\n",
            "25/25 [==============================] - 0s 3ms/step - loss: 0.0826 - mae: 0.2474\n",
            "Epoch 32/100\n",
            "25/25 [==============================] - 0s 2ms/step - loss: 0.0826 - mae: 0.2474\n",
            "Epoch 33/100\n",
            "25/25 [==============================] - 0s 2ms/step - loss: 0.0826 - mae: 0.2473\n",
            "Epoch 34/100\n",
            "25/25 [==============================] - 0s 2ms/step - loss: 0.0825 - mae: 0.2471\n",
            "Epoch 35/100\n",
            "25/25 [==============================] - 0s 2ms/step - loss: 0.0824 - mae: 0.2471\n",
            "Epoch 36/100\n",
            "25/25 [==============================] - 0s 2ms/step - loss: 0.0824 - mae: 0.2473\n",
            "Epoch 37/100\n",
            "25/25 [==============================] - 0s 2ms/step - loss: 0.0823 - mae: 0.2471\n",
            "Epoch 38/100\n",
            "25/25 [==============================] - 0s 2ms/step - loss: 0.0823 - mae: 0.2470\n",
            "Epoch 39/100\n",
            "25/25 [==============================] - 0s 2ms/step - loss: 0.0822 - mae: 0.2469\n",
            "Epoch 40/100\n",
            "25/25 [==============================] - 0s 2ms/step - loss: 0.0822 - mae: 0.2468\n",
            "Epoch 41/100\n",
            "25/25 [==============================] - 0s 2ms/step - loss: 0.0822 - mae: 0.2469\n",
            "Epoch 42/100\n",
            "25/25 [==============================] - 0s 2ms/step - loss: 0.0823 - mae: 0.2471\n",
            "Epoch 43/100\n",
            "25/25 [==============================] - 0s 2ms/step - loss: 0.0821 - mae: 0.2467\n",
            "Epoch 44/100\n",
            "25/25 [==============================] - 0s 2ms/step - loss: 0.0821 - mae: 0.2468\n",
            "Epoch 45/100\n",
            "25/25 [==============================] - 0s 2ms/step - loss: 0.0820 - mae: 0.2466\n",
            "Epoch 46/100\n",
            "25/25 [==============================] - 0s 2ms/step - loss: 0.0823 - mae: 0.2470\n",
            "Epoch 47/100\n",
            "25/25 [==============================] - 0s 2ms/step - loss: 0.0820 - mae: 0.2467\n",
            "Epoch 48/100\n",
            "25/25 [==============================] - 0s 2ms/step - loss: 0.0819 - mae: 0.2466\n",
            "Epoch 49/100\n",
            "25/25 [==============================] - 0s 2ms/step - loss: 0.0819 - mae: 0.2465\n",
            "Epoch 50/100\n",
            "25/25 [==============================] - 0s 2ms/step - loss: 0.0819 - mae: 0.2466\n",
            "Epoch 51/100\n",
            "25/25 [==============================] - 0s 2ms/step - loss: 0.0819 - mae: 0.2466\n",
            "Epoch 52/100\n",
            "25/25 [==============================] - 0s 2ms/step - loss: 0.0821 - mae: 0.2468\n",
            "Epoch 53/100\n",
            "25/25 [==============================] - 0s 3ms/step - loss: 0.0819 - mae: 0.2466\n",
            "Epoch 54/100\n",
            "25/25 [==============================] - 0s 4ms/step - loss: 0.0819 - mae: 0.2466\n",
            "Epoch 55/100\n",
            "25/25 [==============================] - 0s 4ms/step - loss: 0.0819 - mae: 0.2467\n",
            "Epoch 56/100\n",
            "25/25 [==============================] - 0s 3ms/step - loss: 0.0818 - mae: 0.2463\n",
            "Epoch 57/100\n",
            "25/25 [==============================] - 0s 3ms/step - loss: 0.0818 - mae: 0.2464\n",
            "Epoch 58/100\n",
            "25/25 [==============================] - 0s 3ms/step - loss: 0.0818 - mae: 0.2465\n",
            "Epoch 59/100\n",
            "25/25 [==============================] - 0s 3ms/step - loss: 0.0817 - mae: 0.2463\n",
            "Epoch 60/100\n",
            "25/25 [==============================] - 0s 3ms/step - loss: 0.0820 - mae: 0.2468\n",
            "Epoch 61/100\n",
            "25/25 [==============================] - 0s 3ms/step - loss: 0.0820 - mae: 0.2465\n",
            "Epoch 62/100\n",
            "25/25 [==============================] - 0s 3ms/step - loss: 0.0818 - mae: 0.2465\n",
            "Epoch 63/100\n",
            "25/25 [==============================] - 0s 3ms/step - loss: 0.0817 - mae: 0.2463\n",
            "Epoch 64/100\n",
            "25/25 [==============================] - 0s 3ms/step - loss: 0.0818 - mae: 0.2465\n",
            "Epoch 65/100\n",
            "25/25 [==============================] - 0s 3ms/step - loss: 0.0817 - mae: 0.2463\n",
            "Epoch 66/100\n",
            "25/25 [==============================] - 0s 3ms/step - loss: 0.0817 - mae: 0.2464\n",
            "Epoch 67/100\n",
            "25/25 [==============================] - 0s 3ms/step - loss: 0.0816 - mae: 0.2462\n",
            "Epoch 68/100\n",
            "25/25 [==============================] - 0s 3ms/step - loss: 0.0816 - mae: 0.2462\n",
            "Epoch 69/100\n",
            "25/25 [==============================] - 0s 3ms/step - loss: 0.0817 - mae: 0.2464\n",
            "Epoch 70/100\n",
            "25/25 [==============================] - 0s 3ms/step - loss: 0.0817 - mae: 0.2464\n",
            "Epoch 71/100\n",
            "25/25 [==============================] - 0s 3ms/step - loss: 0.0816 - mae: 0.2462\n",
            "Epoch 72/100\n",
            "25/25 [==============================] - 0s 3ms/step - loss: 0.0817 - mae: 0.2463\n",
            "Epoch 73/100\n",
            "25/25 [==============================] - 0s 3ms/step - loss: 0.0818 - mae: 0.2467\n",
            "Epoch 74/100\n",
            "25/25 [==============================] - 0s 4ms/step - loss: 0.0817 - mae: 0.2464\n",
            "Epoch 75/100\n",
            "25/25 [==============================] - 0s 4ms/step - loss: 0.0816 - mae: 0.2462\n",
            "Epoch 76/100\n",
            "25/25 [==============================] - 0s 3ms/step - loss: 0.0815 - mae: 0.2462\n",
            "Epoch 77/100\n",
            "25/25 [==============================] - 0s 3ms/step - loss: 0.0815 - mae: 0.2461\n",
            "Epoch 78/100\n",
            "25/25 [==============================] - 0s 3ms/step - loss: 0.0817 - mae: 0.2466\n",
            "Epoch 79/100\n",
            "25/25 [==============================] - 0s 3ms/step - loss: 0.0819 - mae: 0.2466\n",
            "Epoch 80/100\n",
            "25/25 [==============================] - 0s 3ms/step - loss: 0.0817 - mae: 0.2466\n",
            "Epoch 81/100\n",
            "25/25 [==============================] - 0s 3ms/step - loss: 0.0815 - mae: 0.2461\n",
            "Epoch 82/100\n",
            "25/25 [==============================] - 0s 3ms/step - loss: 0.0815 - mae: 0.2461\n",
            "Epoch 83/100\n",
            "25/25 [==============================] - 0s 3ms/step - loss: 0.0814 - mae: 0.2461\n",
            "Epoch 84/100\n",
            "25/25 [==============================] - 0s 3ms/step - loss: 0.0815 - mae: 0.2461\n",
            "Epoch 85/100\n",
            "25/25 [==============================] - 0s 3ms/step - loss: 0.0815 - mae: 0.2461\n",
            "Epoch 86/100\n",
            "25/25 [==============================] - 0s 3ms/step - loss: 0.0814 - mae: 0.2461\n",
            "Epoch 87/100\n",
            "25/25 [==============================] - 0s 3ms/step - loss: 0.0816 - mae: 0.2463\n",
            "Epoch 88/100\n",
            "25/25 [==============================] - 0s 3ms/step - loss: 0.0815 - mae: 0.2462\n",
            "Epoch 89/100\n",
            "25/25 [==============================] - 0s 3ms/step - loss: 0.0815 - mae: 0.2462\n",
            "Epoch 90/100\n",
            "25/25 [==============================] - 0s 3ms/step - loss: 0.0814 - mae: 0.2460\n",
            "Epoch 91/100\n",
            "25/25 [==============================] - 0s 3ms/step - loss: 0.0814 - mae: 0.2460\n",
            "Epoch 92/100\n",
            "25/25 [==============================] - 0s 3ms/step - loss: 0.0814 - mae: 0.2460\n",
            "Epoch 93/100\n",
            "25/25 [==============================] - 0s 3ms/step - loss: 0.0815 - mae: 0.2462\n",
            "Epoch 94/100\n",
            "25/25 [==============================] - 0s 3ms/step - loss: 0.0814 - mae: 0.2460\n",
            "Epoch 95/100\n",
            "25/25 [==============================] - 0s 3ms/step - loss: 0.0814 - mae: 0.2460\n",
            "Epoch 96/100\n",
            "25/25 [==============================] - 0s 3ms/step - loss: 0.0816 - mae: 0.2463\n",
            "Epoch 97/100\n",
            "25/25 [==============================] - 0s 3ms/step - loss: 0.0814 - mae: 0.2460\n",
            "Epoch 98/100\n",
            "25/25 [==============================] - 0s 4ms/step - loss: 0.0814 - mae: 0.2461\n",
            "Epoch 99/100\n",
            "25/25 [==============================] - 0s 3ms/step - loss: 0.0814 - mae: 0.2461\n",
            "Epoch 100/100\n",
            "25/25 [==============================] - 0s 3ms/step - loss: 0.0815 - mae: 0.2461\n",
            "7/7 [==============================] - 0s 3ms/step - loss: 0.0911 - mae: 0.2619\n",
            "Loss на тестовых данных: [0.0911346971988678, 0.26187360286712646]\n"
          ]
        }
      ]
    },
    {
      "cell_type": "code",
      "source": [
        "X_train"
      ],
      "metadata": {
        "colab": {
          "base_uri": "https://localhost:8080/",
          "height": 424
        },
        "id": "0gAfEi2MhJuw",
        "outputId": "139923ee-a249-47f9-ff23-7aef231b5138"
      },
      "execution_count": null,
      "outputs": [
        {
          "output_type": "execute_result",
          "data": {
            "text/plain": [
              "            a         b         c         d\n",
              "29   0.645173  0.174366  0.690938  0.386735\n",
              "535  0.160365  0.673645  0.179253  0.693950\n",
              "695  0.176897  0.987336  0.444104  0.531872\n",
              "557  0.632391  0.156477  0.473921  0.716397\n",
              "836  0.041497  0.322068  0.559745  0.857935\n",
              "..        ...       ...       ...       ...\n",
              "106  0.532617  0.242471  0.269243  0.377284\n",
              "270  0.465206  0.060142  0.562297  0.957625\n",
              "860  0.616622  0.040334  0.326170  0.468557\n",
              "435  0.839338  0.003820  0.246824  0.740904\n",
              "102  0.627900  0.081759  0.873579  0.920872\n",
              "\n",
              "[800 rows x 4 columns]"
            ],
            "text/html": [
              "\n",
              "  <div id=\"df-6b47ffba-3e5c-46d2-9050-b4dfadd04321\" class=\"colab-df-container\">\n",
              "    <div>\n",
              "<style scoped>\n",
              "    .dataframe tbody tr th:only-of-type {\n",
              "        vertical-align: middle;\n",
              "    }\n",
              "\n",
              "    .dataframe tbody tr th {\n",
              "        vertical-align: top;\n",
              "    }\n",
              "\n",
              "    .dataframe thead th {\n",
              "        text-align: right;\n",
              "    }\n",
              "</style>\n",
              "<table border=\"1\" class=\"dataframe\">\n",
              "  <thead>\n",
              "    <tr style=\"text-align: right;\">\n",
              "      <th></th>\n",
              "      <th>a</th>\n",
              "      <th>b</th>\n",
              "      <th>c</th>\n",
              "      <th>d</th>\n",
              "    </tr>\n",
              "  </thead>\n",
              "  <tbody>\n",
              "    <tr>\n",
              "      <th>29</th>\n",
              "      <td>0.645173</td>\n",
              "      <td>0.174366</td>\n",
              "      <td>0.690938</td>\n",
              "      <td>0.386735</td>\n",
              "    </tr>\n",
              "    <tr>\n",
              "      <th>535</th>\n",
              "      <td>0.160365</td>\n",
              "      <td>0.673645</td>\n",
              "      <td>0.179253</td>\n",
              "      <td>0.693950</td>\n",
              "    </tr>\n",
              "    <tr>\n",
              "      <th>695</th>\n",
              "      <td>0.176897</td>\n",
              "      <td>0.987336</td>\n",
              "      <td>0.444104</td>\n",
              "      <td>0.531872</td>\n",
              "    </tr>\n",
              "    <tr>\n",
              "      <th>557</th>\n",
              "      <td>0.632391</td>\n",
              "      <td>0.156477</td>\n",
              "      <td>0.473921</td>\n",
              "      <td>0.716397</td>\n",
              "    </tr>\n",
              "    <tr>\n",
              "      <th>836</th>\n",
              "      <td>0.041497</td>\n",
              "      <td>0.322068</td>\n",
              "      <td>0.559745</td>\n",
              "      <td>0.857935</td>\n",
              "    </tr>\n",
              "    <tr>\n",
              "      <th>...</th>\n",
              "      <td>...</td>\n",
              "      <td>...</td>\n",
              "      <td>...</td>\n",
              "      <td>...</td>\n",
              "    </tr>\n",
              "    <tr>\n",
              "      <th>106</th>\n",
              "      <td>0.532617</td>\n",
              "      <td>0.242471</td>\n",
              "      <td>0.269243</td>\n",
              "      <td>0.377284</td>\n",
              "    </tr>\n",
              "    <tr>\n",
              "      <th>270</th>\n",
              "      <td>0.465206</td>\n",
              "      <td>0.060142</td>\n",
              "      <td>0.562297</td>\n",
              "      <td>0.957625</td>\n",
              "    </tr>\n",
              "    <tr>\n",
              "      <th>860</th>\n",
              "      <td>0.616622</td>\n",
              "      <td>0.040334</td>\n",
              "      <td>0.326170</td>\n",
              "      <td>0.468557</td>\n",
              "    </tr>\n",
              "    <tr>\n",
              "      <th>435</th>\n",
              "      <td>0.839338</td>\n",
              "      <td>0.003820</td>\n",
              "      <td>0.246824</td>\n",
              "      <td>0.740904</td>\n",
              "    </tr>\n",
              "    <tr>\n",
              "      <th>102</th>\n",
              "      <td>0.627900</td>\n",
              "      <td>0.081759</td>\n",
              "      <td>0.873579</td>\n",
              "      <td>0.920872</td>\n",
              "    </tr>\n",
              "  </tbody>\n",
              "</table>\n",
              "<p>800 rows × 4 columns</p>\n",
              "</div>\n",
              "    <div class=\"colab-df-buttons\">\n",
              "\n",
              "  <div class=\"colab-df-container\">\n",
              "    <button class=\"colab-df-convert\" onclick=\"convertToInteractive('df-6b47ffba-3e5c-46d2-9050-b4dfadd04321')\"\n",
              "            title=\"Convert this dataframe to an interactive table.\"\n",
              "            style=\"display:none;\">\n",
              "\n",
              "  <svg xmlns=\"http://www.w3.org/2000/svg\" height=\"24px\" viewBox=\"0 -960 960 960\">\n",
              "    <path d=\"M120-120v-720h720v720H120Zm60-500h600v-160H180v160Zm220 220h160v-160H400v160Zm0 220h160v-160H400v160ZM180-400h160v-160H180v160Zm440 0h160v-160H620v160ZM180-180h160v-160H180v160Zm440 0h160v-160H620v160Z\"/>\n",
              "  </svg>\n",
              "    </button>\n",
              "\n",
              "  <style>\n",
              "    .colab-df-container {\n",
              "      display:flex;\n",
              "      gap: 12px;\n",
              "    }\n",
              "\n",
              "    .colab-df-convert {\n",
              "      background-color: #E8F0FE;\n",
              "      border: none;\n",
              "      border-radius: 50%;\n",
              "      cursor: pointer;\n",
              "      display: none;\n",
              "      fill: #1967D2;\n",
              "      height: 32px;\n",
              "      padding: 0 0 0 0;\n",
              "      width: 32px;\n",
              "    }\n",
              "\n",
              "    .colab-df-convert:hover {\n",
              "      background-color: #E2EBFA;\n",
              "      box-shadow: 0px 1px 2px rgba(60, 64, 67, 0.3), 0px 1px 3px 1px rgba(60, 64, 67, 0.15);\n",
              "      fill: #174EA6;\n",
              "    }\n",
              "\n",
              "    .colab-df-buttons div {\n",
              "      margin-bottom: 4px;\n",
              "    }\n",
              "\n",
              "    [theme=dark] .colab-df-convert {\n",
              "      background-color: #3B4455;\n",
              "      fill: #D2E3FC;\n",
              "    }\n",
              "\n",
              "    [theme=dark] .colab-df-convert:hover {\n",
              "      background-color: #434B5C;\n",
              "      box-shadow: 0px 1px 3px 1px rgba(0, 0, 0, 0.15);\n",
              "      filter: drop-shadow(0px 1px 2px rgba(0, 0, 0, 0.3));\n",
              "      fill: #FFFFFF;\n",
              "    }\n",
              "  </style>\n",
              "\n",
              "    <script>\n",
              "      const buttonEl =\n",
              "        document.querySelector('#df-6b47ffba-3e5c-46d2-9050-b4dfadd04321 button.colab-df-convert');\n",
              "      buttonEl.style.display =\n",
              "        google.colab.kernel.accessAllowed ? 'block' : 'none';\n",
              "\n",
              "      async function convertToInteractive(key) {\n",
              "        const element = document.querySelector('#df-6b47ffba-3e5c-46d2-9050-b4dfadd04321');\n",
              "        const dataTable =\n",
              "          await google.colab.kernel.invokeFunction('convertToInteractive',\n",
              "                                                    [key], {});\n",
              "        if (!dataTable) return;\n",
              "\n",
              "        const docLinkHtml = 'Like what you see? Visit the ' +\n",
              "          '<a target=\"_blank\" href=https://colab.research.google.com/notebooks/data_table.ipynb>data table notebook</a>'\n",
              "          + ' to learn more about interactive tables.';\n",
              "        element.innerHTML = '';\n",
              "        dataTable['output_type'] = 'display_data';\n",
              "        await google.colab.output.renderOutput(dataTable, element);\n",
              "        const docLink = document.createElement('div');\n",
              "        docLink.innerHTML = docLinkHtml;\n",
              "        element.appendChild(docLink);\n",
              "      }\n",
              "    </script>\n",
              "  </div>\n",
              "\n",
              "\n",
              "<div id=\"df-c706e36e-dda2-43f0-a314-16b9a7176e04\">\n",
              "  <button class=\"colab-df-quickchart\" onclick=\"quickchart('df-c706e36e-dda2-43f0-a314-16b9a7176e04')\"\n",
              "            title=\"Suggest charts\"\n",
              "            style=\"display:none;\">\n",
              "\n",
              "<svg xmlns=\"http://www.w3.org/2000/svg\" height=\"24px\"viewBox=\"0 0 24 24\"\n",
              "     width=\"24px\">\n",
              "    <g>\n",
              "        <path d=\"M19 3H5c-1.1 0-2 .9-2 2v14c0 1.1.9 2 2 2h14c1.1 0 2-.9 2-2V5c0-1.1-.9-2-2-2zM9 17H7v-7h2v7zm4 0h-2V7h2v10zm4 0h-2v-4h2v4z\"/>\n",
              "    </g>\n",
              "</svg>\n",
              "  </button>\n",
              "\n",
              "<style>\n",
              "  .colab-df-quickchart {\n",
              "      --bg-color: #E8F0FE;\n",
              "      --fill-color: #1967D2;\n",
              "      --hover-bg-color: #E2EBFA;\n",
              "      --hover-fill-color: #174EA6;\n",
              "      --disabled-fill-color: #AAA;\n",
              "      --disabled-bg-color: #DDD;\n",
              "  }\n",
              "\n",
              "  [theme=dark] .colab-df-quickchart {\n",
              "      --bg-color: #3B4455;\n",
              "      --fill-color: #D2E3FC;\n",
              "      --hover-bg-color: #434B5C;\n",
              "      --hover-fill-color: #FFFFFF;\n",
              "      --disabled-bg-color: #3B4455;\n",
              "      --disabled-fill-color: #666;\n",
              "  }\n",
              "\n",
              "  .colab-df-quickchart {\n",
              "    background-color: var(--bg-color);\n",
              "    border: none;\n",
              "    border-radius: 50%;\n",
              "    cursor: pointer;\n",
              "    display: none;\n",
              "    fill: var(--fill-color);\n",
              "    height: 32px;\n",
              "    padding: 0;\n",
              "    width: 32px;\n",
              "  }\n",
              "\n",
              "  .colab-df-quickchart:hover {\n",
              "    background-color: var(--hover-bg-color);\n",
              "    box-shadow: 0 1px 2px rgba(60, 64, 67, 0.3), 0 1px 3px 1px rgba(60, 64, 67, 0.15);\n",
              "    fill: var(--button-hover-fill-color);\n",
              "  }\n",
              "\n",
              "  .colab-df-quickchart-complete:disabled,\n",
              "  .colab-df-quickchart-complete:disabled:hover {\n",
              "    background-color: var(--disabled-bg-color);\n",
              "    fill: var(--disabled-fill-color);\n",
              "    box-shadow: none;\n",
              "  }\n",
              "\n",
              "  .colab-df-spinner {\n",
              "    border: 2px solid var(--fill-color);\n",
              "    border-color: transparent;\n",
              "    border-bottom-color: var(--fill-color);\n",
              "    animation:\n",
              "      spin 1s steps(1) infinite;\n",
              "  }\n",
              "\n",
              "  @keyframes spin {\n",
              "    0% {\n",
              "      border-color: transparent;\n",
              "      border-bottom-color: var(--fill-color);\n",
              "      border-left-color: var(--fill-color);\n",
              "    }\n",
              "    20% {\n",
              "      border-color: transparent;\n",
              "      border-left-color: var(--fill-color);\n",
              "      border-top-color: var(--fill-color);\n",
              "    }\n",
              "    30% {\n",
              "      border-color: transparent;\n",
              "      border-left-color: var(--fill-color);\n",
              "      border-top-color: var(--fill-color);\n",
              "      border-right-color: var(--fill-color);\n",
              "    }\n",
              "    40% {\n",
              "      border-color: transparent;\n",
              "      border-right-color: var(--fill-color);\n",
              "      border-top-color: var(--fill-color);\n",
              "    }\n",
              "    60% {\n",
              "      border-color: transparent;\n",
              "      border-right-color: var(--fill-color);\n",
              "    }\n",
              "    80% {\n",
              "      border-color: transparent;\n",
              "      border-right-color: var(--fill-color);\n",
              "      border-bottom-color: var(--fill-color);\n",
              "    }\n",
              "    90% {\n",
              "      border-color: transparent;\n",
              "      border-bottom-color: var(--fill-color);\n",
              "    }\n",
              "  }\n",
              "</style>\n",
              "\n",
              "  <script>\n",
              "    async function quickchart(key) {\n",
              "      const quickchartButtonEl =\n",
              "        document.querySelector('#' + key + ' button');\n",
              "      quickchartButtonEl.disabled = true;  // To prevent multiple clicks.\n",
              "      quickchartButtonEl.classList.add('colab-df-spinner');\n",
              "      try {\n",
              "        const charts = await google.colab.kernel.invokeFunction(\n",
              "            'suggestCharts', [key], {});\n",
              "      } catch (error) {\n",
              "        console.error('Error during call to suggestCharts:', error);\n",
              "      }\n",
              "      quickchartButtonEl.classList.remove('colab-df-spinner');\n",
              "      quickchartButtonEl.classList.add('colab-df-quickchart-complete');\n",
              "    }\n",
              "    (() => {\n",
              "      let quickchartButtonEl =\n",
              "        document.querySelector('#df-c706e36e-dda2-43f0-a314-16b9a7176e04 button');\n",
              "      quickchartButtonEl.style.display =\n",
              "        google.colab.kernel.accessAllowed ? 'block' : 'none';\n",
              "    })();\n",
              "  </script>\n",
              "</div>\n",
              "    </div>\n",
              "  </div>\n"
            ]
          },
          "metadata": {},
          "execution_count": 10
        }
      ]
    },
    {
      "cell_type": "code",
      "source": [
        "pred = model.predict(X_train)\n",
        "pred"
      ],
      "metadata": {
        "colab": {
          "base_uri": "https://localhost:8080/"
        },
        "id": "trylkAGIhAF1",
        "outputId": "d10ceadf-c642-4593-9627-0a291f3786d9"
      },
      "execution_count": null,
      "outputs": [
        {
          "output_type": "stream",
          "name": "stdout",
          "text": [
            "25/25 [==============================] - 0s 1ms/step\n"
          ]
        },
        {
          "output_type": "execute_result",
          "data": {
            "text/plain": [
              "array([[0.5163182 , 0.4481178 ],\n",
              "       [0.49778584, 0.50341326],\n",
              "       [0.4821809 , 0.49196845],\n",
              "       ...,\n",
              "       [0.5012077 , 0.45565873],\n",
              "       [0.5187677 , 0.46641898],\n",
              "       [0.512661  , 0.44140542]], dtype=float32)"
            ]
          },
          "metadata": {},
          "execution_count": 7
        }
      ]
    },
    {
      "cell_type": "code",
      "source": [
        "import requests\n",
        "\n",
        "# функция принимает URL PDF-файла и путь, по которому файл будет сохранен в файловой системе Colab.\n",
        "# Она скачивает файл и сохраняет его, если HTTP-запрос успешен\n",
        "def download_pdf_from_url(url, save_path):\n",
        "    response = requests.get(url)\n",
        "\n",
        "    if response.status_code == 200:\n",
        "        with open(save_path, 'wb') as f:\n",
        "            f.write(response.content)\n",
        "        print(f\"PDF downloaded and saved as {save_path}\")\n",
        "    else:\n",
        "        print(f\"Failed to download PDF. HTTP Status Code: {response.status_code}\")\n",
        "\n",
        "# используем функцию выше\n",
        "url_1 = \"https://files.stroyinf.ru/Data2/1/4294850/4294850590.pdf\"\n",
        "save_path_1 = \"/content/water_control.pdf\"\n",
        "download_pdf_from_url(url_1, save_path_1)\n",
        "\n",
        "url_2 = \"https://files.stroyinf.ru/Data2/1/4294846/4294846957.pdf\"\n",
        "save_path_2 = \"/content/sanpin.pdf\"\n",
        "download_pdf_from_url(url_2, save_path_2)\n",
        "\n",
        "url_3 = \"https://bulbul.ru/upload/price_rostov_2020_04.pdf\"\n",
        "save_path_3 = \"/content/price.pdf\"\n",
        "download_pdf_from_url(url_3, save_path_3)"
      ],
      "metadata": {
        "colab": {
          "base_uri": "https://localhost:8080/"
        },
        "id": "k4M3hal2EXq6",
        "outputId": "b65d43c0-427a-4ee1-febb-537cece2a885"
      },
      "execution_count": null,
      "outputs": [
        {
          "output_type": "stream",
          "name": "stdout",
          "text": [
            "PDF downloaded and saved as /content/price.pdf\n"
          ]
        }
      ]
    },
    {
      "cell_type": "code",
      "source": [
        "!pip install SpeechRecognition"
      ],
      "metadata": {
        "colab": {
          "base_uri": "https://localhost:8080/"
        },
        "id": "Sd3sFY2a-jxg",
        "outputId": "1ba35259-83b0-4822-b27b-1fcd9980553e"
      },
      "execution_count": null,
      "outputs": [
        {
          "output_type": "stream",
          "name": "stdout",
          "text": [
            "Collecting SpeechRecognition\n",
            "  Downloading SpeechRecognition-3.10.1-py2.py3-none-any.whl (32.8 MB)\n",
            "\u001b[2K     \u001b[90m━━━━━━━━━━━━━━━━━━━━━━━━━━━━━━━━━━━━━━━━\u001b[0m \u001b[32m32.8/32.8 MB\u001b[0m \u001b[31m22.3 MB/s\u001b[0m eta \u001b[36m0:00:00\u001b[0m\n",
            "\u001b[?25hRequirement already satisfied: requests>=2.26.0 in /usr/local/lib/python3.10/dist-packages (from SpeechRecognition) (2.31.0)\n",
            "Requirement already satisfied: typing-extensions in /usr/local/lib/python3.10/dist-packages (from SpeechRecognition) (4.5.0)\n",
            "Requirement already satisfied: charset-normalizer<4,>=2 in /usr/local/lib/python3.10/dist-packages (from requests>=2.26.0->SpeechRecognition) (3.3.2)\n",
            "Requirement already satisfied: idna<4,>=2.5 in /usr/local/lib/python3.10/dist-packages (from requests>=2.26.0->SpeechRecognition) (3.6)\n",
            "Requirement already satisfied: urllib3<3,>=1.21.1 in /usr/local/lib/python3.10/dist-packages (from requests>=2.26.0->SpeechRecognition) (2.0.7)\n",
            "Requirement already satisfied: certifi>=2017.4.17 in /usr/local/lib/python3.10/dist-packages (from requests>=2.26.0->SpeechRecognition) (2023.11.17)\n",
            "Installing collected packages: SpeechRecognition\n",
            "Successfully installed SpeechRecognition-3.10.1\n"
          ]
        }
      ]
    },
    {
      "cell_type": "code",
      "source": [
        "import speech_recognition as sr"
      ],
      "metadata": {
        "id": "BJgEwKi4-ybz"
      },
      "execution_count": null,
      "outputs": []
    },
    {
      "cell_type": "code",
      "source": [
        "!pip install python-telegram-bot"
      ],
      "metadata": {
        "colab": {
          "base_uri": "https://localhost:8080/"
        },
        "id": "K8eJUTJJrSLk",
        "outputId": "54a3bcf2-7c48-437f-99af-325a30b64ba3"
      },
      "execution_count": null,
      "outputs": [
        {
          "output_type": "stream",
          "name": "stdout",
          "text": [
            "Collecting python-telegram-bot\n",
            "  Downloading python_telegram_bot-20.7-py3-none-any.whl (552 kB)\n",
            "\u001b[2K     \u001b[90m━━━━━━━━━━━━━━━━━━━━━━━━━━━━━━━━━━━━━━━━\u001b[0m \u001b[32m552.6/552.6 kB\u001b[0m \u001b[31m4.1 MB/s\u001b[0m eta \u001b[36m0:00:00\u001b[0m\n",
            "\u001b[?25hCollecting httpx~=0.25.2 (from python-telegram-bot)\n",
            "  Downloading httpx-0.25.2-py3-none-any.whl (74 kB)\n",
            "\u001b[2K     \u001b[90m━━━━━━━━━━━━━━━━━━━━━━━━━━━━━━━━━━━━━━━━\u001b[0m \u001b[32m75.0/75.0 kB\u001b[0m \u001b[31m5.3 MB/s\u001b[0m eta \u001b[36m0:00:00\u001b[0m\n",
            "\u001b[?25hRequirement already satisfied: anyio in /usr/local/lib/python3.10/dist-packages (from httpx~=0.25.2->python-telegram-bot) (3.7.1)\n",
            "Requirement already satisfied: certifi in /usr/local/lib/python3.10/dist-packages (from httpx~=0.25.2->python-telegram-bot) (2023.11.17)\n",
            "Collecting httpcore==1.* (from httpx~=0.25.2->python-telegram-bot)\n",
            "  Downloading httpcore-1.0.2-py3-none-any.whl (76 kB)\n",
            "\u001b[2K     \u001b[90m━━━━━━━━━━━━━━━━━━━━━━━━━━━━━━━━━━━━━━━━\u001b[0m \u001b[32m76.9/76.9 kB\u001b[0m \u001b[31m5.1 MB/s\u001b[0m eta \u001b[36m0:00:00\u001b[0m\n",
            "\u001b[?25hRequirement already satisfied: idna in /usr/local/lib/python3.10/dist-packages (from httpx~=0.25.2->python-telegram-bot) (3.6)\n",
            "Requirement already satisfied: sniffio in /usr/local/lib/python3.10/dist-packages (from httpx~=0.25.2->python-telegram-bot) (1.3.0)\n",
            "Collecting h11<0.15,>=0.13 (from httpcore==1.*->httpx~=0.25.2->python-telegram-bot)\n",
            "  Downloading h11-0.14.0-py3-none-any.whl (58 kB)\n",
            "\u001b[2K     \u001b[90m━━━━━━━━━━━━━━━━━━━━━━━━━━━━━━━━━━━━━━━━\u001b[0m \u001b[32m58.3/58.3 kB\u001b[0m \u001b[31m4.2 MB/s\u001b[0m eta \u001b[36m0:00:00\u001b[0m\n",
            "\u001b[?25hRequirement already satisfied: exceptiongroup in /usr/local/lib/python3.10/dist-packages (from anyio->httpx~=0.25.2->python-telegram-bot) (1.2.0)\n",
            "Installing collected packages: h11, httpcore, httpx, python-telegram-bot\n",
            "Successfully installed h11-0.14.0 httpcore-1.0.2 httpx-0.25.2 python-telegram-bot-20.7\n"
          ]
        }
      ]
    },
    {
      "cell_type": "code",
      "source": [
        "# !pip install python-dotenv"
      ],
      "metadata": {
        "colab": {
          "base_uri": "https://localhost:8080/"
        },
        "id": "cCoyR53grp8P",
        "outputId": "1b90b56d-522d-485e-e659-06a2af8c20c0"
      },
      "execution_count": null,
      "outputs": [
        {
          "output_type": "stream",
          "name": "stdout",
          "text": [
            "Collecting python-dotenv\n",
            "  Downloading python_dotenv-1.0.0-py3-none-any.whl (19 kB)\n",
            "Installing collected packages: python-dotenv\n",
            "Successfully installed python-dotenv-1.0.0\n"
          ]
        }
      ]
    },
    {
      "cell_type": "code",
      "source": [
        "# from dotenv import load_dotenv\n",
        "import os\n",
        "from telegram.ext import Application, CommandHandler, MessageHandler, filters, CallbackQueryHandler\n",
        "from telegram import Update, InlineKeyboardMarkup, InlineKeyboardButton\n",
        "\n",
        "# Загрузка переменных окружения\n",
        "# load_dotenv()\n",
        "\n",
        "# Получение токена бота из переменных окружения\n",
        "# TOKEN = os.getenv('TG_TOKEN')\n",
        "TOKEN = '5388231127:AAG0nIuCcJ6gItvBib7Zh9OLVTxFB5j45J4'\n",
        "\n",
        "# функция-обработчик команды /start\n",
        "async def start(update: Update, _):\n",
        "\n",
        "    await update.message.reply_text('Привет')\n",
        "\n",
        "# функция-обработчик команды /language\n",
        "async def language_selection(update: Update, _):\n",
        "      # прикрепляем inline клавиатуру к сообщению\n",
        "    await update.message.reply_text('Выберите Язык:', reply_markup=inline_keyboard)\n",
        "\n",
        "# Функция, которая будет вызываться при получении текстового сообщения\n",
        "async def text_message(update:Update, context):\n",
        "    language = context.user_data.get('language', 'ru')\n",
        "    if language == 'ru':\n",
        "        update.message.reply_text('Текстовое сообщение получено!')\n",
        "    else:\n",
        "        update.message.reply_text('We’ve received a message from you!')\n",
        "\n",
        "\n",
        "\n",
        "\n",
        "# функция-обработчик команды /language\n",
        "async def language_selection(update: Update, _):\n",
        "      # прикрепляем inline клавиатуру к сообщению\n",
        "    await update.message.reply_text('Выберите Язык:', reply_markup=inline_keyboard)\n",
        "\n",
        "# Функция, которая будет вызываться при получении голосового сообщения\n",
        "async def voice_message(update: Update, context):\n",
        "    language = context.user_data.get('language', 'ru')\n",
        "    if language == 'ru':\n",
        "        update.message.reply_photo(photo=open('path/to/image_ru.jpg', 'rb'), caption='Голосовое сообщение получено')\n",
        "    else:\n",
        "        update.message.reply_photo(photo=open('path/to/image_en.jpg', 'rb'), caption='We’ve received a voice message from you!')\n",
        "\n",
        "\n",
        "# Функция, которая будет вызываться при отправке фотографии\n",
        "async def photo_message(update: Update,  context):\n",
        "    photo_file = update.message.photo[-1].get_file()\n",
        "    language = context.user_data.get('language', 'ru')\n",
        "    if language == 'ru':\n",
        "        photo_file.download('photos/photo_ru.jpg')\n",
        "        update.message.reply_text('Фотография сохранена')\n",
        "    else:\n",
        "        photo_file.download('photos/photo_en.jpg')\n",
        "        update.message.reply_text('Photo saved!')\n",
        "\n",
        "\n",
        "\n",
        "# Создание inline клавиатуры\n",
        "inline_keyboard = InlineKeyboardMarkup([\n",
        "    [InlineKeyboardButton(\"Русский\", callback_data='ru')],\n",
        "    [InlineKeyboardButton(\"English\", callback_data='en')]\n",
        "])\n",
        "\n",
        "\n",
        "\n",
        "\n",
        "\n",
        "\n",
        "\n",
        "\n",
        "# Функция, которая будет вызываться при отправке фотографии\n",
        "async def photo_message(update, context):\n",
        "    photo_file = update.message.photo[-1].get_file()\n",
        "    language = context.user_data.get('language', 'ru')\n",
        "    if language == 'ru':\n",
        "        photo_file.download('photos/photo_ru.jpg')\n",
        "        update.message.reply_text('Фотография сохранена')\n",
        "    else:\n",
        "        photo_file.download('photos/photo_en.jpg')\n",
        "        update.message.reply_text('Photo saved!')\n",
        "\n",
        "\n",
        "# функция-обработчик нажатий на кнопки\n",
        "async def button(update: Update, _):\n",
        "\n",
        "    # получаем callback query из update\n",
        "    query = update.callback_query\n",
        "\n",
        "    # всплывающее уведомление\n",
        "    await query.answer('Это всплывающее уведомление!')\n",
        "\n",
        "    # редактируем сообщение после нажатия\n",
        "    await query.edit_message_text(text=f\"Вы нажали на кнопку: {query.data}\")\n",
        "\n",
        "# Создание приложения и передача токена\n",
        "def main():\n",
        "    application = Application.builder().token(TOKEN).build()\n",
        "    print('Бот запущен...')\n",
        "        # Добавление обработчика команды /start\n",
        "    application.add_handler(CommandHandler(\"start\", start))\n",
        "\n",
        "        # Добавление обработчика команды /language\n",
        "    application.add_handler(CommandHandler(\"language\", language_selection))\n",
        "\n",
        "\n",
        "    application.add_handler(MessageHandler(filters.Text, text_message))\n",
        "\n",
        "    application.add_handler(MessageHandler(filters.VOICE, voice_message))\n",
        "\n",
        "    application.add_handler(MessageHandler(filters.PHOTO, photo_message))\n",
        "\n",
        "    # добавляем CallbackQueryHandler (только для inline кнопок)\n",
        "    application.add_handler(CallbackQueryHandler(button))\n",
        "\n",
        "    # Запуск бота (нажмите Ctrl-C для остановки)\n",
        "    application.run_polling()\n",
        "    print('Бот остановлен')\n",
        "\n",
        "# if name == \"main\":\n",
        "main()"
      ],
      "metadata": {
        "colab": {
          "base_uri": "https://localhost:8080/",
          "height": 546
        },
        "id": "o8chPsWCq_Pj",
        "outputId": "e75e679d-3aee-46d8-95ea-eaa920eb502a"
      },
      "execution_count": null,
      "outputs": [
        {
          "output_type": "stream",
          "name": "stdout",
          "text": [
            "Бот запущен...\n"
          ]
        },
        {
          "output_type": "error",
          "ename": "RuntimeError",
          "evalue": "Cannot close a running event loop",
          "traceback": [
            "\u001b[0;31m---------------------------------------------------------------------------\u001b[0m",
            "\u001b[0;31mRuntimeError\u001b[0m                              Traceback (most recent call last)",
            "\u001b[0;32m/usr/local/lib/python3.10/dist-packages/telegram/ext/_application.py\u001b[0m in \u001b[0;36m__run\u001b[0;34m(self, updater_coroutine, stop_signals, close_loop)\u001b[0m\n\u001b[1;32m   1005\u001b[0m             \u001b[0mupdater_coroutine\u001b[0m\u001b[0;34m.\u001b[0m\u001b[0mclose\u001b[0m\u001b[0;34m(\u001b[0m\u001b[0;34m)\u001b[0m\u001b[0;34m\u001b[0m\u001b[0;34m\u001b[0m\u001b[0m\n\u001b[0;32m-> 1006\u001b[0;31m             \u001b[0;32mraise\u001b[0m \u001b[0mexc\u001b[0m\u001b[0;34m\u001b[0m\u001b[0;34m\u001b[0m\u001b[0m\n\u001b[0m\u001b[1;32m   1007\u001b[0m         \u001b[0;32mfinally\u001b[0m\u001b[0;34m:\u001b[0m\u001b[0;34m\u001b[0m\u001b[0;34m\u001b[0m\u001b[0m\n",
            "\u001b[0;32m/usr/local/lib/python3.10/dist-packages/telegram/ext/_application.py\u001b[0m in \u001b[0;36m__run\u001b[0;34m(self, updater_coroutine, stop_signals, close_loop)\u001b[0m\n\u001b[1;32m    994\u001b[0m         \u001b[0;32mtry\u001b[0m\u001b[0;34m:\u001b[0m\u001b[0;34m\u001b[0m\u001b[0;34m\u001b[0m\u001b[0m\n\u001b[0;32m--> 995\u001b[0;31m             \u001b[0mloop\u001b[0m\u001b[0;34m.\u001b[0m\u001b[0mrun_until_complete\u001b[0m\u001b[0;34m(\u001b[0m\u001b[0mself\u001b[0m\u001b[0;34m.\u001b[0m\u001b[0minitialize\u001b[0m\u001b[0;34m(\u001b[0m\u001b[0;34m)\u001b[0m\u001b[0;34m)\u001b[0m\u001b[0;34m\u001b[0m\u001b[0;34m\u001b[0m\u001b[0m\n\u001b[0m\u001b[1;32m    996\u001b[0m             \u001b[0;32mif\u001b[0m \u001b[0mself\u001b[0m\u001b[0;34m.\u001b[0m\u001b[0mpost_init\u001b[0m\u001b[0;34m:\u001b[0m\u001b[0;34m\u001b[0m\u001b[0;34m\u001b[0m\u001b[0m\n",
            "\u001b[0;32m/usr/lib/python3.10/asyncio/base_events.py\u001b[0m in \u001b[0;36mrun_until_complete\u001b[0;34m(self, future)\u001b[0m\n\u001b[1;32m    624\u001b[0m         \u001b[0mself\u001b[0m\u001b[0;34m.\u001b[0m\u001b[0m_check_closed\u001b[0m\u001b[0;34m(\u001b[0m\u001b[0;34m)\u001b[0m\u001b[0;34m\u001b[0m\u001b[0;34m\u001b[0m\u001b[0m\n\u001b[0;32m--> 625\u001b[0;31m         \u001b[0mself\u001b[0m\u001b[0;34m.\u001b[0m\u001b[0m_check_running\u001b[0m\u001b[0;34m(\u001b[0m\u001b[0;34m)\u001b[0m\u001b[0;34m\u001b[0m\u001b[0;34m\u001b[0m\u001b[0m\n\u001b[0m\u001b[1;32m    626\u001b[0m \u001b[0;34m\u001b[0m\u001b[0m\n",
            "\u001b[0;32m/usr/lib/python3.10/asyncio/base_events.py\u001b[0m in \u001b[0;36m_check_running\u001b[0;34m(self)\u001b[0m\n\u001b[1;32m    583\u001b[0m         \u001b[0;32mif\u001b[0m \u001b[0mself\u001b[0m\u001b[0;34m.\u001b[0m\u001b[0mis_running\u001b[0m\u001b[0;34m(\u001b[0m\u001b[0;34m)\u001b[0m\u001b[0;34m:\u001b[0m\u001b[0;34m\u001b[0m\u001b[0;34m\u001b[0m\u001b[0m\n\u001b[0;32m--> 584\u001b[0;31m             \u001b[0;32mraise\u001b[0m \u001b[0mRuntimeError\u001b[0m\u001b[0;34m(\u001b[0m\u001b[0;34m'This event loop is already running'\u001b[0m\u001b[0;34m)\u001b[0m\u001b[0;34m\u001b[0m\u001b[0;34m\u001b[0m\u001b[0m\n\u001b[0m\u001b[1;32m    585\u001b[0m         \u001b[0;32mif\u001b[0m \u001b[0mevents\u001b[0m\u001b[0;34m.\u001b[0m\u001b[0m_get_running_loop\u001b[0m\u001b[0;34m(\u001b[0m\u001b[0;34m)\u001b[0m \u001b[0;32mis\u001b[0m \u001b[0;32mnot\u001b[0m \u001b[0;32mNone\u001b[0m\u001b[0;34m:\u001b[0m\u001b[0;34m\u001b[0m\u001b[0;34m\u001b[0m\u001b[0m\n",
            "\u001b[0;31mRuntimeError\u001b[0m: This event loop is already running",
            "\nDuring handling of the above exception, another exception occurred:\n",
            "\u001b[0;31mRuntimeError\u001b[0m                              Traceback (most recent call last)",
            "\u001b[0;32m/usr/local/lib/python3.10/dist-packages/telegram/ext/_application.py\u001b[0m in \u001b[0;36m__run\u001b[0;34m(self, updater_coroutine, stop_signals, close_loop)\u001b[0m\n\u001b[1;32m   1016\u001b[0m                     \u001b[0mloop\u001b[0m\u001b[0;34m.\u001b[0m\u001b[0mrun_until_complete\u001b[0m\u001b[0;34m(\u001b[0m\u001b[0mself\u001b[0m\u001b[0;34m.\u001b[0m\u001b[0mpost_stop\u001b[0m\u001b[0;34m(\u001b[0m\u001b[0mself\u001b[0m\u001b[0;34m)\u001b[0m\u001b[0;34m)\u001b[0m\u001b[0;34m\u001b[0m\u001b[0;34m\u001b[0m\u001b[0m\n\u001b[0;32m-> 1017\u001b[0;31m                 \u001b[0mloop\u001b[0m\u001b[0;34m.\u001b[0m\u001b[0mrun_until_complete\u001b[0m\u001b[0;34m(\u001b[0m\u001b[0mself\u001b[0m\u001b[0;34m.\u001b[0m\u001b[0mshutdown\u001b[0m\u001b[0;34m(\u001b[0m\u001b[0;34m)\u001b[0m\u001b[0;34m)\u001b[0m\u001b[0;34m\u001b[0m\u001b[0;34m\u001b[0m\u001b[0m\n\u001b[0m\u001b[1;32m   1018\u001b[0m                 \u001b[0;32mif\u001b[0m \u001b[0mself\u001b[0m\u001b[0;34m.\u001b[0m\u001b[0mpost_shutdown\u001b[0m\u001b[0;34m:\u001b[0m\u001b[0;34m\u001b[0m\u001b[0;34m\u001b[0m\u001b[0m\n",
            "\u001b[0;32m/usr/lib/python3.10/asyncio/base_events.py\u001b[0m in \u001b[0;36mrun_until_complete\u001b[0;34m(self, future)\u001b[0m\n\u001b[1;32m    624\u001b[0m         \u001b[0mself\u001b[0m\u001b[0;34m.\u001b[0m\u001b[0m_check_closed\u001b[0m\u001b[0;34m(\u001b[0m\u001b[0;34m)\u001b[0m\u001b[0;34m\u001b[0m\u001b[0;34m\u001b[0m\u001b[0m\n\u001b[0;32m--> 625\u001b[0;31m         \u001b[0mself\u001b[0m\u001b[0;34m.\u001b[0m\u001b[0m_check_running\u001b[0m\u001b[0;34m(\u001b[0m\u001b[0;34m)\u001b[0m\u001b[0;34m\u001b[0m\u001b[0;34m\u001b[0m\u001b[0m\n\u001b[0m\u001b[1;32m    626\u001b[0m \u001b[0;34m\u001b[0m\u001b[0m\n",
            "\u001b[0;32m/usr/lib/python3.10/asyncio/base_events.py\u001b[0m in \u001b[0;36m_check_running\u001b[0;34m(self)\u001b[0m\n\u001b[1;32m    583\u001b[0m         \u001b[0;32mif\u001b[0m \u001b[0mself\u001b[0m\u001b[0;34m.\u001b[0m\u001b[0mis_running\u001b[0m\u001b[0;34m(\u001b[0m\u001b[0;34m)\u001b[0m\u001b[0;34m:\u001b[0m\u001b[0;34m\u001b[0m\u001b[0;34m\u001b[0m\u001b[0m\n\u001b[0;32m--> 584\u001b[0;31m             \u001b[0;32mraise\u001b[0m \u001b[0mRuntimeError\u001b[0m\u001b[0;34m(\u001b[0m\u001b[0;34m'This event loop is already running'\u001b[0m\u001b[0;34m)\u001b[0m\u001b[0;34m\u001b[0m\u001b[0;34m\u001b[0m\u001b[0m\n\u001b[0m\u001b[1;32m    585\u001b[0m         \u001b[0;32mif\u001b[0m \u001b[0mevents\u001b[0m\u001b[0;34m.\u001b[0m\u001b[0m_get_running_loop\u001b[0m\u001b[0;34m(\u001b[0m\u001b[0;34m)\u001b[0m \u001b[0;32mis\u001b[0m \u001b[0;32mnot\u001b[0m \u001b[0;32mNone\u001b[0m\u001b[0;34m:\u001b[0m\u001b[0;34m\u001b[0m\u001b[0;34m\u001b[0m\u001b[0m\n",
            "\u001b[0;31mRuntimeError\u001b[0m: This event loop is already running",
            "\nDuring handling of the above exception, another exception occurred:\n",
            "\u001b[0;31mRuntimeError\u001b[0m                              Traceback (most recent call last)",
            "\u001b[0;32m<ipython-input-1-9659f1ce6cb8>\u001b[0m in \u001b[0;36m<cell line: 123>\u001b[0;34m()\u001b[0m\n\u001b[1;32m    121\u001b[0m \u001b[0;34m\u001b[0m\u001b[0m\n\u001b[1;32m    122\u001b[0m \u001b[0;31m# if name == \"main\":\u001b[0m\u001b[0;34m\u001b[0m\u001b[0;34m\u001b[0m\u001b[0m\n\u001b[0;32m--> 123\u001b[0;31m \u001b[0mmain\u001b[0m\u001b[0;34m(\u001b[0m\u001b[0;34m)\u001b[0m\u001b[0;34m\u001b[0m\u001b[0;34m\u001b[0m\u001b[0m\n\u001b[0m",
            "\u001b[0;32m<ipython-input-1-9659f1ce6cb8>\u001b[0m in \u001b[0;36mmain\u001b[0;34m()\u001b[0m\n\u001b[1;32m    117\u001b[0m \u001b[0;34m\u001b[0m\u001b[0m\n\u001b[1;32m    118\u001b[0m     \u001b[0;31m# Запуск бота (нажмите Ctrl-C для остановки)\u001b[0m\u001b[0;34m\u001b[0m\u001b[0;34m\u001b[0m\u001b[0m\n\u001b[0;32m--> 119\u001b[0;31m     \u001b[0mapplication\u001b[0m\u001b[0;34m.\u001b[0m\u001b[0mrun_polling\u001b[0m\u001b[0;34m(\u001b[0m\u001b[0;34m)\u001b[0m\u001b[0;34m\u001b[0m\u001b[0;34m\u001b[0m\u001b[0m\n\u001b[0m\u001b[1;32m    120\u001b[0m     \u001b[0mprint\u001b[0m\u001b[0;34m(\u001b[0m\u001b[0;34m'Бот остановлен'\u001b[0m\u001b[0;34m)\u001b[0m\u001b[0;34m\u001b[0m\u001b[0;34m\u001b[0m\u001b[0m\n\u001b[1;32m    121\u001b[0m \u001b[0;34m\u001b[0m\u001b[0m\n",
            "\u001b[0;32m/usr/local/lib/python3.10/dist-packages/telegram/ext/_application.py\u001b[0m in \u001b[0;36mrun_polling\u001b[0;34m(self, poll_interval, timeout, bootstrap_retries, read_timeout, write_timeout, connect_timeout, pool_timeout, allowed_updates, drop_pending_updates, close_loop, stop_signals)\u001b[0m\n\u001b[1;32m    816\u001b[0m             \u001b[0mself\u001b[0m\u001b[0;34m.\u001b[0m\u001b[0mcreate_task\u001b[0m\u001b[0;34m(\u001b[0m\u001b[0mself\u001b[0m\u001b[0;34m.\u001b[0m\u001b[0mprocess_error\u001b[0m\u001b[0;34m(\u001b[0m\u001b[0merror\u001b[0m\u001b[0;34m=\u001b[0m\u001b[0mexc\u001b[0m\u001b[0;34m,\u001b[0m \u001b[0mupdate\u001b[0m\u001b[0;34m=\u001b[0m\u001b[0;32mNone\u001b[0m\u001b[0;34m)\u001b[0m\u001b[0;34m)\u001b[0m\u001b[0;34m\u001b[0m\u001b[0;34m\u001b[0m\u001b[0m\n\u001b[1;32m    817\u001b[0m \u001b[0;34m\u001b[0m\u001b[0m\n\u001b[0;32m--> 818\u001b[0;31m         return self.__run(\n\u001b[0m\u001b[1;32m    819\u001b[0m             updater_coroutine=self.updater.start_polling(\n\u001b[1;32m    820\u001b[0m                 \u001b[0mpoll_interval\u001b[0m\u001b[0;34m=\u001b[0m\u001b[0mpoll_interval\u001b[0m\u001b[0;34m,\u001b[0m\u001b[0;34m\u001b[0m\u001b[0;34m\u001b[0m\u001b[0m\n",
            "\u001b[0;32m/usr/local/lib/python3.10/dist-packages/telegram/ext/_application.py\u001b[0m in \u001b[0;36m__run\u001b[0;34m(self, updater_coroutine, stop_signals, close_loop)\u001b[0m\n\u001b[1;32m   1020\u001b[0m             \u001b[0;32mfinally\u001b[0m\u001b[0;34m:\u001b[0m\u001b[0;34m\u001b[0m\u001b[0;34m\u001b[0m\u001b[0m\n\u001b[1;32m   1021\u001b[0m                 \u001b[0;32mif\u001b[0m \u001b[0mclose_loop\u001b[0m\u001b[0;34m:\u001b[0m\u001b[0;34m\u001b[0m\u001b[0;34m\u001b[0m\u001b[0m\n\u001b[0;32m-> 1022\u001b[0;31m                     \u001b[0mloop\u001b[0m\u001b[0;34m.\u001b[0m\u001b[0mclose\u001b[0m\u001b[0;34m(\u001b[0m\u001b[0;34m)\u001b[0m\u001b[0;34m\u001b[0m\u001b[0;34m\u001b[0m\u001b[0m\n\u001b[0m\u001b[1;32m   1023\u001b[0m \u001b[0;34m\u001b[0m\u001b[0m\n\u001b[1;32m   1024\u001b[0m     def create_task(\n",
            "\u001b[0;32m/usr/lib/python3.10/asyncio/unix_events.py\u001b[0m in \u001b[0;36mclose\u001b[0;34m(self)\u001b[0m\n\u001b[1;32m     66\u001b[0m \u001b[0;34m\u001b[0m\u001b[0m\n\u001b[1;32m     67\u001b[0m     \u001b[0;32mdef\u001b[0m \u001b[0mclose\u001b[0m\u001b[0;34m(\u001b[0m\u001b[0mself\u001b[0m\u001b[0;34m)\u001b[0m\u001b[0;34m:\u001b[0m\u001b[0;34m\u001b[0m\u001b[0;34m\u001b[0m\u001b[0m\n\u001b[0;32m---> 68\u001b[0;31m         \u001b[0msuper\u001b[0m\u001b[0;34m(\u001b[0m\u001b[0;34m)\u001b[0m\u001b[0;34m.\u001b[0m\u001b[0mclose\u001b[0m\u001b[0;34m(\u001b[0m\u001b[0;34m)\u001b[0m\u001b[0;34m\u001b[0m\u001b[0;34m\u001b[0m\u001b[0m\n\u001b[0m\u001b[1;32m     69\u001b[0m         \u001b[0;32mif\u001b[0m \u001b[0;32mnot\u001b[0m \u001b[0msys\u001b[0m\u001b[0;34m.\u001b[0m\u001b[0mis_finalizing\u001b[0m\u001b[0;34m(\u001b[0m\u001b[0;34m)\u001b[0m\u001b[0;34m:\u001b[0m\u001b[0;34m\u001b[0m\u001b[0;34m\u001b[0m\u001b[0m\n\u001b[1;32m     70\u001b[0m             \u001b[0;32mfor\u001b[0m \u001b[0msig\u001b[0m \u001b[0;32min\u001b[0m \u001b[0mlist\u001b[0m\u001b[0;34m(\u001b[0m\u001b[0mself\u001b[0m\u001b[0;34m.\u001b[0m\u001b[0m_signal_handlers\u001b[0m\u001b[0;34m)\u001b[0m\u001b[0;34m:\u001b[0m\u001b[0;34m\u001b[0m\u001b[0;34m\u001b[0m\u001b[0m\n",
            "\u001b[0;32m/usr/lib/python3.10/asyncio/selector_events.py\u001b[0m in \u001b[0;36mclose\u001b[0;34m(self)\u001b[0m\n\u001b[1;32m     82\u001b[0m     \u001b[0;32mdef\u001b[0m \u001b[0mclose\u001b[0m\u001b[0;34m(\u001b[0m\u001b[0mself\u001b[0m\u001b[0;34m)\u001b[0m\u001b[0;34m:\u001b[0m\u001b[0;34m\u001b[0m\u001b[0;34m\u001b[0m\u001b[0m\n\u001b[1;32m     83\u001b[0m         \u001b[0;32mif\u001b[0m \u001b[0mself\u001b[0m\u001b[0;34m.\u001b[0m\u001b[0mis_running\u001b[0m\u001b[0;34m(\u001b[0m\u001b[0;34m)\u001b[0m\u001b[0;34m:\u001b[0m\u001b[0;34m\u001b[0m\u001b[0;34m\u001b[0m\u001b[0m\n\u001b[0;32m---> 84\u001b[0;31m             \u001b[0;32mraise\u001b[0m \u001b[0mRuntimeError\u001b[0m\u001b[0;34m(\u001b[0m\u001b[0;34m\"Cannot close a running event loop\"\u001b[0m\u001b[0;34m)\u001b[0m\u001b[0;34m\u001b[0m\u001b[0;34m\u001b[0m\u001b[0m\n\u001b[0m\u001b[1;32m     85\u001b[0m         \u001b[0;32mif\u001b[0m \u001b[0mself\u001b[0m\u001b[0;34m.\u001b[0m\u001b[0mis_closed\u001b[0m\u001b[0;34m(\u001b[0m\u001b[0;34m)\u001b[0m\u001b[0;34m:\u001b[0m\u001b[0;34m\u001b[0m\u001b[0;34m\u001b[0m\u001b[0m\n\u001b[1;32m     86\u001b[0m             \u001b[0;32mreturn\u001b[0m\u001b[0;34m\u001b[0m\u001b[0;34m\u001b[0m\u001b[0m\n",
            "\u001b[0;31mRuntimeError\u001b[0m: Cannot close a running event loop"
          ]
        }
      ]
    },
    {
      "cell_type": "markdown",
      "source": [
        "## 19.01.24"
      ],
      "metadata": {
        "id": "mn367kSS4yDg"
      }
    },
    {
      "cell_type": "code",
      "source": [
        "list1 = [1, 4]\n",
        "list2 = [1, 2, 3]\n",
        "\n",
        "sum(element in list2 for element in list1)"
      ],
      "metadata": {
        "colab": {
          "base_uri": "https://localhost:8080/"
        },
        "id": "gAYjOoy64wOz",
        "outputId": "956ae12e-00b7-4ba5-f61c-2eeb9bdf3a46"
      },
      "execution_count": null,
      "outputs": [
        {
          "output_type": "execute_result",
          "data": {
            "text/plain": [
              "1"
            ]
          },
          "metadata": {},
          "execution_count": 4
        }
      ]
    },
    {
      "cell_type": "markdown",
      "source": [
        "## 15.01.24"
      ],
      "metadata": {
        "id": "5f7fndHf5wOn"
      }
    },
    {
      "cell_type": "code",
      "source": [
        "import pandas as pd\n",
        "extracted_data_all = pd.read_pickle('https://storage.yandexcloud.net/aiueducation/Content/GPT_Professional/L10/my_list.pkl')\n",
        "extracted_data_all[0]"
      ],
      "metadata": {
        "id": "3eco9X9hqp72",
        "outputId": "800440c5-f0a8-4da6-c4e0-1138edadbfb8",
        "colab": {
          "base_uri": "https://localhost:8080/"
        }
      },
      "execution_count": null,
      "outputs": [
        {
          "output_type": "execute_result",
          "data": {
            "text/plain": [
              "[{'article_title': 'Structura — онлайн конструктор прототипов, схем и макетов для вашего сайта',\n",
              "  'article_content': 'Главная\\nКак работает краулер\\nТарифы\\nБлог\\nКак работает краулер\\nТарифы\\nБлог\\nНачать бесплатно\\nСоздай прототип сайта\\nза 10 минут\\nМощный онлайн инструмент проектирования ускорит работу на этапе предпроекта на 80%\\nПопробовать\\nБесплатно и навсегда, привязывать карту не нужно\\nДизайнер\\nМенеджер\\nВладелец продукта\\nКак работает сервис Structura.app\\nПродуманная структура — основа лучшего UX\\nРассказ о сервисе за 4 минуты|\\nПри разработке сайта, важно уметь смотреть глазами пользователя. Именно поэтому начинать нужно с грамотной структуры посадочных страниц и анализа своих конкурентов.\\nПлохая проработка на этапе предпроекта приводит к большим временным и финансовым вложениям, бесконечным согласованиям и доработкам.\\nМы скомпилировали опыт всей веб-индустрии, чтобы вы могли создавать лучшие сайты!\\nПопробовать бесплатно\\nУзнать больше о нас\\nТри способа создать прототип сайта с помощью Structura.app\\nВыбирай любой 😁\\nНа основе сайта\\nПринцип работы алгоритма краулера\\nСамый быстрый способ понять как устроена ваша ниша — посмотреть как сделано у соседей 👀\\nВизуализировать структуру\\nРезультат станет доступен после регистрации, это быстро 😉\\nПримеры\\nsitemaps.org\\nstructura.app\\nПринцип работы краулера\\nБолее 50 готовых шаблонов\\nНе обязательно быть бизнес аналитиком или иметь большой опыт в разработке сайтов, чтобы продумать UX.  Мы создали библиотеку шаблонов именно для того, чтобы максимально упростить и ускорить вашу работу.\\nКаждый из шаблонов гармоничен, и оставляет простор для творчества. Digital агентство\\nВеб-студия, интегратор\\nПортфолио фрилансера\\nВизитка, резюме\\nКорпоративный сайт\\nВизитная карточка компании\\nПромо страница\\nАкция, скидка, лид-генератор\\nИнтернет магазин\\nE-commerce, маркетплейс\\nПрочие шаблоны\\nСалон красоты, автомойка, кинотеатр, школа\\nСоздать прототип из шаблона\\nДемонстрация за минуту|\\nИ с чистого листа 🎶\\nЕсли у вас уже есть представление о структуре будущего сайта, вы можете придумать прототип “с нуля”.\\nСоздайте страницы и наполните их блоками, опишите контент и добавьте комментарии.\\nМаксимальная свобода действий в интуитивно-понятном, простом и удобном интерфейсе.\\nСоздать прототип с нуля\\nПримеры проектов\\nПосмотрите, какие прототипы собрали наши пользователи\\nСоздать свою структуру\\nО нас говорят\\nТарифы\\nСервис ориентирован на работу с ноутбуков и планшетов. Подробно изучить тарифы вы можете в версии для ПК\\nГод\\nМесяц\\nПробный\\nИдеальный вариант  чтобы попробовать\\nБесплатно\\nНавсегда\\nПопробовать\\nБез привязки карты\\nБез ограничений\\nЕдиный удобный тариф\\n290 ₽/ мес\\n790 ₽\\nПодключить\\nПосмотреть тарифы\\nО нас пишут\\nТарифы\\nПринцип работы краулера\\nБлог\\nКейсы\\ninfo@structura.app\\nПомогаем работать над сайтами с 2021 года\\nРуководство пользователя\\nПолитика конфиденциальности\\nПользовательское соглашение'}]"
            ]
          },
          "metadata": {},
          "execution_count": 1
        }
      ]
    },
    {
      "cell_type": "code",
      "source": [
        "Функция активации | Применение                                                                                 | Результат                  | Формула                                        |\n",
        "|-----------------|--------------------------------------------------------------------------------------------|----------------------------|------------------------------------------------|\n",
        "| Бинарная        | Бинарная классификация                                                                     | 0 или 1                    | f(z) = 0, если z < 0; f(z) = 1, если z >= 0    |\n",
        "| Линейная        | Регрессия, автокодировщики, когда выходное значение не принадлежит ограниченному интервалу | Любое действительное число | f(z) = z                                       |\n",
        "| Sigmoid         | Бинарная классификация, RNN, автокодировщики                                               | От 0 до 1                  | f(z) = 1 / (1 + exp(-z))                       |\n",
        "| Tanh            | RNN, автокодировщики, GAN, классификация, регрессия                                        | От -1 до 1                 | f(z) = (exp(z) - exp(-z)) / (exp(z) + exp(-z)) |\n",
        "| Relu            | CNN, обработка изображений, естественный язык, распознавание речи, задачи выделения важных признаков, регрессия | 0, если z < 0; z, если z >= 0 | f(z) = max(0, z) |\n",
        "| Leaky Relu      | CNN, компьютерное зрение, обработка изображений, естественный язык, рекомендательные системы, регрессия | z, если z >= 0; alpha * z, если z < 0 (где alpha - маленькое положительное число) | f(z) = max(alpha * z, z) |\n",
        "| ELU             | Регрессия, классификация, обработка изображений | z, если z >= 0; alpha * (exp(z) - 1), если z < 0 (где alpha - маленькое положительное число) | f(z) = max(alpha * (exp(z) - 1), z) |\n",
        "| SILU            | CNN, RNN | От 0 до 1 | f(z) = z / (1 + exp(-z)) |\n",
        "| Softmax         | Используется для определения вероятностей классов в задачах многоклассовой классификации | Вероятности классов, сумма которых равна 1 | f(z) = exp(z) / sum(exp(z)) |"
      ],
      "metadata": {
        "id": "Qb1mT7C3_fD9"
      },
      "execution_count": null,
      "outputs": []
    },
    {
      "cell_type": "code",
      "source": [
        "| Функция активации | Применение                                                                                                 |\n",
        "|-------------------|------------------------------------------------------------------------------------------------------------|\n",
        "| Бинарная          | Бинарная классификация                                                                                     |\n",
        "| Линейная          | Регрессии, автокодировщики, когда выходное значение не принадлежит огранич интервалу                       |\n",
        "| Sigmoid           | Бинарной классификации, RNN, автокодировщики                                                               |\n",
        "| Tanh              | RNN, автокодировщики, GAN, классификации, Регрессии                                                        |\n",
        "| Relu              | CNN, обработка изображения, естеств. языка, распознание речи, задачи выделения важных признаков, регрессии |\n",
        "| Leaky Relu        | СNN, компьютер. зрение, обработка изображения, естеств. языка, рекоменд. системы, регрессии                |\n",
        "| ELU               | регрессии, классификации, обработка изображений                                                            |\n",
        "| SILU              | CNN, RNN                                                                                                   |\n",
        "| Softmax           | Используется для определения вероятностей классов в задачах многоклассовой классификации                   |"
      ],
      "metadata": {
        "id": "BB54co485zhI"
      },
      "execution_count": null,
      "outputs": []
    },
    {
      "cell_type": "markdown",
      "source": [
        "## 11.01.24"
      ],
      "metadata": {
        "id": "uqec2GCK5qSV"
      }
    },
    {
      "cell_type": "code",
      "source": [
        "import re\n",
        "# Разбор данных об опыте работы - результат в месяцах\n",
        "\n",
        "def extract_experience_months(arg):\n",
        "    try:\n",
        "        # Выделение количества лет, преобразование в int\n",
        "        years = int(re.search(r'(\\d+)\\s+(год.?|лет)', arg)[1])\n",
        "        print(re.search(r'(\\d+)\\s+(год.?|лет)', arg))\n",
        "\n",
        "    except (IndexError, TypeError, ValueError):\n",
        "        # Неудача - количество лет равно 0\n",
        "        years = 0\n",
        "\n",
        "    try:\n",
        "        # Выделение количества месяцев, преобразование в int\n",
        "        months = int(re.search(r'(\\d+)\\s+месяц', arg)[1])\n",
        "\n",
        "    except (IndexError, TypeError, ValueError):\n",
        "        # Неудача - количество месяцев равно 0\n",
        "        months = 0\n",
        "\n",
        "    # Возврат результата в месяцах\n",
        "    return years * 12 + months"
      ],
      "metadata": {
        "id": "gtFS37DC_Vm8"
      },
      "execution_count": null,
      "outputs": []
    },
    {
      "cell_type": "code",
      "source": [
        "print(extract_experience_months('опыт работы 3 года 9 месяцев'))"
      ],
      "metadata": {
        "colab": {
          "base_uri": "https://localhost:8080/"
        },
        "id": "dz0EHUyD_WU3",
        "outputId": "602c8b57-1982-476a-c107-d5ae94bcec65"
      },
      "execution_count": null,
      "outputs": [
        {
          "output_type": "stream",
          "name": "stdout",
          "text": [
            "<re.Match object; span=(12, 18), match='3 года'>\n",
            "45\n"
          ]
        }
      ]
    },
    {
      "cell_type": "markdown",
      "source": [
        "## 05.01.24"
      ],
      "metadata": {
        "id": "ieE_jQdL9I-K"
      }
    },
    {
      "cell_type": "code",
      "source": [
        "dialog = ''\n",
        "answer = ''\n",
        "while True:\n",
        "    input_question = input('Клиент(ФИО): ') + ' '\n",
        "    if input_question.lower() == 'stop ':\n",
        "        break\n",
        "    dialog += input_question\n",
        "    topic = f'{topic0_me} \\n\\n Предыдущие вопросы из списка: {answer} \\n\\n Ответ клиента: {input_question}'\n",
        "    answer0 = answer_index(system_me, topic)\n",
        "    answer += answer0\n",
        "    dialog += answer0\n",
        "\n",
        "    print('\\nРекрутер: ', answer0)"
      ],
      "metadata": {
        "id": "YWLu6SPq9Mnm"
      },
      "execution_count": null,
      "outputs": []
    },
    {
      "cell_type": "markdown",
      "source": [
        "# 12.23"
      ],
      "metadata": {
        "id": "ZYnvNRJzIS6A"
      }
    },
    {
      "cell_type": "markdown",
      "source": [
        "## 25.12.23"
      ],
      "metadata": {
        "id": "CevT7gbb7PUj"
      }
    },
    {
      "cell_type": "code",
      "source": [],
      "metadata": {
        "id": "2INrDyaH7PC1"
      },
      "execution_count": null,
      "outputs": []
    },
    {
      "cell_type": "markdown",
      "source": [
        "## 24.12.23"
      ],
      "metadata": {
        "id": "eZm_i_xa99gO"
      }
    },
    {
      "cell_type": "code",
      "source": [
        "```\n",
        "import pandas as pd\n",
        "\n",
        "url_train = 'https://drive.google.com/uc?id=1qIhv7FazUYHZosHzlQ3GNTjC3WjFjlH_'\n",
        "url_valid = 'https://drive.google.com/uc?id=1-AK0IWvvIjsD05INhR6ozutFIcLXZYHg'\n",
        "url_test = 'https://drive.google.com/uc?id=1-5EUdAytCC6BZBSFo27hLGjby9dCpwNw'\n",
        "\n",
        "df_train = pd.read_csv(url_train)\n",
        "df_valid = pd.read_csv(url_valid)\n",
        "df_test  = pd.read_csv(url_test)\n",
        "\n",
        "print(f'Train {df_train.shape}')\n",
        "print(f'Valid {df_valid.shape}')\n",
        "print(f'Test  {df_test.shape}')\n",
        "```\n",
        "\n",
        "```\n",
        "tr = df_train.value_counts('type')\n",
        "vl = df_valid.value_counts('type')\n",
        "ts = df_test.value_counts('type')\n",
        "print(tr)\n",
        "print(vl)\n",
        "print(ts)\n",
        "```"
      ],
      "metadata": {
        "colab": {
          "base_uri": "https://localhost:8080/"
        },
        "id": "fXaOc6KkbMzg",
        "outputId": "f23d71cb-31e2-4b88-eebd-d43a2efc8ac1"
      },
      "execution_count": null,
      "outputs": [
        {
          "output_type": "stream",
          "name": "stdout",
          "text": [
            "Train (5227, 2)\n",
            "Valid (1307, 2)\n",
            "Test  (726, 2)\n",
            "type\n",
            "1    2614\n",
            "0    2613\n",
            "dtype: int64\n",
            "type\n",
            "0    654\n",
            "1    653\n",
            "dtype: int64\n",
            "type\n",
            "0    363\n",
            "1    363\n",
            "dtype: int64\n"
          ]
        }
      ]
    },
    {
      "cell_type": "markdown",
      "source": [
        "## 22.12.23"
      ],
      "metadata": {
        "id": "opB0KwkHabI2"
      }
    },
    {
      "cell_type": "code",
      "source": [
        "from tensorflow import keras\n",
        "from tensorflow.keras.layers import Input, Conv2D, BatchNormalization, Flatten, Dense, Conv2DTranspose, concatenate, Add, AveragePooling2D, MaxPooling2D, Dropout, Activation\n",
        "from tensorflow.keras import backend, Model, losses\n",
        "from tensorflow.keras.models import save_model, load_model\n",
        "from tensorflow.keras.utils import plot_model\n",
        "from tensorflow.keras import optimizers, callbacks\n",
        "from tensorflow.keras import utils\n",
        "from tensorflow.keras import backend as K"
      ],
      "metadata": {
        "id": "mCXRdDHyuc7k"
      },
      "execution_count": null,
      "outputs": []
    },
    {
      "cell_type": "code",
      "source": [
        "# Функция создания модели\n",
        "def create_model(input_shape):\n",
        "    def res_layer(x, filters, kernel_size, strides=1, n=4, activation='relu'):\n",
        "        y = Conv2D(filters=filters, kernel_size=kernel_size, strides=strides, padding='same', activation=activation)(x)\n",
        "        y1 = y\n",
        "        for i in range(n):\n",
        "            y = Conv2D(filters=filters, kernel_size=kernel_size, strides=1, padding='same', activation=activation)(y)\n",
        "        y = Add()([y1, y])\n",
        "        y = BatchNormalization()(y)\n",
        "        return y\n",
        "\n",
        "    input_image = Input(shape=input_shape)\n",
        "\n",
        "    l1 = res_layer(input_image, filters=4, kernel_size=4, strides=2, n=2, activation='relu') # 128x128x4\n",
        "    l1 = Conv2D(filters=16, kernel_size=4, strides=2, padding='same', activation='relu')(l1) # 64x64x16\n",
        "    l1 = BatchNormalization()(l1)\n",
        "\n",
        "    l1 = res_layer(l1, filters=32, kernel_size=4, strides=2, n=2, activation='relu') # 32x32x32\n",
        "    l1 = Conv2D(filters=64, kernel_size=4, strides=4, padding='same', activation='relu')(l1) # 8x8x64\n",
        "    l1 = Conv2D(filters=128, kernel_size=4, strides=8, padding='same', activation='relu')(l1) # 1x1x128\n",
        "    l1 = BatchNormalization()(l1)\n",
        "\n",
        "    hl = Flatten()(l1) #\n",
        "    hl = Dropout(0.2)(hl)\n",
        "\n",
        "    rt = Dense(4, activation='softmax', name='rt')(hl)\n",
        "\n",
        "    # Block 1\n",
        "    x = Conv2D(filters=16, kernel_size=3, strides=1, padding='same', activation='relu')(input_image) # 256x256x16\n",
        "    block_1_out = BatchNormalization()(x)\n",
        "\n",
        "    # Block 2\n",
        "    x = Conv2D(filters=64, kernel_size=3, strides=2, padding='same', activation='relu')(block_1_out) # 128x128x64\n",
        "    block_2_out = BatchNormalization()(x)\n",
        "\n",
        "    # Block 3\n",
        "    x = Conv2D(filters=128, kernel_size=3, strides=2, padding='same', activation='relu')(block_2_out) # 64x64x128\n",
        "    block_3_out = BatchNormalization()(x)\n",
        "\n",
        "    # Block 4\n",
        "    x = Conv2D(filters=256, kernel_size=3, strides=2, padding='same', activation='relu')(block_3_out) # 32x32x256\n",
        "    block_4_out = BatchNormalization()(x)\n",
        "\n",
        "    # Block 5\n",
        "    x = Conv2D(filters=256, kernel_size=3, strides=2, padding='same', activation='relu')(block_4_out) # 16x16x256\n",
        "    x = BatchNormalization()(x)\n",
        "\n",
        "    # UP 1\n",
        "    x = Conv2DTranspose(filters=256, kernel_size=2, strides=2, padding='same', activation='relu')(x) # 32x32x256\n",
        "    x = BatchNormalization()(x)\n",
        "\n",
        "    x = concatenate([x, block_4_out]) # 32x32x512\n",
        "    x = Conv2D(filters=256, kernel_size=3, strides=1, padding='same', activation='relu')(x) # 32x32x256\n",
        "    x = BatchNormalization()(x)\n",
        "\n",
        "    # UP 2\n",
        "    x = Conv2DTranspose(filters=128, kernel_size=2, strides=2, padding='same', activation='relu')(x) # 64x64x128\n",
        "    x = BatchNormalization()(x)\n",
        "\n",
        "    x = concatenate([x, block_3_out]) # 64x64x256\n",
        "    x = Conv2D(filters=128, kernel_size=3, strides=1, padding='same', activation='relu')(x) # 64x64x128\n",
        "    x = BatchNormalization()(x)\n",
        "\n",
        "    # UP 3\n",
        "    x = Conv2DTranspose(filters=64, kernel_size=2, strides=2, padding='same', activation='relu')(x) # 128x128x64\n",
        "    x = BatchNormalization()(x)\n",
        "\n",
        "    x = concatenate([x, block_2_out]) # 128x128x128\n",
        "    x = Conv2D(filters=64, kernel_size=3, strides=1, padding='same', activation='relu')(x) # 128x128x64\n",
        "    x = BatchNormalization()(x)\n",
        "\n",
        "    # UP 4\n",
        "    x = Conv2DTranspose(filters=16, kernel_size=2, strides=2, padding='same', activation='relu')(x) # 256x256x16\n",
        "    x = BatchNormalization()(x)\n",
        "\n",
        "    x = concatenate([x, block_1_out]) # 256x256x32\n",
        "    x = Conv2D(filters=16, kernel_size=3, strides=1, padding='same', activation='relu')(x) # 256x256x16\n",
        "    x = BatchNormalization()(x)\n",
        "\n",
        "    im = Conv2D(filters=2, kernel_size=3, strides=1, padding='same', activation='softmax', name='im')(x) # 256x256x2\n",
        "\n",
        "    model = Model(inputs=input_image, outputs=[rt, im])\n",
        "\n",
        "    return model\n",
        "\n",
        "model = create_model(input_shape=(256, 256, 1))\n",
        "model.summary()"
      ],
      "metadata": {
        "id": "AlaB4yk-s9FU"
      },
      "execution_count": null,
      "outputs": []
    },
    {
      "cell_type": "code",
      "source": [
        "my_list = []\n",
        "    for neurons in list_neurons:\n",
        "        for activation in list_activation:\n",
        "            for batch in list_batch:\n",
        "                model = Sequential()\n",
        "                model.add(Dense(neurons, input_dim=400, activation=activation))\n",
        "                model.add(Dence(3, activation='softmax'))\n",
        "                model.compile(loss=\"categorical_crossentropy\",optimizer=Adam(learning_rate=0.001),metrics=[\"accuracy\"])\n",
        "                print(model.summary())\n",
        "                print(f'Neurons:{neurons},activation:{activation},batch_size:{batch}')\n",
        "                history = model.fit(x_train,y_train,batch_size=10,verbose=1,shuffle=True)\n",
        "                my_list.append(('Neurons:',neurons, 'Activation:', activation, 'Batch:',batch,'accuracy:', round(history.history['accuracy'][-1],3)))\n",
        "\n"
      ],
      "metadata": {
        "id": "uwYPfsC9aatE"
      },
      "execution_count": null,
      "outputs": []
    },
    {
      "cell_type": "markdown",
      "source": [
        "## 17.12.23"
      ],
      "metadata": {
        "id": "19QZZVyCLr6A"
      }
    },
    {
      "cell_type": "code",
      "source": [
        "import time\n",
        "for h in range(24):\n",
        "    for m in range(60):\n",
        "        for s in range(60):\n",
        "            print(h, ':', m, ':', s)\n",
        "            time.sleep(1)"
      ],
      "metadata": {
        "id": "3axBfIW6VOa1"
      },
      "execution_count": null,
      "outputs": []
    },
    {
      "cell_type": "code",
      "source": [
        "!whisper \"$output_template\" --model large --language Russian --task traslate"
      ],
      "metadata": {
        "id": "NG7cVKSZLrQR"
      },
      "execution_count": null,
      "outputs": []
    },
    {
      "cell_type": "markdown",
      "source": [
        "## 15.12.23"
      ],
      "metadata": {
        "id": "c7xR8zrba1EU"
      }
    },
    {
      "cell_type": "code",
      "source": [
        "import re\n",
        "\n",
        "# Задаем строку\n",
        "string = \"xyzxyzxy\"\n",
        "\n",
        "# Задаем регулярное выражение\n",
        "pattern = r\"\\*(xyz)\\+(xy)?(x)?\"\n",
        "\n",
        "# Ищем все совпадения в строке и сохраняем их в список\n",
        "matches = re.findall(pattern, string)\n",
        "\n",
        "# Выводим список на экран\n",
        "print(matches)"
      ],
      "metadata": {
        "colab": {
          "base_uri": "https://localhost:8080/"
        },
        "id": "KkoVgvpFgq9Q",
        "outputId": "5ec33a22-0b9a-4735-f71f-df962af4b5b3"
      },
      "execution_count": null,
      "outputs": [
        {
          "output_type": "stream",
          "name": "stdout",
          "text": [
            "[]\n"
          ]
        }
      ]
    },
    {
      "cell_type": "code",
      "source": [
        "import pygame\n",
        "import random\n",
        "\n",
        "# Инициализация Pygame\n",
        "pygame.init()\n",
        "\n",
        "# Определение размеров окна\n",
        "width = 800\n",
        "height = 600\n",
        "\n",
        "# Создание игрового окна\n",
        "window = pygame.display.set_mode((width, height))\n",
        "pygame.display.set_caption(\"Змейка\")\n",
        "\n",
        "# Определение цветов\n",
        "black = (0, 0, 0)\n",
        "white = (255, 255, 255)\n",
        "red = (255, 0, 0)\n",
        "\n",
        "# Определение размера и скорости змейки\n",
        "snake_size = 20\n",
        "snake_speed = 10\n",
        "\n",
        "# Определение начальных координат змейки\n",
        "x = width / 2\n",
        "y = height / 2\n",
        "\n",
        "# Определение начального движения змейки\n",
        "x_change = 0\n",
        "y_change = 0\n",
        "\n",
        "# Определение начальной длины змейки\n",
        "snake_length = 1\n",
        "snake_list = []\n",
        "\n",
        "# Определение функции для отображения змейки\n",
        "def draw_snake(snake_list):\n",
        "    for x,y in snake_list:\n",
        "        pygame.draw.rect(window, black, [x, y, snake_size, snake_size])\n",
        "\n",
        "# Определение игрового цикла\n",
        "game_over = False\n",
        "clock = pygame.time.Clock()\n",
        "\n",
        "while not game_over:\n",
        "    for event in pygame.event.get():\n",
        "        if event.type == pygame.QUIT:\n",
        "            game_over = True\n",
        "        if event.type == pygame.KEYDOWN:\n",
        "            if event.key == pygame.K_LEFT:\n",
        "                x_change = -snake_size\n",
        "                y_change = 0\n",
        "            elif event.key == pygame.K_RIGHT:\n",
        "                x_change = snake_size\n",
        "                y_change = 0\n",
        "            elif event.key == pygame.K_UP:\n",
        "                y_change = -snake_size\n",
        "                x_change = 0\n",
        "            elif event.key == pygame.K_DOWN:\n",
        "                y_change = snake_size\n",
        "                x_change = 0\n",
        "\n",
        "    # Обновление координат змейки\n",
        "    x += x_change\n",
        "    y += y_change\n",
        "\n",
        "    # Очистка игрового окна\n",
        "    window.fill(white)\n",
        "\n",
        "    # Отрисовка змейки\n",
        "    snake_head = []\n",
        "    snake_head.append(x)\n",
        "    snake_head.append(y)\n",
        "    snake_list.append(snake_head)\n",
        "    if len(snake_list) > snake_length:\n",
        "        del snake_list[0]\n",
        "\n",
        "    draw_snake(snake_list)\n",
        "\n",
        "    # Обновление игрового окна\n",
        "    pygame.display.update()\n",
        "\n",
        "    # Ограничение скорости обновления\n",
        "    clock.tick(snake_speed)\n",
        "\n",
        "# Завершение игры\n",
        "pygame.quit()"
      ],
      "metadata": {
        "colab": {
          "base_uri": "https://localhost:8080/",
          "height": 279
        },
        "id": "rb4iULDrfRKx",
        "outputId": "264a5f93-9dab-498c-cc61-39f81b843a8b"
      },
      "execution_count": null,
      "outputs": [
        {
          "output_type": "stream",
          "name": "stdout",
          "text": [
            "pygame 2.5.2 (SDL 2.28.2, Python 3.10.12)\n",
            "Hello from the pygame community. https://www.pygame.org/contribute.html\n"
          ]
        },
        {
          "output_type": "error",
          "ename": "KeyboardInterrupt",
          "evalue": "ignored",
          "traceback": [
            "\u001b[0;31m---------------------------------------------------------------------------\u001b[0m",
            "\u001b[0;31mKeyboardInterrupt\u001b[0m                         Traceback (most recent call last)",
            "\u001b[0;32m<ipython-input-1-4860a60af437>\u001b[0m in \u001b[0;36m<cell line: 45>\u001b[0;34m()\u001b[0m\n\u001b[1;32m     82\u001b[0m \u001b[0;34m\u001b[0m\u001b[0m\n\u001b[1;32m     83\u001b[0m     \u001b[0;31m# Ограничение скорости обновления\u001b[0m\u001b[0;34m\u001b[0m\u001b[0;34m\u001b[0m\u001b[0m\n\u001b[0;32m---> 84\u001b[0;31m     \u001b[0mclock\u001b[0m\u001b[0;34m.\u001b[0m\u001b[0mtick\u001b[0m\u001b[0;34m(\u001b[0m\u001b[0msnake_speed\u001b[0m\u001b[0;34m)\u001b[0m\u001b[0;34m\u001b[0m\u001b[0;34m\u001b[0m\u001b[0m\n\u001b[0m\u001b[1;32m     85\u001b[0m \u001b[0;34m\u001b[0m\u001b[0m\n\u001b[1;32m     86\u001b[0m \u001b[0;31m# Завершение игры\u001b[0m\u001b[0;34m\u001b[0m\u001b[0;34m\u001b[0m\u001b[0m\n",
            "\u001b[0;31mKeyboardInterrupt\u001b[0m: "
          ]
        }
      ]
    },
    {
      "cell_type": "code",
      "source": [
        "!pip install faiss-cpu langchain==0.0.271 openai==0.28.1 tiktoken"
      ],
      "metadata": {
        "colab": {
          "base_uri": "https://localhost:8080/"
        },
        "id": "LejCkTl4b_OY",
        "outputId": "e6ff8a4c-9f27-4168-b41a-6bfde1a15e02"
      },
      "execution_count": null,
      "outputs": [
        {
          "output_type": "stream",
          "name": "stdout",
          "text": [
            "Collecting faiss-cpu\n",
            "  Downloading faiss_cpu-1.7.4-cp310-cp310-manylinux_2_17_x86_64.manylinux2014_x86_64.whl (17.6 MB)\n",
            "\u001b[2K     \u001b[90m━━━━━━━━━━━━━━━━━━━━━━━━━━━━━━━━━━━━━━━━\u001b[0m \u001b[32m17.6/17.6 MB\u001b[0m \u001b[31m36.4 MB/s\u001b[0m eta \u001b[36m0:00:00\u001b[0m\n",
            "\u001b[?25hCollecting langchain==0.0.271\n",
            "  Downloading langchain-0.0.271-py3-none-any.whl (1.5 MB)\n",
            "\u001b[2K     \u001b[90m━━━━━━━━━━━━━━━━━━━━━━━━━━━━━━━━━━━━━━━━\u001b[0m \u001b[32m1.5/1.5 MB\u001b[0m \u001b[31m45.8 MB/s\u001b[0m eta \u001b[36m0:00:00\u001b[0m\n",
            "\u001b[?25hCollecting openai==0.28.1\n",
            "  Downloading openai-0.28.1-py3-none-any.whl (76 kB)\n",
            "\u001b[2K     \u001b[90m━━━━━━━━━━━━━━━━━━━━━━━━━━━━━━━━━━━━━━━━\u001b[0m \u001b[32m77.0/77.0 kB\u001b[0m \u001b[31m8.6 MB/s\u001b[0m eta \u001b[36m0:00:00\u001b[0m\n",
            "\u001b[?25hCollecting tiktoken\n",
            "  Downloading tiktoken-0.5.2-cp310-cp310-manylinux_2_17_x86_64.manylinux2014_x86_64.whl (2.0 MB)\n",
            "\u001b[2K     \u001b[90m━━━━━━━━━━━━━━━━━━━━━━━━━━━━━━━━━━━━━━━━\u001b[0m \u001b[32m2.0/2.0 MB\u001b[0m \u001b[31m60.8 MB/s\u001b[0m eta \u001b[36m0:00:00\u001b[0m\n",
            "\u001b[?25hRequirement already satisfied: PyYAML>=5.3 in /usr/local/lib/python3.10/dist-packages (from langchain==0.0.271) (6.0.1)\n",
            "Requirement already satisfied: SQLAlchemy<3,>=1.4 in /usr/local/lib/python3.10/dist-packages (from langchain==0.0.271) (2.0.23)\n",
            "Requirement already satisfied: aiohttp<4.0.0,>=3.8.3 in /usr/local/lib/python3.10/dist-packages (from langchain==0.0.271) (3.9.1)\n",
            "Requirement already satisfied: async-timeout<5.0.0,>=4.0.0 in /usr/local/lib/python3.10/dist-packages (from langchain==0.0.271) (4.0.3)\n",
            "Collecting dataclasses-json<0.6.0,>=0.5.7 (from langchain==0.0.271)\n",
            "  Downloading dataclasses_json-0.5.14-py3-none-any.whl (26 kB)\n",
            "Collecting langsmith<0.1.0,>=0.0.21 (from langchain==0.0.271)\n",
            "  Downloading langsmith-0.0.70-py3-none-any.whl (45 kB)\n",
            "\u001b[2K     \u001b[90m━━━━━━━━━━━━━━━━━━━━━━━━━━━━━━━━━━━━━━━━\u001b[0m \u001b[32m46.0/46.0 kB\u001b[0m \u001b[31m4.4 MB/s\u001b[0m eta \u001b[36m0:00:00\u001b[0m\n",
            "\u001b[?25hRequirement already satisfied: numexpr<3.0.0,>=2.8.4 in /usr/local/lib/python3.10/dist-packages (from langchain==0.0.271) (2.8.8)\n",
            "Requirement already satisfied: numpy<2,>=1 in /usr/local/lib/python3.10/dist-packages (from langchain==0.0.271) (1.23.5)\n",
            "Requirement already satisfied: pydantic<3,>=1 in /usr/local/lib/python3.10/dist-packages (from langchain==0.0.271) (1.10.13)\n",
            "Requirement already satisfied: requests<3,>=2 in /usr/local/lib/python3.10/dist-packages (from langchain==0.0.271) (2.31.0)\n",
            "Requirement already satisfied: tenacity<9.0.0,>=8.1.0 in /usr/local/lib/python3.10/dist-packages (from langchain==0.0.271) (8.2.3)\n",
            "Requirement already satisfied: tqdm in /usr/local/lib/python3.10/dist-packages (from openai==0.28.1) (4.66.1)\n",
            "Requirement already satisfied: regex>=2022.1.18 in /usr/local/lib/python3.10/dist-packages (from tiktoken) (2023.6.3)\n",
            "Requirement already satisfied: attrs>=17.3.0 in /usr/local/lib/python3.10/dist-packages (from aiohttp<4.0.0,>=3.8.3->langchain==0.0.271) (23.1.0)\n",
            "Requirement already satisfied: multidict<7.0,>=4.5 in /usr/local/lib/python3.10/dist-packages (from aiohttp<4.0.0,>=3.8.3->langchain==0.0.271) (6.0.4)\n",
            "Requirement already satisfied: yarl<2.0,>=1.0 in /usr/local/lib/python3.10/dist-packages (from aiohttp<4.0.0,>=3.8.3->langchain==0.0.271) (1.9.4)\n",
            "Requirement already satisfied: frozenlist>=1.1.1 in /usr/local/lib/python3.10/dist-packages (from aiohttp<4.0.0,>=3.8.3->langchain==0.0.271) (1.4.0)\n",
            "Requirement already satisfied: aiosignal>=1.1.2 in /usr/local/lib/python3.10/dist-packages (from aiohttp<4.0.0,>=3.8.3->langchain==0.0.271) (1.3.1)\n",
            "Collecting marshmallow<4.0.0,>=3.18.0 (from dataclasses-json<0.6.0,>=0.5.7->langchain==0.0.271)\n",
            "  Downloading marshmallow-3.20.1-py3-none-any.whl (49 kB)\n",
            "\u001b[2K     \u001b[90m━━━━━━━━━━━━━━━━━━━━━━━━━━━━━━━━━━━━━━━━\u001b[0m \u001b[32m49.4/49.4 kB\u001b[0m \u001b[31m4.9 MB/s\u001b[0m eta \u001b[36m0:00:00\u001b[0m\n",
            "\u001b[?25hCollecting typing-inspect<1,>=0.4.0 (from dataclasses-json<0.6.0,>=0.5.7->langchain==0.0.271)\n",
            "  Downloading typing_inspect-0.9.0-py3-none-any.whl (8.8 kB)\n",
            "Requirement already satisfied: typing-extensions>=4.2.0 in /usr/local/lib/python3.10/dist-packages (from pydantic<3,>=1->langchain==0.0.271) (4.5.0)\n",
            "Requirement already satisfied: charset-normalizer<4,>=2 in /usr/local/lib/python3.10/dist-packages (from requests<3,>=2->langchain==0.0.271) (3.3.2)\n",
            "Requirement already satisfied: idna<4,>=2.5 in /usr/local/lib/python3.10/dist-packages (from requests<3,>=2->langchain==0.0.271) (3.6)\n",
            "Requirement already satisfied: urllib3<3,>=1.21.1 in /usr/local/lib/python3.10/dist-packages (from requests<3,>=2->langchain==0.0.271) (2.0.7)\n",
            "Requirement already satisfied: certifi>=2017.4.17 in /usr/local/lib/python3.10/dist-packages (from requests<3,>=2->langchain==0.0.271) (2023.11.17)\n",
            "Requirement already satisfied: greenlet!=0.4.17 in /usr/local/lib/python3.10/dist-packages (from SQLAlchemy<3,>=1.4->langchain==0.0.271) (3.0.2)\n",
            "Requirement already satisfied: packaging>=17.0 in /usr/local/lib/python3.10/dist-packages (from marshmallow<4.0.0,>=3.18.0->dataclasses-json<0.6.0,>=0.5.7->langchain==0.0.271) (23.2)\n",
            "Collecting mypy-extensions>=0.3.0 (from typing-inspect<1,>=0.4.0->dataclasses-json<0.6.0,>=0.5.7->langchain==0.0.271)\n",
            "  Downloading mypy_extensions-1.0.0-py3-none-any.whl (4.7 kB)\n",
            "Installing collected packages: faiss-cpu, mypy-extensions, marshmallow, typing-inspect, tiktoken, langsmith, openai, dataclasses-json, langchain\n",
            "\u001b[31mERROR: pip's dependency resolver does not currently take into account all the packages that are installed. This behaviour is the source of the following dependency conflicts.\n",
            "llmx 0.0.15a0 requires cohere, which is not installed.\u001b[0m\u001b[31m\n",
            "\u001b[0mSuccessfully installed dataclasses-json-0.5.14 faiss-cpu-1.7.4 langchain-0.0.271 langsmith-0.0.70 marshmallow-3.20.1 mypy-extensions-1.0.0 openai-0.28.1 tiktoken-0.5.2 typing-inspect-0.9.0\n"
          ]
        }
      ]
    },
    {
      "cell_type": "code",
      "source": [
        "import openai\n",
        "import os\n",
        "from getpass import getpass\n",
        "from langchain.chat_models import ChatOpenAI\n",
        "from langchain.schema import HumanMessage, SystemMessage, AIMessage"
      ],
      "metadata": {
        "id": "XexInugTbozq"
      },
      "execution_count": null,
      "outputs": []
    },
    {
      "cell_type": "code",
      "source": [
        "def chat_with_gpt_and_count_tokens(user_inpu):\n",
        "    # Получение ключа API\n",
        "    openai_key = getpass(\"OpenAI API Key:\")\n",
        "    # Установка ключа API в переменные окружения\n",
        "    os.environ[\"OPENAI_API_KEY\"] = openai_key\n",
        "    # Установка ключа API для библиотеки openai\n",
        "    openai.api_key = openai_key\n",
        "\n",
        "    # Создание запроса к модели\n",
        "    # Модель \"gpt-3.5-turbo\" используется для генерации ответа\n",
        "    # Сообщения включают системное сообщение и сообщение пользователя\n",
        "    result = openai.ChatCompletion.create(\n",
        "        model=\"gpt-3.5-turbo\",\n",
        "        messages=[\n",
        "            {\"role\": \"system\", \"content\": \"Ты- старательный помощник.\"},\n",
        "            {\"role\": \"user\", \"content\": user_inpu}\n",
        "        ])\n",
        "    # Получение ответа модели\n",
        "    # Ответ модели находится в поле 'choices' возвращаемого результата\n",
        "    message = result['choices'][0]['message']['content']\n",
        "\n",
        "    # Создание экземпляра модели чата\n",
        "    chat = ChatOpenAI(temperature=0)\n",
        "    # Создание списка сообщений, включающего системное сообщение, сообщение пользователя и ответ модели\n",
        "    messages = [\n",
        "        SystemMessage(content=\"Ты- старательный помощник.\"),\n",
        "        HumanMessage(content=user_inpu),\n",
        "        AIMessage(content=message)\n",
        "    ]\n",
        "    # Подсчет количества токенов в сообщениях\n",
        "    num_tokens = chat.get_num_tokens_from_messages(messages)\n",
        "\n",
        "    # Возвращение ответа модели и количества токенов\n",
        "    return message, num_tokens\n",
        "\n",
        "# Получение ввода от пользователя\n",
        "user_inpu = input(\"Введите ваш вопрос:\")\n",
        "\n",
        "# Вызов функции chat_with_gpt_and_count_tokens с вводом пользователя\n",
        "message, num_tokens = chat_with_gpt_and_count_tokens(user_inpu)\n",
        "\n",
        "# Вывод ответа модели и количества токенов\n",
        "print(f\"Ответ: {message}\")\n",
        "print(f\"Количество токенов: {num_tokens}\")\n"
      ],
      "metadata": {
        "colab": {
          "base_uri": "https://localhost:8080/"
        },
        "id": "GoK3_mgca0yO",
        "outputId": "4fe29a15-584c-4b68-9286-eb88cb86e426"
      },
      "execution_count": null,
      "outputs": [
        {
          "output_type": "stream",
          "name": "stdout",
          "text": [
            "Введите ваш вопрос:Привет\n",
            "OpenAI API Key:··········\n",
            "Ответ: Привет! Как я могу тебе помочь?\n",
            "Количество токенов: 49\n"
          ]
        }
      ]
    },
    {
      "cell_type": "markdown",
      "source": [
        "## 11.12.23"
      ],
      "metadata": {
        "id": "J2S_91VByDkU"
      }
    },
    {
      "cell_type": "code",
      "source": [
        "from tensorflow.keras.datasets import mnist\n",
        "import matplotlib.pyplot as plt\n",
        "(x_train, y_train), (x_test, y_test) = mnist.load_data()\n",
        "mnist_list_10 = []\n",
        "for i in range(10):\n",
        "    mnist_list_10.append(x_train[y_train==i][0])\n",
        "\n",
        "\n",
        "for i in range(10):\n",
        "    # Отображение картинки и соответствующей метки\n",
        "    plt.subplot(2, 5, i + 1)\n",
        "    plt.imshow(mnist_list_10[i], cmap='gray')\n",
        "    plt.title(f'Label: {[i]}')\n",
        "    plt.axis('off')"
      ],
      "metadata": {
        "colab": {
          "base_uri": "https://localhost:8080/",
          "height": 346
        },
        "id": "9rOCzz8NyC-X",
        "outputId": "7cebdc76-5c54-4a94-cab4-1356e641f2f9"
      },
      "execution_count": null,
      "outputs": [
        {
          "output_type": "display_data",
          "data": {
            "text/plain": [
              "<Figure size 640x480 with 10 Axes>"
            ],
            "image/png": "[encoded data removed]"
          },
          "metadata": {}
        }
      ]
    },
    {
      "cell_type": "markdown",
      "source": [
        "## 10.12.23"
      ],
      "metadata": {
        "id": "nCoQCQ5nADWb"
      }
    },
    {
      "cell_type": "code",
      "source": [
        "# !pip install wheel\n",
        "# !pip install pkg-config"
      ],
      "metadata": {
        "id": "_d4LbLU5AC-Q"
      },
      "execution_count": null,
      "outputs": []
    },
    {
      "cell_type": "code",
      "source": [
        "!sudo apt-get install -y build-essential libcairo2-dev pkg-config python3-dev"
      ],
      "metadata": {
        "colab": {
          "base_uri": "https://localhost:8080/"
        },
        "id": "PTh041dGC9Rj",
        "outputId": "b92611e6-a7a8-4e41-dada-90e4e1208cca"
      },
      "execution_count": null,
      "outputs": [
        {
          "output_type": "stream",
          "name": "stdout",
          "text": [
            "Reading package lists... Done\n",
            "Building dependency tree... Done\n",
            "Reading state information... Done\n",
            "build-essential is already the newest version (12.9ubuntu3).\n",
            "pkg-config is already the newest version (0.29.2-1ubuntu3).\n",
            "python3-dev is already the newest version (3.10.6-1~22.04).\n",
            "python3-dev set to manually installed.\n",
            "The following additional packages will be installed:\n",
            "  libblkid-dev libcairo-script-interpreter2 libffi-dev libglib2.0-dev\n",
            "  libglib2.0-dev-bin libice-dev liblzo2-2 libmount-dev libpixman-1-dev\n",
            "  libselinux1-dev libsepol-dev libsm-dev libxcb-render0-dev libxcb-shm0-dev\n",
            "Suggested packages:\n",
            "  libcairo2-doc libgirepository1.0-dev libglib2.0-doc libgdk-pixbuf2.0-bin\n",
            "  | libgdk-pixbuf2.0-dev libxml2-utils libice-doc libsm-doc\n",
            "The following NEW packages will be installed:\n",
            "  libblkid-dev libcairo-script-interpreter2 libcairo2-dev libffi-dev\n",
            "  libglib2.0-dev libglib2.0-dev-bin libice-dev liblzo2-2 libmount-dev\n",
            "  libpixman-1-dev libselinux1-dev libsepol-dev libsm-dev libxcb-render0-dev\n",
            "  libxcb-shm0-dev\n",
            "0 upgraded, 15 newly installed, 0 to remove and 15 not upgraded.\n",
            "Need to get 3,839 kB of archives.\n",
            "After this operation, 19.8 MB of additional disk space will be used.\n",
            "Get:1 http://archive.ubuntu.com/ubuntu jammy/main amd64 liblzo2-2 amd64 2.10-2build3 [53.7 kB]\n",
            "Get:2 http://archive.ubuntu.com/ubuntu jammy/main amd64 libcairo-script-interpreter2 amd64 1.16.0-5ubuntu2 [62.0 kB]\n",
            "Get:3 http://archive.ubuntu.com/ubuntu jammy/main amd64 libice-dev amd64 2:1.0.10-1build2 [51.4 kB]\n",
            "Get:4 http://archive.ubuntu.com/ubuntu jammy/main amd64 libsm-dev amd64 2:1.2.3-1build2 [18.1 kB]\n",
            "Get:5 http://archive.ubuntu.com/ubuntu jammy-updates/main amd64 libpixman-1-dev amd64 0.40.0-1ubuntu0.22.04.1 [280 kB]\n",
            "Get:6 http://archive.ubuntu.com/ubuntu jammy/main amd64 libxcb-render0-dev amd64 1.14-3ubuntu3 [19.6 kB]\n",
            "Get:7 http://archive.ubuntu.com/ubuntu jammy/main amd64 libxcb-shm0-dev amd64 1.14-3ubuntu3 [6,848 B]\n",
            "Get:8 http://archive.ubuntu.com/ubuntu jammy/main amd64 libffi-dev amd64 3.4.2-4 [63.7 kB]\n",
            "Get:9 http://archive.ubuntu.com/ubuntu jammy-updates/main amd64 libglib2.0-dev-bin amd64 2.72.4-0ubuntu2.2 [117 kB]\n",
            "Get:10 http://archive.ubuntu.com/ubuntu jammy/main amd64 libblkid-dev amd64 2.37.2-4ubuntu3 [185 kB]\n",
            "Get:11 http://archive.ubuntu.com/ubuntu jammy/main amd64 libsepol-dev amd64 3.3-1build1 [378 kB]\n",
            "Get:12 http://archive.ubuntu.com/ubuntu jammy/main amd64 libselinux1-dev amd64 3.3-1build2 [158 kB]\n",
            "Get:13 http://archive.ubuntu.com/ubuntu jammy/main amd64 libmount-dev amd64 2.37.2-4ubuntu3 [14.5 kB]\n",
            "Get:14 http://archive.ubuntu.com/ubuntu jammy-updates/main amd64 libglib2.0-dev amd64 2.72.4-0ubuntu2.2 [1,739 kB]\n",
            "Get:15 http://archive.ubuntu.com/ubuntu jammy/main amd64 libcairo2-dev amd64 1.16.0-5ubuntu2 [692 kB]\n",
            "Fetched 3,839 kB in 1s (5,385 kB/s)\n",
            "debconf: unable to initialize frontend: Dialog\n",
            "debconf: (No usable dialog-like program is installed, so the dialog based frontend cannot be used. at /usr/share/perl5/Debconf/FrontEnd/Dialog.pm line 78, <> line 15.)\n",
            "debconf: falling back to frontend: Readline\n",
            "debconf: unable to initialize frontend: Readline\n",
            "debconf: (This frontend requires a controlling tty.)\n",
            "debconf: falling back to frontend: Teletype\n",
            "dpkg-preconfigure: unable to re-open stdin: \n",
            "Selecting previously unselected package liblzo2-2:amd64.\n",
            "(Reading database ... 120899 files and directories currently installed.)\n",
            "Preparing to unpack .../00-liblzo2-2_2.10-2build3_amd64.deb ...\n",
            "Unpacking liblzo2-2:amd64 (2.10-2build3) ...\n",
            "Selecting previously unselected package libcairo-script-interpreter2:amd64.\n",
            "Preparing to unpack .../01-libcairo-script-interpreter2_1.16.0-5ubuntu2_amd64.deb ...\n",
            "Unpacking libcairo-script-interpreter2:amd64 (1.16.0-5ubuntu2) ...\n",
            "Selecting previously unselected package libice-dev:amd64.\n",
            "Preparing to unpack .../02-libice-dev_2%3a1.0.10-1build2_amd64.deb ...\n",
            "Unpacking libice-dev:amd64 (2:1.0.10-1build2) ...\n",
            "Selecting previously unselected package libsm-dev:amd64.\n",
            "Preparing to unpack .../03-libsm-dev_2%3a1.2.3-1build2_amd64.deb ...\n",
            "Unpacking libsm-dev:amd64 (2:1.2.3-1build2) ...\n",
            "Selecting previously unselected package libpixman-1-dev:amd64.\n",
            "Preparing to unpack .../04-libpixman-1-dev_0.40.0-1ubuntu0.22.04.1_amd64.deb ...\n",
            "Unpacking libpixman-1-dev:amd64 (0.40.0-1ubuntu0.22.04.1) ...\n",
            "Selecting previously unselected package libxcb-render0-dev:amd64.\n",
            "Preparing to unpack .../05-libxcb-render0-dev_1.14-3ubuntu3_amd64.deb ...\n",
            "Unpacking libxcb-render0-dev:amd64 (1.14-3ubuntu3) ...\n",
            "Selecting previously unselected package libxcb-shm0-dev:amd64.\n",
            "Preparing to unpack .../06-libxcb-shm0-dev_1.14-3ubuntu3_amd64.deb ...\n",
            "Unpacking libxcb-shm0-dev:amd64 (1.14-3ubuntu3) ...\n",
            "Selecting previously unselected package libffi-dev:amd64.\n",
            "Preparing to unpack .../07-libffi-dev_3.4.2-4_amd64.deb ...\n",
            "Unpacking libffi-dev:amd64 (3.4.2-4) ...\n",
            "Selecting previously unselected package libglib2.0-dev-bin.\n",
            "Preparing to unpack .../08-libglib2.0-dev-bin_2.72.4-0ubuntu2.2_amd64.deb ...\n",
            "Unpacking libglib2.0-dev-bin (2.72.4-0ubuntu2.2) ...\n",
            "Selecting previously unselected package libblkid-dev:amd64.\n",
            "Preparing to unpack .../09-libblkid-dev_2.37.2-4ubuntu3_amd64.deb ...\n",
            "Unpacking libblkid-dev:amd64 (2.37.2-4ubuntu3) ...\n",
            "Selecting previously unselected package libsepol-dev:amd64.\n",
            "Preparing to unpack .../10-libsepol-dev_3.3-1build1_amd64.deb ...\n",
            "Unpacking libsepol-dev:amd64 (3.3-1build1) ...\n",
            "Selecting previously unselected package libselinux1-dev:amd64.\n",
            "Preparing to unpack .../11-libselinux1-dev_3.3-1build2_amd64.deb ...\n",
            "Unpacking libselinux1-dev:amd64 (3.3-1build2) ...\n",
            "Selecting previously unselected package libmount-dev:amd64.\n",
            "Preparing to unpack .../12-libmount-dev_2.37.2-4ubuntu3_amd64.deb ...\n",
            "Unpacking libmount-dev:amd64 (2.37.2-4ubuntu3) ...\n",
            "Selecting previously unselected package libglib2.0-dev:amd64.\n",
            "Preparing to unpack .../13-libglib2.0-dev_2.72.4-0ubuntu2.2_amd64.deb ...\n",
            "Unpacking libglib2.0-dev:amd64 (2.72.4-0ubuntu2.2) ...\n",
            "Selecting previously unselected package libcairo2-dev:amd64.\n",
            "Preparing to unpack .../14-libcairo2-dev_1.16.0-5ubuntu2_amd64.deb ...\n",
            "Unpacking libcairo2-dev:amd64 (1.16.0-5ubuntu2) ...\n",
            "Setting up libglib2.0-dev-bin (2.72.4-0ubuntu2.2) ...\n",
            "Setting up libblkid-dev:amd64 (2.37.2-4ubuntu3) ...\n",
            "Setting up libpixman-1-dev:amd64 (0.40.0-1ubuntu0.22.04.1) ...\n",
            "Setting up libice-dev:amd64 (2:1.0.10-1build2) ...\n",
            "Setting up libsm-dev:amd64 (2:1.2.3-1build2) ...\n",
            "Setting up liblzo2-2:amd64 (2.10-2build3) ...\n",
            "Setting up libffi-dev:amd64 (3.4.2-4) ...\n",
            "Setting up libxcb-shm0-dev:amd64 (1.14-3ubuntu3) ...\n",
            "Setting up libsepol-dev:amd64 (3.3-1build1) ...\n",
            "Setting up libxcb-render0-dev:amd64 (1.14-3ubuntu3) ...\n",
            "Setting up libcairo-script-interpreter2:amd64 (1.16.0-5ubuntu2) ...\n",
            "Setting up libselinux1-dev:amd64 (3.3-1build2) ...\n",
            "Setting up libmount-dev:amd64 (2.37.2-4ubuntu3) ...\n",
            "Setting up libglib2.0-dev:amd64 (2.72.4-0ubuntu2.2) ...\n",
            "Processing triggers for libglib2.0-0:amd64 (2.72.4-0ubuntu2.2) ...\n",
            "Processing triggers for libc-bin (2.35-0ubuntu3.4) ...\n",
            "/sbin/ldconfig.real: /usr/local/lib/libtbbbind_2_0.so.3 is not a symbolic link\n",
            "\n",
            "/sbin/ldconfig.real: /usr/local/lib/libtbbbind.so.3 is not a symbolic link\n",
            "\n",
            "/sbin/ldconfig.real: /usr/local/lib/libtbbmalloc.so.2 is not a symbolic link\n",
            "\n",
            "/sbin/ldconfig.real: /usr/local/lib/libtbb.so.12 is not a symbolic link\n",
            "\n",
            "/sbin/ldconfig.real: /usr/local/lib/libtbbbind_2_5.so.3 is not a symbolic link\n",
            "\n",
            "/sbin/ldconfig.real: /usr/local/lib/libtbbmalloc_proxy.so.2 is not a symbolic link\n",
            "\n",
            "Processing triggers for man-db (2.10.2-1) ...\n",
            "Setting up libcairo2-dev:amd64 (1.16.0-5ubuntu2) ...\n"
          ]
        }
      ]
    },
    {
      "cell_type": "code",
      "source": [
        "!pip install pycairo\n",
        "# !pip install mercantile pycairo"
      ],
      "metadata": {
        "colab": {
          "base_uri": "https://localhost:8080/"
        },
        "id": "qS0u-d4zBoRX",
        "outputId": "d15a0810-5c08-4c15-da77-8e2bf5902467"
      },
      "execution_count": null,
      "outputs": [
        {
          "output_type": "stream",
          "name": "stdout",
          "text": [
            "Collecting mercantile\n",
            "  Downloading mercantile-1.2.1-py3-none-any.whl (14 kB)\n",
            "Collecting pycairo\n",
            "  Downloading pycairo-1.25.1.tar.gz (347 kB)\n",
            "\u001b[2K     \u001b[90m━━━━━━━━━━━━━━━━━━━━━━━━━━━━━━━━━━━━━━━━\u001b[0m \u001b[32m347.1/347.1 kB\u001b[0m \u001b[31m3.8 MB/s\u001b[0m eta \u001b[36m0:00:00\u001b[0m\n",
            "\u001b[?25h  Installing build dependencies ... \u001b[?25l\u001b[?25hdone\n",
            "  Getting requirements to build wheel ... \u001b[?25l\u001b[?25hdone\n",
            "  Installing backend dependencies ... \u001b[?25l\u001b[?25hdone\n",
            "  Preparing metadata (pyproject.toml) ... \u001b[?25l\u001b[?25hdone\n",
            "Requirement already satisfied: click>=3.0 in /usr/local/lib/python3.10/dist-packages (from mercantile) (8.1.7)\n",
            "Building wheels for collected packages: pycairo\n",
            "  Building wheel for pycairo (pyproject.toml) ... \u001b[?25l\u001b[?25hdone\n",
            "  Created wheel for pycairo: filename=pycairo-1.25.1-cp310-cp310-linux_x86_64.whl size=320919 sha256=29399e7b5c9218517c004329d6bf8f3e376a67c7e39e3cb62bb96f1af6b149f5\n",
            "  Stored in directory: /root/.cache/pip/wheels/d6/d8/c4/9bb1adbc349a349ed4718627f0afffeae26d9982060568cd30\n",
            "Successfully built pycairo\n",
            "Installing collected packages: pycairo, mercantile\n",
            "Successfully installed mercantile-1.2.1 pycairo-1.25.1\n"
          ]
        }
      ]
    },
    {
      "cell_type": "code",
      "source": [
        "import mercantile\n",
        "\n",
        "west = 100.393\n",
        "south = 50.986\n",
        "east = 111.182\n",
        "north = 56.559\n",
        "zoom = 5 # для начала нам хватит зума поменьше, чтобы не сильно нагружать osm\n",
        "\n",
        "tiles = list(mercantile.tiles(west, south, east, north, zoom))\n",
        "print(tiles)"
      ],
      "metadata": {
        "colab": {
          "base_uri": "https://localhost:8080/"
        },
        "id": "MKLIm-RxWLKR",
        "outputId": "c3b453a7-007d-47e3-dfca-ffcfb637af2e"
      },
      "execution_count": null,
      "outputs": [
        {
          "output_type": "stream",
          "name": "stdout",
          "text": [
            "[Tile(x=24, y=9, z=5), Tile(x=24, y=10, z=5), Tile(x=25, y=9, z=5), Tile(x=25, y=10, z=5)]\n"
          ]
        }
      ]
    },
    {
      "cell_type": "code",
      "source": [
        "import io\n",
        "import urllib.request\n",
        "import random\n",
        "from cairo import ImageSurface, FORMAT_ARGB32, Context\n",
        "import mercantile\n",
        "\n",
        "west = 100.393\n",
        "south = 50.986\n",
        "east = 111.182\n",
        "north = 56.559\n",
        "zoom = 5\n",
        "\n",
        "tiles = list(mercantile.tiles(west, south, east, north, zoom))\n",
        "\n",
        "tile_size = (256, 256)\n",
        "# создаем пустое изображение в которое как мозайку будем вставлять тайлы\n",
        "# для начала просто попробуем отобразить все четыре тайла в строчку\n",
        "map_image = ImageSurface(FORMAT_ARGB32, tile_size[0] * len(tiles), tile_size[1])\n",
        "\n",
        "# создаем контекст для рисования\n",
        "ctx = Context(map_image)\n",
        "\n",
        "for idx, t in enumerate(tiles):\n",
        "    server = random.choice(['a', 'b', 'c'])  # у OSM три сервера, распределяем нагрузку\n",
        "    url = 'http://{server}.tile.openstreetmap.org/{zoom}/{x}/{y}.png'.format(\n",
        "        server=server,\n",
        "        zoom=t.z,\n",
        "        x=t.x,\n",
        "        y=t.y\n",
        "    )\n",
        "    print(url)\n",
        "    # запрашиваем изображение\n",
        "    response = urllib.request.urlopen(url)\n",
        "\n",
        "    # создаем cairo изображние\n",
        "    img = ImageSurface.create_from_png(io.BytesIO(response.read()))\n",
        "\n",
        "    # рисуем изображение, с правильным сдвигом по оси x\n",
        "    ctx.set_source_surface(img, idx * tile_size[0], 0)\n",
        "    ctx.paint()\n",
        "\n",
        "# сохраняем собраное изображение в файл\n",
        "with open(\"map.png\", \"wb\") as f:\n",
        "    map_image.write_to_png(f)"
      ],
      "metadata": {
        "colab": {
          "base_uri": "https://localhost:8080/",
          "height": 407
        },
        "id": "XdHtyesmWVZQ",
        "outputId": "51ae6697-2eff-4653-8119-01ab584da4a4"
      },
      "execution_count": null,
      "outputs": [
        {
          "output_type": "stream",
          "name": "stdout",
          "text": [
            "http://a.tile.openstreetmap.org/5/24/9.png\n"
          ]
        },
        {
          "output_type": "error",
          "ename": "HTTPError",
          "evalue": "ignored",
          "traceback": [
            "\u001b[0;31m---------------------------------------------------------------------------\u001b[0m",
            "\u001b[0;31mHTTPError\u001b[0m                                 Traceback (most recent call last)",
            "\u001b[0;32m<ipython-input-8-1c4e4b697ea0>\u001b[0m in \u001b[0;36m<cell line: 23>\u001b[0;34m()\u001b[0m\n\u001b[1;32m     31\u001b[0m     \u001b[0mprint\u001b[0m\u001b[0;34m(\u001b[0m\u001b[0murl\u001b[0m\u001b[0;34m)\u001b[0m\u001b[0;34m\u001b[0m\u001b[0;34m\u001b[0m\u001b[0m\n\u001b[1;32m     32\u001b[0m     \u001b[0;31m# запрашиваем изображение\u001b[0m\u001b[0;34m\u001b[0m\u001b[0;34m\u001b[0m\u001b[0m\n\u001b[0;32m---> 33\u001b[0;31m     \u001b[0mresponse\u001b[0m \u001b[0;34m=\u001b[0m \u001b[0murllib\u001b[0m\u001b[0;34m.\u001b[0m\u001b[0mrequest\u001b[0m\u001b[0;34m.\u001b[0m\u001b[0murlopen\u001b[0m\u001b[0;34m(\u001b[0m\u001b[0murl\u001b[0m\u001b[0;34m)\u001b[0m\u001b[0;34m\u001b[0m\u001b[0;34m\u001b[0m\u001b[0m\n\u001b[0m\u001b[1;32m     34\u001b[0m \u001b[0;34m\u001b[0m\u001b[0m\n\u001b[1;32m     35\u001b[0m     \u001b[0;31m# создаем cairo изображние\u001b[0m\u001b[0;34m\u001b[0m\u001b[0;34m\u001b[0m\u001b[0m\n",
            "\u001b[0;32m/usr/lib/python3.10/urllib/request.py\u001b[0m in \u001b[0;36murlopen\u001b[0;34m(url, data, timeout, cafile, capath, cadefault, context)\u001b[0m\n\u001b[1;32m    214\u001b[0m     \u001b[0;32melse\u001b[0m\u001b[0;34m:\u001b[0m\u001b[0;34m\u001b[0m\u001b[0;34m\u001b[0m\u001b[0m\n\u001b[1;32m    215\u001b[0m         \u001b[0mopener\u001b[0m \u001b[0;34m=\u001b[0m \u001b[0m_opener\u001b[0m\u001b[0;34m\u001b[0m\u001b[0;34m\u001b[0m\u001b[0m\n\u001b[0;32m--> 216\u001b[0;31m     \u001b[0;32mreturn\u001b[0m \u001b[0mopener\u001b[0m\u001b[0;34m.\u001b[0m\u001b[0mopen\u001b[0m\u001b[0;34m(\u001b[0m\u001b[0murl\u001b[0m\u001b[0;34m,\u001b[0m \u001b[0mdata\u001b[0m\u001b[0;34m,\u001b[0m \u001b[0mtimeout\u001b[0m\u001b[0;34m)\u001b[0m\u001b[0;34m\u001b[0m\u001b[0;34m\u001b[0m\u001b[0m\n\u001b[0m\u001b[1;32m    217\u001b[0m \u001b[0;34m\u001b[0m\u001b[0m\n\u001b[1;32m    218\u001b[0m \u001b[0;32mdef\u001b[0m \u001b[0minstall_opener\u001b[0m\u001b[0;34m(\u001b[0m\u001b[0mopener\u001b[0m\u001b[0;34m)\u001b[0m\u001b[0;34m:\u001b[0m\u001b[0;34m\u001b[0m\u001b[0;34m\u001b[0m\u001b[0m\n",
            "\u001b[0;32m/usr/lib/python3.10/urllib/request.py\u001b[0m in \u001b[0;36mopen\u001b[0;34m(self, fullurl, data, timeout)\u001b[0m\n\u001b[1;32m    523\u001b[0m         \u001b[0;32mfor\u001b[0m \u001b[0mprocessor\u001b[0m \u001b[0;32min\u001b[0m \u001b[0mself\u001b[0m\u001b[0;34m.\u001b[0m\u001b[0mprocess_response\u001b[0m\u001b[0;34m.\u001b[0m\u001b[0mget\u001b[0m\u001b[0;34m(\u001b[0m\u001b[0mprotocol\u001b[0m\u001b[0;34m,\u001b[0m \u001b[0;34m[\u001b[0m\u001b[0;34m]\u001b[0m\u001b[0;34m)\u001b[0m\u001b[0;34m:\u001b[0m\u001b[0;34m\u001b[0m\u001b[0;34m\u001b[0m\u001b[0m\n\u001b[1;32m    524\u001b[0m             \u001b[0mmeth\u001b[0m \u001b[0;34m=\u001b[0m \u001b[0mgetattr\u001b[0m\u001b[0;34m(\u001b[0m\u001b[0mprocessor\u001b[0m\u001b[0;34m,\u001b[0m \u001b[0mmeth_name\u001b[0m\u001b[0;34m)\u001b[0m\u001b[0;34m\u001b[0m\u001b[0;34m\u001b[0m\u001b[0m\n\u001b[0;32m--> 525\u001b[0;31m             \u001b[0mresponse\u001b[0m \u001b[0;34m=\u001b[0m \u001b[0mmeth\u001b[0m\u001b[0;34m(\u001b[0m\u001b[0mreq\u001b[0m\u001b[0;34m,\u001b[0m \u001b[0mresponse\u001b[0m\u001b[0;34m)\u001b[0m\u001b[0;34m\u001b[0m\u001b[0;34m\u001b[0m\u001b[0m\n\u001b[0m\u001b[1;32m    526\u001b[0m \u001b[0;34m\u001b[0m\u001b[0m\n\u001b[1;32m    527\u001b[0m         \u001b[0;32mreturn\u001b[0m \u001b[0mresponse\u001b[0m\u001b[0;34m\u001b[0m\u001b[0;34m\u001b[0m\u001b[0m\n",
            "\u001b[0;32m/usr/lib/python3.10/urllib/request.py\u001b[0m in \u001b[0;36mhttp_response\u001b[0;34m(self, request, response)\u001b[0m\n\u001b[1;32m    632\u001b[0m         \u001b[0;31m# request was successfully received, understood, and accepted.\u001b[0m\u001b[0;34m\u001b[0m\u001b[0;34m\u001b[0m\u001b[0m\n\u001b[1;32m    633\u001b[0m         \u001b[0;32mif\u001b[0m \u001b[0;32mnot\u001b[0m \u001b[0;34m(\u001b[0m\u001b[0;36m200\u001b[0m \u001b[0;34m<=\u001b[0m \u001b[0mcode\u001b[0m \u001b[0;34m<\u001b[0m \u001b[0;36m300\u001b[0m\u001b[0;34m)\u001b[0m\u001b[0;34m:\u001b[0m\u001b[0;34m\u001b[0m\u001b[0;34m\u001b[0m\u001b[0m\n\u001b[0;32m--> 634\u001b[0;31m             response = self.parent.error(\n\u001b[0m\u001b[1;32m    635\u001b[0m                 'http', request, response, code, msg, hdrs)\n\u001b[1;32m    636\u001b[0m \u001b[0;34m\u001b[0m\u001b[0m\n",
            "\u001b[0;32m/usr/lib/python3.10/urllib/request.py\u001b[0m in \u001b[0;36merror\u001b[0;34m(self, proto, *args)\u001b[0m\n\u001b[1;32m    561\u001b[0m         \u001b[0;32mif\u001b[0m \u001b[0mhttp_err\u001b[0m\u001b[0;34m:\u001b[0m\u001b[0;34m\u001b[0m\u001b[0;34m\u001b[0m\u001b[0m\n\u001b[1;32m    562\u001b[0m             \u001b[0margs\u001b[0m \u001b[0;34m=\u001b[0m \u001b[0;34m(\u001b[0m\u001b[0mdict\u001b[0m\u001b[0;34m,\u001b[0m \u001b[0;34m'default'\u001b[0m\u001b[0;34m,\u001b[0m \u001b[0;34m'http_error_default'\u001b[0m\u001b[0;34m)\u001b[0m \u001b[0;34m+\u001b[0m \u001b[0morig_args\u001b[0m\u001b[0;34m\u001b[0m\u001b[0;34m\u001b[0m\u001b[0m\n\u001b[0;32m--> 563\u001b[0;31m             \u001b[0;32mreturn\u001b[0m \u001b[0mself\u001b[0m\u001b[0;34m.\u001b[0m\u001b[0m_call_chain\u001b[0m\u001b[0;34m(\u001b[0m\u001b[0;34m*\u001b[0m\u001b[0margs\u001b[0m\u001b[0;34m)\u001b[0m\u001b[0;34m\u001b[0m\u001b[0;34m\u001b[0m\u001b[0m\n\u001b[0m\u001b[1;32m    564\u001b[0m \u001b[0;34m\u001b[0m\u001b[0m\n\u001b[1;32m    565\u001b[0m \u001b[0;31m# XXX probably also want an abstract factory that knows when it makes\u001b[0m\u001b[0;34m\u001b[0m\u001b[0;34m\u001b[0m\u001b[0m\n",
            "\u001b[0;32m/usr/lib/python3.10/urllib/request.py\u001b[0m in \u001b[0;36m_call_chain\u001b[0;34m(self, chain, kind, meth_name, *args)\u001b[0m\n\u001b[1;32m    494\u001b[0m         \u001b[0;32mfor\u001b[0m \u001b[0mhandler\u001b[0m \u001b[0;32min\u001b[0m \u001b[0mhandlers\u001b[0m\u001b[0;34m:\u001b[0m\u001b[0;34m\u001b[0m\u001b[0;34m\u001b[0m\u001b[0m\n\u001b[1;32m    495\u001b[0m             \u001b[0mfunc\u001b[0m \u001b[0;34m=\u001b[0m \u001b[0mgetattr\u001b[0m\u001b[0;34m(\u001b[0m\u001b[0mhandler\u001b[0m\u001b[0;34m,\u001b[0m \u001b[0mmeth_name\u001b[0m\u001b[0;34m)\u001b[0m\u001b[0;34m\u001b[0m\u001b[0;34m\u001b[0m\u001b[0m\n\u001b[0;32m--> 496\u001b[0;31m             \u001b[0mresult\u001b[0m \u001b[0;34m=\u001b[0m \u001b[0mfunc\u001b[0m\u001b[0;34m(\u001b[0m\u001b[0;34m*\u001b[0m\u001b[0margs\u001b[0m\u001b[0;34m)\u001b[0m\u001b[0;34m\u001b[0m\u001b[0;34m\u001b[0m\u001b[0m\n\u001b[0m\u001b[1;32m    497\u001b[0m             \u001b[0;32mif\u001b[0m \u001b[0mresult\u001b[0m \u001b[0;32mis\u001b[0m \u001b[0;32mnot\u001b[0m \u001b[0;32mNone\u001b[0m\u001b[0;34m:\u001b[0m\u001b[0;34m\u001b[0m\u001b[0;34m\u001b[0m\u001b[0m\n\u001b[1;32m    498\u001b[0m                 \u001b[0;32mreturn\u001b[0m \u001b[0mresult\u001b[0m\u001b[0;34m\u001b[0m\u001b[0;34m\u001b[0m\u001b[0m\n",
            "\u001b[0;32m/usr/lib/python3.10/urllib/request.py\u001b[0m in \u001b[0;36mhttp_error_default\u001b[0;34m(self, req, fp, code, msg, hdrs)\u001b[0m\n\u001b[1;32m    641\u001b[0m \u001b[0;32mclass\u001b[0m \u001b[0mHTTPDefaultErrorHandler\u001b[0m\u001b[0;34m(\u001b[0m\u001b[0mBaseHandler\u001b[0m\u001b[0;34m)\u001b[0m\u001b[0;34m:\u001b[0m\u001b[0;34m\u001b[0m\u001b[0;34m\u001b[0m\u001b[0m\n\u001b[1;32m    642\u001b[0m     \u001b[0;32mdef\u001b[0m \u001b[0mhttp_error_default\u001b[0m\u001b[0;34m(\u001b[0m\u001b[0mself\u001b[0m\u001b[0;34m,\u001b[0m \u001b[0mreq\u001b[0m\u001b[0;34m,\u001b[0m \u001b[0mfp\u001b[0m\u001b[0;34m,\u001b[0m \u001b[0mcode\u001b[0m\u001b[0;34m,\u001b[0m \u001b[0mmsg\u001b[0m\u001b[0;34m,\u001b[0m \u001b[0mhdrs\u001b[0m\u001b[0;34m)\u001b[0m\u001b[0;34m:\u001b[0m\u001b[0;34m\u001b[0m\u001b[0;34m\u001b[0m\u001b[0m\n\u001b[0;32m--> 643\u001b[0;31m         \u001b[0;32mraise\u001b[0m \u001b[0mHTTPError\u001b[0m\u001b[0;34m(\u001b[0m\u001b[0mreq\u001b[0m\u001b[0;34m.\u001b[0m\u001b[0mfull_url\u001b[0m\u001b[0;34m,\u001b[0m \u001b[0mcode\u001b[0m\u001b[0;34m,\u001b[0m \u001b[0mmsg\u001b[0m\u001b[0;34m,\u001b[0m \u001b[0mhdrs\u001b[0m\u001b[0;34m,\u001b[0m \u001b[0mfp\u001b[0m\u001b[0;34m)\u001b[0m\u001b[0;34m\u001b[0m\u001b[0;34m\u001b[0m\u001b[0m\n\u001b[0m\u001b[1;32m    644\u001b[0m \u001b[0;34m\u001b[0m\u001b[0m\n\u001b[1;32m    645\u001b[0m \u001b[0;32mclass\u001b[0m \u001b[0mHTTPRedirectHandler\u001b[0m\u001b[0;34m(\u001b[0m\u001b[0mBaseHandler\u001b[0m\u001b[0;34m)\u001b[0m\u001b[0;34m:\u001b[0m\u001b[0;34m\u001b[0m\u001b[0;34m\u001b[0m\u001b[0m\n",
            "\u001b[0;31mHTTPError\u001b[0m: HTTP Error 403: Forbidden"
          ]
        }
      ]
    },
    {
      "cell_type": "code",
      "source": [
        "!pip show pycairo"
      ],
      "metadata": {
        "colab": {
          "base_uri": "https://localhost:8080/"
        },
        "id": "z8LDxlJpDPv-",
        "outputId": "15f27db5-0346-45fa-c50e-ef0cae62ea0b"
      },
      "execution_count": null,
      "outputs": [
        {
          "output_type": "stream",
          "name": "stdout",
          "text": [
            "Name: pycairo\n",
            "Version: 1.25.1\n",
            "Summary: Python interface for cairo\n",
            "Home-page: https://pycairo.readthedocs.io\n",
            "Author: \n",
            "Author-email: \n",
            "License: LGPL-2.1-only OR MPL-1.1\n",
            "Location: /usr/local/lib/python3.10/dist-packages\n",
            "Requires: \n",
            "Required-by: PyGObject\n"
          ]
        }
      ]
    },
    {
      "cell_type": "markdown",
      "source": [
        "## 08.12.23"
      ],
      "metadata": {
        "id": "hHWMVLiXyZJp"
      }
    },
    {
      "cell_type": "code",
      "source": [
        "txt_1 = '«Компьютеры становятся все умнее. Ученые утверждают, что скоро они смогут разговаривать с нами. (Говоря «они», я имею в виду компьютеры; я сомневаюсь, что ученые когда-либо смогут разговаривать с нами.)»'\n",
        "\n",
        "txt_1.replace('\\W', ' ').split('.')\n",
        "print(*txt_1)"
      ],
      "metadata": {
        "colab": {
          "base_uri": "https://localhost:8080/"
        },
        "id": "hgb55fgdyYWW",
        "outputId": "69d11b5c-5ba8-4311-f296-aab1c5e8791e"
      },
      "execution_count": null,
      "outputs": [
        {
          "output_type": "stream",
          "name": "stdout",
          "text": [
            "« К о м п ь ю т е р ы   с т а н о в я т с я   в с е   у м н е е .   У ч е н ы е   у т в е р ж д а ю т ,   ч т о   с к о р о   о н и   с м о г у т   р а з г о в а р и в а т ь   с   н а м и .   ( Г о в о р я   « о н и » ,   я   и м е ю   в   в и д у   к о м п ь ю т е р ы ;   я   с о м н е в а ю с ь ,   ч т о   у ч е н ы е   к о г д а - л и б о   с м о г у т   р а з г о в а р и в а т ь   с   н а м и . ) »\n"
          ]
        }
      ]
    },
    {
      "cell_type": "markdown",
      "source": [
        "## 04.12.23"
      ],
      "metadata": {
        "id": "DjPVc5ZHu_Aw"
      }
    },
    {
      "cell_type": "code",
      "source": [
        "open('data.txt', 'w').write(text)\n",
        "prices = re.findall(r\"Имя\": (\\d+\\.\\d+)', text)\n",
        "for student in students:\n",
        "    print(f\"Имя: {student}[\"Имя\"] )"
      ],
      "metadata": {
        "id": "DFkg2giYRYi0"
      },
      "execution_count": null,
      "outputs": []
    },
    {
      "cell_type": "code",
      "source": [
        "my_list = ['дом', 'квартира', 'поместье']\n",
        "list_end = list(map(lambda x: x[::-1], my_list))\n",
        "print(list_end)"
      ],
      "metadata": {
        "id": "7JvhN9ieN31n"
      },
      "execution_count": null,
      "outputs": []
    },
    {
      "cell_type": "code",
      "source": [
        "match ns[idx]:\n",
        "    case 'BoW':\n",
        "        x_train_01 = tokenizer.sequences_to_matrix(x_train.tolist()) # Формирование выборок текстов в виде разреженных матриц (bag of words)\n",
        "        x_test_01 = tokenizer.sequences_to_matrix(x_test.tolist()) # На входе .sequences_to_matrix() ожидает список, .tolist() выполняет преобразование типа\n",
        "\n",
        "        model = Sequential()\n",
        "        model.add(Dense(200, input_dim = i, activation = \"relu\"))\n",
        "        model.add(Dropout(0.25))\n",
        "        model.add(BatchNormalization())\n",
        "        model.add(Dense(CLASS_COUNT, activation = 'softmax'))\n",
        "\n",
        "        model.compile(optimizer='adam', loss='categorical_crossentropy', metrics=['accuracy'])\n",
        "        model.summary()\n",
        "\n",
        "    case 'Embedding_200':\n",
        "        model = Sequential()\n",
        "        model.add(Embedding(i, 200, input_length = win_sizes[idx]))\n",
        "        model.add(SpatialDropout1D(0.2))\n",
        "        model.add(Flatten())\n",
        "        model.add(BatchNormalization())\n",
        "        model.add(Dense(200, activation = \"relu\"))\n",
        "        model.add(Dropout(0.2))\n",
        "        model.add(BatchNormalization())\n",
        "        model.add(Dense(CLASS_COUNT, activation = 'softmax'))\n",
        "\n",
        "        model.compile(optimizer='adam', loss='categorical_crossentropy', metrics=['accuracy'])\n",
        "        model.summary()\n",
        "\n",
        "    case 'Embedding_200_nr':\n",
        "        model = Sequential()\n",
        "        model.add(Embedding(i, 200, input_length = win_sizes[idx]))\n",
        "        model.add(Flatten())\n",
        "        model.add(BatchNormalization())\n",
        "        model.add(Dense(200, activation = \"relu\"))\n",
        "        model.add(BatchNormalization())\n",
        "        model.add(Dense(CLASS_COUNT, activation = 'softmax'))\n",
        "\n",
        "        model.compile(optimizer='adam', loss='categorical_crossentropy', metrics=['accuracy'])\n",
        "        model.summary()"
      ],
      "metadata": {
        "id": "ild51mVpdm3c"
      },
      "execution_count": null,
      "outputs": []
    },
    {
      "cell_type": "code",
      "metadata": {
        "colab": {
          "base_uri": "https://localhost:8080/"
        },
        "id": "o85uIqagFQos",
        "outputId": "9cddf5f8-71be-4cbd-a159-91a38113bd78"
      },
      "source": [
        "\n",
        "\n",
        "x_train, y_train = vectorize_sequence(seq_train, WIN_SIZE, WIN_HOP)\n",
        "x_test, y_test = vectorize_sequence(seq_test, WIN_SIZE, WIN_HOP)\n",
        "\n",
        "print(x_train.shape, y_train.shape)\n",
        "print(x_test.shape, y_test.shape)"
      ],
      "execution_count": null,
      "outputs": [
        {
          "output_type": "stream",
          "text": [
            "(17640, 1000) (17640, 6)\n",
            "(6686, 1000) (6686, 6)\n",
            "Время обработки: 1.91 с\n"
          ],
          "name": "stdout"
        }
      ]
    },
    {
      "cell_type": "code",
      "source": [
        "from tensorflow.keras.models import Sequential\n",
        "from tensorflow.keras.layers import Embedding, SpatialDropout1D, BatchNormalization, Dense\n"
      ],
      "metadata": {
        "id": "7qsJI9XQzNoV"
      },
      "execution_count": null,
      "outputs": []
    },
    {
      "cell_type": "code",
      "source": [
        "model_Conv_4 = Sequential()\n",
        "model_Conv_4.add(Embedding(5000, 50, input_length=1000)) # (1000, 50)\n",
        "model_Conv_4.add(SpatialDropout1D(0.2)) # (1000, 50)\n",
        "model_Conv_4.add(BatchNormalization()) # (1000, 50)\n",
        "model_Conv_4.add(Dense(20, activation='relu')) # (1000, 20)\n",
        "model_Conv_4.add(BatchNormalization()) # (1000, 20)\n",
        "model_Conv_4.add(Dense(6, activation='softmax')) # (1000, 6)\n",
        "\n",
        "model_Conv_4.compile(optimizer='adam', loss='categorical_crossentropy', metrics=['mse'])"
      ],
      "metadata": {
        "id": "em3cT8PhxTxU"
      },
      "execution_count": null,
      "outputs": []
    },
    {
      "cell_type": "code",
      "source": [
        "model_Conv_4.summary()"
      ],
      "metadata": {
        "colab": {
          "base_uri": "https://localhost:8080/"
        },
        "id": "3JBpg9n9znqy",
        "outputId": "404c10ab-b355-47c2-f0b5-474caabb50d8"
      },
      "execution_count": null,
      "outputs": [
        {
          "output_type": "stream",
          "name": "stdout",
          "text": [
            "Model: \"sequential_1\"\n",
            "_________________________________________________________________\n",
            " Layer (type)                Output Shape              Param #   \n",
            "=================================================================\n",
            " embedding (Embedding)       (None, 1000, 50)          250000    \n",
            "                                                                 \n",
            " spatial_dropout1d (Spatial  (None, 1000, 50)          0         \n",
            " Dropout1D)                                                      \n",
            "                                                                 \n",
            " batch_normalization (Batch  (None, 1000, 50)          200       \n",
            " Normalization)                                                  \n",
            "                                                                 \n",
            " dense (Dense)               (None, 1000, 20)          1020      \n",
            "                                                                 \n",
            " batch_normalization_1 (Bat  (None, 1000, 20)          80        \n",
            " chNormalization)                                                \n",
            "                                                                 \n",
            " dense_1 (Dense)             (None, 1000, 6)           126       \n",
            "                                                                 \n",
            "=================================================================\n",
            "Total params: 251426 (982.13 KB)\n",
            "Trainable params: 251286 (981.59 KB)\n",
            "Non-trainable params: 140 (560.00 Byte)\n",
            "_________________________________________________________________\n"
          ]
        }
      ]
    },
    {
      "cell_type": "markdown",
      "source": [],
      "metadata": {
        "id": "x3bIHzRhEFJ2"
      }
    },
    {
      "cell_type": "code",
      "source": [
        "hidden_state=True, hidden_seqvence=True\n",
        "from tensorflow.keras.layers import Conv2D, MaxPooling2D"
      ],
      "metadata": {
        "id": "pgbtzT0r0oiB"
      },
      "execution_count": null,
      "outputs": []
    },
    {
      "cell_type": "code",
      "source": [
        "model = Sequential()\n",
        "model.add(Conv2D(32, kernel_size=(3, 3), activation='relu', input_shape=(28, 28, 1))) # (26, 26, 32)\n",
        "model.add(MaxPooling2D(pool_size=(2, 2))) # (13, 13, 32)\n",
        "model.add(BatchNormalization())\n",
        "\n",
        "model.add(Conv2D(64, kernel_size=(3, 3), activation='sigmoid')) # (24, 24, 64)\n",
        "model.add(MaxPooling2D(pool_size=(2, 2))) # (12, 12, 64)\n",
        "model.add(BatchNormalization())\n",
        "\n",
        "model.add(Dense(1, activation='sigmoid')) # (12, 12, 10)\n",
        "\n",
        "model.compile(optimizer='adam', loss='binary_crossentropy', metrics=['accuracy'])"
      ],
      "metadata": {
        "id": "4yurkUY8u82q"
      },
      "execution_count": null,
      "outputs": []
    },
    {
      "cell_type": "code",
      "source": [
        "model.summary()"
      ],
      "metadata": {
        "colab": {
          "base_uri": "https://localhost:8080/"
        },
        "id": "nRHfJSqp0xgi",
        "outputId": "206dce10-7bfa-462b-e2f5-86d867862844"
      },
      "execution_count": null,
      "outputs": [
        {
          "output_type": "stream",
          "name": "stdout",
          "text": [
            "Model: \"sequential_2\"\n",
            "_________________________________________________________________\n",
            " Layer (type)                Output Shape              Param #   \n",
            "=================================================================\n",
            " conv2d (Conv2D)             (None, 26, 26, 32)        320       \n",
            "                                                                 \n",
            " max_pooling2d (MaxPooling2  (None, 13, 13, 32)        0         \n",
            " D)                                                              \n",
            "                                                                 \n",
            " batch_normalization_2 (Bat  (None, 13, 13, 32)        128       \n",
            " chNormalization)                                                \n",
            "                                                                 \n",
            " conv2d_1 (Conv2D)           (None, 11, 11, 64)        18496     \n",
            "                                                                 \n",
            " max_pooling2d_1 (MaxPoolin  (None, 5, 5, 64)          0         \n",
            " g2D)                                                            \n",
            "                                                                 \n",
            " batch_normalization_3 (Bat  (None, 5, 5, 64)          256       \n",
            " chNormalization)                                                \n",
            "                                                                 \n",
            " dense_2 (Dense)             (None, 5, 5, 10)          650       \n",
            "                                                                 \n",
            "=================================================================\n",
            "Total params: 19850 (77.54 KB)\n",
            "Trainable params: 19658 (76.79 KB)\n",
            "Non-trainable params: 192 (768.00 Byte)\n",
            "_________________________________________________________________\n"
          ]
        }
      ]
    },
    {
      "cell_type": "markdown",
      "source": [],
      "metadata": {
        "id": "-vWihXxYEF6e"
      }
    },
    {
      "cell_type": "code",
      "source": [
        "model_simple = Sequential()\n",
        "model_simple.add(Dense(128, activation='relu', input_shape=(512, 512, 3))) # (512, 512, 128)\n",
        "model_simple.add(Dense(1, activation='linear')) # (512, 512, 1)"
      ],
      "metadata": {
        "id": "7hdW4qhu1t_G"
      },
      "execution_count": null,
      "outputs": []
    },
    {
      "cell_type": "code",
      "source": [
        "model_simple.summary()"
      ],
      "metadata": {
        "colab": {
          "base_uri": "https://localhost:8080/"
        },
        "id": "ugmC8gV13MpF",
        "outputId": "087b94ac-8556-46a3-a9d5-60a1c57066f4"
      },
      "execution_count": null,
      "outputs": [
        {
          "output_type": "stream",
          "name": "stdout",
          "text": [
            "Model: \"sequential_14\"\n",
            "_________________________________________________________________\n",
            " Layer (type)                Output Shape              Param #   \n",
            "=================================================================\n",
            " dense_22 (Dense)            (None, 512, 512, 128)     512       \n",
            "                                                                 \n",
            " dense_23 (Dense)            (None, 512, 512, 1)       129       \n",
            "                                                                 \n",
            "=================================================================\n",
            "Total params: 641 (2.50 KB)\n",
            "Trainable params: 641 (2.50 KB)\n",
            "Non-trainable params: 0 (0.00 Byte)\n",
            "_________________________________________________________________\n"
          ]
        }
      ]
    },
    {
      "cell_type": "code",
      "source": [
        "model_simple = Sequential()\n",
        "model_simple.add(BatchNormalization(input_dim=(1000))) # (1000, 10)\n",
        "model_simple.add(Dense(128, activation='relu')) # (1000, 128)\n",
        "model_simple.add(Dense(1000, activation='tanh')) # (1000, 1000)\n",
        "model_simple.add(Dense(100, activation='relu')) # (1000, 100)\n",
        "model_simple.add(Dense(1, activation='linear')) # (1)\n",
        "\n",
        "model_simple.compile(optimizer='adam', loss='mse', metrics=['mae'])"
      ],
      "metadata": {
        "id": "hnSjHEWqwP0U"
      },
      "execution_count": null,
      "outputs": []
    },
    {
      "cell_type": "code",
      "source": [
        "model_simple.summary()"
      ],
      "metadata": {
        "colab": {
          "base_uri": "https://localhost:8080/"
        },
        "id": "ANTdAkhj14x_",
        "outputId": "f49d61c8-8c86-40e6-854e-425cbdc66241"
      },
      "execution_count": null,
      "outputs": [
        {
          "output_type": "stream",
          "name": "stdout",
          "text": [
            "Model: \"sequential_4\"\n",
            "_________________________________________________________________\n",
            " Layer (type)                Output Shape              Param #   \n",
            "=================================================================\n",
            " batch_normalization_5 (Bat  (None, 1000)              4000      \n",
            " chNormalization)                                                \n",
            "                                                                 \n",
            " dense_7 (Dense)             (None, 128)               128128    \n",
            "                                                                 \n",
            " dense_8 (Dense)             (None, 1000)              129000    \n",
            "                                                                 \n",
            " dense_9 (Dense)             (None, 100)               100100    \n",
            "                                                                 \n",
            " dense_10 (Dense)            (None, 1)                 101       \n",
            "                                                                 \n",
            "=================================================================\n",
            "Total params: 361329 (1.38 MB)\n",
            "Trainable params: 359329 (1.37 MB)\n",
            "Non-trainable params: 2000 (7.81 KB)\n",
            "_________________________________________________________________\n"
          ]
        }
      ]
    },
    {
      "cell_type": "markdown",
      "source": [],
      "metadata": {
        "id": "0KbefFpcGB3y"
      }
    },
    {
      "cell_type": "code",
      "source": [
        "img_input = Input(input_shape=(512, 512, 3))\n",
        "x = Conv2D(128, (3, 3), padding='same', name='block1_conv1')(img_input) (512, 512, 128)\n",
        "x = BatchNormalization()(x)\n",
        "x = Activation('relu')(x)\n",
        "\n",
        "x = Conv2D(64, (3, 3), padding='same', name='block1_conv3')(x) (512, 512, 64)\n",
        "x = BatchNormalization()(x)\n",
        "x = Activation('relu')(x)\n",
        "\n",
        "x = Conv2D(32, (3, 3), padding='same', name='block1_conv4')(x) (512, 512, 32)\n",
        "x = BatchNormalization()(x)\n",
        "x = Activation('relu')(x)\n",
        "\n",
        "x = Conv2D(16, (3, 3), padding='same', name='block1_conv5')(x) (512, 512, 16)\n",
        "x = BatchNormalization()(x)\n",
        "x = Activation('relu')(x)\n",
        "\n",
        "x = Conv2D(8, (3, 3), activation='softmax', padding='same')(x) (512, 512, 1)\n",
        "\n",
        "model = Model(img_input, x)\n",
        "\n",
        "# Компилируем модель\n",
        "model.compile(optimizer=Adam(learning_rate=1e-4),\n",
        "                loss='sparse_categorical_crossentropy',\n",
        "                metrics=['sparse_categorical_accuracy'])"
      ],
      "metadata": {
        "id": "YWIDLolhz6sG"
      },
      "execution_count": null,
      "outputs": []
    },
    {
      "cell_type": "markdown",
      "source": [
        "## 03.12.23"
      ],
      "metadata": {
        "id": "kriaQrGPHe58"
      }
    },
    {
      "cell_type": "code",
      "source": [
        "lst = ['дом', 'квартира', 'поместье']\n",
        "list_end = list(map(lambda x: x[::-1], lst))\n",
        "print(list_end)"
      ],
      "metadata": {
        "colab": {
          "base_uri": "https://localhost:8080/"
        },
        "id": "p_raKMV9jZGF",
        "outputId": "186f364d-ec2c-4d90-ca3e-3248e8d6ac3f"
      },
      "execution_count": null,
      "outputs": [
        {
          "output_type": "stream",
          "name": "stdout",
          "text": [
            "['мод', 'аритравк', 'еьтсемоп']\n"
          ]
        }
      ]
    },
    {
      "cell_type": "code",
      "source": [
        "import os\n",
        "import shutil\n",
        "from zipfile import ZipFile\n",
        "import sys\n",
        "\n",
        "os.mkdir('/content/my_folder')\n",
        "from pathlib import Path\n",
        "\n",
        "Path(\"file1.txt\").touch()\n",
        "Path(\"file2.txt\").touch()\n",
        "Path(\"file3.txt\").touch()\n",
        "Path(\"file4.txt\").touch()\n",
        "Path(\"file5.txt\").touch()\n",
        "Path(\"file6.txt\").touch()\n",
        "Path(\"file7.txt\").touch()\n",
        "Path(\"file8.txt\").touch()\n",
        "Path(\"file9.txt\").touch()\n",
        "Path(\"file10.txt\").touch()"
      ],
      "metadata": {
        "id": "9yXOpB3TgocL"
      },
      "execution_count": null,
      "outputs": []
    },
    {
      "cell_type": "code",
      "source": [
        "print(sys.path.append('/content/my_folder'))"
      ],
      "metadata": {
        "colab": {
          "base_uri": "https://localhost:8080/"
        },
        "id": "fRAcwKCSdi_e",
        "outputId": "d5479fd7-9164-4c97-80bd-ad128b5468b2"
      },
      "execution_count": null,
      "outputs": [
        {
          "output_type": "stream",
          "name": "stdout",
          "text": [
            "None\n"
          ]
        }
      ]
    },
    {
      "cell_type": "code",
      "source": [
        "import os\n",
        "import shutil\n",
        "from zipfile import ZipFile\n",
        "import sys\n",
        "sys.path.append('/content/my_folder')\n",
        "for i in range(1,11):\n",
        "  os.mkdir(f'/content/my_folder{i}')"
      ],
      "metadata": {
        "id": "4aX2tHcedPAw"
      },
      "execution_count": null,
      "outputs": []
    },
    {
      "cell_type": "code",
      "source": [
        "s = 'Python дай мне силы пройти этот курс до конца!'\n",
        "if len(s) > 10:\n",
        "    s = s[:10]\n",
        "lst = list(zip(s, range(len(s))))\n",
        "print(lst)"
      ],
      "metadata": {
        "colab": {
          "base_uri": "https://localhost:8080/"
        },
        "id": "uT5vDRHOIFgA",
        "outputId": "319cf288-ad95-42c0-e136-aee3d4465b23"
      },
      "execution_count": null,
      "outputs": [
        {
          "output_type": "stream",
          "name": "stdout",
          "text": [
            "[('P', 0), ('y', 1), ('t', 2), ('h', 3), ('o', 4), ('n', 5), (' ', 6), ('д', 7), ('а', 8), ('й', 9)]\n"
          ]
        }
      ]
    },
    {
      "cell_type": "code",
      "source": [
        "def is_even(x):\n",
        "    return len( str(x)) == 2\n",
        "\n",
        "string_ = [96, 186, 11, 116, 183,  95, 181, 95, 55, 128, 54, 24, 21, 198, 118, 46, 166, 137, 24]\n",
        "\n",
        "lst=list(filter(is_even, string_))\n",
        "print(lst)"
      ],
      "metadata": {
        "colab": {
          "base_uri": "https://localhost:8080/"
        },
        "id": "LFDR8ZIZHhP0",
        "outputId": "e98ad2ef-f204-4554-ab3b-3ca5b493a8c3"
      },
      "execution_count": null,
      "outputs": [
        {
          "output_type": "stream",
          "name": "stdout",
          "text": [
            "[96, 11, 95, 95, 55, 54, 24, 21, 46, 24]\n"
          ]
        }
      ]
    },
    {
      "cell_type": "markdown",
      "source": [
        "## 01.12.23"
      ],
      "metadata": {
        "id": "P-H0IJj1IL-t"
      }
    },
    {
      "cell_type": "code",
      "source": [
        "def sequence(N):\n",
        "    # Определение первых трех чисел\n",
        "    a, b, c = 1, 1, 1\n",
        "    yield a\n",
        "    yield b\n",
        "    yield c\n",
        "\n",
        "    # Генерация последующих чисел\n",
        "    for _ in range(N - 3):\n",
        "        next_num = a + b + c\n",
        "        yield next_num\n",
        "        a, b, c = b, c, next_num\n",
        "\n",
        "# Получение N чисел последовательности Балакирева\n",
        "N = int(input(\"Введите число N: \"))\n",
        "seq = sequence(N)\n",
        "\n",
        "# Вывод чисел на экран\n",
        "for num in seq:\n",
        "    print(num, end=\" \")"
      ],
      "metadata": {
        "colab": {
          "base_uri": "https://localhost:8080/"
        },
        "id": "j75JDmyMFlvt",
        "outputId": "8e59e09d-84d6-4333-b42b-0bc28fc9a8a7"
      },
      "execution_count": null,
      "outputs": [
        {
          "output_type": "stream",
          "name": "stdout",
          "text": [
            "Введите число N: 9\n",
            "1 1 1 3 5 9 17 31 57 "
          ]
        }
      ]
    },
    {
      "cell_type": "code",
      "source": [
        "for n in 1000\n",
        "    nrew = lambda *args : inversen/2 * n\n",
        "print(frew(2))"
      ],
      "metadata": {
        "id": "K2cgxu_DJe8J"
      },
      "execution_count": null,
      "outputs": []
    },
    {
      "cell_type": "code",
      "source": [
        "nrew = lambda n for n in range(1000): inversen/2 * n\n",
        "print(frew(2))"
      ],
      "metadata": {
        "colab": {
          "base_uri": "https://localhost:8080/",
          "height": 140
        },
        "id": "78Z37o0sILGZ",
        "outputId": "c6afdb54-365d-419b-eacf-3dd66adf66d2"
      },
      "execution_count": null,
      "outputs": [
        {
          "output_type": "error",
          "ename": "SyntaxError",
          "evalue": "ignored",
          "traceback": [
            "\u001b[0;36m  File \u001b[0;32m\"<ipython-input-2-b53da522573a>\"\u001b[0;36m, line \u001b[0;32m1\u001b[0m\n\u001b[0;31m    nrew = lambda n for n in range(1000): inversen/2 * n\u001b[0m\n\u001b[0m                    ^\u001b[0m\n\u001b[0;31mSyntaxError\u001b[0m\u001b[0;31m:\u001b[0m invalid syntax\n"
          ]
        }
      ]
    },
    {
      "cell_type": "markdown",
      "source": [
        "# 11.23"
      ],
      "metadata": {
        "id": "uVu9rF-RMfYe"
      }
    },
    {
      "cell_type": "markdown",
      "source": [
        "## 27.11.23"
      ],
      "metadata": {
        "id": "8RF24V5deSvB"
      }
    },
    {
      "cell_type": "code",
      "source": [
        "!pip install autokeras"
      ],
      "metadata": {
        "id": "86olrBkgUgdw"
      },
      "execution_count": null,
      "outputs": []
    },
    {
      "cell_type": "code",
      "source": [
        "import pandas as pd\n",
        "import numpy as np\n",
        "import os\n",
        "import typing\n",
        "import matplotlib.pyplot as plt\n",
        "import tensorflow as tf\n",
        "from tensorflow import keras\n",
        "from tensorflow.keras import layers\n",
        "import pandas as pd\n",
        "import urllib.request\n",
        "import zipfile\n",
        "import os"
      ],
      "metadata": {
        "id": "BzEWLSodX8nS"
      },
      "execution_count": null,
      "outputs": []
    },
    {
      "cell_type": "code",
      "source": [
        "import autokeras as ak"
      ],
      "metadata": {
        "colab": {
          "base_uri": "https://localhost:8080/"
        },
        "id": "GOQRZM8IUTzZ",
        "outputId": "866d58f7-a40c-4c06-e03e-14171745fe57"
      },
      "execution_count": null,
      "outputs": [
        {
          "output_type": "stream",
          "name": "stdout",
          "text": [
            "Using TensorFlow backend\n"
          ]
        }
      ]
    },
    {
      "cell_type": "code",
      "source": [
        "!pip -q install autokeras\n",
        "!pip uninstall keras-tuner\n",
        "!pip install keras-tuner==1.3.5"
      ],
      "metadata": {
        "id": "fgRgIu8zUTML"
      },
      "execution_count": null,
      "outputs": []
    },
    {
      "cell_type": "code",
      "source": [
        "from tensorflow.keras.models import Sequential\n",
        "\n",
        "from tensorflow.keras.layers import Conv2D, MaxPooling2D, Dense, Flatten\n",
        "from tensorflow.keras.layers import Dropout, BatchNormalization\n",
        "\n",
        "model = Sequential()\n",
        "model.add(Conv2D(32, kernel_size=(3, 3), activation='relu', input_shape=(28, 28, 1)))\n",
        "model.add(MaxPooling2D(pool_size=(2, 2)))\n",
        "model.add(BatchNormalization())\n",
        "\n",
        "model.add(Conv2D(64, kernel_size=(3, 3), activation='relu'))\n",
        "model.add(MaxPooling2D(pool_size=(2, 2)))\n",
        "model.add(BatchNormalization())\n",
        "\n",
        "model.add(Dense(10, activation='softmax'))\n",
        "\n",
        "model.summary()"
      ],
      "metadata": {
        "colab": {
          "base_uri": "https://localhost:8080/"
        },
        "id": "tcrGwys6eSDR",
        "outputId": "9e28850d-eb33-43ba-9322-8808bd200b7a"
      },
      "execution_count": null,
      "outputs": [
        {
          "output_type": "stream",
          "name": "stdout",
          "text": [
            "Model: \"sequential\"\n",
            "_________________________________________________________________\n",
            " Layer (type)                Output Shape              Param #   \n",
            "=================================================================\n",
            " conv2d (Conv2D)             (None, 26, 26, 32)        320       \n",
            "                                                                 \n",
            " max_pooling2d (MaxPooling2  (None, 13, 13, 32)        0         \n",
            " D)                                                              \n",
            "                                                                 \n",
            " batch_normalization (Batch  (None, 13, 13, 32)        128       \n",
            " Normalization)                                                  \n",
            "                                                                 \n",
            " conv2d_1 (Conv2D)           (None, 11, 11, 64)        18496     \n",
            "                                                                 \n",
            " max_pooling2d_1 (MaxPoolin  (None, 5, 5, 64)          0         \n",
            " g2D)                                                            \n",
            "                                                                 \n",
            " batch_normalization_1 (Bat  (None, 5, 5, 64)          256       \n",
            " chNormalization)                                                \n",
            "                                                                 \n",
            " dense (Dense)               (None, 5, 5, 10)          650       \n",
            "                                                                 \n",
            "=================================================================\n",
            "Total params: 19850 (77.54 KB)\n",
            "Trainable params: 19658 (76.79 KB)\n",
            "Non-trainable params: 192 (768.00 Byte)\n",
            "_________________________________________________________________\n"
          ]
        }
      ]
    },
    {
      "cell_type": "markdown",
      "source": [
        "## 26.11.23"
      ],
      "metadata": {
        "id": "CkXSpOME9O7M"
      }
    },
    {
      "cell_type": "code",
      "source": [
        "'{2}, {1}, {0}, {1}, {2}'.format('a', 'b', 'c')"
      ],
      "metadata": {
        "id": "KtHhTPU9yvOR",
        "outputId": "81177f65-60d3-4c84-df75-4415c33c67fb",
        "colab": {
          "base_uri": "https://localhost:8080/",
          "height": 35
        }
      },
      "execution_count": null,
      "outputs": [
        {
          "output_type": "execute_result",
          "data": {
            "text/plain": [
              "'c, b, a, b, c'"
            ],
            "application/vnd.google.colaboratory.intrinsic+json": {
              "type": "string"
            }
          },
          "metadata": {},
          "execution_count": 1
        }
      ]
    },
    {
      "cell_type": "code",
      "source": [
        "import numpy as np\n",
        "\n",
        "# Создаем двумерный массив размером (28, 28)\n",
        "array_2d = np.random.rand(28, 28)\n",
        "\n",
        "# Преобразуем двумерный массив в одномерный массив размером 768\n",
        "array_1d = array_2d.reshape(768)\n",
        "\n",
        "print(array_1d.shape)  # Выводит (768,)"
      ],
      "metadata": {
        "colab": {
          "base_uri": "https://localhost:8080/",
          "height": 245
        },
        "id": "KbsemL66nyj7",
        "outputId": "03b58346-68d0-4c3f-f65e-5c9165dc4ef5"
      },
      "execution_count": null,
      "outputs": [
        {
          "output_type": "error",
          "ename": "ValueError",
          "evalue": "ignored",
          "traceback": [
            "\u001b[0;31m---------------------------------------------------------------------------\u001b[0m",
            "\u001b[0;31mValueError\u001b[0m                                Traceback (most recent call last)",
            "\u001b[0;32m<ipython-input-1-182609dd067a>\u001b[0m in \u001b[0;36m<cell line: 7>\u001b[0;34m()\u001b[0m\n\u001b[1;32m      5\u001b[0m \u001b[0;34m\u001b[0m\u001b[0m\n\u001b[1;32m      6\u001b[0m \u001b[0;31m# Преобразуем двумерный массив в одномерный массив размером 768\u001b[0m\u001b[0;34m\u001b[0m\u001b[0;34m\u001b[0m\u001b[0m\n\u001b[0;32m----> 7\u001b[0;31m \u001b[0marray_1d\u001b[0m \u001b[0;34m=\u001b[0m \u001b[0marray_2d\u001b[0m\u001b[0;34m.\u001b[0m\u001b[0mreshape\u001b[0m\u001b[0;34m(\u001b[0m\u001b[0;36m768\u001b[0m\u001b[0;34m)\u001b[0m\u001b[0;34m\u001b[0m\u001b[0;34m\u001b[0m\u001b[0m\n\u001b[0m\u001b[1;32m      8\u001b[0m \u001b[0;34m\u001b[0m\u001b[0m\n\u001b[1;32m      9\u001b[0m \u001b[0mprint\u001b[0m\u001b[0;34m(\u001b[0m\u001b[0marray_1d\u001b[0m\u001b[0;34m.\u001b[0m\u001b[0mshape\u001b[0m\u001b[0;34m)\u001b[0m  \u001b[0;31m# Выводит (768,)\u001b[0m\u001b[0;34m\u001b[0m\u001b[0;34m\u001b[0m\u001b[0m\n",
            "\u001b[0;31mValueError\u001b[0m: cannot reshape array of size 784 into shape (768,)"
          ]
        }
      ]
    },
    {
      "cell_type": "code",
      "source": [
        "!pip install pytube"
      ],
      "metadata": {
        "colab": {
          "base_uri": "https://localhost:8080/"
        },
        "id": "QVjtoGKjdKTS",
        "outputId": "a2d74d7a-2165-4278-d082-fc9b4b39363b"
      },
      "execution_count": null,
      "outputs": [
        {
          "output_type": "stream",
          "name": "stdout",
          "text": [
            "Collecting pytube\n",
            "  Downloading pytube-15.0.0-py3-none-any.whl (57 kB)\n",
            "\u001b[?25l     \u001b[90m━━━━━━━━━━━━━━━━━━━━━━━━━━━━━━━━━━━━━━━━\u001b[0m \u001b[32m0.0/57.6 kB\u001b[0m \u001b[31m?\u001b[0m eta \u001b[36m-:--:--\u001b[0m\r\u001b[2K     \u001b[90m━━━━━━━━━━━━━━━━━━━━━━━━━━━━━━━━━━━━━━━━\u001b[0m \u001b[32m57.6/57.6 kB\u001b[0m \u001b[31m1.4 MB/s\u001b[0m eta \u001b[36m0:00:00\u001b[0m\n",
            "\u001b[?25hInstalling collected packages: pytube\n",
            "Successfully installed pytube-15.0.0\n"
          ]
        }
      ]
    },
    {
      "cell_type": "code",
      "source": [
        "from pytube import YouTube\n",
        "\n",
        "# Введите ссылку на видео, которое вы хотите загрузить\n",
        "video_url = \"https://youtu.be/R9BD8ZpaxXY\"\n",
        "\n",
        "# Создание объекта YouTube class с указанной ссылкой на видео\n",
        "yt = YouTube(video_url)\n",
        "\n",
        "# Получение лучшего доступного видеодорожки\n",
        "video = yt.streams.get_highest_resolution()\n",
        "\n",
        "# Выбор пути и имени файла для сохранения видео\n",
        "save_path_video = \"/content/video\"\n",
        "\n",
        "# Загрузка видео в указанное место\n",
        "video.download(output_path=save_path_video)\n",
        "\n",
        "# Получение лучшей доступной аудиодорожки\n",
        "audio = yt.streams.filter(only_audio=True).first()\n",
        "\n",
        "# Выбор пути и имени файла для сохранения видео\n",
        "save_path_audio = \"/content/audio\"\n",
        "\n",
        "# Загрузка аудио в текущую директорию (по умолчанию)\n",
        "audio.download(output_path=save_path_audio)\n"
      ],
      "metadata": {
        "colab": {
          "base_uri": "https://localhost:8080/",
          "height": 35
        },
        "id": "L9R7uTCCcvsw",
        "outputId": "6492110f-5c58-46b5-831e-88e71acc6ea0"
      },
      "execution_count": null,
      "outputs": [
        {
          "output_type": "execute_result",
          "data": {
            "text/plain": [
              "'/content/audio/Когда решил освоить Python за час ⏳.mp4'"
            ],
            "application/vnd.google.colaboratory.intrinsic+json": {
              "type": "string"
            }
          },
          "metadata": {},
          "execution_count": 5
        }
      ]
    },
    {
      "cell_type": "code",
      "source": [
        "!pip install google-cloud-speech"
      ],
      "metadata": {
        "id": "qG7WEY4Ke_EC"
      },
      "execution_count": null,
      "outputs": []
    },
    {
      "cell_type": "code",
      "source": [
        "from google.cloud import speech_v1p1beta1 as speech\n",
        "\n",
        "def transcribe_video(video_path):\n",
        "    client = speech.SpeechClient()\n",
        "\n",
        "    # Открываем видеофайл и читаем аудиодорожку\n",
        "    with open(video_path, \"rb\") as video_file:\n",
        "        content = video_file.read()\n",
        "\n",
        "    audio = speech.RecognitionAudio(content=content)\n",
        "    config = speech.RecognitionConfig(\n",
        "        # encoding=speech.RecognitionConfig.AudioEncoding.LINEAR16,\n",
        "        # sample_rate_hertz=16000,\n",
        "        language_code=\"ru-RU\",\n",
        "    )\n",
        "\n",
        "    # Выполняем транскрибацию\n",
        "    response = client.recognize(config=config, audio=audio)\n",
        "\n",
        "    # Выводим результаты\n",
        "    for result in response.results:\n",
        "        print(\"Transcript: {}\".format(result.alternatives[0].transcript))\n",
        "\n",
        "# Укажите путь к видеофайлу\n",
        "video_path = \"/content/audio/Когда решил освоить Python за час ⏳.mp4\"\n",
        "\n",
        "# Вызываем функцию транскрибации\n",
        "transcribe_video(video_path)"
      ],
      "metadata": {
        "id": "oEphsWIfbdqw"
      },
      "execution_count": null,
      "outputs": []
    },
    {
      "cell_type": "code",
      "source": [
        "import numpy as np\n",
        "\n",
        "array = np.zeros((7, 7)) # Создаем массив из нулей размером 7 на 7\n",
        "\n",
        "array[2, :] = 1 # Заменяем все элементы третьей строки на 1\n",
        "array[:, 2] = 1 # Заменяем все элементы третьего столбца на 1\n",
        "np.fill_diagonal(array, 1) # Заменяем все элементы главной диагонали на 1\n",
        "\n",
        "print(array) # Выводим результат"
      ],
      "metadata": {
        "colab": {
          "base_uri": "https://localhost:8080/"
        },
        "id": "1i1uxbs_UEpA",
        "outputId": "66e5c6a0-7141-42b0-a9d6-c8020f258dc5"
      },
      "execution_count": null,
      "outputs": [
        {
          "output_type": "stream",
          "name": "stdout",
          "text": [
            "[[1. 0. 1. 0. 0. 0. 0.]\n",
            " [0. 1. 1. 0. 0. 0. 0.]\n",
            " [1. 1. 1. 1. 1. 1. 1.]\n",
            " [0. 0. 1. 1. 0. 0. 0.]\n",
            " [0. 0. 1. 0. 1. 0. 0.]\n",
            " [0. 0. 1. 0. 0. 1. 0.]\n",
            " [0. 0. 1. 0. 0. 0. 1.]]\n"
          ]
        }
      ]
    },
    {
      "cell_type": "code",
      "source": [
        "import tensorflow as tf\n",
        "import matplotlib.pyplot as plt\n",
        "\n",
        "# Загрузка набора данных MNIST\n",
        "mnist = tf.keras.datasets.mnist\n",
        "(train_images, train_labels), (test_images, test_labels) = mnist.load_data()\n",
        "\n",
        "# Настройка размера графика\n",
        "plt.figure(figsize=(10, 4))\n",
        "\n",
        "# Итерирование по первым 10 картинкам в обучающем наборе данных\n",
        "for i in range(10):\n",
        "    # Отображение картинки и соответствующей метки\n",
        "    plt.subplot(2, 5, i + 1)\n",
        "    plt.imshow(train_images[train_labels==i][0], cmap='gray')\n",
        "    plt.title(f'Label: {train_labels[i]}')\n",
        "    plt.axis('off')\n",
        "\n",
        "# Показ графика\n",
        "plt.show()\n"
      ],
      "metadata": {
        "colab": {
          "base_uri": "https://localhost:8080/",
          "height": 395
        },
        "id": "mZwfMoAf9OOq",
        "outputId": "6c258270-d00e-4f0f-e550-6ea25883a27a"
      },
      "execution_count": null,
      "outputs": [
        {
          "output_type": "stream",
          "name": "stdout",
          "text": [
            "Downloading data from https://storage.googleapis.com/tensorflow/tf-keras-datasets/mnist.npz\n",
            "11490434/11490434 [==============================] - 1s 0us/step\n"
          ]
        },
        {
          "output_type": "display_data",
          "data": {
            "text/plain": [
              "<Figure size 1000x400 with 10 Axes>"
            ],
            "image/png": "[encoded data removed]"
          },
          "metadata": {}
        }
      ]
    },
    {
      "cell_type": "code",
      "source": [
        "test_labels[test_labels==0]"
      ],
      "metadata": {
        "id": "L08FMlB09sOP"
      },
      "execution_count": null,
      "outputs": []
    },
    {
      "cell_type": "code",
      "source": [
        "train_images.shape"
      ],
      "metadata": {
        "colab": {
          "base_uri": "https://localhost:8080/"
        },
        "id": "hj9ymjrFABYV",
        "outputId": "af7eef3e-69c0-4058-eebc-ccbd9cc2c398"
      },
      "execution_count": null,
      "outputs": [
        {
          "output_type": "execute_result",
          "data": {
            "text/plain": [
              "(60000, 28, 28)"
            ]
          },
          "metadata": {},
          "execution_count": 2
        }
      ]
    },
    {
      "cell_type": "code",
      "source": [
        "train_labels==0"
      ],
      "metadata": {
        "colab": {
          "base_uri": "https://localhost:8080/"
        },
        "id": "b2wDxsypAM0z",
        "outputId": "016fe328-36b6-45bf-9883-0ccdd0924671"
      },
      "execution_count": null,
      "outputs": [
        {
          "output_type": "execute_result",
          "data": {
            "text/plain": [
              "array([False,  True, False, ..., False, False, False])"
            ]
          },
          "metadata": {},
          "execution_count": 6
        }
      ]
    },
    {
      "cell_type": "markdown",
      "source": [
        "## 24.11.23"
      ],
      "metadata": {
        "id": "Rti8Urs9mfAy"
      }
    },
    {
      "cell_type": "code",
      "source": [
        "\n",
        "import gdown\n",
        "\n",
        "path_download = 'https://drive.google.com/uc?id=13yhZQNwI2Tvb7nsz9iTzkKAR8s8GKm_l'\n",
        "\n",
        "gdown.download(path_download, None, quiet=False)"
      ],
      "metadata": {
        "colab": {
          "base_uri": "https://localhost:8080/",
          "height": 105
        },
        "id": "7c5rLbsbwMXa",
        "outputId": "4d916a29-b824-4394-d24f-327e575e7892"
      },
      "execution_count": null,
      "outputs": [
        {
          "output_type": "stream",
          "name": "stderr",
          "text": [
            "Downloading...\n",
            "From: https://drive.google.com/uc?id=13yhZQNwI2Tvb7nsz9iTzkKAR8s8GKm_l\n",
            "To: /content/datatraining.txt\n",
            "100%|██████████| 597k/597k [00:00<00:00, 77.5MB/s]\n"
          ]
        },
        {
          "output_type": "execute_result",
          "data": {
            "text/plain": [
              "'datatraining.txt'"
            ],
            "application/vnd.google.colaboratory.intrinsic+json": {
              "type": "string"
            }
          },
          "metadata": {},
          "execution_count": 4
        }
      ]
    },
    {
      "cell_type": "code",
      "source": [
        "help(str.replace)"
      ],
      "metadata": {
        "id": "eqAhCm-JmeoC",
        "outputId": "b0693343-4b4e-4bfb-80a3-fb133b48945d",
        "colab": {
          "base_uri": "https://localhost:8080/"
        }
      },
      "execution_count": null,
      "outputs": [
        {
          "output_type": "stream",
          "name": "stdout",
          "text": [
            "Help on method_descriptor:\n",
            "\n",
            "replace(self, old, new, count=-1, /)\n",
            "    Return a copy with all occurrences of substring old replaced by new.\n",
            "    \n",
            "      count\n",
            "        Maximum number of occurrences to replace.\n",
            "        -1 (the default value) means replace all occurrences.\n",
            "    \n",
            "    If the optional argument count is given, only the first count occurrences are\n",
            "    replaced.\n",
            "\n"
          ]
        }
      ]
    },
    {
      "cell_type": "markdown",
      "source": [
        "## 20.11.23"
      ],
      "metadata": {
        "id": "Ug2CDq_6LG6q"
      }
    },
    {
      "cell_type": "code",
      "source": [
        "!pip install ultralytics"
      ],
      "metadata": {
        "id": "XotQAIzhSALD"
      },
      "execution_count": null,
      "outputs": []
    },
    {
      "cell_type": "code",
      "source": [
        "from ultralytics import YOLO\n",
        "\n",
        "# Load a pretrained YOLOv8n model\n",
        "model = YOLO('yolov8n.pt')\n",
        "\n",
        "# Define path to the image file\n",
        "source = 'https://ultralytics.com/images/bus.jpg'\n",
        "\n",
        "# Run inference on the source\n",
        "results = model(source)  # list of Results objects"
      ],
      "metadata": {
        "id": "pRet0OXNR_Rg"
      },
      "execution_count": null,
      "outputs": []
    },
    {
      "cell_type": "code",
      "source": [
        "print(results[0].orig_img)"
      ],
      "metadata": {
        "id": "PAInWogRSwFL"
      },
      "execution_count": null,
      "outputs": []
    },
    {
      "cell_type": "code",
      "source": [
        "!pip install python-telegram-bot"
      ],
      "metadata": {
        "id": "-u8Ktu9aKdhJ"
      },
      "execution_count": null,
      "outputs": []
    },
    {
      "cell_type": "code",
      "source": [
        "from telegram.ext import Application, CommandHandler, MessageHandler, filters\n",
        "# from dotenv import load_dotenv\n",
        "# import openai\n",
        "import os"
      ],
      "metadata": {
        "id": "C2vx6C0KL7gb"
      },
      "execution_count": null,
      "outputs": []
    },
    {
      "cell_type": "code",
      "source": [
        "# load_dotenv()\n",
        "# TOKEN = os.environ.get(\"TOKEN\")\n",
        "# GPT_SECRET_KEY = os.environ.get(\"GPT_SECRET_KEY\")\n",
        "# openai.api_key = GPT_SECRET_KEY\n",
        "\n",
        "TOKEN = '5388231127:AAG0nIuCcJ6gItvBib7Zh9OLVTxFB5j45J4' # токен бота\n",
        "\n",
        "\n",
        "def get_answer(text):\n",
        "    completion = openai.ChatCompletion.create(\n",
        "        model=\"gpt-3.5-turbo-0301\",\n",
        "        messages=[{\"role\": \"user\", \"content\": text}])\n",
        "    return completion.choices[0].message[\"content\"]\n",
        "\n",
        "\n",
        "def start(update, context):\n",
        "    update.message.reply_text('Задайте любой вопрос chatGPT')\n",
        "\n",
        "\n",
        "def help_command(update, context):\n",
        "    update.message.reply_text(\"Вы можете пообщаться с chatGPT на любую тему\")\n",
        "\n",
        "\n",
        "def gpt(update, context):\n",
        "    res = get_answer(update.message.text)\n",
        "    update.message.reply_text(res)\n",
        "\n"
      ],
      "metadata": {
        "id": "sgRLm9A3KeQm"
      },
      "execution_count": null,
      "outputs": []
    },
    {
      "cell_type": "code",
      "source": [
        "application = Application.builder().token(TOKEN).build()\n",
        "print('Бот запущен...')\n",
        "\n",
        "application.add_handler(CommandHandler(\"start\", start))\n",
        "application.add_handler(CommandHandler(\"help\", help_command))\n",
        "application.add_handler(MessageHandler(filters.TEXT, gpt))\n",
        "# запуск приложения. Для остановки нужно нажать Ctrl-C\n",
        "application.run_polling()\n",
        "\n"
      ],
      "metadata": {
        "colab": {
          "base_uri": "https://localhost:8080/",
          "height": 546
        },
        "id": "23IG6hfTKiQt",
        "outputId": "d632700a-b44e-4dd3-f468-2fedd5e99876"
      },
      "execution_count": null,
      "outputs": [
        {
          "output_type": "stream",
          "name": "stdout",
          "text": [
            "Бот запущен...\n"
          ]
        },
        {
          "output_type": "error",
          "ename": "RuntimeError",
          "evalue": "ignored",
          "traceback": [
            "\u001b[0;31m---------------------------------------------------------------------------\u001b[0m",
            "\u001b[0;31mRuntimeError\u001b[0m                              Traceback (most recent call last)",
            "\u001b[0;32m/usr/local/lib/python3.10/dist-packages/telegram/ext/_application.py\u001b[0m in \u001b[0;36m__run\u001b[0;34m(self, updater_coroutine, stop_signals, close_loop)\u001b[0m\n\u001b[1;32m    966\u001b[0m             \u001b[0mupdater_coroutine\u001b[0m\u001b[0;34m.\u001b[0m\u001b[0mclose\u001b[0m\u001b[0;34m(\u001b[0m\u001b[0;34m)\u001b[0m\u001b[0;34m\u001b[0m\u001b[0;34m\u001b[0m\u001b[0m\n\u001b[0;32m--> 967\u001b[0;31m             \u001b[0;32mraise\u001b[0m \u001b[0mexc\u001b[0m\u001b[0;34m\u001b[0m\u001b[0;34m\u001b[0m\u001b[0m\n\u001b[0m\u001b[1;32m    968\u001b[0m         \u001b[0;32mfinally\u001b[0m\u001b[0;34m:\u001b[0m\u001b[0;34m\u001b[0m\u001b[0;34m\u001b[0m\u001b[0m\n",
            "\u001b[0;32m/usr/local/lib/python3.10/dist-packages/telegram/ext/_application.py\u001b[0m in \u001b[0;36m__run\u001b[0;34m(self, updater_coroutine, stop_signals, close_loop)\u001b[0m\n\u001b[1;32m    955\u001b[0m         \u001b[0;32mtry\u001b[0m\u001b[0;34m:\u001b[0m\u001b[0;34m\u001b[0m\u001b[0;34m\u001b[0m\u001b[0m\n\u001b[0;32m--> 956\u001b[0;31m             \u001b[0mloop\u001b[0m\u001b[0;34m.\u001b[0m\u001b[0mrun_until_complete\u001b[0m\u001b[0;34m(\u001b[0m\u001b[0mself\u001b[0m\u001b[0;34m.\u001b[0m\u001b[0minitialize\u001b[0m\u001b[0;34m(\u001b[0m\u001b[0;34m)\u001b[0m\u001b[0;34m)\u001b[0m\u001b[0;34m\u001b[0m\u001b[0;34m\u001b[0m\u001b[0m\n\u001b[0m\u001b[1;32m    957\u001b[0m             \u001b[0;32mif\u001b[0m \u001b[0mself\u001b[0m\u001b[0;34m.\u001b[0m\u001b[0mpost_init\u001b[0m\u001b[0;34m:\u001b[0m\u001b[0;34m\u001b[0m\u001b[0;34m\u001b[0m\u001b[0m\n",
            "\u001b[0;32m/usr/lib/python3.10/asyncio/base_events.py\u001b[0m in \u001b[0;36mrun_until_complete\u001b[0;34m(self, future)\u001b[0m\n\u001b[1;32m    624\u001b[0m         \u001b[0mself\u001b[0m\u001b[0;34m.\u001b[0m\u001b[0m_check_closed\u001b[0m\u001b[0;34m(\u001b[0m\u001b[0;34m)\u001b[0m\u001b[0;34m\u001b[0m\u001b[0;34m\u001b[0m\u001b[0m\n\u001b[0;32m--> 625\u001b[0;31m         \u001b[0mself\u001b[0m\u001b[0;34m.\u001b[0m\u001b[0m_check_running\u001b[0m\u001b[0;34m(\u001b[0m\u001b[0;34m)\u001b[0m\u001b[0;34m\u001b[0m\u001b[0;34m\u001b[0m\u001b[0m\n\u001b[0m\u001b[1;32m    626\u001b[0m \u001b[0;34m\u001b[0m\u001b[0m\n",
            "\u001b[0;32m/usr/lib/python3.10/asyncio/base_events.py\u001b[0m in \u001b[0;36m_check_running\u001b[0;34m(self)\u001b[0m\n\u001b[1;32m    583\u001b[0m         \u001b[0;32mif\u001b[0m \u001b[0mself\u001b[0m\u001b[0;34m.\u001b[0m\u001b[0mis_running\u001b[0m\u001b[0;34m(\u001b[0m\u001b[0;34m)\u001b[0m\u001b[0;34m:\u001b[0m\u001b[0;34m\u001b[0m\u001b[0;34m\u001b[0m\u001b[0m\n\u001b[0;32m--> 584\u001b[0;31m             \u001b[0;32mraise\u001b[0m \u001b[0mRuntimeError\u001b[0m\u001b[0;34m(\u001b[0m\u001b[0;34m'This event loop is already running'\u001b[0m\u001b[0;34m)\u001b[0m\u001b[0;34m\u001b[0m\u001b[0;34m\u001b[0m\u001b[0m\n\u001b[0m\u001b[1;32m    585\u001b[0m         \u001b[0;32mif\u001b[0m \u001b[0mevents\u001b[0m\u001b[0;34m.\u001b[0m\u001b[0m_get_running_loop\u001b[0m\u001b[0;34m(\u001b[0m\u001b[0;34m)\u001b[0m \u001b[0;32mis\u001b[0m \u001b[0;32mnot\u001b[0m \u001b[0;32mNone\u001b[0m\u001b[0;34m:\u001b[0m\u001b[0;34m\u001b[0m\u001b[0;34m\u001b[0m\u001b[0m\n",
            "\u001b[0;31mRuntimeError\u001b[0m: This event loop is already running",
            "\nDuring handling of the above exception, another exception occurred:\n",
            "\u001b[0;31mRuntimeError\u001b[0m                              Traceback (most recent call last)",
            "\u001b[0;32m/usr/local/lib/python3.10/dist-packages/telegram/ext/_application.py\u001b[0m in \u001b[0;36m__run\u001b[0;34m(self, updater_coroutine, stop_signals, close_loop)\u001b[0m\n\u001b[1;32m    977\u001b[0m                     \u001b[0mloop\u001b[0m\u001b[0;34m.\u001b[0m\u001b[0mrun_until_complete\u001b[0m\u001b[0;34m(\u001b[0m\u001b[0mself\u001b[0m\u001b[0;34m.\u001b[0m\u001b[0mpost_stop\u001b[0m\u001b[0;34m(\u001b[0m\u001b[0mself\u001b[0m\u001b[0;34m)\u001b[0m\u001b[0;34m)\u001b[0m\u001b[0;34m\u001b[0m\u001b[0;34m\u001b[0m\u001b[0m\n\u001b[0;32m--> 978\u001b[0;31m                 \u001b[0mloop\u001b[0m\u001b[0;34m.\u001b[0m\u001b[0mrun_until_complete\u001b[0m\u001b[0;34m(\u001b[0m\u001b[0mself\u001b[0m\u001b[0;34m.\u001b[0m\u001b[0mshutdown\u001b[0m\u001b[0;34m(\u001b[0m\u001b[0;34m)\u001b[0m\u001b[0;34m)\u001b[0m\u001b[0;34m\u001b[0m\u001b[0;34m\u001b[0m\u001b[0m\n\u001b[0m\u001b[1;32m    979\u001b[0m                 \u001b[0;32mif\u001b[0m \u001b[0mself\u001b[0m\u001b[0;34m.\u001b[0m\u001b[0mpost_shutdown\u001b[0m\u001b[0;34m:\u001b[0m\u001b[0;34m\u001b[0m\u001b[0;34m\u001b[0m\u001b[0m\n",
            "\u001b[0;32m/usr/lib/python3.10/asyncio/base_events.py\u001b[0m in \u001b[0;36mrun_until_complete\u001b[0;34m(self, future)\u001b[0m\n\u001b[1;32m    624\u001b[0m         \u001b[0mself\u001b[0m\u001b[0;34m.\u001b[0m\u001b[0m_check_closed\u001b[0m\u001b[0;34m(\u001b[0m\u001b[0;34m)\u001b[0m\u001b[0;34m\u001b[0m\u001b[0;34m\u001b[0m\u001b[0m\n\u001b[0;32m--> 625\u001b[0;31m         \u001b[0mself\u001b[0m\u001b[0;34m.\u001b[0m\u001b[0m_check_running\u001b[0m\u001b[0;34m(\u001b[0m\u001b[0;34m)\u001b[0m\u001b[0;34m\u001b[0m\u001b[0;34m\u001b[0m\u001b[0m\n\u001b[0m\u001b[1;32m    626\u001b[0m \u001b[0;34m\u001b[0m\u001b[0m\n",
            "\u001b[0;32m/usr/lib/python3.10/asyncio/base_events.py\u001b[0m in \u001b[0;36m_check_running\u001b[0;34m(self)\u001b[0m\n\u001b[1;32m    583\u001b[0m         \u001b[0;32mif\u001b[0m \u001b[0mself\u001b[0m\u001b[0;34m.\u001b[0m\u001b[0mis_running\u001b[0m\u001b[0;34m(\u001b[0m\u001b[0;34m)\u001b[0m\u001b[0;34m:\u001b[0m\u001b[0;34m\u001b[0m\u001b[0;34m\u001b[0m\u001b[0m\n\u001b[0;32m--> 584\u001b[0;31m             \u001b[0;32mraise\u001b[0m \u001b[0mRuntimeError\u001b[0m\u001b[0;34m(\u001b[0m\u001b[0;34m'This event loop is already running'\u001b[0m\u001b[0;34m)\u001b[0m\u001b[0;34m\u001b[0m\u001b[0;34m\u001b[0m\u001b[0m\n\u001b[0m\u001b[1;32m    585\u001b[0m         \u001b[0;32mif\u001b[0m \u001b[0mevents\u001b[0m\u001b[0;34m.\u001b[0m\u001b[0m_get_running_loop\u001b[0m\u001b[0;34m(\u001b[0m\u001b[0;34m)\u001b[0m \u001b[0;32mis\u001b[0m \u001b[0;32mnot\u001b[0m \u001b[0;32mNone\u001b[0m\u001b[0;34m:\u001b[0m\u001b[0;34m\u001b[0m\u001b[0;34m\u001b[0m\u001b[0m\n",
            "\u001b[0;31mRuntimeError\u001b[0m: This event loop is already running",
            "\nDuring handling of the above exception, another exception occurred:\n",
            "\u001b[0;31mRuntimeError\u001b[0m                              Traceback (most recent call last)",
            "\u001b[0;32m<ipython-input-4-b1fcbe114a07>\u001b[0m in \u001b[0;36m<cell line: 8>\u001b[0;34m()\u001b[0m\n\u001b[1;32m      6\u001b[0m \u001b[0mapplication\u001b[0m\u001b[0;34m.\u001b[0m\u001b[0madd_handler\u001b[0m\u001b[0;34m(\u001b[0m\u001b[0mMessageHandler\u001b[0m\u001b[0;34m(\u001b[0m\u001b[0mfilters\u001b[0m\u001b[0;34m.\u001b[0m\u001b[0mTEXT\u001b[0m\u001b[0;34m,\u001b[0m \u001b[0mgpt\u001b[0m\u001b[0;34m)\u001b[0m\u001b[0;34m)\u001b[0m\u001b[0;34m\u001b[0m\u001b[0;34m\u001b[0m\u001b[0m\n\u001b[1;32m      7\u001b[0m \u001b[0;31m# запуск приложения. Для остановки нужно нажать Ctrl-C\u001b[0m\u001b[0;34m\u001b[0m\u001b[0;34m\u001b[0m\u001b[0m\n\u001b[0;32m----> 8\u001b[0;31m \u001b[0mapplication\u001b[0m\u001b[0;34m.\u001b[0m\u001b[0mrun_polling\u001b[0m\u001b[0;34m(\u001b[0m\u001b[0;34m)\u001b[0m\u001b[0;34m\u001b[0m\u001b[0;34m\u001b[0m\u001b[0m\n\u001b[0m\u001b[1;32m      9\u001b[0m \u001b[0;34m\u001b[0m\u001b[0m\n",
            "\u001b[0;32m/usr/local/lib/python3.10/dist-packages/telegram/ext/_application.py\u001b[0m in \u001b[0;36mrun_polling\u001b[0;34m(self, poll_interval, timeout, bootstrap_retries, read_timeout, write_timeout, connect_timeout, pool_timeout, allowed_updates, drop_pending_updates, close_loop, stop_signals)\u001b[0m\n\u001b[1;32m    777\u001b[0m             \u001b[0mself\u001b[0m\u001b[0;34m.\u001b[0m\u001b[0mcreate_task\u001b[0m\u001b[0;34m(\u001b[0m\u001b[0mself\u001b[0m\u001b[0;34m.\u001b[0m\u001b[0mprocess_error\u001b[0m\u001b[0;34m(\u001b[0m\u001b[0merror\u001b[0m\u001b[0;34m=\u001b[0m\u001b[0mexc\u001b[0m\u001b[0;34m,\u001b[0m \u001b[0mupdate\u001b[0m\u001b[0;34m=\u001b[0m\u001b[0;32mNone\u001b[0m\u001b[0;34m)\u001b[0m\u001b[0;34m)\u001b[0m\u001b[0;34m\u001b[0m\u001b[0;34m\u001b[0m\u001b[0m\n\u001b[1;32m    778\u001b[0m \u001b[0;34m\u001b[0m\u001b[0m\n\u001b[0;32m--> 779\u001b[0;31m         return self.__run(\n\u001b[0m\u001b[1;32m    780\u001b[0m             updater_coroutine=self.updater.start_polling(\n\u001b[1;32m    781\u001b[0m                 \u001b[0mpoll_interval\u001b[0m\u001b[0;34m=\u001b[0m\u001b[0mpoll_interval\u001b[0m\u001b[0;34m,\u001b[0m\u001b[0;34m\u001b[0m\u001b[0;34m\u001b[0m\u001b[0m\n",
            "\u001b[0;32m/usr/local/lib/python3.10/dist-packages/telegram/ext/_application.py\u001b[0m in \u001b[0;36m__run\u001b[0;34m(self, updater_coroutine, stop_signals, close_loop)\u001b[0m\n\u001b[1;32m    981\u001b[0m             \u001b[0;32mfinally\u001b[0m\u001b[0;34m:\u001b[0m\u001b[0;34m\u001b[0m\u001b[0;34m\u001b[0m\u001b[0m\n\u001b[1;32m    982\u001b[0m                 \u001b[0;32mif\u001b[0m \u001b[0mclose_loop\u001b[0m\u001b[0;34m:\u001b[0m\u001b[0;34m\u001b[0m\u001b[0;34m\u001b[0m\u001b[0m\n\u001b[0;32m--> 983\u001b[0;31m                     \u001b[0mloop\u001b[0m\u001b[0;34m.\u001b[0m\u001b[0mclose\u001b[0m\u001b[0;34m(\u001b[0m\u001b[0;34m)\u001b[0m\u001b[0;34m\u001b[0m\u001b[0;34m\u001b[0m\u001b[0m\n\u001b[0m\u001b[1;32m    984\u001b[0m \u001b[0;34m\u001b[0m\u001b[0m\n\u001b[1;32m    985\u001b[0m     def create_task(\n",
            "\u001b[0;32m/usr/lib/python3.10/asyncio/unix_events.py\u001b[0m in \u001b[0;36mclose\u001b[0;34m(self)\u001b[0m\n\u001b[1;32m     66\u001b[0m \u001b[0;34m\u001b[0m\u001b[0m\n\u001b[1;32m     67\u001b[0m     \u001b[0;32mdef\u001b[0m \u001b[0mclose\u001b[0m\u001b[0;34m(\u001b[0m\u001b[0mself\u001b[0m\u001b[0;34m)\u001b[0m\u001b[0;34m:\u001b[0m\u001b[0;34m\u001b[0m\u001b[0;34m\u001b[0m\u001b[0m\n\u001b[0;32m---> 68\u001b[0;31m         \u001b[0msuper\u001b[0m\u001b[0;34m(\u001b[0m\u001b[0;34m)\u001b[0m\u001b[0;34m.\u001b[0m\u001b[0mclose\u001b[0m\u001b[0;34m(\u001b[0m\u001b[0;34m)\u001b[0m\u001b[0;34m\u001b[0m\u001b[0;34m\u001b[0m\u001b[0m\n\u001b[0m\u001b[1;32m     69\u001b[0m         \u001b[0;32mif\u001b[0m \u001b[0;32mnot\u001b[0m \u001b[0msys\u001b[0m\u001b[0;34m.\u001b[0m\u001b[0mis_finalizing\u001b[0m\u001b[0;34m(\u001b[0m\u001b[0;34m)\u001b[0m\u001b[0;34m:\u001b[0m\u001b[0;34m\u001b[0m\u001b[0;34m\u001b[0m\u001b[0m\n\u001b[1;32m     70\u001b[0m             \u001b[0;32mfor\u001b[0m \u001b[0msig\u001b[0m \u001b[0;32min\u001b[0m \u001b[0mlist\u001b[0m\u001b[0;34m(\u001b[0m\u001b[0mself\u001b[0m\u001b[0;34m.\u001b[0m\u001b[0m_signal_handlers\u001b[0m\u001b[0;34m)\u001b[0m\u001b[0;34m:\u001b[0m\u001b[0;34m\u001b[0m\u001b[0;34m\u001b[0m\u001b[0m\n",
            "\u001b[0;32m/usr/lib/python3.10/asyncio/selector_events.py\u001b[0m in \u001b[0;36mclose\u001b[0;34m(self)\u001b[0m\n\u001b[1;32m     82\u001b[0m     \u001b[0;32mdef\u001b[0m \u001b[0mclose\u001b[0m\u001b[0;34m(\u001b[0m\u001b[0mself\u001b[0m\u001b[0;34m)\u001b[0m\u001b[0;34m:\u001b[0m\u001b[0;34m\u001b[0m\u001b[0;34m\u001b[0m\u001b[0m\n\u001b[1;32m     83\u001b[0m         \u001b[0;32mif\u001b[0m \u001b[0mself\u001b[0m\u001b[0;34m.\u001b[0m\u001b[0mis_running\u001b[0m\u001b[0;34m(\u001b[0m\u001b[0;34m)\u001b[0m\u001b[0;34m:\u001b[0m\u001b[0;34m\u001b[0m\u001b[0;34m\u001b[0m\u001b[0m\n\u001b[0;32m---> 84\u001b[0;31m             \u001b[0;32mraise\u001b[0m \u001b[0mRuntimeError\u001b[0m\u001b[0;34m(\u001b[0m\u001b[0;34m\"Cannot close a running event loop\"\u001b[0m\u001b[0;34m)\u001b[0m\u001b[0;34m\u001b[0m\u001b[0;34m\u001b[0m\u001b[0m\n\u001b[0m\u001b[1;32m     85\u001b[0m         \u001b[0;32mif\u001b[0m \u001b[0mself\u001b[0m\u001b[0;34m.\u001b[0m\u001b[0mis_closed\u001b[0m\u001b[0;34m(\u001b[0m\u001b[0;34m)\u001b[0m\u001b[0;34m:\u001b[0m\u001b[0;34m\u001b[0m\u001b[0;34m\u001b[0m\u001b[0m\n\u001b[1;32m     86\u001b[0m             \u001b[0;32mreturn\u001b[0m\u001b[0;34m\u001b[0m\u001b[0;34m\u001b[0m\u001b[0m\n",
            "\u001b[0;31mRuntimeError\u001b[0m: Cannot close a running event loop"
          ]
        }
      ]
    },
    {
      "cell_type": "markdown",
      "source": [
        "## 19.11.23"
      ],
      "metadata": {
        "id": "d_aDsxHT9hup"
      }
    },
    {
      "cell_type": "code",
      "source": [
        "line = ''\n",
        "line.strip()\n",
        "if line.strip():\n",
        "    print('пустая строка')\n",
        "else:\n",
        "    print('строка')"
      ],
      "metadata": {
        "colab": {
          "base_uri": "https://localhost:8080/"
        },
        "id": "jh2UqXJLQVSm",
        "outputId": "450a201f-6442-443a-a5b2-9ec5803746fe"
      },
      "execution_count": null,
      "outputs": [
        {
          "output_type": "stream",
          "name": "stdout",
          "text": [
            "строка\n"
          ]
        }
      ]
    },
    {
      "cell_type": "code",
      "source": [
        "corpus = open('9kdialogs.txt', 'r') # открываем файл с диалогами в режиме чтения\n",
        "conversations = corpus.readlines()  # загружаем файл и заносим в conversations\n",
        "corpus.close()  # закрываем файл\n",
        "\n",
        "dialogues = []  # создаем пустой список для хранения пар вопрос-ответ\n",
        "current_dialogue = []  # создаем пустой список для хранения текущего диалога\n",
        "\n",
        "for line in conversations:\n",
        "    if line.strip():  # проверяем, что строка не пустая\n",
        "        current_dialogue.append(line.strip())  # добавляем строку в текущий диалог\n",
        "    else:\n",
        "        dialogues.append(current_dialogue)  # добавляем текущий диалог в список диалогов\n",
        "        current_dialogue = []  # очищаем текущий диалог для следующей итерации\n",
        "print('Количество пар вопрос-ответ : {}'.format(len(dialogues)))\n",
        "print('Пример диалога : {}'.format(dialogues[9163])) Как исправить код чтобы делилось ровно на вопрос и ответ?"
      ],
      "metadata": {
        "id": "ihyAdBz4P46U"
      },
      "execution_count": null,
      "outputs": []
    },
    {
      "cell_type": "code",
      "source": [
        "text = '''\n",
        "def sort_list():\n",
        "    custom_list = [0, 15, 38, 59, 95]\n",
        "\n",
        "    for i in range(len(custom_list)):\n",
        "        if custom_list[i] > 50:\n",
        "            custom_list[i] += 100\n",
        "        else:\n",
        "            custom_list[i] = custom_list[i] ** 2\n",
        "\n",
        "    print(custom_list)\n",
        "'''.strip()\n",
        "\n",
        "with open('my_module.py', 'w') as f:\n",
        "    f.write(text)"
      ],
      "metadata": {
        "id": "iiVR3I8_uJVU"
      },
      "execution_count": null,
      "outputs": []
    },
    {
      "cell_type": "code",
      "source": [
        "import shutil\n",
        "shutil.copy('/content/my_module.py', '/lib/python3.10/')"
      ],
      "metadata": {
        "colab": {
          "base_uri": "https://localhost:8080/",
          "height": 35
        },
        "id": "_GVrIR3mBdK8",
        "outputId": "4de0545b-8af1-4a69-f301-49b80001f598"
      },
      "execution_count": null,
      "outputs": [
        {
          "output_type": "execute_result",
          "data": {
            "text/plain": [
              "'/lib/python3.10/my_module.py'"
            ],
            "application/vnd.google.colaboratory.intrinsic+json": {
              "type": "string"
            }
          },
          "metadata": {},
          "execution_count": 7
        }
      ]
    },
    {
      "cell_type": "code",
      "source": [
        "path = '/lib/python3.10/'\n",
        "\n",
        "import sys\n",
        "sys.path"
      ],
      "metadata": {
        "colab": {
          "base_uri": "https://localhost:8080/"
        },
        "id": "wn_o-3ixAFzw",
        "outputId": "9b8a4339-33ed-4654-9e44-29289dfbeb62"
      },
      "execution_count": null,
      "outputs": [
        {
          "output_type": "execute_result",
          "data": {
            "text/plain": [
              "['/content',\n",
              " '/env/python',\n",
              " '/usr/lib/python310.zip',\n",
              " '/usr/lib/python3.10',\n",
              " '/usr/lib/python3.10/lib-dynload',\n",
              " '',\n",
              " '/usr/local/lib/python3.10/dist-packages',\n",
              " '/usr/lib/python3/dist-packages',\n",
              " '/usr/local/lib/python3.10/dist-packages/IPython/extensions',\n",
              " '/root/.ipython']"
            ]
          },
          "metadata": {},
          "execution_count": 4
        }
      ]
    },
    {
      "cell_type": "code",
      "source": [
        "from my_module import sort_list"
      ],
      "metadata": {
        "id": "gVy31d4SB2p2"
      },
      "execution_count": null,
      "outputs": []
    },
    {
      "cell_type": "code",
      "source": [
        "sort_list()"
      ],
      "metadata": {
        "colab": {
          "base_uri": "https://localhost:8080/"
        },
        "id": "W-EDTR0UCAS7",
        "outputId": "2bd9298c-d835-420f-fe00-6536f8df2919"
      },
      "execution_count": null,
      "outputs": [
        {
          "output_type": "stream",
          "name": "stdout",
          "text": [
            "[0, 225, 1444, 159, 195]\n"
          ]
        }
      ]
    },
    {
      "cell_type": "markdown",
      "source": [
        "## 17.11.23"
      ],
      "metadata": {
        "id": "aTytraZ_9duv"
      }
    },
    {
      "cell_type": "code",
      "source": [
        "# from tensorflow.keras.models import Model   # модель Кераса\n",
        "# from tensorflow.keras.layers import Input, Conv2DTranspose, concatenate, Activation, MaxPooling2D, Conv2D, BatchNormalization   # стандартные слои Кераса\n",
        "# from tensorflow.keras import backend as K   # модуль backend Кераса\n",
        "# from tensorflow.keras.optimizers import Adam    # оптимизатор Adam\n",
        "from tensorflow.keras.preprocessing import image    # модуль для работы с изображениями\n",
        "# from google.colab import files  # модуль files для работы с файлами\n",
        "# import matplotlib.pyplot as plt # для построения графиков\n",
        "import numpy as np  # для работы с массивами данных\n",
        "from sklearn.model_selection import train_test_split    # для формирования тестовой выборки\n",
        "import time     # для подсчёта времени\n",
        "import random   # для генерации случайных чисел\n",
        "import os   # для работы с файловой системой\n",
        "from PIL import Image   # для работы с изображениями"
      ],
      "metadata": {
        "id": "VV98myh-f60f"
      },
      "execution_count": null,
      "outputs": []
    },
    {
      "cell_type": "code",
      "source": [
        "from google.colab import drive\n",
        "drive.mount('/content/drive')"
      ],
      "metadata": {
        "colab": {
          "base_uri": "https://localhost:8080/"
        },
        "id": "k-5HcpT6fONj",
        "outputId": "707f27c7-c5fe-4ce3-c44c-111cb2a07a04"
      },
      "execution_count": null,
      "outputs": [
        {
          "output_type": "stream",
          "name": "stdout",
          "text": [
            "Mounted at /content/drive\n"
          ]
        }
      ]
    },
    {
      "cell_type": "code",
      "source": [
        "# Задаем глобальные параметры\n",
        "img_width = 160                                                         # ширина уменьшенной картинки\n",
        "img_height = 240                                                        # высота уменьшнной картинки\n",
        "num_classes = 5                                                         # кол-во классов\n",
        "directory = '/content/drive/My Drive/'         # Путь к обучающей выборке с оригинальными изображениями\n",
        "train_directory = 'Мои документы'                               # Название папки с файлами обучающей выборки\n",
        "val_directory = 'Проверочная стройка'"
      ],
      "metadata": {
        "id": "sgOLbOBYfMNQ"
      },
      "execution_count": null,
      "outputs": []
    },
    {
      "cell_type": "code",
      "source": [
        "# Подгружаем оригинальные изображения\n",
        "train_images = []               # Создаём пустой список для хранения ориг. изображений обучающей выборки\n",
        "val_images = []                 # Создаём пустой список для хранения ориг. изображений проверочной выборки\n",
        "\n",
        "cur_time = time.time()          # Засекаем текущее время\n",
        "for filename in sorted(os.listdir(directory + train_directory + '/Резюме для примера')):       # циклом проходим по всем файлам в каталоге по указанному пути (обучающая выборка)\n",
        "    train_images.append(image.load_img(os.path.join(directory + train_directory + '/Резюме для примера', filename)),\n",
        "                                       target_size = (img_width, img_height))        # читаем очередную картнку и добавляем её в список изображений с указанным target_size\n",
        "print ('Обучающая выборка загружена. Время загрузки: ', round(time.time() - cur_time, 2), 'с', sep='')          # отображаем время загрузки картинок обучающей выборки\n",
        "print ('Количество изображений: ', len(train_images))         # отображаем кол-во элементов в обучающей выборке\n",
        "\n",
        "# cur_time = time.time()          # Засекаем текущее время\n",
        "# for filename in sorted(os.listdir(directory + val_directory + '/Исходники')):             # циклом проходим по всем файлам в каталоге по указанному пути (проверочная выборка)\n",
        "#     train_images.append(image.load_img(os.path.join(directory + val_directory + '/Исходники', filename),\n",
        "#                                        target_size = (img_width, img_height)))              # читаем очередную картнку и добавляем её в список изображений с указанным target_size\n",
        "# print ('Проверочная выборка загружена. Время загрузки: ', round(time.time() - cur_time, 2), 'с', sep='')          # отображаем время загрузки картинок обучающей выборки\n",
        "# print ('Количество изображений: ', len(val_images))               # отображаем кол-во элементов в проверочной выборке"
      ],
      "metadata": {
        "colab": {
          "base_uri": "https://localhost:8080/",
          "height": 390
        },
        "id": "BBpL4uQMfJRk",
        "outputId": "df61f1da-1f9f-4fa2-d180-1fcd05ecfa94"
      },
      "execution_count": null,
      "outputs": [
        {
          "output_type": "error",
          "ename": "UnidentifiedImageError",
          "evalue": "ignored",
          "traceback": [
            "\u001b[0;31m---------------------------------------------------------------------------\u001b[0m",
            "\u001b[0;31mUnidentifiedImageError\u001b[0m                    Traceback (most recent call last)",
            "\u001b[0;32m<ipython-input-16-8dc52f2e45aa>\u001b[0m in \u001b[0;36m<cell line: 6>\u001b[0;34m()\u001b[0m\n\u001b[1;32m      5\u001b[0m \u001b[0mcur_time\u001b[0m \u001b[0;34m=\u001b[0m \u001b[0mtime\u001b[0m\u001b[0;34m.\u001b[0m\u001b[0mtime\u001b[0m\u001b[0;34m(\u001b[0m\u001b[0;34m)\u001b[0m          \u001b[0;31m# Засекаем текущее время\u001b[0m\u001b[0;34m\u001b[0m\u001b[0;34m\u001b[0m\u001b[0m\n\u001b[1;32m      6\u001b[0m \u001b[0;32mfor\u001b[0m \u001b[0mfilename\u001b[0m \u001b[0;32min\u001b[0m \u001b[0msorted\u001b[0m\u001b[0;34m(\u001b[0m\u001b[0mos\u001b[0m\u001b[0;34m.\u001b[0m\u001b[0mlistdir\u001b[0m\u001b[0;34m(\u001b[0m\u001b[0mdirectory\u001b[0m \u001b[0;34m+\u001b[0m \u001b[0mtrain_directory\u001b[0m \u001b[0;34m+\u001b[0m \u001b[0;34m'/Резюме для примера'\u001b[0m\u001b[0;34m)\u001b[0m\u001b[0;34m)\u001b[0m\u001b[0;34m:\u001b[0m       \u001b[0;31m# циклом проходим по всем файлам в каталоге по указанному пути (обучающая выборка)\u001b[0m\u001b[0;34m\u001b[0m\u001b[0;34m\u001b[0m\u001b[0m\n\u001b[0;32m----> 7\u001b[0;31m     train_images.append(image.load_img(os.path.join(directory + train_directory + '/Резюме для примера', filename)),\n\u001b[0m\u001b[1;32m      8\u001b[0m                                        target_size = (img_width, img_height))        # читаем очередную картнку и добавляем её в список изображений с указанным target_size\n\u001b[1;32m      9\u001b[0m \u001b[0mprint\u001b[0m \u001b[0;34m(\u001b[0m\u001b[0;34m'Обучающая выборка загружена. Время загрузки: '\u001b[0m\u001b[0;34m,\u001b[0m \u001b[0mround\u001b[0m\u001b[0;34m(\u001b[0m\u001b[0mtime\u001b[0m\u001b[0;34m.\u001b[0m\u001b[0mtime\u001b[0m\u001b[0;34m(\u001b[0m\u001b[0;34m)\u001b[0m \u001b[0;34m-\u001b[0m \u001b[0mcur_time\u001b[0m\u001b[0;34m,\u001b[0m \u001b[0;36m2\u001b[0m\u001b[0;34m)\u001b[0m\u001b[0;34m,\u001b[0m \u001b[0;34m'с'\u001b[0m\u001b[0;34m,\u001b[0m \u001b[0msep\u001b[0m\u001b[0;34m=\u001b[0m\u001b[0;34m''\u001b[0m\u001b[0;34m)\u001b[0m          \u001b[0;31m# отображаем время загрузки картинок обучающей выборки\u001b[0m\u001b[0;34m\u001b[0m\u001b[0;34m\u001b[0m\u001b[0m\n",
            "\u001b[0;32m/usr/local/lib/python3.10/dist-packages/keras/src/utils/image_utils.py\u001b[0m in \u001b[0;36mload_img\u001b[0;34m(path, grayscale, color_mode, target_size, interpolation, keep_aspect_ratio)\u001b[0m\n\u001b[1;32m    421\u001b[0m             \u001b[0mpath\u001b[0m \u001b[0;34m=\u001b[0m \u001b[0mstr\u001b[0m\u001b[0;34m(\u001b[0m\u001b[0mpath\u001b[0m\u001b[0;34m.\u001b[0m\u001b[0mresolve\u001b[0m\u001b[0;34m(\u001b[0m\u001b[0;34m)\u001b[0m\u001b[0;34m)\u001b[0m\u001b[0;34m\u001b[0m\u001b[0;34m\u001b[0m\u001b[0m\n\u001b[1;32m    422\u001b[0m         \u001b[0;32mwith\u001b[0m \u001b[0mopen\u001b[0m\u001b[0;34m(\u001b[0m\u001b[0mpath\u001b[0m\u001b[0;34m,\u001b[0m \u001b[0;34m\"rb\"\u001b[0m\u001b[0;34m)\u001b[0m \u001b[0;32mas\u001b[0m \u001b[0mf\u001b[0m\u001b[0;34m:\u001b[0m\u001b[0;34m\u001b[0m\u001b[0;34m\u001b[0m\u001b[0m\n\u001b[0;32m--> 423\u001b[0;31m             \u001b[0mimg\u001b[0m \u001b[0;34m=\u001b[0m \u001b[0mpil_image\u001b[0m\u001b[0;34m.\u001b[0m\u001b[0mopen\u001b[0m\u001b[0;34m(\u001b[0m\u001b[0mio\u001b[0m\u001b[0;34m.\u001b[0m\u001b[0mBytesIO\u001b[0m\u001b[0;34m(\u001b[0m\u001b[0mf\u001b[0m\u001b[0;34m.\u001b[0m\u001b[0mread\u001b[0m\u001b[0;34m(\u001b[0m\u001b[0;34m)\u001b[0m\u001b[0;34m)\u001b[0m\u001b[0;34m)\u001b[0m\u001b[0;34m\u001b[0m\u001b[0;34m\u001b[0m\u001b[0m\n\u001b[0m\u001b[1;32m    424\u001b[0m     \u001b[0;32melse\u001b[0m\u001b[0;34m:\u001b[0m\u001b[0;34m\u001b[0m\u001b[0;34m\u001b[0m\u001b[0m\n\u001b[1;32m    425\u001b[0m         raise TypeError(\n",
            "\u001b[0;32m/usr/local/lib/python3.10/dist-packages/PIL/Image.py\u001b[0m in \u001b[0;36mopen\u001b[0;34m(fp, mode, formats)\u001b[0m\n\u001b[1;32m   3281\u001b[0m         \u001b[0mwarnings\u001b[0m\u001b[0;34m.\u001b[0m\u001b[0mwarn\u001b[0m\u001b[0;34m(\u001b[0m\u001b[0mmessage\u001b[0m\u001b[0;34m)\u001b[0m\u001b[0;34m\u001b[0m\u001b[0;34m\u001b[0m\u001b[0m\n\u001b[1;32m   3282\u001b[0m     \u001b[0mmsg\u001b[0m \u001b[0;34m=\u001b[0m \u001b[0;34m\"cannot identify image file %r\"\u001b[0m \u001b[0;34m%\u001b[0m \u001b[0;34m(\u001b[0m\u001b[0mfilename\u001b[0m \u001b[0;32mif\u001b[0m \u001b[0mfilename\u001b[0m \u001b[0;32melse\u001b[0m \u001b[0mfp\u001b[0m\u001b[0;34m)\u001b[0m\u001b[0;34m\u001b[0m\u001b[0;34m\u001b[0m\u001b[0m\n\u001b[0;32m-> 3283\u001b[0;31m     \u001b[0;32mraise\u001b[0m \u001b[0mUnidentifiedImageError\u001b[0m\u001b[0;34m(\u001b[0m\u001b[0mmsg\u001b[0m\u001b[0;34m)\u001b[0m\u001b[0;34m\u001b[0m\u001b[0;34m\u001b[0m\u001b[0m\n\u001b[0m\u001b[1;32m   3284\u001b[0m \u001b[0;34m\u001b[0m\u001b[0m\n\u001b[1;32m   3285\u001b[0m \u001b[0;34m\u001b[0m\u001b[0m\n",
            "\u001b[0;31mUnidentifiedImageError\u001b[0m: cannot identify image file <_io.BytesIO object at 0x7e246e72cc20>"
          ]
        }
      ]
    },
    {
      "cell_type": "code",
      "source": [
        "os.path.join(directory + train_directory + '/ReWrite')"
      ],
      "metadata": {
        "colab": {
          "base_uri": "https://localhost:8080/",
          "height": 35
        },
        "id": "eKxbxB5OgfAf",
        "outputId": "4d83234d-c1c0-417f-a046-7aea96911dcb"
      },
      "execution_count": null,
      "outputs": [
        {
          "output_type": "execute_result",
          "data": {
            "text/plain": [
              "'/content/drive/My Drive/Projects/ReWrite'"
            ],
            "application/vnd.google.colaboratory.intrinsic+json": {
              "type": "string"
            }
          },
          "metadata": {},
          "execution_count": 8
        }
      ]
    },
    {
      "cell_type": "markdown",
      "source": [
        "## 16.11.23"
      ],
      "metadata": {
        "id": "8YyOtRI6y2ZV"
      }
    },
    {
      "cell_type": "code",
      "metadata": {
        "id": "DRzKO52WNPu-"
      },
      "source": [
        "import numpy as np\n",
        "import matplotlib.pyplot as plt"
      ],
      "execution_count": null,
      "outputs": []
    },
    {
      "cell_type": "code",
      "metadata": {
        "id": "sYvhZ_Vf2Fzl"
      },
      "source": [
        "# Ваше решение\n",
        "x = np.random.randint(0, 20, (5, 2))\n",
        "y = np.random.randint(0, 20, (2, 5))\n",
        "z = np.random.randint(0, 20, (5, 2))"
      ],
      "execution_count": null,
      "outputs": []
    },
    {
      "cell_type": "code",
      "source": [
        "x"
      ],
      "metadata": {
        "colab": {
          "base_uri": "https://localhost:8080/"
        },
        "id": "sBi9Q1RED_yY",
        "outputId": "12cbfcf8-ee58-4b6e-d4ba-5db55b55fa7a"
      },
      "execution_count": null,
      "outputs": [
        {
          "output_type": "execute_result",
          "data": {
            "text/plain": [
              "array([[19,  9],\n",
              "       [ 8,  5],\n",
              "       [18,  0],\n",
              "       [ 4, 15],\n",
              "       [ 7, 10]])"
            ]
          },
          "metadata": {},
          "execution_count": 3
        }
      ]
    },
    {
      "cell_type": "code",
      "source": [
        "y"
      ],
      "metadata": {
        "colab": {
          "base_uri": "https://localhost:8080/"
        },
        "id": "llmkYxUYEBDG",
        "outputId": "e7243fbc-1b0f-4639-d95c-e78c5071eaec"
      },
      "execution_count": null,
      "outputs": [
        {
          "output_type": "execute_result",
          "data": {
            "text/plain": [
              "array([[18, 13,  1,  6, 14],\n",
              "       [17,  3,  7,  7,  5]])"
            ]
          },
          "metadata": {},
          "execution_count": 4
        }
      ]
    },
    {
      "cell_type": "code",
      "source": [
        "z"
      ],
      "metadata": {
        "id": "U7QbdkW1YFw4",
        "colab": {
          "base_uri": "https://localhost:8080/"
        },
        "outputId": "b338b993-5de7-4c68-c67a-87c654c7f9f4"
      },
      "execution_count": null,
      "outputs": [
        {
          "output_type": "execute_result",
          "data": {
            "text/plain": [
              "array([[ 7, 10],\n",
              "       [ 5, 19],\n",
              "       [ 1,  5],\n",
              "       [ 6, 19],\n",
              "       [19,  4]])"
            ]
          },
          "metadata": {},
          "execution_count": 5
        }
      ]
    },
    {
      "cell_type": "code",
      "source": [
        "def multiply_matrices(*matrices):\n",
        "\n",
        "    def multiply(matrix1, matrix2):\n",
        "        rows1, cols1 = len(matrix1), len(matrix1[0])\n",
        "        rows2, cols2 = len(matrix2), len(matrix2[0])\n",
        "\n",
        "\n",
        "        result = [[0] * cols2 for _ in range(rows1)]\n",
        "\n",
        "        for i in range(rows1):\n",
        "            for j in range(cols2):\n",
        "                for k in range(cols1):\n",
        "                    result[i][j] += matrix1[i][k] * matrix2[k][j]\n",
        "\n",
        "        return result\n",
        "\n",
        "    result = matrices[0]\n",
        "\n",
        "    print('1 - ', result, '\\n')\n",
        "\n",
        "    for matrix in matrices[1:]:\n",
        "        result = multiply(result, matrix)\n",
        "    return result"
      ],
      "metadata": {
        "id": "SodDnSby8aXJ"
      },
      "execution_count": null,
      "outputs": []
    },
    {
      "cell_type": "code",
      "source": [],
      "metadata": {
        "id": "XdV2XzcDvOPf"
      },
      "execution_count": null,
      "outputs": []
    },
    {
      "cell_type": "code",
      "source": [
        "multiply_matrices(x, y, z)"
      ],
      "metadata": {
        "colab": {
          "base_uri": "https://localhost:8080/"
        },
        "id": "l_Fr8qFE_eKT",
        "outputId": "f2a828d5-becc-4a5f-dd8d-3089e584ed0a"
      },
      "execution_count": null,
      "outputs": [
        {
          "output_type": "stream",
          "name": "stdout",
          "text": [
            "1 -  [[19  9]\n",
            " [ 8  5]\n",
            " [18  0]\n",
            " [ 4 15]\n",
            " [ 7 10]] \n",
            "\n"
          ]
        },
        {
          "output_type": "execute_result",
          "data": {
            "text/plain": [
              "[[11888, 15173], [5342, 6891], [8892, 10836], [6146, 8633], [6238, 8364]]"
            ]
          },
          "metadata": {},
          "execution_count": 14
        }
      ]
    },
    {
      "cell_type": "code",
      "source": [
        "string = \"Каждый охотник желает знать, где сидит фазан.\"\n",
        "\n",
        "def find_longest_word(text):\n",
        "    words = text.split()\n",
        "    longest_word = max(words, key=len)\n",
        "    return longest_word\n",
        "\n",
        "find_longest_word(string)"
      ],
      "metadata": {
        "colab": {
          "base_uri": "https://localhost:8080/",
          "height": 35
        },
        "id": "asyNhM3AYAan",
        "outputId": "aafbffa4-88ea-4db6-f61e-9e756be43916"
      },
      "execution_count": null,
      "outputs": [
        {
          "output_type": "execute_result",
          "data": {
            "text/plain": [
              "'охотник'"
            ],
            "application/vnd.google.colaboratory.intrinsic+json": {
              "type": "string"
            }
          },
          "metadata": {},
          "execution_count": 1
        }
      ]
    },
    {
      "cell_type": "markdown",
      "source": [
        "## 15.11.23"
      ],
      "metadata": {
        "id": "EbmzXn0754T1"
      }
    },
    {
      "cell_type": "code",
      "source": [
        "model.save_weights('model_weights.h5')\n",
        "model2.load_weights('model_weights.h5')\n",
        "\n",
        "# https://proproprogs.ru/tensorflow/keras-sposoby-sohraneniya-i-zagruzki-modeley-v-keras\n",
        "# https://www.tensorflow.org/guide/keras/serialization_and_saving\n"
      ],
      "metadata": {
        "id": "A8iO3Qs5qbFU"
      },
      "execution_count": null,
      "outputs": []
    },
    {
      "cell_type": "markdown",
      "source": [
        "## 14.11.23"
      ],
      "metadata": {
        "id": "XreHiw1mlMsm"
      }
    },
    {
      "cell_type": "code",
      "source": [
        "dict1 = {'1': 10, '2': 20, '3': 30}\n",
        "dict2 = {'2': 20, '3': 30, '4': 40}\n",
        "\n",
        "print(dict1.items())\n",
        "print(dict2.items())\n",
        "\n",
        "print(set(dict1.items()))\n",
        "print(set(dict2.items()))\n",
        "\n",
        "\n",
        "set(dict1.items()) - set(dict2.items())"
      ],
      "metadata": {
        "colab": {
          "base_uri": "https://localhost:8080/"
        },
        "id": "XMLbBk2gCAND",
        "outputId": "bc5b042d-0f85-473e-a1c7-78748f580665"
      },
      "execution_count": null,
      "outputs": [
        {
          "output_type": "stream",
          "name": "stdout",
          "text": [
            "dict_items([('1', 10), ('2', 20), ('3', 30)])\n",
            "dict_items([('2', 20), ('3', 30), ('4', 40)])\n",
            "{('3', 30), ('2', 20), ('1', 10)}\n",
            "{('3', 30), ('4', 40), ('2', 20)}\n"
          ]
        },
        {
          "output_type": "execute_result",
          "data": {
            "text/plain": [
              "{('1', 10)}"
            ]
          },
          "metadata": {},
          "execution_count": 1
        }
      ]
    },
    {
      "cell_type": "code",
      "source": [
        "dict1.items() - dict2.items()"
      ],
      "metadata": {
        "colab": {
          "base_uri": "https://localhost:8080/"
        },
        "id": "MvZc3oWZHFSU",
        "outputId": "89b1837f-f681-4685-aeb5-0b2d2e62bfd9"
      },
      "execution_count": null,
      "outputs": [
        {
          "output_type": "execute_result",
          "data": {
            "text/plain": [
              "{('1', 10)}"
            ]
          },
          "metadata": {},
          "execution_count": 2
        }
      ]
    },
    {
      "cell_type": "code",
      "source": [],
      "metadata": {
        "id": "fMRam5ZlHO-b"
      },
      "execution_count": null,
      "outputs": []
    },
    {
      "cell_type": "markdown",
      "source": [
        "## 07.11.23"
      ],
      "metadata": {
        "id": "NZ4C-Jim5-ND"
      }
    },
    {
      "cell_type": "code",
      "source": [
        "help(os.path)"
      ],
      "metadata": {
        "id": "2AoF-s7G3u3O"
      },
      "execution_count": null,
      "outputs": []
    },
    {
      "cell_type": "code",
      "source": [
        "data = {}\n",
        "import os, json\n",
        "for dirpath, dirnames, filenames in os.walk(\"/content\"):\n",
        "    # print(dirpath, dirnames, filenames)\n",
        "    # print(os.path.join(dirpath, dirname)+\"/data_file.json\")\n",
        "    # перебрать каталоги\n",
        "    for dirname in dirnames:\n",
        "        with open(os.path.join(dirpath, dirname)+\"/data_file.json\", \"w\") as write_file:\n",
        "            json.dump(data, write_file)\n",
        "\n",
        "    # for dirpath, dirnames, filenames in os.walk(\"/content\"):\n",
        "    #     # перебрать каталоги\n",
        "    #     for dirname in dirnames:\n",
        "    #         with open(\"/data_file.json\", \"w\") as write_file:\n",
        "    #             json.dump(data, write_file)"
      ],
      "metadata": {
        "id": "9grs4AF8xF_c"
      },
      "execution_count": null,
      "outputs": []
    },
    {
      "cell_type": "markdown",
      "source": [
        "## 05.11.23"
      ],
      "metadata": {
        "id": "lNo5KDU2eFue"
      }
    },
    {
      "cell_type": "code",
      "source": [
        "input_strs = ['дом', 'квартира', 'поместье']\n",
        "result = map(lambda str: ''.join(reversed(list(str))), input_strs)\n",
        "print(list(result))"
      ],
      "metadata": {
        "colab": {
          "base_uri": "https://localhost:8080/"
        },
        "id": "aY-KfiTPdn3G",
        "outputId": "ebc862d4-7299-4c91-ba69-cf5b83d89d5f"
      },
      "execution_count": null,
      "outputs": [
        {
          "output_type": "stream",
          "name": "stdout",
          "text": [
            "['мод', 'аритравк', 'еьтсемоп']\n"
          ]
        }
      ]
    },
    {
      "cell_type": "code",
      "source": [
        "# Ваше решение\n",
        "import matplotlib\n",
        "from tensorflow.keras.datasets import mnist     # Библиотека с базой рукописных цифр\n",
        "from tensorflow.keras.models import Sequential  # Подключение класса создания модели Sequential\n",
        "from tensorflow.keras.layers import Dense       # Подключение класса Dense - полносвязный слой\n",
        "from tensorflow.keras import utils              # Утилиты для подготовки данных\n",
        "import gdown                                    # Библиотека для доступа к google drive\n",
        "import numpy as np                              # Работа с массивами\n",
        "import matplotlib.pyplot as plt\n",
        "!pip install plot_model\n",
        "# from keras.utils.vis_utils import plot_model\n",
        "\n",
        "if __name__ == '__main__':\n",
        "    # Путь до папки с изображениями цифр\n",
        "    folder = 'https://drive.google.com/drive/folders/1MiYlGGZ_b9l1oaBUbbTuxhzZaiGyWG71?usp=drive_link'\n",
        "    gdown.download_folder(folder, quiet=True, use_cookies=False)\n",
        "    # Выбор картинки с цифрой, которую хотим распознать\n",
        "    imgPath = \"/content/numbers/1.png\"\n",
        "    img = utils.load_img(imgPath,target_size=(28, 28), color_mode = 'grayscale')\n",
        "    imgNumArr = utils.img_to_array(img)\n",
        "    reshapeImg = imgNumArr.reshape(784)\n",
        "\n",
        "    #x_train_org, y_train_org – изображения для обучения нейронной сети;\n",
        "    #x_test_org, y_test_org – изображения для тестирования нейронной сети.\n",
        "    (x_train_org, y_train_org), (x_test_org, y_test_org) = mnist.load_data()\n",
        "    x_train_org.shape #(60000, 28, 28)\n",
        "    plt.imshow(imgNumArr.reshape(28,28), cmap='gray')\n",
        "    plt.show()\n",
        "\n",
        "    # Изменение формы входных картинок с 28х28 на 784\n",
        "    # первая ось остается без изменения, остальные складываются в вектор\n",
        "    x_train = x_train_org.reshape(x_train_org.shape[0], -1) #(60000, 784)\n",
        "    x_test = x_test_org.reshape(x_test_org.shape[0], -1) #(10000, 784)\n",
        "    # Нормализация входных картинок\n",
        "    # Преобразование x_train в тип float32 (числа с плавающей точкой) и нормализация\n",
        "    x_train = x_train.astype('float32') / 255.\n",
        "    x_test = x_test.astype('float32') / 255.\n",
        "    floatImg = reshapeImg.astype('float32') / 255.\n",
        "    # print('floatImg', floatImg)\n",
        "    # Задание константы количества распознаваемых классов\n",
        "    CLASS_COUNT = 10\n",
        "    # Преобразование ответов в формат one_hot_encoding\n",
        "    y_train = utils.to_categorical(y_train_org, CLASS_COUNT)\n",
        "    y_test = utils.to_categorical(y_test_org, CLASS_COUNT)\n",
        "    floatImgT = utils.to_categorical(floatImg, CLASS_COUNT)\n",
        "    print('floatImgT', floatImgT)\n",
        "    # Создание последовательной модели\n",
        "    model = Sequential()\n",
        "    # Добавление полносвязного слоя на 800 нейронов с relu-активацией\n",
        "    model.add(Dense(800, input_dim=784, activation='relu'))\n",
        "    # Добавление полносвязного слоя на 400 нейронов с relu-активацией\n",
        "    model.add(Dense(400, activation='relu'))\n",
        "    # Добавление полносвязного слоя с количеством нейронов по числу классов с softmax-активацией\n",
        "    model.add(Dense(CLASS_COUNT, activation='softmax'))\n",
        "    # Компиляция модели\n",
        "    model.compile(loss='categorical_crossentropy', optimizer='adam', metrics=['accuracy'])\n",
        "\n",
        "    model.fit(x_train,  # обучающая выборка, входные данные\n",
        "              y_train,  # обучающая выборка, выходные данные\n",
        "              batch_size=128,  # кол-во примеров, которое обрабатывает нейронка перед одним изменением весов\n",
        "              epochs=5,  # количество эпох, когда нейронка обучается на всех примерах выборки\n",
        "              verbose=1)  # 0 - не визуализировать ход обучения, 1 - визуализировать\n",
        "    model.save_weights('model.h5')\n",
        "    model.load_weights('model.h5')\n",
        "\n",
        "    testImg = np.expand_dims(reshapeImg, axis=0)\n",
        "    prediction = model.predict(testImg)\n",
        "    print(f'Распознана цифра: {np.argmax(prediction)}')\n"
      ],
      "metadata": {
        "colab": {
          "base_uri": "https://localhost:8080/",
          "height": 1000
        },
        "id": "ZTNtoAtPrgiZ",
        "outputId": "34306e26-2d6e-4969-a6e6-8a0141260699"
      },
      "execution_count": null,
      "outputs": [
        {
          "output_type": "stream",
          "name": "stdout",
          "text": [
            "Requirement already satisfied: plot_model in /usr/local/lib/python3.10/dist-packages (0.20)\n"
          ]
        },
        {
          "output_type": "display_data",
          "data": {
            "text/plain": [
              "<Figure size 640x480 with 1 Axes>"
            ],
            "image/png": "[encoded data removed]"
          },
          "metadata": {}
        },
        {
          "output_type": "stream",
          "name": "stdout",
          "text": [
            "floatImgT [[1. 0. 0. ... 0. 0. 0.]\n",
            " [1. 0. 0. ... 0. 0. 0.]\n",
            " [1. 0. 0. ... 0. 0. 0.]\n",
            " ...\n",
            " [1. 0. 0. ... 0. 0. 0.]\n",
            " [1. 0. 0. ... 0. 0. 0.]\n",
            " [1. 0. 0. ... 0. 0. 0.]]\n",
            "Epoch 1/5\n",
            "469/469 [==============================] - 13s 26ms/step - loss: 0.2048 - accuracy: 0.9386\n",
            "Epoch 2/5\n",
            "246/469 [==============>...............] - ETA: 5s - loss: 0.0760 - accuracy: 0.9765"
          ]
        },
        {
          "output_type": "error",
          "ename": "KeyboardInterrupt",
          "evalue": "ignored",
          "traceback": [
            "\u001b[0;31m---------------------------------------------------------------------------\u001b[0m",
            "\u001b[0;31mKeyboardInterrupt\u001b[0m                         Traceback (most recent call last)",
            "\u001b[0;32m<ipython-input-2-a2845e42be6f>\u001b[0m in \u001b[0;36m<cell line: 13>\u001b[0;34m()\u001b[0m\n\u001b[1;32m     56\u001b[0m     \u001b[0mmodel\u001b[0m\u001b[0;34m.\u001b[0m\u001b[0mcompile\u001b[0m\u001b[0;34m(\u001b[0m\u001b[0mloss\u001b[0m\u001b[0;34m=\u001b[0m\u001b[0;34m'categorical_crossentropy'\u001b[0m\u001b[0;34m,\u001b[0m \u001b[0moptimizer\u001b[0m\u001b[0;34m=\u001b[0m\u001b[0;34m'adam'\u001b[0m\u001b[0;34m,\u001b[0m \u001b[0mmetrics\u001b[0m\u001b[0;34m=\u001b[0m\u001b[0;34m[\u001b[0m\u001b[0;34m'accuracy'\u001b[0m\u001b[0;34m]\u001b[0m\u001b[0;34m)\u001b[0m\u001b[0;34m\u001b[0m\u001b[0;34m\u001b[0m\u001b[0m\n\u001b[1;32m     57\u001b[0m \u001b[0;34m\u001b[0m\u001b[0m\n\u001b[0;32m---> 58\u001b[0;31m     model.fit(x_train,  # обучающая выборка, входные данные\n\u001b[0m\u001b[1;32m     59\u001b[0m               \u001b[0my_train\u001b[0m\u001b[0;34m,\u001b[0m  \u001b[0;31m# обучающая выборка, выходные данные\u001b[0m\u001b[0;34m\u001b[0m\u001b[0;34m\u001b[0m\u001b[0m\n\u001b[1;32m     60\u001b[0m               \u001b[0mbatch_size\u001b[0m\u001b[0;34m=\u001b[0m\u001b[0;36m128\u001b[0m\u001b[0;34m,\u001b[0m  \u001b[0;31m# кол-во примеров, которое обрабатывает нейронка перед одним изменением весов\u001b[0m\u001b[0;34m\u001b[0m\u001b[0;34m\u001b[0m\u001b[0m\n",
            "\u001b[0;32m/usr/local/lib/python3.10/dist-packages/keras/src/utils/traceback_utils.py\u001b[0m in \u001b[0;36merror_handler\u001b[0;34m(*args, **kwargs)\u001b[0m\n\u001b[1;32m     63\u001b[0m         \u001b[0mfiltered_tb\u001b[0m \u001b[0;34m=\u001b[0m \u001b[0;32mNone\u001b[0m\u001b[0;34m\u001b[0m\u001b[0;34m\u001b[0m\u001b[0m\n\u001b[1;32m     64\u001b[0m         \u001b[0;32mtry\u001b[0m\u001b[0;34m:\u001b[0m\u001b[0;34m\u001b[0m\u001b[0;34m\u001b[0m\u001b[0m\n\u001b[0;32m---> 65\u001b[0;31m             \u001b[0;32mreturn\u001b[0m \u001b[0mfn\u001b[0m\u001b[0;34m(\u001b[0m\u001b[0;34m*\u001b[0m\u001b[0margs\u001b[0m\u001b[0;34m,\u001b[0m \u001b[0;34m**\u001b[0m\u001b[0mkwargs\u001b[0m\u001b[0;34m)\u001b[0m\u001b[0;34m\u001b[0m\u001b[0;34m\u001b[0m\u001b[0m\n\u001b[0m\u001b[1;32m     66\u001b[0m         \u001b[0;32mexcept\u001b[0m \u001b[0mException\u001b[0m \u001b[0;32mas\u001b[0m \u001b[0me\u001b[0m\u001b[0;34m:\u001b[0m\u001b[0;34m\u001b[0m\u001b[0;34m\u001b[0m\u001b[0m\n\u001b[1;32m     67\u001b[0m             \u001b[0mfiltered_tb\u001b[0m \u001b[0;34m=\u001b[0m \u001b[0m_process_traceback_frames\u001b[0m\u001b[0;34m(\u001b[0m\u001b[0me\u001b[0m\u001b[0;34m.\u001b[0m\u001b[0m__traceback__\u001b[0m\u001b[0;34m)\u001b[0m\u001b[0;34m\u001b[0m\u001b[0;34m\u001b[0m\u001b[0m\n",
            "\u001b[0;32m/usr/local/lib/python3.10/dist-packages/keras/src/engine/training.py\u001b[0m in \u001b[0;36mfit\u001b[0;34m(self, x, y, batch_size, epochs, verbose, callbacks, validation_split, validation_data, shuffle, class_weight, sample_weight, initial_epoch, steps_per_epoch, validation_steps, validation_batch_size, validation_freq, max_queue_size, workers, use_multiprocessing)\u001b[0m\n\u001b[1;32m   1781\u001b[0m                         ):\n\u001b[1;32m   1782\u001b[0m                             \u001b[0mcallbacks\u001b[0m\u001b[0;34m.\u001b[0m\u001b[0mon_train_batch_begin\u001b[0m\u001b[0;34m(\u001b[0m\u001b[0mstep\u001b[0m\u001b[0;34m)\u001b[0m\u001b[0;34m\u001b[0m\u001b[0;34m\u001b[0m\u001b[0m\n\u001b[0;32m-> 1783\u001b[0;31m                             \u001b[0mtmp_logs\u001b[0m \u001b[0;34m=\u001b[0m \u001b[0mself\u001b[0m\u001b[0;34m.\u001b[0m\u001b[0mtrain_function\u001b[0m\u001b[0;34m(\u001b[0m\u001b[0miterator\u001b[0m\u001b[0;34m)\u001b[0m\u001b[0;34m\u001b[0m\u001b[0;34m\u001b[0m\u001b[0m\n\u001b[0m\u001b[1;32m   1784\u001b[0m                             \u001b[0;32mif\u001b[0m \u001b[0mdata_handler\u001b[0m\u001b[0;34m.\u001b[0m\u001b[0mshould_sync\u001b[0m\u001b[0;34m:\u001b[0m\u001b[0;34m\u001b[0m\u001b[0;34m\u001b[0m\u001b[0m\n\u001b[1;32m   1785\u001b[0m                                 \u001b[0mcontext\u001b[0m\u001b[0;34m.\u001b[0m\u001b[0masync_wait\u001b[0m\u001b[0;34m(\u001b[0m\u001b[0;34m)\u001b[0m\u001b[0;34m\u001b[0m\u001b[0;34m\u001b[0m\u001b[0m\n",
            "\u001b[0;32m/usr/local/lib/python3.10/dist-packages/tensorflow/python/util/traceback_utils.py\u001b[0m in \u001b[0;36merror_handler\u001b[0;34m(*args, **kwargs)\u001b[0m\n\u001b[1;32m    148\u001b[0m     \u001b[0mfiltered_tb\u001b[0m \u001b[0;34m=\u001b[0m \u001b[0;32mNone\u001b[0m\u001b[0;34m\u001b[0m\u001b[0;34m\u001b[0m\u001b[0m\n\u001b[1;32m    149\u001b[0m     \u001b[0;32mtry\u001b[0m\u001b[0;34m:\u001b[0m\u001b[0;34m\u001b[0m\u001b[0;34m\u001b[0m\u001b[0m\n\u001b[0;32m--> 150\u001b[0;31m       \u001b[0;32mreturn\u001b[0m \u001b[0mfn\u001b[0m\u001b[0;34m(\u001b[0m\u001b[0;34m*\u001b[0m\u001b[0margs\u001b[0m\u001b[0;34m,\u001b[0m \u001b[0;34m**\u001b[0m\u001b[0mkwargs\u001b[0m\u001b[0;34m)\u001b[0m\u001b[0;34m\u001b[0m\u001b[0;34m\u001b[0m\u001b[0m\n\u001b[0m\u001b[1;32m    151\u001b[0m     \u001b[0;32mexcept\u001b[0m \u001b[0mException\u001b[0m \u001b[0;32mas\u001b[0m \u001b[0me\u001b[0m\u001b[0;34m:\u001b[0m\u001b[0;34m\u001b[0m\u001b[0;34m\u001b[0m\u001b[0m\n\u001b[1;32m    152\u001b[0m       \u001b[0mfiltered_tb\u001b[0m \u001b[0;34m=\u001b[0m \u001b[0m_process_traceback_frames\u001b[0m\u001b[0;34m(\u001b[0m\u001b[0me\u001b[0m\u001b[0;34m.\u001b[0m\u001b[0m__traceback__\u001b[0m\u001b[0;34m)\u001b[0m\u001b[0;34m\u001b[0m\u001b[0;34m\u001b[0m\u001b[0m\n",
            "\u001b[0;32m/usr/local/lib/python3.10/dist-packages/tensorflow/python/eager/polymorphic_function/polymorphic_function.py\u001b[0m in \u001b[0;36m__call__\u001b[0;34m(self, *args, **kwds)\u001b[0m\n\u001b[1;32m    829\u001b[0m \u001b[0;34m\u001b[0m\u001b[0m\n\u001b[1;32m    830\u001b[0m       \u001b[0;32mwith\u001b[0m \u001b[0mOptionalXlaContext\u001b[0m\u001b[0;34m(\u001b[0m\u001b[0mself\u001b[0m\u001b[0;34m.\u001b[0m\u001b[0m_jit_compile\u001b[0m\u001b[0;34m)\u001b[0m\u001b[0;34m:\u001b[0m\u001b[0;34m\u001b[0m\u001b[0;34m\u001b[0m\u001b[0m\n\u001b[0;32m--> 831\u001b[0;31m         \u001b[0mresult\u001b[0m \u001b[0;34m=\u001b[0m \u001b[0mself\u001b[0m\u001b[0;34m.\u001b[0m\u001b[0m_call\u001b[0m\u001b[0;34m(\u001b[0m\u001b[0;34m*\u001b[0m\u001b[0margs\u001b[0m\u001b[0;34m,\u001b[0m \u001b[0;34m**\u001b[0m\u001b[0mkwds\u001b[0m\u001b[0;34m)\u001b[0m\u001b[0;34m\u001b[0m\u001b[0;34m\u001b[0m\u001b[0m\n\u001b[0m\u001b[1;32m    832\u001b[0m \u001b[0;34m\u001b[0m\u001b[0m\n\u001b[1;32m    833\u001b[0m       \u001b[0mnew_tracing_count\u001b[0m \u001b[0;34m=\u001b[0m \u001b[0mself\u001b[0m\u001b[0;34m.\u001b[0m\u001b[0mexperimental_get_tracing_count\u001b[0m\u001b[0;34m(\u001b[0m\u001b[0;34m)\u001b[0m\u001b[0;34m\u001b[0m\u001b[0;34m\u001b[0m\u001b[0m\n",
            "\u001b[0;32m/usr/local/lib/python3.10/dist-packages/tensorflow/python/eager/polymorphic_function/polymorphic_function.py\u001b[0m in \u001b[0;36m_call\u001b[0;34m(self, *args, **kwds)\u001b[0m\n\u001b[1;32m    865\u001b[0m       \u001b[0;31m# In this case we have created variables on the first call, so we run the\u001b[0m\u001b[0;34m\u001b[0m\u001b[0;34m\u001b[0m\u001b[0m\n\u001b[1;32m    866\u001b[0m       \u001b[0;31m# defunned version which is guaranteed to never create variables.\u001b[0m\u001b[0;34m\u001b[0m\u001b[0;34m\u001b[0m\u001b[0m\n\u001b[0;32m--> 867\u001b[0;31m       return tracing_compilation.call_function(\n\u001b[0m\u001b[1;32m    868\u001b[0m           \u001b[0margs\u001b[0m\u001b[0;34m,\u001b[0m \u001b[0mkwds\u001b[0m\u001b[0;34m,\u001b[0m \u001b[0mself\u001b[0m\u001b[0;34m.\u001b[0m\u001b[0m_no_variable_creation_config\u001b[0m\u001b[0;34m\u001b[0m\u001b[0;34m\u001b[0m\u001b[0m\n\u001b[1;32m    869\u001b[0m       )\n",
            "\u001b[0;32m/usr/local/lib/python3.10/dist-packages/tensorflow/python/eager/polymorphic_function/tracing_compilation.py\u001b[0m in \u001b[0;36mcall_function\u001b[0;34m(args, kwargs, tracing_options)\u001b[0m\n\u001b[1;32m    137\u001b[0m   \u001b[0mbound_args\u001b[0m \u001b[0;34m=\u001b[0m \u001b[0mfunction\u001b[0m\u001b[0;34m.\u001b[0m\u001b[0mfunction_type\u001b[0m\u001b[0;34m.\u001b[0m\u001b[0mbind\u001b[0m\u001b[0;34m(\u001b[0m\u001b[0;34m*\u001b[0m\u001b[0margs\u001b[0m\u001b[0;34m,\u001b[0m \u001b[0;34m**\u001b[0m\u001b[0mkwargs\u001b[0m\u001b[0;34m)\u001b[0m\u001b[0;34m\u001b[0m\u001b[0;34m\u001b[0m\u001b[0m\n\u001b[1;32m    138\u001b[0m   \u001b[0mflat_inputs\u001b[0m \u001b[0;34m=\u001b[0m \u001b[0mfunction\u001b[0m\u001b[0;34m.\u001b[0m\u001b[0mfunction_type\u001b[0m\u001b[0;34m.\u001b[0m\u001b[0munpack_inputs\u001b[0m\u001b[0;34m(\u001b[0m\u001b[0mbound_args\u001b[0m\u001b[0;34m)\u001b[0m\u001b[0;34m\u001b[0m\u001b[0;34m\u001b[0m\u001b[0m\n\u001b[0;32m--> 139\u001b[0;31m   return function._call_flat(  # pylint: disable=protected-access\n\u001b[0m\u001b[1;32m    140\u001b[0m       \u001b[0mflat_inputs\u001b[0m\u001b[0;34m,\u001b[0m \u001b[0mcaptured_inputs\u001b[0m\u001b[0;34m=\u001b[0m\u001b[0mfunction\u001b[0m\u001b[0;34m.\u001b[0m\u001b[0mcaptured_inputs\u001b[0m\u001b[0;34m\u001b[0m\u001b[0;34m\u001b[0m\u001b[0m\n\u001b[1;32m    141\u001b[0m   )\n",
            "\u001b[0;32m/usr/local/lib/python3.10/dist-packages/tensorflow/python/eager/polymorphic_function/concrete_function.py\u001b[0m in \u001b[0;36m_call_flat\u001b[0;34m(self, tensor_inputs, captured_inputs)\u001b[0m\n\u001b[1;32m   1262\u001b[0m         and executing_eagerly):\n\u001b[1;32m   1263\u001b[0m       \u001b[0;31m# No tape is watching; skip to running the function.\u001b[0m\u001b[0;34m\u001b[0m\u001b[0;34m\u001b[0m\u001b[0m\n\u001b[0;32m-> 1264\u001b[0;31m       \u001b[0;32mreturn\u001b[0m \u001b[0mself\u001b[0m\u001b[0;34m.\u001b[0m\u001b[0m_inference_function\u001b[0m\u001b[0;34m.\u001b[0m\u001b[0mflat_call\u001b[0m\u001b[0;34m(\u001b[0m\u001b[0margs\u001b[0m\u001b[0;34m)\u001b[0m\u001b[0;34m\u001b[0m\u001b[0;34m\u001b[0m\u001b[0m\n\u001b[0m\u001b[1;32m   1265\u001b[0m     forward_backward = self._select_forward_and_backward_functions(\n\u001b[1;32m   1266\u001b[0m         \u001b[0margs\u001b[0m\u001b[0;34m,\u001b[0m\u001b[0;34m\u001b[0m\u001b[0;34m\u001b[0m\u001b[0m\n",
            "\u001b[0;32m/usr/local/lib/python3.10/dist-packages/tensorflow/python/eager/polymorphic_function/atomic_function.py\u001b[0m in \u001b[0;36mflat_call\u001b[0;34m(self, args)\u001b[0m\n\u001b[1;32m    215\u001b[0m   \u001b[0;32mdef\u001b[0m \u001b[0mflat_call\u001b[0m\u001b[0;34m(\u001b[0m\u001b[0mself\u001b[0m\u001b[0;34m,\u001b[0m \u001b[0margs\u001b[0m\u001b[0;34m:\u001b[0m \u001b[0mSequence\u001b[0m\u001b[0;34m[\u001b[0m\u001b[0mcore\u001b[0m\u001b[0;34m.\u001b[0m\u001b[0mTensor\u001b[0m\u001b[0;34m]\u001b[0m\u001b[0;34m)\u001b[0m \u001b[0;34m->\u001b[0m \u001b[0mAny\u001b[0m\u001b[0;34m:\u001b[0m\u001b[0;34m\u001b[0m\u001b[0;34m\u001b[0m\u001b[0m\n\u001b[1;32m    216\u001b[0m     \u001b[0;34m\"\"\"Calls with tensor inputs and returns the structured output.\"\"\"\u001b[0m\u001b[0;34m\u001b[0m\u001b[0;34m\u001b[0m\u001b[0m\n\u001b[0;32m--> 217\u001b[0;31m     \u001b[0mflat_outputs\u001b[0m \u001b[0;34m=\u001b[0m \u001b[0mself\u001b[0m\u001b[0;34m(\u001b[0m\u001b[0;34m*\u001b[0m\u001b[0margs\u001b[0m\u001b[0;34m)\u001b[0m\u001b[0;34m\u001b[0m\u001b[0;34m\u001b[0m\u001b[0m\n\u001b[0m\u001b[1;32m    218\u001b[0m     \u001b[0;32mreturn\u001b[0m \u001b[0mself\u001b[0m\u001b[0;34m.\u001b[0m\u001b[0mfunction_type\u001b[0m\u001b[0;34m.\u001b[0m\u001b[0mpack_output\u001b[0m\u001b[0;34m(\u001b[0m\u001b[0mflat_outputs\u001b[0m\u001b[0;34m)\u001b[0m\u001b[0;34m\u001b[0m\u001b[0;34m\u001b[0m\u001b[0m\n\u001b[1;32m    219\u001b[0m \u001b[0;34m\u001b[0m\u001b[0m\n",
            "\u001b[0;32m/usr/local/lib/python3.10/dist-packages/tensorflow/python/eager/polymorphic_function/atomic_function.py\u001b[0m in \u001b[0;36m__call__\u001b[0;34m(self, *args)\u001b[0m\n\u001b[1;32m    250\u001b[0m         \u001b[0;32mwith\u001b[0m \u001b[0mrecord\u001b[0m\u001b[0;34m.\u001b[0m\u001b[0mstop_recording\u001b[0m\u001b[0;34m(\u001b[0m\u001b[0;34m)\u001b[0m\u001b[0;34m:\u001b[0m\u001b[0;34m\u001b[0m\u001b[0;34m\u001b[0m\u001b[0m\n\u001b[1;32m    251\u001b[0m           \u001b[0;32mif\u001b[0m \u001b[0mself\u001b[0m\u001b[0;34m.\u001b[0m\u001b[0m_bound_context\u001b[0m\u001b[0;34m.\u001b[0m\u001b[0mexecuting_eagerly\u001b[0m\u001b[0;34m(\u001b[0m\u001b[0;34m)\u001b[0m\u001b[0;34m:\u001b[0m\u001b[0;34m\u001b[0m\u001b[0;34m\u001b[0m\u001b[0m\n\u001b[0;32m--> 252\u001b[0;31m             outputs = self._bound_context.call_function(\n\u001b[0m\u001b[1;32m    253\u001b[0m                 \u001b[0mself\u001b[0m\u001b[0;34m.\u001b[0m\u001b[0mname\u001b[0m\u001b[0;34m,\u001b[0m\u001b[0;34m\u001b[0m\u001b[0;34m\u001b[0m\u001b[0m\n\u001b[1;32m    254\u001b[0m                 \u001b[0mlist\u001b[0m\u001b[0;34m(\u001b[0m\u001b[0margs\u001b[0m\u001b[0;34m)\u001b[0m\u001b[0;34m,\u001b[0m\u001b[0;34m\u001b[0m\u001b[0;34m\u001b[0m\u001b[0m\n",
            "\u001b[0;32m/usr/local/lib/python3.10/dist-packages/tensorflow/python/eager/context.py\u001b[0m in \u001b[0;36mcall_function\u001b[0;34m(self, name, tensor_inputs, num_outputs)\u001b[0m\n\u001b[1;32m   1477\u001b[0m     \u001b[0mcancellation_context\u001b[0m \u001b[0;34m=\u001b[0m \u001b[0mcancellation\u001b[0m\u001b[0;34m.\u001b[0m\u001b[0mcontext\u001b[0m\u001b[0;34m(\u001b[0m\u001b[0;34m)\u001b[0m\u001b[0;34m\u001b[0m\u001b[0;34m\u001b[0m\u001b[0m\n\u001b[1;32m   1478\u001b[0m     \u001b[0;32mif\u001b[0m \u001b[0mcancellation_context\u001b[0m \u001b[0;32mis\u001b[0m \u001b[0;32mNone\u001b[0m\u001b[0;34m:\u001b[0m\u001b[0;34m\u001b[0m\u001b[0;34m\u001b[0m\u001b[0m\n\u001b[0;32m-> 1479\u001b[0;31m       outputs = execute.execute(\n\u001b[0m\u001b[1;32m   1480\u001b[0m           \u001b[0mname\u001b[0m\u001b[0;34m.\u001b[0m\u001b[0mdecode\u001b[0m\u001b[0;34m(\u001b[0m\u001b[0;34m\"utf-8\"\u001b[0m\u001b[0;34m)\u001b[0m\u001b[0;34m,\u001b[0m\u001b[0;34m\u001b[0m\u001b[0;34m\u001b[0m\u001b[0m\n\u001b[1;32m   1481\u001b[0m           \u001b[0mnum_outputs\u001b[0m\u001b[0;34m=\u001b[0m\u001b[0mnum_outputs\u001b[0m\u001b[0;34m,\u001b[0m\u001b[0;34m\u001b[0m\u001b[0;34m\u001b[0m\u001b[0m\n",
            "\u001b[0;32m/usr/local/lib/python3.10/dist-packages/tensorflow/python/eager/execute.py\u001b[0m in \u001b[0;36mquick_execute\u001b[0;34m(op_name, num_outputs, inputs, attrs, ctx, name)\u001b[0m\n\u001b[1;32m     58\u001b[0m         \u001b[0;32mfor\u001b[0m \u001b[0mt\u001b[0m \u001b[0;32min\u001b[0m \u001b[0minputs\u001b[0m\u001b[0;34m\u001b[0m\u001b[0;34m\u001b[0m\u001b[0m\n\u001b[1;32m     59\u001b[0m     ]\n\u001b[0;32m---> 60\u001b[0;31m     tensors = pywrap_tfe.TFE_Py_Execute(ctx._handle, device_name, op_name,\n\u001b[0m\u001b[1;32m     61\u001b[0m                                         inputs, attrs, num_outputs)\n\u001b[1;32m     62\u001b[0m   \u001b[0;32mexcept\u001b[0m \u001b[0mcore\u001b[0m\u001b[0;34m.\u001b[0m\u001b[0m_NotOkStatusException\u001b[0m \u001b[0;32mas\u001b[0m \u001b[0me\u001b[0m\u001b[0;34m:\u001b[0m\u001b[0;34m\u001b[0m\u001b[0;34m\u001b[0m\u001b[0m\n",
            "\u001b[0;31mKeyboardInterrupt\u001b[0m: "
          ]
        }
      ]
    },
    {
      "cell_type": "code",
      "source": [],
      "metadata": {
        "id": "ErPPAT9nr29V"
      },
      "execution_count": null,
      "outputs": []
    },
    {
      "cell_type": "markdown",
      "source": [
        "## 03.11.23"
      ],
      "metadata": {
        "id": "_zdW2Kt4MjpK"
      }
    },
    {
      "cell_type": "code",
      "source": [
        "my_tuple = (1,2,3)\n",
        "print(my_tuple)\n",
        "\n",
        "\n",
        "my_list= list(my_tuple)\n",
        "print(my_list)"
      ],
      "metadata": {
        "colab": {
          "base_uri": "https://localhost:8080/"
        },
        "id": "91-izmGHMeWE",
        "outputId": "61101f57-4457-4a62-8869-65a610ee39ac"
      },
      "execution_count": null,
      "outputs": [
        {
          "output_type": "stream",
          "name": "stdout",
          "text": [
            "(1, 2, 3)\n",
            "[1, 2, 3]\n"
          ]
        }
      ]
    },
    {
      "cell_type": "markdown",
      "source": [
        "# 10.23"
      ],
      "metadata": {
        "id": "xIp7bWaLM72A"
      }
    },
    {
      "cell_type": "markdown",
      "source": [
        "## 26.10.23"
      ],
      "metadata": {
        "id": "DPdpuW6lrHsI"
      }
    },
    {
      "cell_type": "code",
      "source": [
        "global num_fig\n",
        "# Очистка сессии TensorFlow, чтобы освободить ресурсы\n",
        "tf.keras.backend.clear_session()\n",
        "\n",
        "# Поиск доступных физических GPU (графических ускорителей)\n",
        "gpus = tf.config.list_physical_devices('GPU')\n",
        "\n",
        "# Проверка, есть ли доступные GPU\n",
        "if gpus:\n",
        "  # Если есть доступные GPU, настроим их использование\n",
        "  for gpu in gpus:\n",
        "    tf.config.experimental.set_memory_growth(gpu, True)  # Установка динамического выделения памяти на GPU\n",
        "    print(f\"Available GPU: {tf.config.experimental.get_device_details(gpu)}\")  # Вывод информации о доступных GPU\n",
        "else:\n",
        "  # Если доступных GPU нет, выведем сообщение\n",
        "  print(\"No available GPUs\")"
      ],
      "metadata": {
        "id": "iecUB5gorGea"
      },
      "execution_count": null,
      "outputs": []
    },
    {
      "cell_type": "markdown",
      "source": [
        "## 24.10.23"
      ],
      "metadata": {
        "id": "DGjEedfnXLqv"
      }
    },
    {
      "cell_type": "code",
      "source": [
        "# функция, которая принимает список названий PDF-файлов и возвращает базу знаний FAISS\n",
        "def create_faiss_vectorstore(pdf_names):\n",
        "    pdf_folder_path = \"/content/\"\n",
        "\n",
        "    # Фильтрация файлов: загрузка только файлов с определенными именами и расширением .pdf\n",
        "    all_files = os.listdir(pdf_folder_path)\n",
        "    pdf_files = [fn for fn in all_files if fn in pdf_names and fn.endswith('.pdf')]\n",
        "\n",
        "    # Создание объектов UnstructuredPDFLoader для каждого PDF-файла\n",
        "    loaders = [UnstructuredPDFLoader(os.path.join(pdf_folder_path, fn)) for fn in pdf_files]\n",
        "\n",
        "    all_documents = []\n",
        "    text_splitter = RecursiveCharacterTextSplitter(chunk_size=800, chunk_overlap=100, length_function=len)\n",
        "\n",
        "    for loader in loaders:\n",
        "        # Загрузка и разделение текста\n",
        "        raw_documents = loader.load()\n",
        "        documents = text_splitter.split_documents(raw_documents)\n",
        "        all_documents.extend(documents)\n",
        "\n",
        "    # Создание FAISS vectorstore\n",
        "    embeddings = OpenAIEmbeddings()\n",
        "    vectorstore = FAISS.from_documents(all_documents, OpenAIEmbeddings()).as_retriever()\n",
        "\n",
        "    return vectorstore  #Создадим базу знаний по норматиавм питьевой воды на основе спецификаций в формате pdf:\n",
        "\n",
        "pdf_names = ['4294850590.pdf', '4294846957.pdf']\n",
        "db_standards = create_faiss_vectorstore(pdf_names)\n",
        "\n",
        "# WARNING:langchain.embeddings.openai:Retrying langchain.embeddings.openai.embed_with_retry.<locals>._embed_with_retry in 4.0 seconds as it raised RateLimitError: Rate limit reached for text-embedding-ada-002 in organization org-TSSzqPI5FdcKLoP5YDLdsXYH on tokens per min. Limit: 150000 / min. Current: 50965 / min. Contact us through our help center at help.openai.com if you continue to have issues. Please add a payment method to your account to increase your rate limit. Visit https://platform.openai.com/account/billing to add a payment method..\n",
        "# WARNING:langchain.embeddings.openai:Retrying langchain.embeddings.openai.embed_with_retry.<locals>._embed_with_retry in 4.0 seconds as it raised RateLimitError: Rate limit reached for text-embedding-ada-002 in organization org-TSSzqPI5FdcKLoP5YDLdsXYH on tokens per min. Limit: 150000 / min. Current: 37715 / min. Contact us through our help center at help.openai.com if you continue to have issues. Please add a payment method to your account to increase your rate limit. Visit https://platform.openai.com/account/billing to add a payment method..\n",
        "# WARNING:langchain.embeddings.openai:Retrying langchain.embeddings.openai.embed_with_retry.<locals>._embed_with_retry in 4.0 seconds as it raised RateLimitError: Rate limit reached for text-embedding-ada-002 in organization org-TSSzqPI5FdcKLoP5YDLdsXYH on tokens per min. Limit: 150000 / min. Current: 23917 / min. Contact us through our help center at help.openai.com if you continue to have issues. Please add a payment method to your account to increase your rate limit. Visit https://platform.openai.com/account/billing to add a payment method.."
      ],
      "metadata": {
        "id": "TTQDCknOVsLS"
      },
      "execution_count": null,
      "outputs": []
    },
    {
      "cell_type": "markdown",
      "source": [
        "## 15.10.23"
      ],
      "metadata": {
        "id": "nLw5IIqf09G9"
      }
    },
    {
      "cell_type": "code",
      "source": [
        "# keys = [1, 2, 3]\n",
        "my_dict = dict.fromkeys([1, 2, 3])\n",
        "print(my_dict)"
      ],
      "metadata": {
        "colab": {
          "base_uri": "https://localhost:8080/"
        },
        "id": "IRuL7vlMg78K",
        "outputId": "54dc8648-a81d-4baa-a4e4-36bd083455f2"
      },
      "execution_count": null,
      "outputs": [
        {
          "output_type": "stream",
          "name": "stdout",
          "text": [
            "{1: None, 2: None, 3: None}\n"
          ]
        }
      ]
    },
    {
      "cell_type": "code",
      "source": [
        "my_list = [1, 2, 3, 4, 5, 6]\n",
        "my_list2 =my_list.copy()\n",
        "\n",
        "# Удаление элементов больше 3 из списка\n",
        "for item in my_list2: # проходимся по каждому элементу `item` в списке `my_list`\n",
        "    if item > 3: # проверяем элемент `item` больше числа 3\n",
        "        my_list.remove(item) # удаляем элемент `item` с помощью метода `remove()`\n",
        "\n",
        "print(my_list)"
      ],
      "metadata": {
        "colab": {
          "base_uri": "https://localhost:8080/"
        },
        "id": "nAtC8bEbggOm",
        "outputId": "1c5092c8-ee1a-4ad6-8349-12ba53ae8bdf"
      },
      "execution_count": null,
      "outputs": [
        {
          "output_type": "stream",
          "name": "stdout",
          "text": [
            "[1, 2, 3]\n"
          ]
        }
      ]
    },
    {
      "cell_type": "markdown",
      "source": [
        "## 10.10.23"
      ],
      "metadata": {
        "id": "3yIRCUHGMeYE"
      }
    },
    {
      "cell_type": "code",
      "source": [
        "!python --version"
      ],
      "metadata": {
        "colab": {
          "base_uri": "https://localhost:8080/"
        },
        "id": "wEJEHn4BKnd9",
        "outputId": "5209aea6-ef85-4b5a-fc8d-c2accb4b3432"
      },
      "execution_count": null,
      "outputs": [
        {
          "output_type": "stream",
          "name": "stdout",
          "text": [
            "Python 3.10.12\n"
          ]
        }
      ]
    },
    {
      "cell_type": "code",
      "source": [
        "def possible_path(lst):\n",
        "\n",
        "    # Переменная значения ответа\n",
        "    answer = True\n",
        "\n",
        "    # Перебор значений переданного списка\n",
        "    for n in range(len(lst) - 1):\n",
        "        # Составление пар для проверки\n",
        "        n1 = lst[n]\n",
        "        n2 = lst[n+1]\n",
        "\n",
        "        # Проверка текущей пары\n",
        "        if n1 == 'H' and n2 in range(1, 5) or n2 == 'H' and n1 in range(1, 5):\n",
        "            answer = True\n",
        "        else:\n",
        "            answer = False\n",
        "\n",
        "        # Если путь невозможен\n",
        "        if answer == False:\n",
        "            break\n",
        "\n",
        "    return answer"
      ],
      "metadata": {
        "id": "9bsDAAndWF2Y"
      },
      "execution_count": null,
      "outputs": []
    },
    {
      "cell_type": "code",
      "metadata": {
        "colab": {
          "base_uri": "https://localhost:8080/"
        },
        "id": "faEm1ZRfCmSo",
        "outputId": "68784f3d-2142-41b4-b9d0-24f3cd952fee"
      },
      "source": [
        "way = [1, \"H\", 2, \"H\", 3, \"H\", 4]\n",
        "print(\"Путь: \", way, possible_path(way))\n",
        "\n",
        "way = [\"H\", 3, \"H\"]\n",
        "print(\"Путь: \", way, possible_path(way))\n",
        "\n",
        "way = [1, 2, \"H\", 3]\n",
        "print(\"Путь: \", way, possible_path(way))\n",
        "\n",
        "way = [1, 2, 3, \"H\"]\n",
        "print(\"Путь: \", way, possible_path(way))"
      ],
      "execution_count": null,
      "outputs": [
        {
          "output_type": "stream",
          "name": "stdout",
          "text": [
            "Путь:  [1, 'H', 2, 'H', 3, 'H', 4] True\n",
            "Путь:  ['H', 3, 'H'] True\n",
            "Путь:  [1, 2, 'H', 3] False\n",
            "Путь:  [1, 2, 3, 'H'] False\n"
          ]
        }
      ]
    },
    {
      "cell_type": "code",
      "source": [
        "import numpy as np\n",
        "lst_name = [\"small\", \"medium\", \"large\"]\n",
        "arr_str = np.full((3, 4), \"\", dtype=object)\n",
        "\n",
        "arr_str.flat[0] = lst_name[0]\n",
        "print(lst_name[0])\n",
        "arr_str"
      ],
      "metadata": {
        "colab": {
          "base_uri": "https://localhost:8080/"
        },
        "id": "k7i36r5FYdwq",
        "outputId": "99e06a70-95e2-4fe4-9635-1bd9e2ff875c"
      },
      "execution_count": null,
      "outputs": [
        {
          "output_type": "stream",
          "name": "stdout",
          "text": [
            "small\n"
          ]
        },
        {
          "output_type": "execute_result",
          "data": {
            "text/plain": [
              "array([['small', '', '', ''],\n",
              "       ['', '', '', ''],\n",
              "       ['', '', '', '']], dtype=object)"
            ]
          },
          "metadata": {},
          "execution_count": 12
        }
      ]
    },
    {
      "cell_type": "markdown",
      "source": [
        "# 09.23"
      ],
      "metadata": {
        "id": "ogbTFnpeM2OR"
      }
    },
    {
      "cell_type": "markdown",
      "source": [
        "## 26.09.23"
      ],
      "metadata": {
        "id": "UrlRRVo4GO0C"
      }
    },
    {
      "cell_type": "code",
      "source": [
        "Токен ngrok\n",
        "# 2IlHCdfCf4MFjsF8DuZs8H22c9k_myMJcAT7SBvxJAreh6uH"
      ],
      "metadata": {
        "id": "67SeeUFmGOe2"
      },
      "execution_count": null,
      "outputs": []
    },
    {
      "cell_type": "code",
      "source": [
        "dense_1 = [200, 400, 600]\n",
        "drop_1 = [0.1, 0.2, 0.4]\n",
        "epochs_1 = [10, 20, 25]\n",
        "\n",
        "parameters = []\n",
        "loss_list = []\n",
        "val_loss_list = []\n",
        "\n",
        "\n",
        "# Создание пустого DataFrame для сохранения результатов\n",
        "results_df = pd.DataFrame(columns=['Dense', 'Dropout', 'Epochs', 'Loss', 'Val_Loss'])\n",
        "\n",
        "\n",
        "\n",
        "\n",
        "for i in dense_1:\n",
        "    for k in drop_1:\n",
        "        for b in epochs_1:\n",
        "            print('Параметры модели:', i, k, b)\n",
        "            models = Sequential()\n",
        "            models.add(Dense(i, input_dim=784, activation=\"relu\"))\n",
        "            models.add(Dense(100, activation=\"relu\"))\n",
        "            models.add(Dropout(k))\n",
        "            models.add(Dense(10, activation=\"softmax\"))\n",
        "            models.compile(loss=\"categorical_crossentropy\", optimizer=\"adam\", metrics=[\"accuracy\"])\n",
        "            history = models.fit(x_train, y_train, batch_size=256, epochs=b, validation_split=0.1, verbose=1)\n",
        "            ev_list = models.evaluate(x_test, y_test)\n",
        "            print('Точность на тестовой выборке:', ev_list[1])\n",
        "            parameters.append(('Параметры модели:', i, k, b, ev_list[1]))\n",
        "            print(parameters)\n",
        "\n",
        "            # Сохранение значений loss и val_loss\n",
        "            loss_list.append(round(history.history['loss'], 4))\n",
        "            val_loss_list.append(round(history.history['val_loss'], 4))\n",
        "            #Сохранение результато в DataFrame для последующего создания сравнительной таблицы.\n",
        "            results_df = results_df.append({'Количество нейронов в слою': i, 'Dropout': k, 'Эпохи': b, 'Ошибка на обучающем наборе': history.history['loss'], 'Ошибка на проверочном наборе': history.history['val_loss']}, ignore_index=True)\n",
        "#  Какая ошибка в коде?"
      ],
      "metadata": {
        "id": "wf8EPpuC7Ff0"
      },
      "execution_count": null,
      "outputs": []
    },
    {
      "cell_type": "code",
      "source": [
        "x, y = a, b = 5, 9\n",
        "print(x, y, a, b)"
      ],
      "metadata": {
        "colab": {
          "base_uri": "https://localhost:8080/"
        },
        "id": "-JbX7UMIwQKe",
        "outputId": "cf5c77ec-10e4-48e0-d8ac-833f20d002c2"
      },
      "execution_count": null,
      "outputs": [
        {
          "output_type": "stream",
          "name": "stdout",
          "text": [
            "5 9 5 9\n"
          ]
        }
      ]
    },
    {
      "cell_type": "markdown",
      "source": [
        "## 25.09.23"
      ],
      "metadata": {
        "id": "eywJpRoBGLz6"
      }
    },
    {
      "cell_type": "code",
      "source": [
        "! wget http://www.atarimania.com/roms/Roms.rar\n",
        "! mkdir /content/ROM/\n",
        "! unrar e /content/Roms.rar /content/ROM/\n",
        "! pip install atari_py\n",
        "! python -m atari_py.import_roms /content/ROM/"
      ],
      "metadata": {
        "id": "JuxHWlFPFxr7"
      },
      "execution_count": null,
      "outputs": []
    },
    {
      "cell_type": "code",
      "source": [
        "!pip install gym==0.17"
      ],
      "metadata": {
        "id": "CzkwG2RsFya0"
      },
      "execution_count": null,
      "outputs": []
    },
    {
      "cell_type": "code",
      "source": [
        "import gym"
      ],
      "metadata": {
        "id": "O04L5f8HXAgO"
      },
      "execution_count": null,
      "outputs": []
    },
    {
      "cell_type": "code",
      "source": [
        "env = gym.make('Pong-v4')"
      ],
      "metadata": {
        "id": "PMJsQv5yF2rF"
      },
      "execution_count": null,
      "outputs": []
    },
    {
      "cell_type": "code",
      "source": [
        "# Список всех сред\n",
        "envs = gym.envs.registry.all()\n",
        "env_ids = sorted([env_spec.id for env_spec in envs])\n",
        "for env in envs:\n",
        "    print(env)"
      ],
      "metadata": {
        "id": "ihCLFAkuF4s6",
        "colab": {
          "base_uri": "https://localhost:8080/"
        },
        "outputId": "52cc1208-9b89-41be-d643-a8dd12776d79"
      },
      "execution_count": null,
      "outputs": [
        {
          "output_type": "stream",
          "name": "stdout",
          "text": [
            "EnvSpec(Copy-v0)\n",
            "EnvSpec(RepeatCopy-v0)\n",
            "EnvSpec(ReversedAddition-v0)\n",
            "EnvSpec(ReversedAddition3-v0)\n",
            "EnvSpec(DuplicatedInput-v0)\n",
            "EnvSpec(Reverse-v0)\n",
            "EnvSpec(CartPole-v0)\n",
            "EnvSpec(CartPole-v1)\n",
            "EnvSpec(MountainCar-v0)\n",
            "EnvSpec(MountainCarContinuous-v0)\n",
            "EnvSpec(Pendulum-v0)\n",
            "EnvSpec(Acrobot-v1)\n",
            "EnvSpec(LunarLander-v2)\n",
            "EnvSpec(LunarLanderContinuous-v2)\n",
            "EnvSpec(BipedalWalker-v3)\n",
            "EnvSpec(BipedalWalkerHardcore-v3)\n",
            "EnvSpec(CarRacing-v0)\n",
            "EnvSpec(Blackjack-v0)\n",
            "EnvSpec(KellyCoinflip-v0)\n",
            "EnvSpec(KellyCoinflipGeneralized-v0)\n",
            "EnvSpec(FrozenLake-v0)\n",
            "EnvSpec(FrozenLake8x8-v0)\n",
            "EnvSpec(CliffWalking-v0)\n",
            "EnvSpec(NChain-v0)\n",
            "EnvSpec(Roulette-v0)\n",
            "EnvSpec(Taxi-v3)\n",
            "EnvSpec(GuessingGame-v0)\n",
            "EnvSpec(HotterColder-v0)\n",
            "EnvSpec(Reacher-v2)\n",
            "EnvSpec(Pusher-v2)\n",
            "EnvSpec(Thrower-v2)\n",
            "EnvSpec(Striker-v2)\n",
            "EnvSpec(InvertedPendulum-v2)\n",
            "EnvSpec(InvertedDoublePendulum-v2)\n",
            "EnvSpec(HalfCheetah-v2)\n",
            "EnvSpec(HalfCheetah-v3)\n",
            "EnvSpec(Hopper-v2)\n",
            "EnvSpec(Hopper-v3)\n",
            "EnvSpec(Swimmer-v2)\n",
            "EnvSpec(Swimmer-v3)\n",
            "EnvSpec(Walker2d-v2)\n",
            "EnvSpec(Walker2d-v3)\n",
            "EnvSpec(Ant-v2)\n",
            "EnvSpec(Ant-v3)\n",
            "EnvSpec(Humanoid-v2)\n",
            "EnvSpec(Humanoid-v3)\n",
            "EnvSpec(HumanoidStandup-v2)\n",
            "EnvSpec(FetchSlide-v1)\n",
            "EnvSpec(FetchPickAndPlace-v1)\n",
            "EnvSpec(FetchReach-v1)\n",
            "EnvSpec(FetchPush-v1)\n",
            "EnvSpec(HandReach-v0)\n",
            "EnvSpec(HandManipulateBlockRotateZ-v0)\n",
            "EnvSpec(HandManipulateBlockRotateZTouchSensors-v0)\n",
            "EnvSpec(HandManipulateBlockRotateZTouchSensors-v1)\n",
            "EnvSpec(HandManipulateBlockRotateParallel-v0)\n",
            "EnvSpec(HandManipulateBlockRotateParallelTouchSensors-v0)\n",
            "EnvSpec(HandManipulateBlockRotateParallelTouchSensors-v1)\n",
            "EnvSpec(HandManipulateBlockRotateXYZ-v0)\n",
            "EnvSpec(HandManipulateBlockRotateXYZTouchSensors-v0)\n",
            "EnvSpec(HandManipulateBlockRotateXYZTouchSensors-v1)\n",
            "EnvSpec(HandManipulateBlockFull-v0)\n",
            "EnvSpec(HandManipulateBlock-v0)\n",
            "EnvSpec(HandManipulateBlockTouchSensors-v0)\n",
            "EnvSpec(HandManipulateBlockTouchSensors-v1)\n",
            "EnvSpec(HandManipulateEggRotate-v0)\n",
            "EnvSpec(HandManipulateEggRotateTouchSensors-v0)\n",
            "EnvSpec(HandManipulateEggRotateTouchSensors-v1)\n",
            "EnvSpec(HandManipulateEggFull-v0)\n",
            "EnvSpec(HandManipulateEgg-v0)\n",
            "EnvSpec(HandManipulateEggTouchSensors-v0)\n",
            "EnvSpec(HandManipulateEggTouchSensors-v1)\n",
            "EnvSpec(HandManipulatePenRotate-v0)\n",
            "EnvSpec(HandManipulatePenRotateTouchSensors-v0)\n",
            "EnvSpec(HandManipulatePenRotateTouchSensors-v1)\n",
            "EnvSpec(HandManipulatePenFull-v0)\n",
            "EnvSpec(HandManipulatePen-v0)\n",
            "EnvSpec(HandManipulatePenTouchSensors-v0)\n",
            "EnvSpec(HandManipulatePenTouchSensors-v1)\n",
            "EnvSpec(FetchSlideDense-v1)\n",
            "EnvSpec(FetchPickAndPlaceDense-v1)\n",
            "EnvSpec(FetchReachDense-v1)\n",
            "EnvSpec(FetchPushDense-v1)\n",
            "EnvSpec(HandReachDense-v0)\n",
            "EnvSpec(HandManipulateBlockRotateZDense-v0)\n",
            "EnvSpec(HandManipulateBlockRotateZTouchSensorsDense-v0)\n",
            "EnvSpec(HandManipulateBlockRotateZTouchSensorsDense-v1)\n",
            "EnvSpec(HandManipulateBlockRotateParallelDense-v0)\n",
            "EnvSpec(HandManipulateBlockRotateParallelTouchSensorsDense-v0)\n",
            "EnvSpec(HandManipulateBlockRotateParallelTouchSensorsDense-v1)\n",
            "EnvSpec(HandManipulateBlockRotateXYZDense-v0)\n",
            "EnvSpec(HandManipulateBlockRotateXYZTouchSensorsDense-v0)\n",
            "EnvSpec(HandManipulateBlockRotateXYZTouchSensorsDense-v1)\n",
            "EnvSpec(HandManipulateBlockFullDense-v0)\n",
            "EnvSpec(HandManipulateBlockDense-v0)\n",
            "EnvSpec(HandManipulateBlockTouchSensorsDense-v0)\n",
            "EnvSpec(HandManipulateBlockTouchSensorsDense-v1)\n",
            "EnvSpec(HandManipulateEggRotateDense-v0)\n",
            "EnvSpec(HandManipulateEggRotateTouchSensorsDense-v0)\n",
            "EnvSpec(HandManipulateEggRotateTouchSensorsDense-v1)\n",
            "EnvSpec(HandManipulateEggFullDense-v0)\n",
            "EnvSpec(HandManipulateEggDense-v0)\n",
            "EnvSpec(HandManipulateEggTouchSensorsDense-v0)\n",
            "EnvSpec(HandManipulateEggTouchSensorsDense-v1)\n",
            "EnvSpec(HandManipulatePenRotateDense-v0)\n",
            "EnvSpec(HandManipulatePenRotateTouchSensorsDense-v0)\n",
            "EnvSpec(HandManipulatePenRotateTouchSensorsDense-v1)\n",
            "EnvSpec(HandManipulatePenFullDense-v0)\n",
            "EnvSpec(HandManipulatePenDense-v0)\n",
            "EnvSpec(HandManipulatePenTouchSensorsDense-v0)\n",
            "EnvSpec(HandManipulatePenTouchSensorsDense-v1)\n",
            "EnvSpec(Adventure-v0)\n",
            "EnvSpec(Adventure-v4)\n",
            "EnvSpec(AdventureDeterministic-v0)\n",
            "EnvSpec(AdventureDeterministic-v4)\n",
            "EnvSpec(AdventureNoFrameskip-v0)\n",
            "EnvSpec(AdventureNoFrameskip-v4)\n",
            "EnvSpec(Adventure-ram-v0)\n",
            "EnvSpec(Adventure-ram-v4)\n",
            "EnvSpec(Adventure-ramDeterministic-v0)\n",
            "EnvSpec(Adventure-ramDeterministic-v4)\n",
            "EnvSpec(Adventure-ramNoFrameskip-v0)\n",
            "EnvSpec(Adventure-ramNoFrameskip-v4)\n",
            "EnvSpec(AirRaid-v0)\n",
            "EnvSpec(AirRaid-v4)\n",
            "EnvSpec(AirRaidDeterministic-v0)\n",
            "EnvSpec(AirRaidDeterministic-v4)\n",
            "EnvSpec(AirRaidNoFrameskip-v0)\n",
            "EnvSpec(AirRaidNoFrameskip-v4)\n",
            "EnvSpec(AirRaid-ram-v0)\n",
            "EnvSpec(AirRaid-ram-v4)\n",
            "EnvSpec(AirRaid-ramDeterministic-v0)\n",
            "EnvSpec(AirRaid-ramDeterministic-v4)\n",
            "EnvSpec(AirRaid-ramNoFrameskip-v0)\n",
            "EnvSpec(AirRaid-ramNoFrameskip-v4)\n",
            "EnvSpec(Alien-v0)\n",
            "EnvSpec(Alien-v4)\n",
            "EnvSpec(AlienDeterministic-v0)\n",
            "EnvSpec(AlienDeterministic-v4)\n",
            "EnvSpec(AlienNoFrameskip-v0)\n",
            "EnvSpec(AlienNoFrameskip-v4)\n",
            "EnvSpec(Alien-ram-v0)\n",
            "EnvSpec(Alien-ram-v4)\n",
            "EnvSpec(Alien-ramDeterministic-v0)\n",
            "EnvSpec(Alien-ramDeterministic-v4)\n",
            "EnvSpec(Alien-ramNoFrameskip-v0)\n",
            "EnvSpec(Alien-ramNoFrameskip-v4)\n",
            "EnvSpec(Amidar-v0)\n",
            "EnvSpec(Amidar-v4)\n",
            "EnvSpec(AmidarDeterministic-v0)\n",
            "EnvSpec(AmidarDeterministic-v4)\n",
            "EnvSpec(AmidarNoFrameskip-v0)\n",
            "EnvSpec(AmidarNoFrameskip-v4)\n",
            "EnvSpec(Amidar-ram-v0)\n",
            "EnvSpec(Amidar-ram-v4)\n",
            "EnvSpec(Amidar-ramDeterministic-v0)\n",
            "EnvSpec(Amidar-ramDeterministic-v4)\n",
            "EnvSpec(Amidar-ramNoFrameskip-v0)\n",
            "EnvSpec(Amidar-ramNoFrameskip-v4)\n",
            "EnvSpec(Assault-v0)\n",
            "EnvSpec(Assault-v4)\n",
            "EnvSpec(AssaultDeterministic-v0)\n",
            "EnvSpec(AssaultDeterministic-v4)\n",
            "EnvSpec(AssaultNoFrameskip-v0)\n",
            "EnvSpec(AssaultNoFrameskip-v4)\n",
            "EnvSpec(Assault-ram-v0)\n",
            "EnvSpec(Assault-ram-v4)\n",
            "EnvSpec(Assault-ramDeterministic-v0)\n",
            "EnvSpec(Assault-ramDeterministic-v4)\n",
            "EnvSpec(Assault-ramNoFrameskip-v0)\n",
            "EnvSpec(Assault-ramNoFrameskip-v4)\n",
            "EnvSpec(Asterix-v0)\n",
            "EnvSpec(Asterix-v4)\n",
            "EnvSpec(AsterixDeterministic-v0)\n",
            "EnvSpec(AsterixDeterministic-v4)\n",
            "EnvSpec(AsterixNoFrameskip-v0)\n",
            "EnvSpec(AsterixNoFrameskip-v4)\n",
            "EnvSpec(Asterix-ram-v0)\n",
            "EnvSpec(Asterix-ram-v4)\n",
            "EnvSpec(Asterix-ramDeterministic-v0)\n",
            "EnvSpec(Asterix-ramDeterministic-v4)\n",
            "EnvSpec(Asterix-ramNoFrameskip-v0)\n",
            "EnvSpec(Asterix-ramNoFrameskip-v4)\n",
            "EnvSpec(Asteroids-v0)\n",
            "EnvSpec(Asteroids-v4)\n",
            "EnvSpec(AsteroidsDeterministic-v0)\n",
            "EnvSpec(AsteroidsDeterministic-v4)\n",
            "EnvSpec(AsteroidsNoFrameskip-v0)\n",
            "EnvSpec(AsteroidsNoFrameskip-v4)\n",
            "EnvSpec(Asteroids-ram-v0)\n",
            "EnvSpec(Asteroids-ram-v4)\n",
            "EnvSpec(Asteroids-ramDeterministic-v0)\n",
            "EnvSpec(Asteroids-ramDeterministic-v4)\n",
            "EnvSpec(Asteroids-ramNoFrameskip-v0)\n",
            "EnvSpec(Asteroids-ramNoFrameskip-v4)\n",
            "EnvSpec(Atlantis-v0)\n",
            "EnvSpec(Atlantis-v4)\n",
            "EnvSpec(AtlantisDeterministic-v0)\n",
            "EnvSpec(AtlantisDeterministic-v4)\n",
            "EnvSpec(AtlantisNoFrameskip-v0)\n",
            "EnvSpec(AtlantisNoFrameskip-v4)\n",
            "EnvSpec(Atlantis-ram-v0)\n",
            "EnvSpec(Atlantis-ram-v4)\n",
            "EnvSpec(Atlantis-ramDeterministic-v0)\n",
            "EnvSpec(Atlantis-ramDeterministic-v4)\n",
            "EnvSpec(Atlantis-ramNoFrameskip-v0)\n",
            "EnvSpec(Atlantis-ramNoFrameskip-v4)\n",
            "EnvSpec(BankHeist-v0)\n",
            "EnvSpec(BankHeist-v4)\n",
            "EnvSpec(BankHeistDeterministic-v0)\n",
            "EnvSpec(BankHeistDeterministic-v4)\n",
            "EnvSpec(BankHeistNoFrameskip-v0)\n",
            "EnvSpec(BankHeistNoFrameskip-v4)\n",
            "EnvSpec(BankHeist-ram-v0)\n",
            "EnvSpec(BankHeist-ram-v4)\n",
            "EnvSpec(BankHeist-ramDeterministic-v0)\n",
            "EnvSpec(BankHeist-ramDeterministic-v4)\n",
            "EnvSpec(BankHeist-ramNoFrameskip-v0)\n",
            "EnvSpec(BankHeist-ramNoFrameskip-v4)\n",
            "EnvSpec(BattleZone-v0)\n",
            "EnvSpec(BattleZone-v4)\n",
            "EnvSpec(BattleZoneDeterministic-v0)\n",
            "EnvSpec(BattleZoneDeterministic-v4)\n",
            "EnvSpec(BattleZoneNoFrameskip-v0)\n",
            "EnvSpec(BattleZoneNoFrameskip-v4)\n",
            "EnvSpec(BattleZone-ram-v0)\n",
            "EnvSpec(BattleZone-ram-v4)\n",
            "EnvSpec(BattleZone-ramDeterministic-v0)\n",
            "EnvSpec(BattleZone-ramDeterministic-v4)\n",
            "EnvSpec(BattleZone-ramNoFrameskip-v0)\n",
            "EnvSpec(BattleZone-ramNoFrameskip-v4)\n",
            "EnvSpec(BeamRider-v0)\n",
            "EnvSpec(BeamRider-v4)\n",
            "EnvSpec(BeamRiderDeterministic-v0)\n",
            "EnvSpec(BeamRiderDeterministic-v4)\n",
            "EnvSpec(BeamRiderNoFrameskip-v0)\n",
            "EnvSpec(BeamRiderNoFrameskip-v4)\n",
            "EnvSpec(BeamRider-ram-v0)\n",
            "EnvSpec(BeamRider-ram-v4)\n",
            "EnvSpec(BeamRider-ramDeterministic-v0)\n",
            "EnvSpec(BeamRider-ramDeterministic-v4)\n",
            "EnvSpec(BeamRider-ramNoFrameskip-v0)\n",
            "EnvSpec(BeamRider-ramNoFrameskip-v4)\n",
            "EnvSpec(Berzerk-v0)\n",
            "EnvSpec(Berzerk-v4)\n",
            "EnvSpec(BerzerkDeterministic-v0)\n",
            "EnvSpec(BerzerkDeterministic-v4)\n",
            "EnvSpec(BerzerkNoFrameskip-v0)\n",
            "EnvSpec(BerzerkNoFrameskip-v4)\n",
            "EnvSpec(Berzerk-ram-v0)\n",
            "EnvSpec(Berzerk-ram-v4)\n",
            "EnvSpec(Berzerk-ramDeterministic-v0)\n",
            "EnvSpec(Berzerk-ramDeterministic-v4)\n",
            "EnvSpec(Berzerk-ramNoFrameskip-v0)\n",
            "EnvSpec(Berzerk-ramNoFrameskip-v4)\n",
            "EnvSpec(Bowling-v0)\n",
            "EnvSpec(Bowling-v4)\n",
            "EnvSpec(BowlingDeterministic-v0)\n",
            "EnvSpec(BowlingDeterministic-v4)\n",
            "EnvSpec(BowlingNoFrameskip-v0)\n",
            "EnvSpec(BowlingNoFrameskip-v4)\n",
            "EnvSpec(Bowling-ram-v0)\n",
            "EnvSpec(Bowling-ram-v4)\n",
            "EnvSpec(Bowling-ramDeterministic-v0)\n",
            "EnvSpec(Bowling-ramDeterministic-v4)\n",
            "EnvSpec(Bowling-ramNoFrameskip-v0)\n",
            "EnvSpec(Bowling-ramNoFrameskip-v4)\n",
            "EnvSpec(Boxing-v0)\n",
            "EnvSpec(Boxing-v4)\n",
            "EnvSpec(BoxingDeterministic-v0)\n",
            "EnvSpec(BoxingDeterministic-v4)\n",
            "EnvSpec(BoxingNoFrameskip-v0)\n",
            "EnvSpec(BoxingNoFrameskip-v4)\n",
            "EnvSpec(Boxing-ram-v0)\n",
            "EnvSpec(Boxing-ram-v4)\n",
            "EnvSpec(Boxing-ramDeterministic-v0)\n",
            "EnvSpec(Boxing-ramDeterministic-v4)\n",
            "EnvSpec(Boxing-ramNoFrameskip-v0)\n",
            "EnvSpec(Boxing-ramNoFrameskip-v4)\n",
            "EnvSpec(Breakout-v0)\n",
            "EnvSpec(Breakout-v4)\n",
            "EnvSpec(BreakoutDeterministic-v0)\n",
            "EnvSpec(BreakoutDeterministic-v4)\n",
            "EnvSpec(BreakoutNoFrameskip-v0)\n",
            "EnvSpec(BreakoutNoFrameskip-v4)\n",
            "EnvSpec(Breakout-ram-v0)\n",
            "EnvSpec(Breakout-ram-v4)\n",
            "EnvSpec(Breakout-ramDeterministic-v0)\n",
            "EnvSpec(Breakout-ramDeterministic-v4)\n",
            "EnvSpec(Breakout-ramNoFrameskip-v0)\n",
            "EnvSpec(Breakout-ramNoFrameskip-v4)\n",
            "EnvSpec(Carnival-v0)\n",
            "EnvSpec(Carnival-v4)\n",
            "EnvSpec(CarnivalDeterministic-v0)\n",
            "EnvSpec(CarnivalDeterministic-v4)\n",
            "EnvSpec(CarnivalNoFrameskip-v0)\n",
            "EnvSpec(CarnivalNoFrameskip-v4)\n",
            "EnvSpec(Carnival-ram-v0)\n",
            "EnvSpec(Carnival-ram-v4)\n",
            "EnvSpec(Carnival-ramDeterministic-v0)\n",
            "EnvSpec(Carnival-ramDeterministic-v4)\n",
            "EnvSpec(Carnival-ramNoFrameskip-v0)\n",
            "EnvSpec(Carnival-ramNoFrameskip-v4)\n",
            "EnvSpec(Centipede-v0)\n",
            "EnvSpec(Centipede-v4)\n",
            "EnvSpec(CentipedeDeterministic-v0)\n",
            "EnvSpec(CentipedeDeterministic-v4)\n",
            "EnvSpec(CentipedeNoFrameskip-v0)\n",
            "EnvSpec(CentipedeNoFrameskip-v4)\n",
            "EnvSpec(Centipede-ram-v0)\n",
            "EnvSpec(Centipede-ram-v4)\n",
            "EnvSpec(Centipede-ramDeterministic-v0)\n",
            "EnvSpec(Centipede-ramDeterministic-v4)\n",
            "EnvSpec(Centipede-ramNoFrameskip-v0)\n",
            "EnvSpec(Centipede-ramNoFrameskip-v4)\n",
            "EnvSpec(ChopperCommand-v0)\n",
            "EnvSpec(ChopperCommand-v4)\n",
            "EnvSpec(ChopperCommandDeterministic-v0)\n",
            "EnvSpec(ChopperCommandDeterministic-v4)\n",
            "EnvSpec(ChopperCommandNoFrameskip-v0)\n",
            "EnvSpec(ChopperCommandNoFrameskip-v4)\n",
            "EnvSpec(ChopperCommand-ram-v0)\n",
            "EnvSpec(ChopperCommand-ram-v4)\n",
            "EnvSpec(ChopperCommand-ramDeterministic-v0)\n",
            "EnvSpec(ChopperCommand-ramDeterministic-v4)\n",
            "EnvSpec(ChopperCommand-ramNoFrameskip-v0)\n",
            "EnvSpec(ChopperCommand-ramNoFrameskip-v4)\n",
            "EnvSpec(CrazyClimber-v0)\n",
            "EnvSpec(CrazyClimber-v4)\n",
            "EnvSpec(CrazyClimberDeterministic-v0)\n",
            "EnvSpec(CrazyClimberDeterministic-v4)\n",
            "EnvSpec(CrazyClimberNoFrameskip-v0)\n",
            "EnvSpec(CrazyClimberNoFrameskip-v4)\n",
            "EnvSpec(CrazyClimber-ram-v0)\n",
            "EnvSpec(CrazyClimber-ram-v4)\n",
            "EnvSpec(CrazyClimber-ramDeterministic-v0)\n",
            "EnvSpec(CrazyClimber-ramDeterministic-v4)\n",
            "EnvSpec(CrazyClimber-ramNoFrameskip-v0)\n",
            "EnvSpec(CrazyClimber-ramNoFrameskip-v4)\n",
            "EnvSpec(Defender-v0)\n",
            "EnvSpec(Defender-v4)\n",
            "EnvSpec(DefenderDeterministic-v0)\n",
            "EnvSpec(DefenderDeterministic-v4)\n",
            "EnvSpec(DefenderNoFrameskip-v0)\n",
            "EnvSpec(DefenderNoFrameskip-v4)\n",
            "EnvSpec(Defender-ram-v0)\n",
            "EnvSpec(Defender-ram-v4)\n",
            "EnvSpec(Defender-ramDeterministic-v0)\n",
            "EnvSpec(Defender-ramDeterministic-v4)\n",
            "EnvSpec(Defender-ramNoFrameskip-v0)\n",
            "EnvSpec(Defender-ramNoFrameskip-v4)\n",
            "EnvSpec(DemonAttack-v0)\n",
            "EnvSpec(DemonAttack-v4)\n",
            "EnvSpec(DemonAttackDeterministic-v0)\n",
            "EnvSpec(DemonAttackDeterministic-v4)\n",
            "EnvSpec(DemonAttackNoFrameskip-v0)\n",
            "EnvSpec(DemonAttackNoFrameskip-v4)\n",
            "EnvSpec(DemonAttack-ram-v0)\n",
            "EnvSpec(DemonAttack-ram-v4)\n",
            "EnvSpec(DemonAttack-ramDeterministic-v0)\n",
            "EnvSpec(DemonAttack-ramDeterministic-v4)\n",
            "EnvSpec(DemonAttack-ramNoFrameskip-v0)\n",
            "EnvSpec(DemonAttack-ramNoFrameskip-v4)\n",
            "EnvSpec(DoubleDunk-v0)\n",
            "EnvSpec(DoubleDunk-v4)\n",
            "EnvSpec(DoubleDunkDeterministic-v0)\n",
            "EnvSpec(DoubleDunkDeterministic-v4)\n",
            "EnvSpec(DoubleDunkNoFrameskip-v0)\n",
            "EnvSpec(DoubleDunkNoFrameskip-v4)\n",
            "EnvSpec(DoubleDunk-ram-v0)\n",
            "EnvSpec(DoubleDunk-ram-v4)\n",
            "EnvSpec(DoubleDunk-ramDeterministic-v0)\n",
            "EnvSpec(DoubleDunk-ramDeterministic-v4)\n",
            "EnvSpec(DoubleDunk-ramNoFrameskip-v0)\n",
            "EnvSpec(DoubleDunk-ramNoFrameskip-v4)\n",
            "EnvSpec(ElevatorAction-v0)\n",
            "EnvSpec(ElevatorAction-v4)\n",
            "EnvSpec(ElevatorActionDeterministic-v0)\n",
            "EnvSpec(ElevatorActionDeterministic-v4)\n",
            "EnvSpec(ElevatorActionNoFrameskip-v0)\n",
            "EnvSpec(ElevatorActionNoFrameskip-v4)\n",
            "EnvSpec(ElevatorAction-ram-v0)\n",
            "EnvSpec(ElevatorAction-ram-v4)\n",
            "EnvSpec(ElevatorAction-ramDeterministic-v0)\n",
            "EnvSpec(ElevatorAction-ramDeterministic-v4)\n",
            "EnvSpec(ElevatorAction-ramNoFrameskip-v0)\n",
            "EnvSpec(ElevatorAction-ramNoFrameskip-v4)\n",
            "EnvSpec(Enduro-v0)\n",
            "EnvSpec(Enduro-v4)\n",
            "EnvSpec(EnduroDeterministic-v0)\n",
            "EnvSpec(EnduroDeterministic-v4)\n",
            "EnvSpec(EnduroNoFrameskip-v0)\n",
            "EnvSpec(EnduroNoFrameskip-v4)\n",
            "EnvSpec(Enduro-ram-v0)\n",
            "EnvSpec(Enduro-ram-v4)\n",
            "EnvSpec(Enduro-ramDeterministic-v0)\n",
            "EnvSpec(Enduro-ramDeterministic-v4)\n",
            "EnvSpec(Enduro-ramNoFrameskip-v0)\n",
            "EnvSpec(Enduro-ramNoFrameskip-v4)\n",
            "EnvSpec(FishingDerby-v0)\n",
            "EnvSpec(FishingDerby-v4)\n",
            "EnvSpec(FishingDerbyDeterministic-v0)\n",
            "EnvSpec(FishingDerbyDeterministic-v4)\n",
            "EnvSpec(FishingDerbyNoFrameskip-v0)\n",
            "EnvSpec(FishingDerbyNoFrameskip-v4)\n",
            "EnvSpec(FishingDerby-ram-v0)\n",
            "EnvSpec(FishingDerby-ram-v4)\n",
            "EnvSpec(FishingDerby-ramDeterministic-v0)\n",
            "EnvSpec(FishingDerby-ramDeterministic-v4)\n",
            "EnvSpec(FishingDerby-ramNoFrameskip-v0)\n",
            "EnvSpec(FishingDerby-ramNoFrameskip-v4)\n",
            "EnvSpec(Freeway-v0)\n",
            "EnvSpec(Freeway-v4)\n",
            "EnvSpec(FreewayDeterministic-v0)\n",
            "EnvSpec(FreewayDeterministic-v4)\n",
            "EnvSpec(FreewayNoFrameskip-v0)\n",
            "EnvSpec(FreewayNoFrameskip-v4)\n",
            "EnvSpec(Freeway-ram-v0)\n",
            "EnvSpec(Freeway-ram-v4)\n",
            "EnvSpec(Freeway-ramDeterministic-v0)\n",
            "EnvSpec(Freeway-ramDeterministic-v4)\n",
            "EnvSpec(Freeway-ramNoFrameskip-v0)\n",
            "EnvSpec(Freeway-ramNoFrameskip-v4)\n",
            "EnvSpec(Frostbite-v0)\n",
            "EnvSpec(Frostbite-v4)\n",
            "EnvSpec(FrostbiteDeterministic-v0)\n",
            "EnvSpec(FrostbiteDeterministic-v4)\n",
            "EnvSpec(FrostbiteNoFrameskip-v0)\n",
            "EnvSpec(FrostbiteNoFrameskip-v4)\n",
            "EnvSpec(Frostbite-ram-v0)\n",
            "EnvSpec(Frostbite-ram-v4)\n",
            "EnvSpec(Frostbite-ramDeterministic-v0)\n",
            "EnvSpec(Frostbite-ramDeterministic-v4)\n",
            "EnvSpec(Frostbite-ramNoFrameskip-v0)\n",
            "EnvSpec(Frostbite-ramNoFrameskip-v4)\n",
            "EnvSpec(Gopher-v0)\n",
            "EnvSpec(Gopher-v4)\n",
            "EnvSpec(GopherDeterministic-v0)\n",
            "EnvSpec(GopherDeterministic-v4)\n",
            "EnvSpec(GopherNoFrameskip-v0)\n",
            "EnvSpec(GopherNoFrameskip-v4)\n",
            "EnvSpec(Gopher-ram-v0)\n",
            "EnvSpec(Gopher-ram-v4)\n",
            "EnvSpec(Gopher-ramDeterministic-v0)\n",
            "EnvSpec(Gopher-ramDeterministic-v4)\n",
            "EnvSpec(Gopher-ramNoFrameskip-v0)\n",
            "EnvSpec(Gopher-ramNoFrameskip-v4)\n",
            "EnvSpec(Gravitar-v0)\n",
            "EnvSpec(Gravitar-v4)\n",
            "EnvSpec(GravitarDeterministic-v0)\n",
            "EnvSpec(GravitarDeterministic-v4)\n",
            "EnvSpec(GravitarNoFrameskip-v0)\n",
            "EnvSpec(GravitarNoFrameskip-v4)\n",
            "EnvSpec(Gravitar-ram-v0)\n",
            "EnvSpec(Gravitar-ram-v4)\n",
            "EnvSpec(Gravitar-ramDeterministic-v0)\n",
            "EnvSpec(Gravitar-ramDeterministic-v4)\n",
            "EnvSpec(Gravitar-ramNoFrameskip-v0)\n",
            "EnvSpec(Gravitar-ramNoFrameskip-v4)\n",
            "EnvSpec(Hero-v0)\n",
            "EnvSpec(Hero-v4)\n",
            "EnvSpec(HeroDeterministic-v0)\n",
            "EnvSpec(HeroDeterministic-v4)\n",
            "EnvSpec(HeroNoFrameskip-v0)\n",
            "EnvSpec(HeroNoFrameskip-v4)\n",
            "EnvSpec(Hero-ram-v0)\n",
            "EnvSpec(Hero-ram-v4)\n",
            "EnvSpec(Hero-ramDeterministic-v0)\n",
            "EnvSpec(Hero-ramDeterministic-v4)\n",
            "EnvSpec(Hero-ramNoFrameskip-v0)\n",
            "EnvSpec(Hero-ramNoFrameskip-v4)\n",
            "EnvSpec(IceHockey-v0)\n",
            "EnvSpec(IceHockey-v4)\n",
            "EnvSpec(IceHockeyDeterministic-v0)\n",
            "EnvSpec(IceHockeyDeterministic-v4)\n",
            "EnvSpec(IceHockeyNoFrameskip-v0)\n",
            "EnvSpec(IceHockeyNoFrameskip-v4)\n",
            "EnvSpec(IceHockey-ram-v0)\n",
            "EnvSpec(IceHockey-ram-v4)\n",
            "EnvSpec(IceHockey-ramDeterministic-v0)\n",
            "EnvSpec(IceHockey-ramDeterministic-v4)\n",
            "EnvSpec(IceHockey-ramNoFrameskip-v0)\n",
            "EnvSpec(IceHockey-ramNoFrameskip-v4)\n",
            "EnvSpec(Jamesbond-v0)\n",
            "EnvSpec(Jamesbond-v4)\n",
            "EnvSpec(JamesbondDeterministic-v0)\n",
            "EnvSpec(JamesbondDeterministic-v4)\n",
            "EnvSpec(JamesbondNoFrameskip-v0)\n",
            "EnvSpec(JamesbondNoFrameskip-v4)\n",
            "EnvSpec(Jamesbond-ram-v0)\n",
            "EnvSpec(Jamesbond-ram-v4)\n",
            "EnvSpec(Jamesbond-ramDeterministic-v0)\n",
            "EnvSpec(Jamesbond-ramDeterministic-v4)\n",
            "EnvSpec(Jamesbond-ramNoFrameskip-v0)\n",
            "EnvSpec(Jamesbond-ramNoFrameskip-v4)\n",
            "EnvSpec(JourneyEscape-v0)\n",
            "EnvSpec(JourneyEscape-v4)\n",
            "EnvSpec(JourneyEscapeDeterministic-v0)\n",
            "EnvSpec(JourneyEscapeDeterministic-v4)\n",
            "EnvSpec(JourneyEscapeNoFrameskip-v0)\n",
            "EnvSpec(JourneyEscapeNoFrameskip-v4)\n",
            "EnvSpec(JourneyEscape-ram-v0)\n",
            "EnvSpec(JourneyEscape-ram-v4)\n",
            "EnvSpec(JourneyEscape-ramDeterministic-v0)\n",
            "EnvSpec(JourneyEscape-ramDeterministic-v4)\n",
            "EnvSpec(JourneyEscape-ramNoFrameskip-v0)\n",
            "EnvSpec(JourneyEscape-ramNoFrameskip-v4)\n",
            "EnvSpec(Kangaroo-v0)\n",
            "EnvSpec(Kangaroo-v4)\n",
            "EnvSpec(KangarooDeterministic-v0)\n",
            "EnvSpec(KangarooDeterministic-v4)\n",
            "EnvSpec(KangarooNoFrameskip-v0)\n",
            "EnvSpec(KangarooNoFrameskip-v4)\n",
            "EnvSpec(Kangaroo-ram-v0)\n",
            "EnvSpec(Kangaroo-ram-v4)\n",
            "EnvSpec(Kangaroo-ramDeterministic-v0)\n",
            "EnvSpec(Kangaroo-ramDeterministic-v4)\n",
            "EnvSpec(Kangaroo-ramNoFrameskip-v0)\n",
            "EnvSpec(Kangaroo-ramNoFrameskip-v4)\n",
            "EnvSpec(Krull-v0)\n",
            "EnvSpec(Krull-v4)\n",
            "EnvSpec(KrullDeterministic-v0)\n",
            "EnvSpec(KrullDeterministic-v4)\n",
            "EnvSpec(KrullNoFrameskip-v0)\n",
            "EnvSpec(KrullNoFrameskip-v4)\n",
            "EnvSpec(Krull-ram-v0)\n",
            "EnvSpec(Krull-ram-v4)\n",
            "EnvSpec(Krull-ramDeterministic-v0)\n",
            "EnvSpec(Krull-ramDeterministic-v4)\n",
            "EnvSpec(Krull-ramNoFrameskip-v0)\n",
            "EnvSpec(Krull-ramNoFrameskip-v4)\n",
            "EnvSpec(KungFuMaster-v0)\n",
            "EnvSpec(KungFuMaster-v4)\n",
            "EnvSpec(KungFuMasterDeterministic-v0)\n",
            "EnvSpec(KungFuMasterDeterministic-v4)\n",
            "EnvSpec(KungFuMasterNoFrameskip-v0)\n",
            "EnvSpec(KungFuMasterNoFrameskip-v4)\n",
            "EnvSpec(KungFuMaster-ram-v0)\n",
            "EnvSpec(KungFuMaster-ram-v4)\n",
            "EnvSpec(KungFuMaster-ramDeterministic-v0)\n",
            "EnvSpec(KungFuMaster-ramDeterministic-v4)\n",
            "EnvSpec(KungFuMaster-ramNoFrameskip-v0)\n",
            "EnvSpec(KungFuMaster-ramNoFrameskip-v4)\n",
            "EnvSpec(MontezumaRevenge-v0)\n",
            "EnvSpec(MontezumaRevenge-v4)\n",
            "EnvSpec(MontezumaRevengeDeterministic-v0)\n",
            "EnvSpec(MontezumaRevengeDeterministic-v4)\n",
            "EnvSpec(MontezumaRevengeNoFrameskip-v0)\n",
            "EnvSpec(MontezumaRevengeNoFrameskip-v4)\n",
            "EnvSpec(MontezumaRevenge-ram-v0)\n",
            "EnvSpec(MontezumaRevenge-ram-v4)\n",
            "EnvSpec(MontezumaRevenge-ramDeterministic-v0)\n",
            "EnvSpec(MontezumaRevenge-ramDeterministic-v4)\n",
            "EnvSpec(MontezumaRevenge-ramNoFrameskip-v0)\n",
            "EnvSpec(MontezumaRevenge-ramNoFrameskip-v4)\n",
            "EnvSpec(MsPacman-v0)\n",
            "EnvSpec(MsPacman-v4)\n",
            "EnvSpec(MsPacmanDeterministic-v0)\n",
            "EnvSpec(MsPacmanDeterministic-v4)\n",
            "EnvSpec(MsPacmanNoFrameskip-v0)\n",
            "EnvSpec(MsPacmanNoFrameskip-v4)\n",
            "EnvSpec(MsPacman-ram-v0)\n",
            "EnvSpec(MsPacman-ram-v4)\n",
            "EnvSpec(MsPacman-ramDeterministic-v0)\n",
            "EnvSpec(MsPacman-ramDeterministic-v4)\n",
            "EnvSpec(MsPacman-ramNoFrameskip-v0)\n",
            "EnvSpec(MsPacman-ramNoFrameskip-v4)\n",
            "EnvSpec(NameThisGame-v0)\n",
            "EnvSpec(NameThisGame-v4)\n",
            "EnvSpec(NameThisGameDeterministic-v0)\n",
            "EnvSpec(NameThisGameDeterministic-v4)\n",
            "EnvSpec(NameThisGameNoFrameskip-v0)\n",
            "EnvSpec(NameThisGameNoFrameskip-v4)\n",
            "EnvSpec(NameThisGame-ram-v0)\n",
            "EnvSpec(NameThisGame-ram-v4)\n",
            "EnvSpec(NameThisGame-ramDeterministic-v0)\n",
            "EnvSpec(NameThisGame-ramDeterministic-v4)\n",
            "EnvSpec(NameThisGame-ramNoFrameskip-v0)\n",
            "EnvSpec(NameThisGame-ramNoFrameskip-v4)\n",
            "EnvSpec(Phoenix-v0)\n",
            "EnvSpec(Phoenix-v4)\n",
            "EnvSpec(PhoenixDeterministic-v0)\n",
            "EnvSpec(PhoenixDeterministic-v4)\n",
            "EnvSpec(PhoenixNoFrameskip-v0)\n",
            "EnvSpec(PhoenixNoFrameskip-v4)\n",
            "EnvSpec(Phoenix-ram-v0)\n",
            "EnvSpec(Phoenix-ram-v4)\n",
            "EnvSpec(Phoenix-ramDeterministic-v0)\n",
            "EnvSpec(Phoenix-ramDeterministic-v4)\n",
            "EnvSpec(Phoenix-ramNoFrameskip-v0)\n",
            "EnvSpec(Phoenix-ramNoFrameskip-v4)\n",
            "EnvSpec(Pitfall-v0)\n",
            "EnvSpec(Pitfall-v4)\n",
            "EnvSpec(PitfallDeterministic-v0)\n",
            "EnvSpec(PitfallDeterministic-v4)\n",
            "EnvSpec(PitfallNoFrameskip-v0)\n",
            "EnvSpec(PitfallNoFrameskip-v4)\n",
            "EnvSpec(Pitfall-ram-v0)\n",
            "EnvSpec(Pitfall-ram-v4)\n",
            "EnvSpec(Pitfall-ramDeterministic-v0)\n",
            "EnvSpec(Pitfall-ramDeterministic-v4)\n",
            "EnvSpec(Pitfall-ramNoFrameskip-v0)\n",
            "EnvSpec(Pitfall-ramNoFrameskip-v4)\n",
            "EnvSpec(Pong-v0)\n",
            "EnvSpec(Pong-v4)\n",
            "EnvSpec(PongDeterministic-v0)\n",
            "EnvSpec(PongDeterministic-v4)\n",
            "EnvSpec(PongNoFrameskip-v0)\n",
            "EnvSpec(PongNoFrameskip-v4)\n",
            "EnvSpec(Pong-ram-v0)\n",
            "EnvSpec(Pong-ram-v4)\n",
            "EnvSpec(Pong-ramDeterministic-v0)\n",
            "EnvSpec(Pong-ramDeterministic-v4)\n",
            "EnvSpec(Pong-ramNoFrameskip-v0)\n",
            "EnvSpec(Pong-ramNoFrameskip-v4)\n",
            "EnvSpec(Pooyan-v0)\n",
            "EnvSpec(Pooyan-v4)\n",
            "EnvSpec(PooyanDeterministic-v0)\n",
            "EnvSpec(PooyanDeterministic-v4)\n",
            "EnvSpec(PooyanNoFrameskip-v0)\n",
            "EnvSpec(PooyanNoFrameskip-v4)\n",
            "EnvSpec(Pooyan-ram-v0)\n",
            "EnvSpec(Pooyan-ram-v4)\n",
            "EnvSpec(Pooyan-ramDeterministic-v0)\n",
            "EnvSpec(Pooyan-ramDeterministic-v4)\n",
            "EnvSpec(Pooyan-ramNoFrameskip-v0)\n",
            "EnvSpec(Pooyan-ramNoFrameskip-v4)\n",
            "EnvSpec(PrivateEye-v0)\n",
            "EnvSpec(PrivateEye-v4)\n",
            "EnvSpec(PrivateEyeDeterministic-v0)\n",
            "EnvSpec(PrivateEyeDeterministic-v4)\n",
            "EnvSpec(PrivateEyeNoFrameskip-v0)\n",
            "EnvSpec(PrivateEyeNoFrameskip-v4)\n",
            "EnvSpec(PrivateEye-ram-v0)\n",
            "EnvSpec(PrivateEye-ram-v4)\n",
            "EnvSpec(PrivateEye-ramDeterministic-v0)\n",
            "EnvSpec(PrivateEye-ramDeterministic-v4)\n",
            "EnvSpec(PrivateEye-ramNoFrameskip-v0)\n",
            "EnvSpec(PrivateEye-ramNoFrameskip-v4)\n",
            "EnvSpec(Qbert-v0)\n",
            "EnvSpec(Qbert-v4)\n",
            "EnvSpec(QbertDeterministic-v0)\n",
            "EnvSpec(QbertDeterministic-v4)\n",
            "EnvSpec(QbertNoFrameskip-v0)\n",
            "EnvSpec(QbertNoFrameskip-v4)\n",
            "EnvSpec(Qbert-ram-v0)\n",
            "EnvSpec(Qbert-ram-v4)\n",
            "EnvSpec(Qbert-ramDeterministic-v0)\n",
            "EnvSpec(Qbert-ramDeterministic-v4)\n",
            "EnvSpec(Qbert-ramNoFrameskip-v0)\n",
            "EnvSpec(Qbert-ramNoFrameskip-v4)\n",
            "EnvSpec(Riverraid-v0)\n",
            "EnvSpec(Riverraid-v4)\n",
            "EnvSpec(RiverraidDeterministic-v0)\n",
            "EnvSpec(RiverraidDeterministic-v4)\n",
            "EnvSpec(RiverraidNoFrameskip-v0)\n",
            "EnvSpec(RiverraidNoFrameskip-v4)\n",
            "EnvSpec(Riverraid-ram-v0)\n",
            "EnvSpec(Riverraid-ram-v4)\n",
            "EnvSpec(Riverraid-ramDeterministic-v0)\n",
            "EnvSpec(Riverraid-ramDeterministic-v4)\n",
            "EnvSpec(Riverraid-ramNoFrameskip-v0)\n",
            "EnvSpec(Riverraid-ramNoFrameskip-v4)\n",
            "EnvSpec(RoadRunner-v0)\n",
            "EnvSpec(RoadRunner-v4)\n",
            "EnvSpec(RoadRunnerDeterministic-v0)\n",
            "EnvSpec(RoadRunnerDeterministic-v4)\n",
            "EnvSpec(RoadRunnerNoFrameskip-v0)\n",
            "EnvSpec(RoadRunnerNoFrameskip-v4)\n",
            "EnvSpec(RoadRunner-ram-v0)\n",
            "EnvSpec(RoadRunner-ram-v4)\n",
            "EnvSpec(RoadRunner-ramDeterministic-v0)\n",
            "EnvSpec(RoadRunner-ramDeterministic-v4)\n",
            "EnvSpec(RoadRunner-ramNoFrameskip-v0)\n",
            "EnvSpec(RoadRunner-ramNoFrameskip-v4)\n",
            "EnvSpec(Robotank-v0)\n",
            "EnvSpec(Robotank-v4)\n",
            "EnvSpec(RobotankDeterministic-v0)\n",
            "EnvSpec(RobotankDeterministic-v4)\n",
            "EnvSpec(RobotankNoFrameskip-v0)\n",
            "EnvSpec(RobotankNoFrameskip-v4)\n",
            "EnvSpec(Robotank-ram-v0)\n",
            "EnvSpec(Robotank-ram-v4)\n",
            "EnvSpec(Robotank-ramDeterministic-v0)\n",
            "EnvSpec(Robotank-ramDeterministic-v4)\n",
            "EnvSpec(Robotank-ramNoFrameskip-v0)\n",
            "EnvSpec(Robotank-ramNoFrameskip-v4)\n",
            "EnvSpec(Seaquest-v0)\n",
            "EnvSpec(Seaquest-v4)\n",
            "EnvSpec(SeaquestDeterministic-v0)\n",
            "EnvSpec(SeaquestDeterministic-v4)\n",
            "EnvSpec(SeaquestNoFrameskip-v0)\n",
            "EnvSpec(SeaquestNoFrameskip-v4)\n",
            "EnvSpec(Seaquest-ram-v0)\n",
            "EnvSpec(Seaquest-ram-v4)\n",
            "EnvSpec(Seaquest-ramDeterministic-v0)\n",
            "EnvSpec(Seaquest-ramDeterministic-v4)\n",
            "EnvSpec(Seaquest-ramNoFrameskip-v0)\n",
            "EnvSpec(Seaquest-ramNoFrameskip-v4)\n",
            "EnvSpec(Skiing-v0)\n",
            "EnvSpec(Skiing-v4)\n",
            "EnvSpec(SkiingDeterministic-v0)\n",
            "EnvSpec(SkiingDeterministic-v4)\n",
            "EnvSpec(SkiingNoFrameskip-v0)\n",
            "EnvSpec(SkiingNoFrameskip-v4)\n",
            "EnvSpec(Skiing-ram-v0)\n",
            "EnvSpec(Skiing-ram-v4)\n",
            "EnvSpec(Skiing-ramDeterministic-v0)\n",
            "EnvSpec(Skiing-ramDeterministic-v4)\n",
            "EnvSpec(Skiing-ramNoFrameskip-v0)\n",
            "EnvSpec(Skiing-ramNoFrameskip-v4)\n",
            "EnvSpec(Solaris-v0)\n",
            "EnvSpec(Solaris-v4)\n",
            "EnvSpec(SolarisDeterministic-v0)\n",
            "EnvSpec(SolarisDeterministic-v4)\n",
            "EnvSpec(SolarisNoFrameskip-v0)\n",
            "EnvSpec(SolarisNoFrameskip-v4)\n",
            "EnvSpec(Solaris-ram-v0)\n",
            "EnvSpec(Solaris-ram-v4)\n",
            "EnvSpec(Solaris-ramDeterministic-v0)\n",
            "EnvSpec(Solaris-ramDeterministic-v4)\n",
            "EnvSpec(Solaris-ramNoFrameskip-v0)\n",
            "EnvSpec(Solaris-ramNoFrameskip-v4)\n",
            "EnvSpec(SpaceInvaders-v0)\n",
            "EnvSpec(SpaceInvaders-v4)\n",
            "EnvSpec(SpaceInvadersDeterministic-v0)\n",
            "EnvSpec(SpaceInvadersDeterministic-v4)\n",
            "EnvSpec(SpaceInvadersNoFrameskip-v0)\n",
            "EnvSpec(SpaceInvadersNoFrameskip-v4)\n",
            "EnvSpec(SpaceInvaders-ram-v0)\n",
            "EnvSpec(SpaceInvaders-ram-v4)\n",
            "EnvSpec(SpaceInvaders-ramDeterministic-v0)\n",
            "EnvSpec(SpaceInvaders-ramDeterministic-v4)\n",
            "EnvSpec(SpaceInvaders-ramNoFrameskip-v0)\n",
            "EnvSpec(SpaceInvaders-ramNoFrameskip-v4)\n",
            "EnvSpec(StarGunner-v0)\n",
            "EnvSpec(StarGunner-v4)\n",
            "EnvSpec(StarGunnerDeterministic-v0)\n",
            "EnvSpec(StarGunnerDeterministic-v4)\n",
            "EnvSpec(StarGunnerNoFrameskip-v0)\n",
            "EnvSpec(StarGunnerNoFrameskip-v4)\n",
            "EnvSpec(StarGunner-ram-v0)\n",
            "EnvSpec(StarGunner-ram-v4)\n",
            "EnvSpec(StarGunner-ramDeterministic-v0)\n",
            "EnvSpec(StarGunner-ramDeterministic-v4)\n",
            "EnvSpec(StarGunner-ramNoFrameskip-v0)\n",
            "EnvSpec(StarGunner-ramNoFrameskip-v4)\n",
            "EnvSpec(Tennis-v0)\n",
            "EnvSpec(Tennis-v4)\n",
            "EnvSpec(TennisDeterministic-v0)\n",
            "EnvSpec(TennisDeterministic-v4)\n",
            "EnvSpec(TennisNoFrameskip-v0)\n",
            "EnvSpec(TennisNoFrameskip-v4)\n",
            "EnvSpec(Tennis-ram-v0)\n",
            "EnvSpec(Tennis-ram-v4)\n",
            "EnvSpec(Tennis-ramDeterministic-v0)\n",
            "EnvSpec(Tennis-ramDeterministic-v4)\n",
            "EnvSpec(Tennis-ramNoFrameskip-v0)\n",
            "EnvSpec(Tennis-ramNoFrameskip-v4)\n",
            "EnvSpec(TimePilot-v0)\n",
            "EnvSpec(TimePilot-v4)\n",
            "EnvSpec(TimePilotDeterministic-v0)\n",
            "EnvSpec(TimePilotDeterministic-v4)\n",
            "EnvSpec(TimePilotNoFrameskip-v0)\n",
            "EnvSpec(TimePilotNoFrameskip-v4)\n",
            "EnvSpec(TimePilot-ram-v0)\n",
            "EnvSpec(TimePilot-ram-v4)\n",
            "EnvSpec(TimePilot-ramDeterministic-v0)\n",
            "EnvSpec(TimePilot-ramDeterministic-v4)\n",
            "EnvSpec(TimePilot-ramNoFrameskip-v0)\n",
            "EnvSpec(TimePilot-ramNoFrameskip-v4)\n",
            "EnvSpec(Tutankham-v0)\n",
            "EnvSpec(Tutankham-v4)\n",
            "EnvSpec(TutankhamDeterministic-v0)\n",
            "EnvSpec(TutankhamDeterministic-v4)\n",
            "EnvSpec(TutankhamNoFrameskip-v0)\n",
            "EnvSpec(TutankhamNoFrameskip-v4)\n",
            "EnvSpec(Tutankham-ram-v0)\n",
            "EnvSpec(Tutankham-ram-v4)\n",
            "EnvSpec(Tutankham-ramDeterministic-v0)\n",
            "EnvSpec(Tutankham-ramDeterministic-v4)\n",
            "EnvSpec(Tutankham-ramNoFrameskip-v0)\n",
            "EnvSpec(Tutankham-ramNoFrameskip-v4)\n",
            "EnvSpec(UpNDown-v0)\n",
            "EnvSpec(UpNDown-v4)\n",
            "EnvSpec(UpNDownDeterministic-v0)\n",
            "EnvSpec(UpNDownDeterministic-v4)\n",
            "EnvSpec(UpNDownNoFrameskip-v0)\n",
            "EnvSpec(UpNDownNoFrameskip-v4)\n",
            "EnvSpec(UpNDown-ram-v0)\n",
            "EnvSpec(UpNDown-ram-v4)\n",
            "EnvSpec(UpNDown-ramDeterministic-v0)\n",
            "EnvSpec(UpNDown-ramDeterministic-v4)\n",
            "EnvSpec(UpNDown-ramNoFrameskip-v0)\n",
            "EnvSpec(UpNDown-ramNoFrameskip-v4)\n",
            "EnvSpec(Venture-v0)\n",
            "EnvSpec(Venture-v4)\n",
            "EnvSpec(VentureDeterministic-v0)\n",
            "EnvSpec(VentureDeterministic-v4)\n",
            "EnvSpec(VentureNoFrameskip-v0)\n",
            "EnvSpec(VentureNoFrameskip-v4)\n",
            "EnvSpec(Venture-ram-v0)\n",
            "EnvSpec(Venture-ram-v4)\n",
            "EnvSpec(Venture-ramDeterministic-v0)\n",
            "EnvSpec(Venture-ramDeterministic-v4)\n",
            "EnvSpec(Venture-ramNoFrameskip-v0)\n",
            "EnvSpec(Venture-ramNoFrameskip-v4)\n",
            "EnvSpec(VideoPinball-v0)\n",
            "EnvSpec(VideoPinball-v4)\n",
            "EnvSpec(VideoPinballDeterministic-v0)\n",
            "EnvSpec(VideoPinballDeterministic-v4)\n",
            "EnvSpec(VideoPinballNoFrameskip-v0)\n",
            "EnvSpec(VideoPinballNoFrameskip-v4)\n",
            "EnvSpec(VideoPinball-ram-v0)\n",
            "EnvSpec(VideoPinball-ram-v4)\n",
            "EnvSpec(VideoPinball-ramDeterministic-v0)\n",
            "EnvSpec(VideoPinball-ramDeterministic-v4)\n",
            "EnvSpec(VideoPinball-ramNoFrameskip-v0)\n",
            "EnvSpec(VideoPinball-ramNoFrameskip-v4)\n",
            "EnvSpec(WizardOfWor-v0)\n",
            "EnvSpec(WizardOfWor-v4)\n",
            "EnvSpec(WizardOfWorDeterministic-v0)\n",
            "EnvSpec(WizardOfWorDeterministic-v4)\n",
            "EnvSpec(WizardOfWorNoFrameskip-v0)\n",
            "EnvSpec(WizardOfWorNoFrameskip-v4)\n",
            "EnvSpec(WizardOfWor-ram-v0)\n",
            "EnvSpec(WizardOfWor-ram-v4)\n",
            "EnvSpec(WizardOfWor-ramDeterministic-v0)\n",
            "EnvSpec(WizardOfWor-ramDeterministic-v4)\n",
            "EnvSpec(WizardOfWor-ramNoFrameskip-v0)\n",
            "EnvSpec(WizardOfWor-ramNoFrameskip-v4)\n",
            "EnvSpec(YarsRevenge-v0)\n",
            "EnvSpec(YarsRevenge-v4)\n",
            "EnvSpec(YarsRevengeDeterministic-v0)\n",
            "EnvSpec(YarsRevengeDeterministic-v4)\n",
            "EnvSpec(YarsRevengeNoFrameskip-v0)\n",
            "EnvSpec(YarsRevengeNoFrameskip-v4)\n",
            "EnvSpec(YarsRevenge-ram-v0)\n",
            "EnvSpec(YarsRevenge-ram-v4)\n",
            "EnvSpec(YarsRevenge-ramDeterministic-v0)\n",
            "EnvSpec(YarsRevenge-ramDeterministic-v4)\n",
            "EnvSpec(YarsRevenge-ramNoFrameskip-v0)\n",
            "EnvSpec(YarsRevenge-ramNoFrameskip-v4)\n",
            "EnvSpec(Zaxxon-v0)\n",
            "EnvSpec(Zaxxon-v4)\n",
            "EnvSpec(ZaxxonDeterministic-v0)\n",
            "EnvSpec(ZaxxonDeterministic-v4)\n",
            "EnvSpec(ZaxxonNoFrameskip-v0)\n",
            "EnvSpec(ZaxxonNoFrameskip-v4)\n",
            "EnvSpec(Zaxxon-ram-v0)\n",
            "EnvSpec(Zaxxon-ram-v4)\n",
            "EnvSpec(Zaxxon-ramDeterministic-v0)\n",
            "EnvSpec(Zaxxon-ramDeterministic-v4)\n",
            "EnvSpec(Zaxxon-ramNoFrameskip-v0)\n",
            "EnvSpec(Zaxxon-ramNoFrameskip-v4)\n",
            "EnvSpec(CubeCrash-v0)\n",
            "EnvSpec(CubeCrashSparse-v0)\n",
            "EnvSpec(CubeCrashScreenBecomesBlack-v0)\n",
            "EnvSpec(MemorizeDigits-v0)\n"
          ]
        }
      ]
    },
    {
      "cell_type": "code",
      "source": [
        "!pip -q install autokeras\n",
        "!pip uninstall keras-tuner\n",
        "!pip install keras-tuner==1.3.5"
      ],
      "metadata": {
        "id": "o-WM9ahkGFGK"
      },
      "execution_count": null,
      "outputs": []
    },
    {
      "cell_type": "markdown",
      "source": [
        "## 24.09.23"
      ],
      "metadata": {
        "id": "ukmkTT8-GHEt"
      }
    },
    {
      "cell_type": "code",
      "execution_count": null,
      "metadata": {
        "colab": {
          "base_uri": "https://localhost:8080/"
        },
        "id": "6qJIeVIUX8sg",
        "outputId": "b0fb39b0-f7a0-4ffe-c644-5ad3690b8682"
      },
      "outputs": [
        {
          "output_type": "execute_result",
          "data": {
            "text/plain": [
              "{22, 23, 24, 25}"
            ]
          },
          "metadata": {},
          "execution_count": 2
        }
      ],
      "source": [
        "a = [22, 23, 24, 25, 22, 23]\n",
        "b = set(a)\n",
        "b"
      ]
    },
    {
      "cell_type": "code",
      "source": [
        "# source_folder_id      - https://drive.google.com/drive/folders/1loL-79BLxqdF5CJkTjImkimk658WQwJt?usp=sharing\n",
        "# destination_folder_id - https://drive.google.com/drive/folders/1fIGCYAY_HqKR606HZmGF14_KXlOSx1LB?usp=sharing"
      ],
      "metadata": {
        "id": "jlpxG56VtGDB"
      },
      "execution_count": null,
      "outputs": []
    },
    {
      "cell_type": "code",
      "source": [
        "# как перенести папку с файлами с одного аккаунта гугл диска на другой используя код python?\n",
        "\n",
        "from pydrive.auth import GoogleAuth\n",
        "from pydrive.drive import GoogleDrive\n",
        "\n",
        "# Авторизация в Google Диске\n",
        "gauth = GoogleAuth()\n",
        "drive = GoogleDrive(gauth)\n",
        "\n",
        "# Получение ID папки, которую нужно перенести\n",
        "source_folder_id = '79BLxqdF5CJkTjImkimk658WQwJt' # source_folder_id\n",
        "\n",
        "# Получение ID папки, в которую нужно перенести\n",
        "destination_folder_id = '1fIGCYAY_HqKR606HZmGF14_KXlOSx1LB' # destination_folder_id\n",
        "\n",
        "# Получение списка файлов в исходной папке\n",
        "file_list = drive.ListFile({'q': f\"{source_folder_id} in parents and trashed=false\"}).GetList()\n",
        "\n",
        "# Перенос файлов в новую папку\n",
        "for file in file_list:\n",
        "    file['parents'] = [{'id': destination_folder_id}]\n",
        "    file.Upload()\n"
      ],
      "metadata": {
        "id": "wLzJwKV2r3GT"
      },
      "execution_count": null,
      "outputs": []
    },
    {
      "cell_type": "code",
      "source": [
        "dense_1 = [10, 20, 30]\n",
        "drop_1 = [0.1, 0.2, 0.3]\n",
        "epochs_1 = [5, 10, 15]\n",
        "\n",
        "for i in dense_1:\n",
        "\n",
        "    for k in drop_1:\n",
        "        for b in epochs_1:\n",
        "\n",
        "            print('Параметры модели:', i, k, b)\n"
      ],
      "metadata": {
        "id": "z9AxYfIQxhmK"
      },
      "execution_count": null,
      "outputs": []
    }
  ]
}